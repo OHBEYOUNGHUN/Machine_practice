{
 "cells": [
  {
   "cell_type": "code",
   "execution_count": 2,
   "metadata": {
    "id": "9J5uOwt6EWj2"
   },
   "outputs": [],
   "source": [
    "import tensorflow as tf\n",
    "from tensorflow.keras.callbacks import CSVLogger, EarlyStopping\n",
    "\n",
    "import matplotlib.pyplot as plt\n",
    "import matplotlib as mpl\n",
    "import seaborn as sns\n",
    "import numpy as np\n",
    "import os \n",
    "import pandas as pd\n",
    "from google.colab import files\n",
    "import warnings\n",
    "from pandas import DataFrame\n",
    "from keras.models import Sequential\n",
    "from keras.layers import LSTM\n",
    "from keras.layers import Dense\n",
    "from keras.layers import concatenate\n",
    "from math import sqrt\n",
    "from sklearn import preprocessing\n",
    "import matplotlib.pyplot as plt\n",
    "from keras.utils import np_utils\n",
    "\n",
    "\n",
    "warnings.simplefilter('ignore')\n",
    "\n",
    "mpl.rcParams['figure.figsize'] = (8, 6)\n",
    "mpl.rcParams['axes.grid'] = False"
   ]
  },
  {
   "cell_type": "code",
   "execution_count": 4,
   "metadata": {
    "colab": {
     "base_uri": "https://localhost:8080/",
     "height": 230
    },
    "id": "TQ0Z_Fa3EgC1",
    "outputId": "ea445a1b-7011-45cc-d35b-67dd193e4481"
   },
   "outputs": [
    {
     "name": "stdout",
     "output_type": "stream",
     "text": [
      "(1762, 8)\n"
     ]
    },
    {
     "data": {
      "text/html": [
       "<div>\n",
       "<style scoped>\n",
       "    .dataframe tbody tr th:only-of-type {\n",
       "        vertical-align: middle;\n",
       "    }\n",
       "\n",
       "    .dataframe tbody tr th {\n",
       "        vertical-align: top;\n",
       "    }\n",
       "\n",
       "    .dataframe thead th {\n",
       "        text-align: right;\n",
       "    }\n",
       "</style>\n",
       "<table border=\"1\" class=\"dataframe\">\n",
       "  <thead>\n",
       "    <tr style=\"text-align: right;\">\n",
       "      <th></th>\n",
       "      <th>Date</th>\n",
       "      <th>ExchangeRate</th>\n",
       "      <th>KRX100</th>\n",
       "      <th>KORIBOR</th>\n",
       "      <th>LIBOR</th>\n",
       "      <th>달러지수 (종가)</th>\n",
       "      <th>콜금리</th>\n",
       "      <th>KOSPI</th>\n",
       "    </tr>\n",
       "  </thead>\n",
       "  <tbody>\n",
       "    <tr>\n",
       "      <th>1757</th>\n",
       "      <td>2021.02.17</td>\n",
       "      <td>1,099.70</td>\n",
       "      <td>6764.11</td>\n",
       "      <td>0.87</td>\n",
       "      <td>NaN</td>\n",
       "      <td>90.95</td>\n",
       "      <td>0.47</td>\n",
       "      <td>3,133.73</td>\n",
       "    </tr>\n",
       "    <tr>\n",
       "      <th>1758</th>\n",
       "      <td>2021.02.18</td>\n",
       "      <td>1,107.70</td>\n",
       "      <td>6652.76</td>\n",
       "      <td>0.87</td>\n",
       "      <td>NaN</td>\n",
       "      <td>90.59</td>\n",
       "      <td>0.49</td>\n",
       "      <td>3,086.66</td>\n",
       "    </tr>\n",
       "    <tr>\n",
       "      <th>1759</th>\n",
       "      <td>2021.02.19</td>\n",
       "      <td>1,105.70</td>\n",
       "      <td>6712.32</td>\n",
       "      <td>0.86</td>\n",
       "      <td>NaN</td>\n",
       "      <td>90.36</td>\n",
       "      <td>0.51</td>\n",
       "      <td>3,107.62</td>\n",
       "    </tr>\n",
       "    <tr>\n",
       "      <th>1760</th>\n",
       "      <td>2021.02.22</td>\n",
       "      <td>1,107.10</td>\n",
       "      <td>6635.92</td>\n",
       "      <td>0.86</td>\n",
       "      <td>NaN</td>\n",
       "      <td>90.01</td>\n",
       "      <td>0.50</td>\n",
       "      <td>3,079.75</td>\n",
       "    </tr>\n",
       "    <tr>\n",
       "      <th>1761</th>\n",
       "      <td>2021.02.23</td>\n",
       "      <td>1,106.50</td>\n",
       "      <td>6607.24</td>\n",
       "      <td>0.86</td>\n",
       "      <td>NaN</td>\n",
       "      <td>90.17</td>\n",
       "      <td>0.49</td>\n",
       "      <td>3,070.09</td>\n",
       "    </tr>\n",
       "  </tbody>\n",
       "</table>\n",
       "</div>"
      ],
      "text/plain": [
       "            Date ExchangeRate   KRX100  ...  달러지수 (종가)   콜금리     KOSPI\n",
       "1757  2021.02.17     1,099.70  6764.11  ...      90.95  0.47  3,133.73\n",
       "1758  2021.02.18     1,107.70  6652.76  ...      90.59  0.49  3,086.66\n",
       "1759  2021.02.19     1,105.70  6712.32  ...      90.36  0.51  3,107.62\n",
       "1760  2021.02.22     1,107.10  6635.92  ...      90.01  0.50  3,079.75\n",
       "1761  2021.02.23     1,106.50  6607.24  ...      90.17  0.49  3,070.09\n",
       "\n",
       "[5 rows x 8 columns]"
      ]
     },
     "execution_count": 4,
     "metadata": {
      "tags": []
     },
     "output_type": "execute_result"
    }
   ],
   "source": [
    "\n",
    "#데이터 읽자\n",
    "#천단위 콤마 제거 해주자 나중에 또 하기 귀찮으니까!(결정적으로 float형 유지를 위해)\n",
    "df = pd.read_csv('sample_data/exchange_rate_fix_20210223.xls.csv', thousands = ',')\n",
    "print(df.shape)\n",
    "df.tail()"
   ]
  },
  {
   "cell_type": "code",
   "execution_count": 5,
   "metadata": {
    "id": "WmHJpvgzE-CP"
   },
   "outputs": [],
   "source": [
    "\n",
    "#열이름 한국어인거 영어로 변경하자\n",
    "name = [\"Date\", \"ExchangeRate\",\"KRX100\", \"KORIBOR\", \"LIBOR\", \"DollarRate\",\n",
    "       \"CallRate\",\"KOSPI\"]\n",
    "df1= df.rename(columns = dict(zip(df.columns,name)))"
   ]
  },
  {
   "cell_type": "code",
   "execution_count": 6,
   "metadata": {
    "colab": {
     "base_uri": "https://localhost:8080/",
     "height": 215
    },
    "id": "Y7VDshE_FK0G",
    "outputId": "c8eff2d9-4767-42fa-ee40-b3dd15118508"
   },
   "outputs": [
    {
     "data": {
      "text/html": [
       "<div>\n",
       "<style scoped>\n",
       "    .dataframe tbody tr th:only-of-type {\n",
       "        vertical-align: middle;\n",
       "    }\n",
       "\n",
       "    .dataframe tbody tr th {\n",
       "        vertical-align: top;\n",
       "    }\n",
       "\n",
       "    .dataframe thead th {\n",
       "        text-align: right;\n",
       "    }\n",
       "</style>\n",
       "<table border=\"1\" class=\"dataframe\">\n",
       "  <thead>\n",
       "    <tr style=\"text-align: right;\">\n",
       "      <th></th>\n",
       "      <th>Date</th>\n",
       "      <th>ExchangeRate</th>\n",
       "      <th>KRX100</th>\n",
       "      <th>KORIBOR</th>\n",
       "      <th>LIBOR</th>\n",
       "      <th>DollarRate</th>\n",
       "      <th>CallRate</th>\n",
       "      <th>KOSPI</th>\n",
       "    </tr>\n",
       "  </thead>\n",
       "  <tbody>\n",
       "    <tr>\n",
       "      <th>1757</th>\n",
       "      <td>2021.02.17</td>\n",
       "      <td>1099.70</td>\n",
       "      <td>6764.11</td>\n",
       "      <td>0.87</td>\n",
       "      <td>NaN</td>\n",
       "      <td>90.95</td>\n",
       "      <td>0.47</td>\n",
       "      <td>3133.73</td>\n",
       "    </tr>\n",
       "    <tr>\n",
       "      <th>1758</th>\n",
       "      <td>2021.02.18</td>\n",
       "      <td>1107.70</td>\n",
       "      <td>6652.76</td>\n",
       "      <td>0.87</td>\n",
       "      <td>NaN</td>\n",
       "      <td>90.59</td>\n",
       "      <td>0.49</td>\n",
       "      <td>3086.66</td>\n",
       "    </tr>\n",
       "    <tr>\n",
       "      <th>1759</th>\n",
       "      <td>2021.02.19</td>\n",
       "      <td>1105.70</td>\n",
       "      <td>6712.32</td>\n",
       "      <td>0.86</td>\n",
       "      <td>NaN</td>\n",
       "      <td>90.36</td>\n",
       "      <td>0.51</td>\n",
       "      <td>3107.62</td>\n",
       "    </tr>\n",
       "    <tr>\n",
       "      <th>1760</th>\n",
       "      <td>2021.02.22</td>\n",
       "      <td>1107.10</td>\n",
       "      <td>6635.92</td>\n",
       "      <td>0.86</td>\n",
       "      <td>NaN</td>\n",
       "      <td>90.01</td>\n",
       "      <td>0.50</td>\n",
       "      <td>3079.75</td>\n",
       "    </tr>\n",
       "    <tr>\n",
       "      <th>1761</th>\n",
       "      <td>2021.02.23</td>\n",
       "      <td>1106.50</td>\n",
       "      <td>6607.24</td>\n",
       "      <td>0.86</td>\n",
       "      <td>NaN</td>\n",
       "      <td>90.17</td>\n",
       "      <td>0.49</td>\n",
       "      <td>3070.09</td>\n",
       "    </tr>\n",
       "  </tbody>\n",
       "</table>\n",
       "</div>"
      ],
      "text/plain": [
       "            Date ExchangeRate   KRX100  ...  DollarRate  CallRate    KOSPI\n",
       "1757  2021.02.17      1099.70  6764.11  ...       90.95      0.47  3133.73\n",
       "1758  2021.02.18      1107.70  6652.76  ...       90.59      0.49  3086.66\n",
       "1759  2021.02.19      1105.70  6712.32  ...       90.36      0.51  3107.62\n",
       "1760  2021.02.22      1107.10  6635.92  ...       90.01      0.50  3079.75\n",
       "1761  2021.02.23      1106.50  6607.24  ...       90.17      0.49  3070.09\n",
       "\n",
       "[5 rows x 8 columns]"
      ]
     },
     "execution_count": 6,
     "metadata": {
      "tags": []
     },
     "output_type": "execute_result"
    }
   ],
   "source": [
    "#천단위 쉼표 제거\n",
    "df1['ExchangeRate'] = df1['ExchangeRate'].str.replace(',','')\n",
    "df1['KOSPI'] = df1['KOSPI'].str.replace(',','')\n",
    "df1.tail()"
   ]
  },
  {
   "cell_type": "code",
   "execution_count": 7,
   "metadata": {
    "id": "bNGGnVmTFMwm"
   },
   "outputs": [],
   "source": [
    "\n",
    "#오브젝트형 데이터 실수로 형변환\n",
    "df1[\"KOSPI\"] = pd.to_numeric(df1.KOSPI, errors='coerce')\n",
    "df1[\"ExchangeRate\"] = pd.to_numeric(df1.ExchangeRate, errors='coerce')"
   ]
  },
  {
   "cell_type": "code",
   "execution_count": 8,
   "metadata": {
    "colab": {
     "base_uri": "https://localhost:8080/"
    },
    "id": "zpHyPRiNFOXA",
    "outputId": "c8ba56bc-1358-4847-cd04-e041710d2ced"
   },
   "outputs": [
    {
     "data": {
      "text/plain": [
       "Date             0\n",
       "ExchangeRate     1\n",
       "KRX100           6\n",
       "KORIBOR          0\n",
       "LIBOR           92\n",
       "DollarRate       7\n",
       "CallRate         0\n",
       "KOSPI            7\n",
       "dtype: int64"
      ]
     },
     "execution_count": 8,
     "metadata": {
      "tags": []
     },
     "output_type": "execute_result"
    }
   ],
   "source": [
    "#결측값 확인\n",
    "df1.isna().sum()"
   ]
  },
  {
   "cell_type": "code",
   "execution_count": 9,
   "metadata": {
    "colab": {
     "base_uri": "https://localhost:8080/",
     "height": 215
    },
    "id": "PgRywqn2FQO1",
    "outputId": "13f7943c-3ab4-48ff-bad2-69ee74dd8be9"
   },
   "outputs": [
    {
     "data": {
      "text/html": [
       "<div>\n",
       "<style scoped>\n",
       "    .dataframe tbody tr th:only-of-type {\n",
       "        vertical-align: middle;\n",
       "    }\n",
       "\n",
       "    .dataframe tbody tr th {\n",
       "        vertical-align: top;\n",
       "    }\n",
       "\n",
       "    .dataframe thead th {\n",
       "        text-align: right;\n",
       "    }\n",
       "</style>\n",
       "<table border=\"1\" class=\"dataframe\">\n",
       "  <thead>\n",
       "    <tr style=\"text-align: right;\">\n",
       "      <th></th>\n",
       "      <th>Date</th>\n",
       "      <th>ExchangeRate</th>\n",
       "      <th>KRX100</th>\n",
       "      <th>KORIBOR</th>\n",
       "      <th>LIBOR</th>\n",
       "      <th>DollarRate</th>\n",
       "      <th>CallRate</th>\n",
       "      <th>KOSPI</th>\n",
       "    </tr>\n",
       "  </thead>\n",
       "  <tbody>\n",
       "    <tr>\n",
       "      <th>1757</th>\n",
       "      <td>2021.02.17</td>\n",
       "      <td>1099.7</td>\n",
       "      <td>6764.11</td>\n",
       "      <td>0.87</td>\n",
       "      <td>0.0815</td>\n",
       "      <td>90.95</td>\n",
       "      <td>0.47</td>\n",
       "      <td>3133.73</td>\n",
       "    </tr>\n",
       "    <tr>\n",
       "      <th>1758</th>\n",
       "      <td>2021.02.18</td>\n",
       "      <td>1107.7</td>\n",
       "      <td>6652.76</td>\n",
       "      <td>0.87</td>\n",
       "      <td>0.0815</td>\n",
       "      <td>90.59</td>\n",
       "      <td>0.49</td>\n",
       "      <td>3086.66</td>\n",
       "    </tr>\n",
       "    <tr>\n",
       "      <th>1759</th>\n",
       "      <td>2021.02.19</td>\n",
       "      <td>1105.7</td>\n",
       "      <td>6712.32</td>\n",
       "      <td>0.86</td>\n",
       "      <td>0.0815</td>\n",
       "      <td>90.36</td>\n",
       "      <td>0.51</td>\n",
       "      <td>3107.62</td>\n",
       "    </tr>\n",
       "    <tr>\n",
       "      <th>1760</th>\n",
       "      <td>2021.02.22</td>\n",
       "      <td>1107.1</td>\n",
       "      <td>6635.92</td>\n",
       "      <td>0.86</td>\n",
       "      <td>0.0815</td>\n",
       "      <td>90.01</td>\n",
       "      <td>0.50</td>\n",
       "      <td>3079.75</td>\n",
       "    </tr>\n",
       "    <tr>\n",
       "      <th>1761</th>\n",
       "      <td>2021.02.23</td>\n",
       "      <td>1106.5</td>\n",
       "      <td>6607.24</td>\n",
       "      <td>0.86</td>\n",
       "      <td>0.0815</td>\n",
       "      <td>90.17</td>\n",
       "      <td>0.49</td>\n",
       "      <td>3070.09</td>\n",
       "    </tr>\n",
       "  </tbody>\n",
       "</table>\n",
       "</div>"
      ],
      "text/plain": [
       "            Date  ExchangeRate   KRX100  ...  DollarRate  CallRate    KOSPI\n",
       "1757  2021.02.17        1099.7  6764.11  ...       90.95      0.47  3133.73\n",
       "1758  2021.02.18        1107.7  6652.76  ...       90.59      0.49  3086.66\n",
       "1759  2021.02.19        1105.7  6712.32  ...       90.36      0.51  3107.62\n",
       "1760  2021.02.22        1107.1  6635.92  ...       90.01      0.50  3079.75\n",
       "1761  2021.02.23        1106.5  6607.24  ...       90.17      0.49  3070.09\n",
       "\n",
       "[5 rows x 8 columns]"
      ]
     },
     "execution_count": 9,
     "metadata": {
      "tags": []
     },
     "output_type": "execute_result"
    }
   ],
   "source": [
    "#결측치를 값에 선형 비례하는식으로 결측값을 보간해봤다\n",
    "df_intp = df1.interpolate(method = 'values')\n",
    "\n",
    "df_intp.tail()"
   ]
  },
  {
   "cell_type": "code",
   "execution_count": 10,
   "metadata": {
    "id": "HRlDKNAOFShK"
   },
   "outputs": [],
   "source": [
    "#날짜 데이터타임형식으로 미리 변경해놓자\n",
    "df_intp['Date'] = pd.to_datetime(df_intp['Date'], errors='coerce')"
   ]
  },
  {
   "cell_type": "code",
   "execution_count": 11,
   "metadata": {
    "colab": {
     "base_uri": "https://localhost:8080/",
     "height": 225
    },
    "id": "20yMRdR6FUGz",
    "outputId": "86dbe4b9-8827-4587-d4cc-6227ad797c66"
   },
   "outputs": [
    {
     "data": {
      "text/html": [
       "<div>\n",
       "<style scoped>\n",
       "    .dataframe tbody tr th:only-of-type {\n",
       "        vertical-align: middle;\n",
       "    }\n",
       "\n",
       "    .dataframe tbody tr th {\n",
       "        vertical-align: top;\n",
       "    }\n",
       "\n",
       "    .dataframe thead th {\n",
       "        text-align: right;\n",
       "    }\n",
       "</style>\n",
       "<table border=\"1\" class=\"dataframe\">\n",
       "  <thead>\n",
       "    <tr style=\"text-align: right;\">\n",
       "      <th></th>\n",
       "      <th>ExchangeRate</th>\n",
       "      <th>KRX100</th>\n",
       "      <th>KORIBOR</th>\n",
       "      <th>LIBOR</th>\n",
       "      <th>DollarRate</th>\n",
       "      <th>CallRate</th>\n",
       "      <th>KOSPI</th>\n",
       "    </tr>\n",
       "    <tr>\n",
       "      <th>Date</th>\n",
       "      <th></th>\n",
       "      <th></th>\n",
       "      <th></th>\n",
       "      <th></th>\n",
       "      <th></th>\n",
       "      <th></th>\n",
       "      <th></th>\n",
       "    </tr>\n",
       "  </thead>\n",
       "  <tbody>\n",
       "    <tr>\n",
       "      <th>2014-01-02</th>\n",
       "      <td>1055.3</td>\n",
       "      <td>4263.64</td>\n",
       "      <td>2.78</td>\n",
       "      <td>0.0956</td>\n",
       "      <td>80.79</td>\n",
       "      <td>2.51</td>\n",
       "      <td>1967.19</td>\n",
       "    </tr>\n",
       "    <tr>\n",
       "      <th>2014-01-03</th>\n",
       "      <td>1050.4</td>\n",
       "      <td>4209.03</td>\n",
       "      <td>2.78</td>\n",
       "      <td>0.0950</td>\n",
       "      <td>80.96</td>\n",
       "      <td>2.50</td>\n",
       "      <td>1946.14</td>\n",
       "    </tr>\n",
       "    <tr>\n",
       "      <th>2014-01-06</th>\n",
       "      <td>1054.1</td>\n",
       "      <td>4221.13</td>\n",
       "      <td>2.77</td>\n",
       "      <td>0.0945</td>\n",
       "      <td>80.81</td>\n",
       "      <td>2.48</td>\n",
       "      <td>1953.28</td>\n",
       "    </tr>\n",
       "    <tr>\n",
       "      <th>2014-01-07</th>\n",
       "      <td>1062.2</td>\n",
       "      <td>4233.05</td>\n",
       "      <td>2.75</td>\n",
       "      <td>0.0926</td>\n",
       "      <td>80.98</td>\n",
       "      <td>2.50</td>\n",
       "      <td>1959.44</td>\n",
       "    </tr>\n",
       "    <tr>\n",
       "      <th>2014-01-08</th>\n",
       "      <td>1067.9</td>\n",
       "      <td>4232.26</td>\n",
       "      <td>2.75</td>\n",
       "      <td>0.0925</td>\n",
       "      <td>81.16</td>\n",
       "      <td>2.49</td>\n",
       "      <td>1958.96</td>\n",
       "    </tr>\n",
       "  </tbody>\n",
       "</table>\n",
       "</div>"
      ],
      "text/plain": [
       "            ExchangeRate   KRX100  KORIBOR  ...  DollarRate  CallRate    KOSPI\n",
       "Date                                        ...                               \n",
       "2014-01-02        1055.3  4263.64     2.78  ...       80.79      2.51  1967.19\n",
       "2014-01-03        1050.4  4209.03     2.78  ...       80.96      2.50  1946.14\n",
       "2014-01-06        1054.1  4221.13     2.77  ...       80.81      2.48  1953.28\n",
       "2014-01-07        1062.2  4233.05     2.75  ...       80.98      2.50  1959.44\n",
       "2014-01-08        1067.9  4232.26     2.75  ...       81.16      2.49  1958.96\n",
       "\n",
       "[5 rows x 7 columns]"
      ]
     },
     "execution_count": 11,
     "metadata": {
      "tags": []
     },
     "output_type": "execute_result"
    }
   ],
   "source": [
    "\n",
    "#날짜가 인덱스인 경우도 생성 해놓자\n",
    "df_date = df_intp.set_index('Date')\n",
    "df_date.head()"
   ]
  },
  {
   "cell_type": "code",
   "execution_count": 12,
   "metadata": {
    "colab": {
     "base_uri": "https://localhost:8080/",
     "height": 354
    },
    "id": "eO4TFZEjFVqs",
    "outputId": "fe9cad03-b0a1-4a13-d09a-6fc5de6ba3b8"
   },
   "outputs": [
    {
     "data": {
      "text/plain": [
       "<matplotlib.axes._subplots.AxesSubplot at 0x7fe6e9cfd910>"
      ]
     },
     "execution_count": 12,
     "metadata": {
      "tags": []
     },
     "output_type": "execute_result"
    },
    {
     "data": {
      "image/png": "[encoded data removed]",
      "text/plain": [
       "<Figure size 1440x720 with 1 Axes>"
      ]
     },
     "metadata": {
      "needs_background": "light",
      "tags": []
     },
     "output_type": "display_data"
    }
   ],
   "source": [
    "#시각화 해보자\n",
    "df_intp.plot(y='ExchangeRate',figsize = (20,10))"
   ]
  },
  {
   "cell_type": "code",
   "execution_count": 13,
   "metadata": {
    "colab": {
     "base_uri": "https://localhost:8080/",
     "height": 599
    },
    "id": "HtnUVFDmFYmC",
    "outputId": "4e9edfb1-d289-436b-ec2f-fcf72a7fb3ff"
   },
   "outputs": [
    {
     "data": {
      "text/html": [
       "<div>\n",
       "<style scoped>\n",
       "    .dataframe tbody tr th:only-of-type {\n",
       "        vertical-align: middle;\n",
       "    }\n",
       "\n",
       "    .dataframe tbody tr th {\n",
       "        vertical-align: top;\n",
       "    }\n",
       "\n",
       "    .dataframe thead th {\n",
       "        text-align: right;\n",
       "    }\n",
       "</style>\n",
       "<table border=\"1\" class=\"dataframe\">\n",
       "  <thead>\n",
       "    <tr style=\"text-align: right;\">\n",
       "      <th></th>\n",
       "      <th>ExchangeRate</th>\n",
       "      <th>KRX100</th>\n",
       "      <th>KORIBOR</th>\n",
       "      <th>LIBOR</th>\n",
       "      <th>DollarRate</th>\n",
       "      <th>CallRate</th>\n",
       "      <th>KOSPI</th>\n",
       "    </tr>\n",
       "    <tr>\n",
       "      <th>Date</th>\n",
       "      <th></th>\n",
       "      <th></th>\n",
       "      <th></th>\n",
       "      <th></th>\n",
       "      <th></th>\n",
       "      <th></th>\n",
       "      <th></th>\n",
       "    </tr>\n",
       "  </thead>\n",
       "  <tbody>\n",
       "    <tr>\n",
       "      <th>2014-01-02</th>\n",
       "      <td>0.171091</td>\n",
       "      <td>0.277568</td>\n",
       "      <td>1.000000</td>\n",
       "      <td>0.019069</td>\n",
       "      <td>0.064449</td>\n",
       "      <td>0.995215</td>\n",
       "      <td>0.290947</td>\n",
       "    </tr>\n",
       "    <tr>\n",
       "      <th>2014-01-03</th>\n",
       "      <td>0.153024</td>\n",
       "      <td>0.262975</td>\n",
       "      <td>1.000000</td>\n",
       "      <td>0.018814</td>\n",
       "      <td>0.071518</td>\n",
       "      <td>0.990431</td>\n",
       "      <td>0.278928</td>\n",
       "    </tr>\n",
       "    <tr>\n",
       "      <th>2014-01-06</th>\n",
       "      <td>0.166667</td>\n",
       "      <td>0.266208</td>\n",
       "      <td>0.995025</td>\n",
       "      <td>0.018601</td>\n",
       "      <td>0.065281</td>\n",
       "      <td>0.980861</td>\n",
       "      <td>0.283005</td>\n",
       "    </tr>\n",
       "    <tr>\n",
       "      <th>2014-01-07</th>\n",
       "      <td>0.196534</td>\n",
       "      <td>0.269393</td>\n",
       "      <td>0.985075</td>\n",
       "      <td>0.017793</td>\n",
       "      <td>0.072349</td>\n",
       "      <td>0.990431</td>\n",
       "      <td>0.286522</td>\n",
       "    </tr>\n",
       "    <tr>\n",
       "      <th>2014-01-08</th>\n",
       "      <td>0.217552</td>\n",
       "      <td>0.269182</td>\n",
       "      <td>0.985075</td>\n",
       "      <td>0.017751</td>\n",
       "      <td>0.079834</td>\n",
       "      <td>0.985646</td>\n",
       "      <td>0.286248</td>\n",
       "    </tr>\n",
       "    <tr>\n",
       "      <th>...</th>\n",
       "      <td>...</td>\n",
       "      <td>...</td>\n",
       "      <td>...</td>\n",
       "      <td>...</td>\n",
       "      <td>...</td>\n",
       "      <td>...</td>\n",
       "      <td>...</td>\n",
       "    </tr>\n",
       "    <tr>\n",
       "      <th>2021-02-17</th>\n",
       "      <td>0.334808</td>\n",
       "      <td>0.945766</td>\n",
       "      <td>0.049751</td>\n",
       "      <td>0.013074</td>\n",
       "      <td>0.486902</td>\n",
       "      <td>0.019139</td>\n",
       "      <td>0.957027</td>\n",
       "    </tr>\n",
       "    <tr>\n",
       "      <th>2021-02-18</th>\n",
       "      <td>0.364307</td>\n",
       "      <td>0.916010</td>\n",
       "      <td>0.049751</td>\n",
       "      <td>0.013074</td>\n",
       "      <td>0.471933</td>\n",
       "      <td>0.028708</td>\n",
       "      <td>0.930151</td>\n",
       "    </tr>\n",
       "    <tr>\n",
       "      <th>2021-02-19</th>\n",
       "      <td>0.356932</td>\n",
       "      <td>0.931926</td>\n",
       "      <td>0.044776</td>\n",
       "      <td>0.013074</td>\n",
       "      <td>0.462370</td>\n",
       "      <td>0.038278</td>\n",
       "      <td>0.942119</td>\n",
       "    </tr>\n",
       "    <tr>\n",
       "      <th>2021-02-22</th>\n",
       "      <td>0.362094</td>\n",
       "      <td>0.911510</td>\n",
       "      <td>0.044776</td>\n",
       "      <td>0.013074</td>\n",
       "      <td>0.447817</td>\n",
       "      <td>0.033493</td>\n",
       "      <td>0.926205</td>\n",
       "    </tr>\n",
       "    <tr>\n",
       "      <th>2021-02-23</th>\n",
       "      <td>0.359882</td>\n",
       "      <td>0.903846</td>\n",
       "      <td>0.044776</td>\n",
       "      <td>0.013074</td>\n",
       "      <td>0.454470</td>\n",
       "      <td>0.028708</td>\n",
       "      <td>0.920690</td>\n",
       "    </tr>\n",
       "  </tbody>\n",
       "</table>\n",
       "<p>1762 rows × 7 columns</p>\n",
       "</div>"
      ],
      "text/plain": [
       "            ExchangeRate    KRX100   KORIBOR  ...  DollarRate  CallRate     KOSPI\n",
       "Date                                          ...                                \n",
       "2014-01-02      0.171091  0.277568  1.000000  ...    0.064449  0.995215  0.290947\n",
       "2014-01-03      0.153024  0.262975  1.000000  ...    0.071518  0.990431  0.278928\n",
       "2014-01-06      0.166667  0.266208  0.995025  ...    0.065281  0.980861  0.283005\n",
       "2014-01-07      0.196534  0.269393  0.985075  ...    0.072349  0.990431  0.286522\n",
       "2014-01-08      0.217552  0.269182  0.985075  ...    0.079834  0.985646  0.286248\n",
       "...                  ...       ...       ...  ...         ...       ...       ...\n",
       "2021-02-17      0.334808  0.945766  0.049751  ...    0.486902  0.019139  0.957027\n",
       "2021-02-18      0.364307  0.916010  0.049751  ...    0.471933  0.028708  0.930151\n",
       "2021-02-19      0.356932  0.931926  0.044776  ...    0.462370  0.038278  0.942119\n",
       "2021-02-22      0.362094  0.911510  0.044776  ...    0.447817  0.033493  0.926205\n",
       "2021-02-23      0.359882  0.903846  0.044776  ...    0.454470  0.028708  0.920690\n",
       "\n",
       "[1762 rows x 7 columns]"
      ]
     },
     "execution_count": 13,
     "metadata": {
      "tags": []
     },
     "output_type": "execute_result"
    }
   ],
   "source": [
    "from sklearn.preprocessing import MinMaxScaler\n",
    "\n",
    "#scaler 객체 생성\n",
    "scaler = MinMaxScaler()\n",
    "\n",
    "#데이터셋 변환\n",
    "scaler.fit(df_date)\n",
    "date_scaler = scaler.transform(df_date)\n",
    "\n",
    "#transform 변환을 하면 배열 형식으로 바뀌는데 그걸 다시 데이터 프레임 형식으로 넘기자\n",
    "df_scaler = pd.DataFrame(date_scaler, columns = df_date.columns, index = df_date.index)\n",
    "df_scaler"
   ]
  },
  {
   "cell_type": "code",
   "execution_count": 13,
   "metadata": {
    "id": "wm4gQdCWFbl7"
   },
   "outputs": [],
   "source": []
  },
  {
   "cell_type": "markdown",
   "metadata": {
    "id": "7cyXKBfEFfXj"
   },
   "source": [
    "## 모델 지도학습화"
   ]
  },
  {
   "cell_type": "code",
   "execution_count": 14,
   "metadata": {
    "id": "QeWH6gwZFi_5"
   },
   "outputs": [],
   "source": [
    "def series_to_supervised(data, n_in=1, n_out=1, dropnan=True):\n",
    "  n_vars = 1 if type(data) is list else data.shape[1]\n",
    "  df = DataFrame(data)\n",
    "  cols, names = list(), list()\n",
    "  # input sequence (t-n, ... t-1)\n",
    "  for i in range(n_in, 0, -1):\n",
    "      cols.append(df.shift(i))\n",
    "      names += [('var%d(t-%d)' % (j+1, i)) for j in range(n_vars)]\n",
    "  # forecast sequence (t, t+1, ... t+n)\n",
    "  for i in range(0, n_out):\n",
    "      cols.append(df.shift(-i))\n",
    "      if i == 0:\n",
    "          names += [('var%d(t)' % (j+1)) for j in range(n_vars)]\n",
    "      else:\n",
    "          names += [('var%d(t+%d)' % (j+1, i)) for j in range(n_vars)]\n",
    "  # put it all together\n",
    "  agg = pd.concat(cols, axis=1)\n",
    "  agg.columns = names\n",
    "  # drop rows with NaN values\n",
    "  if dropnan:\n",
    "      agg.dropna(inplace=True)\n",
    "  return agg"
   ]
  },
  {
   "cell_type": "code",
   "execution_count": 38,
   "metadata": {
    "id": "4KJpCJycFl7d"
   },
   "outputs": [],
   "source": [
    "\n",
    "reframed = series_to_supervised(df_scaler, 1, 1) #t-1시점,t시점 데이터를 한 행으로 둔다"
   ]
  },
  {
   "cell_type": "code",
   "execution_count": 40,
   "metadata": {
    "colab": {
     "base_uri": "https://localhost:8080/",
     "height": 346
    },
    "id": "5CRkFiuu4hiR",
    "outputId": "2d29c60a-99c0-430d-a8d4-bda119761ade"
   },
   "outputs": [
    {
     "data": {
      "text/html": [
       "<div>\n",
       "<style scoped>\n",
       "    .dataframe tbody tr th:only-of-type {\n",
       "        vertical-align: middle;\n",
       "    }\n",
       "\n",
       "    .dataframe tbody tr th {\n",
       "        vertical-align: top;\n",
       "    }\n",
       "\n",
       "    .dataframe thead th {\n",
       "        text-align: right;\n",
       "    }\n",
       "</style>\n",
       "<table border=\"1\" class=\"dataframe\">\n",
       "  <thead>\n",
       "    <tr style=\"text-align: right;\">\n",
       "      <th></th>\n",
       "      <th>var1(t-1)</th>\n",
       "      <th>var2(t-1)</th>\n",
       "      <th>var3(t-1)</th>\n",
       "      <th>var4(t-1)</th>\n",
       "      <th>var5(t-1)</th>\n",
       "      <th>var6(t-1)</th>\n",
       "      <th>var7(t-1)</th>\n",
       "      <th>var1(t)</th>\n",
       "      <th>var2(t)</th>\n",
       "      <th>var3(t)</th>\n",
       "      <th>var4(t)</th>\n",
       "      <th>var5(t)</th>\n",
       "      <th>var6(t)</th>\n",
       "      <th>var7(t)</th>\n",
       "    </tr>\n",
       "    <tr>\n",
       "      <th>Date</th>\n",
       "      <th></th>\n",
       "      <th></th>\n",
       "      <th></th>\n",
       "      <th></th>\n",
       "      <th></th>\n",
       "      <th></th>\n",
       "      <th></th>\n",
       "      <th></th>\n",
       "      <th></th>\n",
       "      <th></th>\n",
       "      <th></th>\n",
       "      <th></th>\n",
       "      <th></th>\n",
       "      <th></th>\n",
       "    </tr>\n",
       "  </thead>\n",
       "  <tbody>\n",
       "    <tr>\n",
       "      <th>2014-01-03</th>\n",
       "      <td>0.171091</td>\n",
       "      <td>0.277568</td>\n",
       "      <td>1.000000</td>\n",
       "      <td>0.019069</td>\n",
       "      <td>0.064449</td>\n",
       "      <td>0.995215</td>\n",
       "      <td>0.290947</td>\n",
       "      <td>0.153024</td>\n",
       "      <td>0.262975</td>\n",
       "      <td>1.000000</td>\n",
       "      <td>0.018814</td>\n",
       "      <td>0.071518</td>\n",
       "      <td>0.990431</td>\n",
       "      <td>0.278928</td>\n",
       "    </tr>\n",
       "    <tr>\n",
       "      <th>2014-01-06</th>\n",
       "      <td>0.153024</td>\n",
       "      <td>0.262975</td>\n",
       "      <td>1.000000</td>\n",
       "      <td>0.018814</td>\n",
       "      <td>0.071518</td>\n",
       "      <td>0.990431</td>\n",
       "      <td>0.278928</td>\n",
       "      <td>0.166667</td>\n",
       "      <td>0.266208</td>\n",
       "      <td>0.995025</td>\n",
       "      <td>0.018601</td>\n",
       "      <td>0.065281</td>\n",
       "      <td>0.980861</td>\n",
       "      <td>0.283005</td>\n",
       "    </tr>\n",
       "    <tr>\n",
       "      <th>2014-01-07</th>\n",
       "      <td>0.166667</td>\n",
       "      <td>0.266208</td>\n",
       "      <td>0.995025</td>\n",
       "      <td>0.018601</td>\n",
       "      <td>0.065281</td>\n",
       "      <td>0.980861</td>\n",
       "      <td>0.283005</td>\n",
       "      <td>0.196534</td>\n",
       "      <td>0.269393</td>\n",
       "      <td>0.985075</td>\n",
       "      <td>0.017793</td>\n",
       "      <td>0.072349</td>\n",
       "      <td>0.990431</td>\n",
       "      <td>0.286522</td>\n",
       "    </tr>\n",
       "    <tr>\n",
       "      <th>2014-01-08</th>\n",
       "      <td>0.196534</td>\n",
       "      <td>0.269393</td>\n",
       "      <td>0.985075</td>\n",
       "      <td>0.017793</td>\n",
       "      <td>0.072349</td>\n",
       "      <td>0.990431</td>\n",
       "      <td>0.286522</td>\n",
       "      <td>0.217552</td>\n",
       "      <td>0.269182</td>\n",
       "      <td>0.985075</td>\n",
       "      <td>0.017751</td>\n",
       "      <td>0.079834</td>\n",
       "      <td>0.985646</td>\n",
       "      <td>0.286248</td>\n",
       "    </tr>\n",
       "    <tr>\n",
       "      <th>2014-01-09</th>\n",
       "      <td>0.217552</td>\n",
       "      <td>0.269182</td>\n",
       "      <td>0.985075</td>\n",
       "      <td>0.017751</td>\n",
       "      <td>0.079834</td>\n",
       "      <td>0.985646</td>\n",
       "      <td>0.286248</td>\n",
       "      <td>0.210546</td>\n",
       "      <td>0.260407</td>\n",
       "      <td>0.980100</td>\n",
       "      <td>0.017496</td>\n",
       "      <td>0.079002</td>\n",
       "      <td>0.985646</td>\n",
       "      <td>0.278911</td>\n",
       "    </tr>\n",
       "  </tbody>\n",
       "</table>\n",
       "</div>"
      ],
      "text/plain": [
       "            var1(t-1)  var2(t-1)  var3(t-1)  ...   var5(t)   var6(t)   var7(t)\n",
       "Date                                         ...                              \n",
       "2014-01-03   0.171091   0.277568   1.000000  ...  0.071518  0.990431  0.278928\n",
       "2014-01-06   0.153024   0.262975   1.000000  ...  0.065281  0.980861  0.283005\n",
       "2014-01-07   0.166667   0.266208   0.995025  ...  0.072349  0.990431  0.286522\n",
       "2014-01-08   0.196534   0.269393   0.985075  ...  0.079834  0.985646  0.286248\n",
       "2014-01-09   0.217552   0.269182   0.985075  ...  0.079002  0.985646  0.278911\n",
       "\n",
       "[5 rows x 14 columns]"
      ]
     },
     "execution_count": 40,
     "metadata": {
      "tags": []
     },
     "output_type": "execute_result"
    }
   ],
   "source": [
    "reframed.head()"
   ]
  },
  {
   "cell_type": "code",
   "execution_count": 41,
   "metadata": {
    "id": "VYzBvuoEFoll"
   },
   "outputs": [],
   "source": [
    "reframed.drop(reframed.columns[[8,9,10,11,12,13]], axis=1, inplace=True)"
   ]
  },
  {
   "cell_type": "code",
   "execution_count": 42,
   "metadata": {
    "colab": {
     "base_uri": "https://localhost:8080/",
     "height": 616
    },
    "id": "G8OaCA9VFndl",
    "outputId": "a1ecd5e7-a9c9-490b-d6aa-358cc90b65e5"
   },
   "outputs": [
    {
     "data": {
      "text/html": [
       "<div>\n",
       "<style scoped>\n",
       "    .dataframe tbody tr th:only-of-type {\n",
       "        vertical-align: middle;\n",
       "    }\n",
       "\n",
       "    .dataframe tbody tr th {\n",
       "        vertical-align: top;\n",
       "    }\n",
       "\n",
       "    .dataframe thead th {\n",
       "        text-align: right;\n",
       "    }\n",
       "</style>\n",
       "<table border=\"1\" class=\"dataframe\">\n",
       "  <thead>\n",
       "    <tr style=\"text-align: right;\">\n",
       "      <th></th>\n",
       "      <th>var1(t-1)</th>\n",
       "      <th>var2(t-1)</th>\n",
       "      <th>var3(t-1)</th>\n",
       "      <th>var4(t-1)</th>\n",
       "      <th>var5(t-1)</th>\n",
       "      <th>var6(t-1)</th>\n",
       "      <th>var7(t-1)</th>\n",
       "      <th>var1(t)</th>\n",
       "    </tr>\n",
       "    <tr>\n",
       "      <th>Date</th>\n",
       "      <th></th>\n",
       "      <th></th>\n",
       "      <th></th>\n",
       "      <th></th>\n",
       "      <th></th>\n",
       "      <th></th>\n",
       "      <th></th>\n",
       "      <th></th>\n",
       "    </tr>\n",
       "  </thead>\n",
       "  <tbody>\n",
       "    <tr>\n",
       "      <th>2014-01-03</th>\n",
       "      <td>0.171091</td>\n",
       "      <td>0.277568</td>\n",
       "      <td>1.000000</td>\n",
       "      <td>0.019069</td>\n",
       "      <td>0.064449</td>\n",
       "      <td>0.995215</td>\n",
       "      <td>0.290947</td>\n",
       "      <td>0.153024</td>\n",
       "    </tr>\n",
       "    <tr>\n",
       "      <th>2014-01-06</th>\n",
       "      <td>0.153024</td>\n",
       "      <td>0.262975</td>\n",
       "      <td>1.000000</td>\n",
       "      <td>0.018814</td>\n",
       "      <td>0.071518</td>\n",
       "      <td>0.990431</td>\n",
       "      <td>0.278928</td>\n",
       "      <td>0.166667</td>\n",
       "    </tr>\n",
       "    <tr>\n",
       "      <th>2014-01-07</th>\n",
       "      <td>0.166667</td>\n",
       "      <td>0.266208</td>\n",
       "      <td>0.995025</td>\n",
       "      <td>0.018601</td>\n",
       "      <td>0.065281</td>\n",
       "      <td>0.980861</td>\n",
       "      <td>0.283005</td>\n",
       "      <td>0.196534</td>\n",
       "    </tr>\n",
       "    <tr>\n",
       "      <th>2014-01-08</th>\n",
       "      <td>0.196534</td>\n",
       "      <td>0.269393</td>\n",
       "      <td>0.985075</td>\n",
       "      <td>0.017793</td>\n",
       "      <td>0.072349</td>\n",
       "      <td>0.990431</td>\n",
       "      <td>0.286522</td>\n",
       "      <td>0.217552</td>\n",
       "    </tr>\n",
       "    <tr>\n",
       "      <th>2014-01-09</th>\n",
       "      <td>0.217552</td>\n",
       "      <td>0.269182</td>\n",
       "      <td>0.985075</td>\n",
       "      <td>0.017751</td>\n",
       "      <td>0.079834</td>\n",
       "      <td>0.985646</td>\n",
       "      <td>0.286248</td>\n",
       "      <td>0.210546</td>\n",
       "    </tr>\n",
       "    <tr>\n",
       "      <th>...</th>\n",
       "      <td>...</td>\n",
       "      <td>...</td>\n",
       "      <td>...</td>\n",
       "      <td>...</td>\n",
       "      <td>...</td>\n",
       "      <td>...</td>\n",
       "      <td>...</td>\n",
       "      <td>...</td>\n",
       "    </tr>\n",
       "    <tr>\n",
       "      <th>2021-02-17</th>\n",
       "      <td>0.347345</td>\n",
       "      <td>0.966433</td>\n",
       "      <td>0.049751</td>\n",
       "      <td>0.013074</td>\n",
       "      <td>0.468607</td>\n",
       "      <td>0.033493</td>\n",
       "      <td>0.973883</td>\n",
       "      <td>0.334808</td>\n",
       "    </tr>\n",
       "    <tr>\n",
       "      <th>2021-02-18</th>\n",
       "      <td>0.334808</td>\n",
       "      <td>0.945766</td>\n",
       "      <td>0.049751</td>\n",
       "      <td>0.013074</td>\n",
       "      <td>0.486902</td>\n",
       "      <td>0.019139</td>\n",
       "      <td>0.957027</td>\n",
       "      <td>0.364307</td>\n",
       "    </tr>\n",
       "    <tr>\n",
       "      <th>2021-02-19</th>\n",
       "      <td>0.364307</td>\n",
       "      <td>0.916010</td>\n",
       "      <td>0.049751</td>\n",
       "      <td>0.013074</td>\n",
       "      <td>0.471933</td>\n",
       "      <td>0.028708</td>\n",
       "      <td>0.930151</td>\n",
       "      <td>0.356932</td>\n",
       "    </tr>\n",
       "    <tr>\n",
       "      <th>2021-02-22</th>\n",
       "      <td>0.356932</td>\n",
       "      <td>0.931926</td>\n",
       "      <td>0.044776</td>\n",
       "      <td>0.013074</td>\n",
       "      <td>0.462370</td>\n",
       "      <td>0.038278</td>\n",
       "      <td>0.942119</td>\n",
       "      <td>0.362094</td>\n",
       "    </tr>\n",
       "    <tr>\n",
       "      <th>2021-02-23</th>\n",
       "      <td>0.362094</td>\n",
       "      <td>0.911510</td>\n",
       "      <td>0.044776</td>\n",
       "      <td>0.013074</td>\n",
       "      <td>0.447817</td>\n",
       "      <td>0.033493</td>\n",
       "      <td>0.926205</td>\n",
       "      <td>0.359882</td>\n",
       "    </tr>\n",
       "  </tbody>\n",
       "</table>\n",
       "<p>1761 rows × 8 columns</p>\n",
       "</div>"
      ],
      "text/plain": [
       "            var1(t-1)  var2(t-1)  var3(t-1)  ...  var6(t-1)  var7(t-1)   var1(t)\n",
       "Date                                         ...                                \n",
       "2014-01-03   0.171091   0.277568   1.000000  ...   0.995215   0.290947  0.153024\n",
       "2014-01-06   0.153024   0.262975   1.000000  ...   0.990431   0.278928  0.166667\n",
       "2014-01-07   0.166667   0.266208   0.995025  ...   0.980861   0.283005  0.196534\n",
       "2014-01-08   0.196534   0.269393   0.985075  ...   0.990431   0.286522  0.217552\n",
       "2014-01-09   0.217552   0.269182   0.985075  ...   0.985646   0.286248  0.210546\n",
       "...               ...        ...        ...  ...        ...        ...       ...\n",
       "2021-02-17   0.347345   0.966433   0.049751  ...   0.033493   0.973883  0.334808\n",
       "2021-02-18   0.334808   0.945766   0.049751  ...   0.019139   0.957027  0.364307\n",
       "2021-02-19   0.364307   0.916010   0.049751  ...   0.028708   0.930151  0.356932\n",
       "2021-02-22   0.356932   0.931926   0.044776  ...   0.038278   0.942119  0.362094\n",
       "2021-02-23   0.362094   0.911510   0.044776  ...   0.033493   0.926205  0.359882\n",
       "\n",
       "[1761 rows x 8 columns]"
      ]
     },
     "execution_count": 42,
     "metadata": {
      "tags": []
     },
     "output_type": "execute_result"
    }
   ],
   "source": [
    "reframed"
   ]
  },
  {
   "cell_type": "code",
   "execution_count": 43,
   "metadata": {
    "id": "hQURVWUcFwck"
   },
   "outputs": [],
   "source": [
    "values = reframed.values\n",
    "n_train_time = 1410 # 데이터의 80% 가져온다\n",
    "train = values[:n_train_time, :]\n",
    "test = values[n_train_time:, :]\n",
    "# split into input and outputs\n",
    "train_X, train_y = train[:, :-1], train[:, -1]\n",
    "test_X, test_y = test[:, :-1], test[:, -1]\n",
    "# reshape input to be 3D [samples, timesteps, features]\n",
    "train_X = train_X.reshape((train_X.shape[0], 1, train_X.shape[1]))\n",
    "test_X = test_X.reshape((test_X.shape[0], 1, test_X.shape[1]))"
   ]
  },
  {
   "cell_type": "code",
   "execution_count": 47,
   "metadata": {
    "colab": {
     "base_uri": "https://localhost:8080/"
    },
    "id": "W4KwVxPBF67z",
    "outputId": "171a8d55-4753-4ddc-dc74-a973e59e6788"
   },
   "outputs": [
    {
     "name": "stdout",
     "output_type": "stream",
     "text": [
      "(351, 1, 7) (1410,) (351, 1, 7) (351,)\n"
     ]
    }
   ],
   "source": [
    "print(test_X.shape, train_y.shape, test_X.shape, test_y.shape )"
   ]
  },
  {
   "cell_type": "code",
   "execution_count": 50,
   "metadata": {
    "id": "i0jwwoGGF9Ba"
   },
   "outputs": [],
   "source": [
    "model = Sequential()\n",
    "model.add(LSTM(50, input_shape=(train_X.shape[1], train_X.shape[2])))\n",
    "model.add(Dense(1))\n",
    "model.compile(loss='mae', optimizer='adam')"
   ]
  },
  {
   "cell_type": "code",
   "execution_count": 51,
   "metadata": {
    "colab": {
     "base_uri": "https://localhost:8080/"
    },
    "id": "EldMhY3uGAzv",
    "outputId": "651ef02c-bfe9-4d9c-a314-a3c5266be3c8"
   },
   "outputs": [
    {
     "name": "stdout",
     "output_type": "stream",
     "text": [
      "Epoch 1/50\n",
      "20/20 - 2s - loss: 0.3983 - val_loss: 0.4465\n",
      "Epoch 2/50\n",
      "20/20 - 0s - loss: 0.1852 - val_loss: 0.2480\n",
      "Epoch 3/50\n",
      "20/20 - 0s - loss: 0.1381 - val_loss: 0.1908\n",
      "Epoch 4/50\n",
      "20/20 - 0s - loss: 0.1285 - val_loss: 0.1992\n",
      "Epoch 5/50\n",
      "20/20 - 0s - loss: 0.1182 - val_loss: 0.1903\n",
      "Epoch 6/50\n",
      "20/20 - 0s - loss: 0.1085 - val_loss: 0.1748\n",
      "Epoch 7/50\n",
      "20/20 - 0s - loss: 0.0994 - val_loss: 0.1626\n",
      "Epoch 8/50\n",
      "20/20 - 0s - loss: 0.0914 - val_loss: 0.1511\n",
      "Epoch 9/50\n",
      "20/20 - 0s - loss: 0.0840 - val_loss: 0.1387\n",
      "Epoch 10/50\n",
      "20/20 - 0s - loss: 0.0768 - val_loss: 0.1284\n",
      "Epoch 11/50\n",
      "20/20 - 0s - loss: 0.0701 - val_loss: 0.1170\n",
      "Epoch 12/50\n",
      "20/20 - 0s - loss: 0.0637 - val_loss: 0.1043\n",
      "Epoch 13/50\n",
      "20/20 - 0s - loss: 0.0581 - val_loss: 0.0929\n",
      "Epoch 14/50\n",
      "20/20 - 0s - loss: 0.0530 - val_loss: 0.0826\n",
      "Epoch 15/50\n",
      "20/20 - 0s - loss: 0.0490 - val_loss: 0.0741\n",
      "Epoch 16/50\n",
      "20/20 - 0s - loss: 0.0458 - val_loss: 0.0680\n",
      "Epoch 17/50\n",
      "20/20 - 0s - loss: 0.0434 - val_loss: 0.0651\n",
      "Epoch 18/50\n",
      "20/20 - 0s - loss: 0.0415 - val_loss: 0.0669\n",
      "Epoch 19/50\n",
      "20/20 - 0s - loss: 0.0395 - val_loss: 0.0669\n",
      "Epoch 20/50\n",
      "20/20 - 0s - loss: 0.0374 - val_loss: 0.0665\n",
      "Epoch 21/50\n",
      "20/20 - 0s - loss: 0.0357 - val_loss: 0.0680\n",
      "Epoch 22/50\n",
      "20/20 - 0s - loss: 0.0341 - val_loss: 0.0647\n",
      "Epoch 23/50\n",
      "20/20 - 0s - loss: 0.0328 - val_loss: 0.0641\n",
      "Epoch 24/50\n",
      "20/20 - 0s - loss: 0.0315 - val_loss: 0.0636\n",
      "Epoch 25/50\n",
      "20/20 - 0s - loss: 0.0303 - val_loss: 0.0630\n",
      "Epoch 26/50\n",
      "20/20 - 0s - loss: 0.0292 - val_loss: 0.0608\n",
      "Epoch 27/50\n",
      "20/20 - 0s - loss: 0.0282 - val_loss: 0.0556\n",
      "Epoch 28/50\n",
      "20/20 - 0s - loss: 0.0275 - val_loss: 0.0500\n",
      "Epoch 29/50\n",
      "20/20 - 0s - loss: 0.0266 - val_loss: 0.0445\n",
      "Epoch 30/50\n",
      "20/20 - 0s - loss: 0.0259 - val_loss: 0.0410\n",
      "Epoch 31/50\n",
      "20/20 - 0s - loss: 0.0250 - val_loss: 0.0408\n",
      "Epoch 32/50\n",
      "20/20 - 0s - loss: 0.0240 - val_loss: 0.0450\n",
      "Epoch 33/50\n",
      "20/20 - 0s - loss: 0.0233 - val_loss: 0.0482\n",
      "Epoch 34/50\n",
      "20/20 - 0s - loss: 0.0223 - val_loss: 0.0439\n",
      "Epoch 35/50\n",
      "20/20 - 0s - loss: 0.0222 - val_loss: 0.0334\n",
      "Epoch 36/50\n",
      "20/20 - 0s - loss: 0.0231 - val_loss: 0.0212\n",
      "Epoch 37/50\n",
      "20/20 - 0s - loss: 0.0247 - val_loss: 0.0207\n",
      "Epoch 38/50\n",
      "20/20 - 0s - loss: 0.0269 - val_loss: 0.0203\n",
      "Epoch 39/50\n",
      "20/20 - 0s - loss: 0.0289 - val_loss: 0.0511\n",
      "Epoch 40/50\n",
      "20/20 - 0s - loss: 0.0447 - val_loss: 0.0686\n",
      "Epoch 41/50\n",
      "20/20 - 0s - loss: 0.0372 - val_loss: 0.0460\n",
      "Epoch 42/50\n",
      "20/20 - 0s - loss: 0.0260 - val_loss: 0.0206\n",
      "Epoch 43/50\n",
      "20/20 - 0s - loss: 0.0285 - val_loss: 0.0308\n",
      "Epoch 44/50\n",
      "20/20 - 0s - loss: 0.0367 - val_loss: 0.0175\n",
      "Epoch 45/50\n",
      "20/20 - 0s - loss: 0.0330 - val_loss: 0.0565\n",
      "Epoch 46/50\n",
      "20/20 - 0s - loss: 0.0426 - val_loss: 0.0598\n",
      "Epoch 47/50\n",
      "20/20 - 0s - loss: 0.0319 - val_loss: 0.0375\n",
      "Epoch 48/50\n",
      "20/20 - 0s - loss: 0.0245 - val_loss: 0.0199\n",
      "Epoch 49/50\n",
      "20/20 - 0s - loss: 0.0279 - val_loss: 0.0270\n",
      "Epoch 50/50\n",
      "20/20 - 0s - loss: 0.0341 - val_loss: 0.0221\n"
     ]
    }
   ],
   "source": [
    "history = model.fit(train_X, train_y, epochs=50, batch_size=72, \n",
    "        validation_data=(test_X, test_y), verbose=2, shuffle=False)"
   ]
  },
  {
   "cell_type": "code",
   "execution_count": 34,
   "metadata": {
    "colab": {
     "base_uri": "https://localhost:8080/"
    },
    "id": "mOIUUi6BGbGh",
    "outputId": "ca4f9d1d-a50d-4022-e103-700dede92a23"
   },
   "outputs": [
    {
     "name": "stdout",
     "output_type": "stream",
     "text": [
      "dict_keys(['loss', 'val_loss'])\n"
     ]
    }
   ],
   "source": [
    "print(history.history.keys())"
   ]
  },
  {
   "cell_type": "code",
   "execution_count": 35,
   "metadata": {
    "colab": {
     "base_uri": "https://localhost:8080/",
     "height": 374
    },
    "id": "OV8vICIHGoA9",
    "outputId": "2b7974f1-8939-4fcc-b6dd-9f862232ce83"
   },
   "outputs": [
    {
     "data": {
      "image/png": "[encoded data removed]",
      "text/plain": [
       "<Figure size 576x432 with 1 Axes>"
      ]
     },
     "metadata": {
      "needs_background": "light",
      "tags": []
     },
     "output_type": "display_data"
    }
   ],
   "source": [
    "\n",
    "plt.plot(history.history['loss'], label='train')\n",
    "plt.plot(history.history['val_loss'], label='test')\n",
    "plt.legend()  \n",
    "plt.show()"
   ]
  },
  {
   "cell_type": "code",
   "execution_count": 36,
   "metadata": {
    "colab": {
     "base_uri": "https://localhost:8080/"
    },
    "id": "nlb7s97OGpO8",
    "outputId": "e4b59971-bc2f-4b94-922f-e77ea9951133"
   },
   "outputs": [
    {
     "name": "stdout",
     "output_type": "stream",
     "text": [
      "(351, 1, 7)\n",
      "(1410, 1, 7)\n"
     ]
    }
   ],
   "source": [
    "print(test_X.shape)\n",
    "print(train_X.shape)"
   ]
  },
  {
   "cell_type": "code",
   "execution_count": 55,
   "metadata": {
    "id": "jIo4jfi8GsVv"
   },
   "outputs": [],
   "source": [
    "yhat = model.predict(test_X)\n",
    "test_X = test_X.reshape((test_X.shape[0], test_X.shape[2]))\n",
    "#scaling\n",
    "\n",
    "# print(y_pred)\n",
    "# y_pred = scaler.inverse_transform(y_pred)\n"
   ]
  },
  {
   "cell_type": "code",
   "execution_count": 57,
   "metadata": {
    "id": "u0HTna2uHkeF"
   },
   "outputs": [],
   "source": [
    "#scaling\n",
    "inv_yhat = concatenate((yhat, test_X[:,1:]), axis = 1)\n",
    "inv_yhat = scaler.inverse_transform(inv_yhat)\n",
    "inv_yhat = inv_yhat[:,0]\n"
   ]
  },
  {
   "cell_type": "code",
   "execution_count": 58,
   "metadata": {
    "id": "xu6PepPE6hKE"
   },
   "outputs": [],
   "source": [
    "test_y = test_y.reshape((len(test_y), 1))\n",
    "inv_y = concatenate((test_y, test_X[:, 1:]), axis=1)\n",
    "inv_y = scaler.inverse_transform(inv_y)\n",
    "inv_y = inv_y[:,0]"
   ]
  },
  {
   "cell_type": "code",
   "execution_count": 60,
   "metadata": {
    "colab": {
     "base_uri": "https://localhost:8080/"
    },
    "id": "dNH6FBoaIe46",
    "outputId": "0c93e7e0-7725-42b9-e530-b6faab7dcba4"
   },
   "outputs": [
    {
     "name": "stdout",
     "output_type": "stream",
     "text": [
      "Test RMSE: 7.865\n"
     ]
    }
   ],
   "source": [
    "from sklearn.metrics import mean_squared_error\n",
    "rmse = sqrt(mean_squared_error(inv_y, inv_yhat))\n",
    "print('Test RMSE: %.3f' % rmse)"
   ]
  },
  {
   "cell_type": "code",
   "execution_count": 64,
   "metadata": {
    "colab": {
     "base_uri": "https://localhost:8080/",
     "height": 392
    },
    "id": "lYRzNB057oRl",
    "outputId": "4968efc9-2388-40f4-a51b-2e80e7a7bd45"
   },
   "outputs": [
    {
     "data": {
      "text/plain": [
       "[<matplotlib.lines.Line2D at 0x7fe5fafac7d0>]"
      ]
     },
     "execution_count": 64,
     "metadata": {
      "tags": []
     },
     "output_type": "execute_result"
    },
    {
     "data": {
      "image/png": "[encoded data removed]",
      "text/plain": [
       "<Figure size 576x432 with 1 Axes>"
      ]
     },
     "metadata": {
      "needs_background": "light",
      "tags": []
     },
     "output_type": "display_data"
    }
   ],
   "source": [
    "plt.plot(inv_yhat)"
   ]
  },
  {
   "cell_type": "code",
   "execution_count": 77,
   "metadata": {
    "colab": {
     "base_uri": "https://localhost:8080/",
     "height": 195
    },
    "id": "Uk35znPR7-2T",
    "outputId": "0e9c383d-d24f-4f0a-b22c-c36f5f1db362"
   },
   "outputs": [
    {
     "data": {
      "text/html": [
       "<div>\n",
       "<style scoped>\n",
       "    .dataframe tbody tr th:only-of-type {\n",
       "        vertical-align: middle;\n",
       "    }\n",
       "\n",
       "    .dataframe tbody tr th {\n",
       "        vertical-align: top;\n",
       "    }\n",
       "\n",
       "    .dataframe thead th {\n",
       "        text-align: right;\n",
       "    }\n",
       "</style>\n",
       "<table border=\"1\" class=\"dataframe\">\n",
       "  <thead>\n",
       "    <tr style=\"text-align: right;\">\n",
       "      <th></th>\n",
       "      <th>yhat</th>\n",
       "      <th>inv_y</th>\n",
       "    </tr>\n",
       "  </thead>\n",
       "  <tbody>\n",
       "    <tr>\n",
       "      <th>0</th>\n",
       "      <td>1191.089498</td>\n",
       "      <td>1193.999998</td>\n",
       "    </tr>\n",
       "    <tr>\n",
       "      <th>1</th>\n",
       "      <td>1192.748683</td>\n",
       "      <td>1198.300008</td>\n",
       "    </tr>\n",
       "    <tr>\n",
       "      <th>2</th>\n",
       "      <td>1196.512458</td>\n",
       "      <td>1199.100003</td>\n",
       "    </tr>\n",
       "    <tr>\n",
       "      <th>3</th>\n",
       "      <td>1197.462219</td>\n",
       "      <td>1201.299997</td>\n",
       "    </tr>\n",
       "    <tr>\n",
       "      <th>4</th>\n",
       "      <td>1199.331434</td>\n",
       "      <td>1199.199998</td>\n",
       "    </tr>\n",
       "  </tbody>\n",
       "</table>\n",
       "</div>"
      ],
      "text/plain": [
       "          yhat        inv_y\n",
       "0  1191.089498  1193.999998\n",
       "1  1192.748683  1198.300008\n",
       "2  1196.512458  1199.100003\n",
       "3  1197.462219  1201.299997\n",
       "4  1199.331434  1199.199998"
      ]
     },
     "execution_count": 77,
     "metadata": {
      "tags": []
     },
     "output_type": "execute_result"
    }
   ],
   "source": [
    "\n",
    "df_yhat = pd.DataFrame(inv_yhat, columns = ['yhat'])\n",
    "df_inv_y = pd.DataFrame(inv_y, columns = ['inv_y'])\n",
    "df_fore = pd.concat([df_yhat, df_inv_y],axis = 1)\n",
    "df_fore.head()"
   ]
  },
  {
   "cell_type": "code",
   "execution_count": 78,
   "metadata": {
    "colab": {
     "base_uri": "https://localhost:8080/",
     "height": 410
    },
    "id": "WIwhdmAF8U9Y",
    "outputId": "d1ca554a-9ad1-461f-d06f-14fe9b44b821"
   },
   "outputs": [
    {
     "data": {
      "text/plain": [
       "[<matplotlib.lines.Line2D at 0x7fe695f23510>,\n",
       " <matplotlib.lines.Line2D at 0x7fe60409fcd0>]"
      ]
     },
     "execution_count": 78,
     "metadata": {
      "tags": []
     },
     "output_type": "execute_result"
    },
    {
     "data": {
      "image/png": "[encoded data removed]",
      "text/plain": [
       "<Figure size 576x432 with 1 Axes>"
      ]
     },
     "metadata": {
      "needs_background": "light",
      "tags": []
     },
     "output_type": "display_data"
    }
   ],
   "source": [
    "plt.plot(df_fore)"
   ]
  },
  {
   "cell_type": "code",
   "execution_count": null,
   "metadata": {
    "id": "3-wlu6aG-ai1"
   },
   "outputs": [],
   "source": []
  }
 ],
 "metadata": {
  "accelerator": "GPU",
  "colab": {
   "collapsed_sections": [],
   "name": "다변량시계열- lstm.ipynb",
   "provenance": []
  },
  "kernelspec": {
   "display_name": "Python 3",
   "language": "python",
   "name": "python3"
  },
  "language_info": {
   "codemirror_mode": {
    "name": "ipython",
    "version": 3
   },
   "file_extension": ".py",
   "mimetype": "text/x-python",
   "name": "python",
   "nbconvert_exporter": "python",
   "pygments_lexer": "ipython3",
   "version": "3.7.3"
  }
 },
 "nbformat": 4,
 "nbformat_minor": 1
}
