{
 "cells": [
  {
   "cell_type": "markdown",
   "id": "interested-drink",
   "metadata": {},
   "source": [
    "## LSTM"
   ]
  },
  {
   "cell_type": "markdown",
   "id": "usual-europe",
   "metadata": {},
   "source": [
    "###  탠서플로부분 꼭 코랩가서 해라"
   ]
  },
  {
   "cell_type": "code",
   "execution_count": 23,
   "id": "expected-carter",
   "metadata": {},
   "outputs": [],
   "source": [
    "import tensorflow as tf\n",
    "from tensorflow.keras.callbacks import CSVLogger, EarlyStopping\n",
    "\n",
    "import matplotlib.pyplot as plt\n",
    "import matplotlib as mpl\n",
    "import seaborn as sns\n",
    "import numpy as np\n",
    "import os \n",
    "import pandas as pd\n",
    "\n",
    "import warnings\n",
    "warnings.simplefilter('ignore')\n",
    "\n",
    "mpl.rcParams['figure.figsize'] = (8, 6)\n",
    "mpl.rcParams['axes.grid'] = False"
   ]
  },
  {
   "cell_type": "markdown",
   "id": "tested-voltage",
   "metadata": {},
   "source": [
    "### 데이터 셋"
   ]
  },
  {
   "cell_type": "code",
   "execution_count": 20,
   "id": "greek-staff",
   "metadata": {},
   "outputs": [
    {
     "name": "stdout",
     "output_type": "stream",
     "text": [
      "(1762, 8)\n"
     ]
    },
    {
     "data": {
      "text/html": [
       "<div>\n",
       "<style scoped>\n",
       "    .dataframe tbody tr th:only-of-type {\n",
       "        vertical-align: middle;\n",
       "    }\n",
       "\n",
       "    .dataframe tbody tr th {\n",
       "        vertical-align: top;\n",
       "    }\n",
       "\n",
       "    .dataframe thead th {\n",
       "        text-align: right;\n",
       "    }\n",
       "</style>\n",
       "<table border=\"1\" class=\"dataframe\">\n",
       "  <thead>\n",
       "    <tr style=\"text-align: right;\">\n",
       "      <th></th>\n",
       "      <th>Date</th>\n",
       "      <th>ExchangeRate</th>\n",
       "      <th>KRX100</th>\n",
       "      <th>KORIBOR</th>\n",
       "      <th>LIBOR</th>\n",
       "      <th>달러지수 (종가)</th>\n",
       "      <th>콜금리</th>\n",
       "      <th>KOSPI</th>\n",
       "    </tr>\n",
       "  </thead>\n",
       "  <tbody>\n",
       "    <tr>\n",
       "      <th>1757</th>\n",
       "      <td>2021.02.17</td>\n",
       "      <td>1,099.70</td>\n",
       "      <td>6764.11</td>\n",
       "      <td>0.87</td>\n",
       "      <td>NaN</td>\n",
       "      <td>90.95</td>\n",
       "      <td>0.47</td>\n",
       "      <td>3,133.73</td>\n",
       "    </tr>\n",
       "    <tr>\n",
       "      <th>1758</th>\n",
       "      <td>2021.02.18</td>\n",
       "      <td>1,107.70</td>\n",
       "      <td>6652.76</td>\n",
       "      <td>0.87</td>\n",
       "      <td>NaN</td>\n",
       "      <td>90.59</td>\n",
       "      <td>0.49</td>\n",
       "      <td>3,086.66</td>\n",
       "    </tr>\n",
       "    <tr>\n",
       "      <th>1759</th>\n",
       "      <td>2021.02.19</td>\n",
       "      <td>1,105.70</td>\n",
       "      <td>6712.32</td>\n",
       "      <td>0.86</td>\n",
       "      <td>NaN</td>\n",
       "      <td>90.36</td>\n",
       "      <td>0.51</td>\n",
       "      <td>3,107.62</td>\n",
       "    </tr>\n",
       "    <tr>\n",
       "      <th>1760</th>\n",
       "      <td>2021.02.22</td>\n",
       "      <td>1,107.10</td>\n",
       "      <td>6635.92</td>\n",
       "      <td>0.86</td>\n",
       "      <td>NaN</td>\n",
       "      <td>90.01</td>\n",
       "      <td>0.50</td>\n",
       "      <td>3,079.75</td>\n",
       "    </tr>\n",
       "    <tr>\n",
       "      <th>1761</th>\n",
       "      <td>2021.02.23</td>\n",
       "      <td>1,106.50</td>\n",
       "      <td>6607.24</td>\n",
       "      <td>0.86</td>\n",
       "      <td>NaN</td>\n",
       "      <td>90.17</td>\n",
       "      <td>0.49</td>\n",
       "      <td>3,070.09</td>\n",
       "    </tr>\n",
       "  </tbody>\n",
       "</table>\n",
       "</div>"
      ],
      "text/plain": [
       "            Date ExchangeRate   KRX100  KORIBOR  LIBOR  달러지수 (종가)   콜금리  \\\n",
       "1757  2021.02.17     1,099.70  6764.11     0.87    NaN      90.95  0.47   \n",
       "1758  2021.02.18     1,107.70  6652.76     0.87    NaN      90.59  0.49   \n",
       "1759  2021.02.19     1,105.70  6712.32     0.86    NaN      90.36  0.51   \n",
       "1760  2021.02.22     1,107.10  6635.92     0.86    NaN      90.01  0.50   \n",
       "1761  2021.02.23     1,106.50  6607.24     0.86    NaN      90.17  0.49   \n",
       "\n",
       "         KOSPI  \n",
       "1757  3,133.73  \n",
       "1758  3,086.66  \n",
       "1759  3,107.62  \n",
       "1760  3,079.75  \n",
       "1761  3,070.09  "
      ]
     },
     "execution_count": 20,
     "metadata": {},
     "output_type": "execute_result"
    }
   ],
   "source": [
    "#데이터 읽자\n",
    "#천단위 콤마 제거 해주자 나중에 또 하기 귀찮으니까!(결정적으로 float형 유지를 위해)\n",
    "df = pd.read_csv('exchange_rate_fix_20210223.xls.csv', thousands = ',')\n",
    "print(df.shape)\n",
    "df.tail()"
   ]
  },
  {
   "cell_type": "code",
   "execution_count": 8,
   "id": "lonely-equilibrium",
   "metadata": {},
   "outputs": [],
   "source": [
    "#열이름 한국어인거 영어로 변경하자\n",
    "name = [\"Date\", \"ExchangeRate\",\"KRX100\", \"KORIBOR\", \"LIBOR\", \"DollarRate\",\n",
    "       \"CallRate\",\"KOSPI\"]\n",
    "df1= df.rename(columns = dict(zip(df.columns,name)))"
   ]
  },
  {
   "cell_type": "code",
   "execution_count": 9,
   "id": "static-distribution",
   "metadata": {},
   "outputs": [
    {
     "data": {
      "text/html": [
       "<div>\n",
       "<style scoped>\n",
       "    .dataframe tbody tr th:only-of-type {\n",
       "        vertical-align: middle;\n",
       "    }\n",
       "\n",
       "    .dataframe tbody tr th {\n",
       "        vertical-align: top;\n",
       "    }\n",
       "\n",
       "    .dataframe thead th {\n",
       "        text-align: right;\n",
       "    }\n",
       "</style>\n",
       "<table border=\"1\" class=\"dataframe\">\n",
       "  <thead>\n",
       "    <tr style=\"text-align: right;\">\n",
       "      <th></th>\n",
       "      <th>Date</th>\n",
       "      <th>ExchangeRate</th>\n",
       "      <th>KRX100</th>\n",
       "      <th>KORIBOR</th>\n",
       "      <th>LIBOR</th>\n",
       "      <th>DollarRate</th>\n",
       "      <th>CallRate</th>\n",
       "      <th>KOSPI</th>\n",
       "    </tr>\n",
       "  </thead>\n",
       "  <tbody>\n",
       "    <tr>\n",
       "      <th>1757</th>\n",
       "      <td>2021.02.17</td>\n",
       "      <td>1099.70</td>\n",
       "      <td>6764.11</td>\n",
       "      <td>0.87</td>\n",
       "      <td>NaN</td>\n",
       "      <td>90.95</td>\n",
       "      <td>0.47</td>\n",
       "      <td>3133.73</td>\n",
       "    </tr>\n",
       "    <tr>\n",
       "      <th>1758</th>\n",
       "      <td>2021.02.18</td>\n",
       "      <td>1107.70</td>\n",
       "      <td>6652.76</td>\n",
       "      <td>0.87</td>\n",
       "      <td>NaN</td>\n",
       "      <td>90.59</td>\n",
       "      <td>0.49</td>\n",
       "      <td>3086.66</td>\n",
       "    </tr>\n",
       "    <tr>\n",
       "      <th>1759</th>\n",
       "      <td>2021.02.19</td>\n",
       "      <td>1105.70</td>\n",
       "      <td>6712.32</td>\n",
       "      <td>0.86</td>\n",
       "      <td>NaN</td>\n",
       "      <td>90.36</td>\n",
       "      <td>0.51</td>\n",
       "      <td>3107.62</td>\n",
       "    </tr>\n",
       "    <tr>\n",
       "      <th>1760</th>\n",
       "      <td>2021.02.22</td>\n",
       "      <td>1107.10</td>\n",
       "      <td>6635.92</td>\n",
       "      <td>0.86</td>\n",
       "      <td>NaN</td>\n",
       "      <td>90.01</td>\n",
       "      <td>0.50</td>\n",
       "      <td>3079.75</td>\n",
       "    </tr>\n",
       "    <tr>\n",
       "      <th>1761</th>\n",
       "      <td>2021.02.23</td>\n",
       "      <td>1106.50</td>\n",
       "      <td>6607.24</td>\n",
       "      <td>0.86</td>\n",
       "      <td>NaN</td>\n",
       "      <td>90.17</td>\n",
       "      <td>0.49</td>\n",
       "      <td>3070.09</td>\n",
       "    </tr>\n",
       "  </tbody>\n",
       "</table>\n",
       "</div>"
      ],
      "text/plain": [
       "            Date ExchangeRate   KRX100  KORIBOR  LIBOR  DollarRate  CallRate  \\\n",
       "1757  2021.02.17      1099.70  6764.11     0.87    NaN       90.95      0.47   \n",
       "1758  2021.02.18      1107.70  6652.76     0.87    NaN       90.59      0.49   \n",
       "1759  2021.02.19      1105.70  6712.32     0.86    NaN       90.36      0.51   \n",
       "1760  2021.02.22      1107.10  6635.92     0.86    NaN       90.01      0.50   \n",
       "1761  2021.02.23      1106.50  6607.24     0.86    NaN       90.17      0.49   \n",
       "\n",
       "        KOSPI  \n",
       "1757  3133.73  \n",
       "1758  3086.66  \n",
       "1759  3107.62  \n",
       "1760  3079.75  \n",
       "1761  3070.09  "
      ]
     },
     "execution_count": 9,
     "metadata": {},
     "output_type": "execute_result"
    }
   ],
   "source": [
    "#천단위 쉼표 제거\n",
    "df1['ExchangeRate'] = df1['ExchangeRate'].str.replace(',','')\n",
    "df1['KOSPI'] = df1['KOSPI'].str.replace(',','')\n",
    "df1.tail()"
   ]
  },
  {
   "cell_type": "code",
   "execution_count": 10,
   "id": "polished-builder",
   "metadata": {},
   "outputs": [],
   "source": [
    "#오브젝트형 데이터 실수로 형변환\n",
    "df1[\"KOSPI\"] = pd.to_numeric(df1.KOSPI, errors='coerce')\n",
    "df1[\"ExchangeRate\"] = pd.to_numeric(df1.ExchangeRate, errors='coerce')"
   ]
  },
  {
   "cell_type": "code",
   "execution_count": 11,
   "id": "brief-correlation",
   "metadata": {},
   "outputs": [
    {
     "data": {
      "text/plain": [
       "Date             0\n",
       "ExchangeRate     1\n",
       "KRX100           6\n",
       "KORIBOR          0\n",
       "LIBOR           92\n",
       "DollarRate       7\n",
       "CallRate         0\n",
       "KOSPI            7\n",
       "dtype: int64"
      ]
     },
     "execution_count": 11,
     "metadata": {},
     "output_type": "execute_result"
    }
   ],
   "source": [
    "#결측값 확인\n",
    "df1.isna().sum()"
   ]
  },
  {
   "cell_type": "code",
   "execution_count": 12,
   "id": "imported-semester",
   "metadata": {},
   "outputs": [
    {
     "data": {
      "text/html": [
       "<div>\n",
       "<style scoped>\n",
       "    .dataframe tbody tr th:only-of-type {\n",
       "        vertical-align: middle;\n",
       "    }\n",
       "\n",
       "    .dataframe tbody tr th {\n",
       "        vertical-align: top;\n",
       "    }\n",
       "\n",
       "    .dataframe thead th {\n",
       "        text-align: right;\n",
       "    }\n",
       "</style>\n",
       "<table border=\"1\" class=\"dataframe\">\n",
       "  <thead>\n",
       "    <tr style=\"text-align: right;\">\n",
       "      <th></th>\n",
       "      <th>Date</th>\n",
       "      <th>ExchangeRate</th>\n",
       "      <th>KRX100</th>\n",
       "      <th>KORIBOR</th>\n",
       "      <th>LIBOR</th>\n",
       "      <th>DollarRate</th>\n",
       "      <th>CallRate</th>\n",
       "      <th>KOSPI</th>\n",
       "    </tr>\n",
       "  </thead>\n",
       "  <tbody>\n",
       "    <tr>\n",
       "      <th>1757</th>\n",
       "      <td>2021.02.17</td>\n",
       "      <td>1099.7</td>\n",
       "      <td>6764.11</td>\n",
       "      <td>0.87</td>\n",
       "      <td>0.0815</td>\n",
       "      <td>90.95</td>\n",
       "      <td>0.47</td>\n",
       "      <td>3133.73</td>\n",
       "    </tr>\n",
       "    <tr>\n",
       "      <th>1758</th>\n",
       "      <td>2021.02.18</td>\n",
       "      <td>1107.7</td>\n",
       "      <td>6652.76</td>\n",
       "      <td>0.87</td>\n",
       "      <td>0.0815</td>\n",
       "      <td>90.59</td>\n",
       "      <td>0.49</td>\n",
       "      <td>3086.66</td>\n",
       "    </tr>\n",
       "    <tr>\n",
       "      <th>1759</th>\n",
       "      <td>2021.02.19</td>\n",
       "      <td>1105.7</td>\n",
       "      <td>6712.32</td>\n",
       "      <td>0.86</td>\n",
       "      <td>0.0815</td>\n",
       "      <td>90.36</td>\n",
       "      <td>0.51</td>\n",
       "      <td>3107.62</td>\n",
       "    </tr>\n",
       "    <tr>\n",
       "      <th>1760</th>\n",
       "      <td>2021.02.22</td>\n",
       "      <td>1107.1</td>\n",
       "      <td>6635.92</td>\n",
       "      <td>0.86</td>\n",
       "      <td>0.0815</td>\n",
       "      <td>90.01</td>\n",
       "      <td>0.50</td>\n",
       "      <td>3079.75</td>\n",
       "    </tr>\n",
       "    <tr>\n",
       "      <th>1761</th>\n",
       "      <td>2021.02.23</td>\n",
       "      <td>1106.5</td>\n",
       "      <td>6607.24</td>\n",
       "      <td>0.86</td>\n",
       "      <td>0.0815</td>\n",
       "      <td>90.17</td>\n",
       "      <td>0.49</td>\n",
       "      <td>3070.09</td>\n",
       "    </tr>\n",
       "  </tbody>\n",
       "</table>\n",
       "</div>"
      ],
      "text/plain": [
       "            Date  ExchangeRate   KRX100  KORIBOR   LIBOR  DollarRate  \\\n",
       "1757  2021.02.17        1099.7  6764.11     0.87  0.0815       90.95   \n",
       "1758  2021.02.18        1107.7  6652.76     0.87  0.0815       90.59   \n",
       "1759  2021.02.19        1105.7  6712.32     0.86  0.0815       90.36   \n",
       "1760  2021.02.22        1107.1  6635.92     0.86  0.0815       90.01   \n",
       "1761  2021.02.23        1106.5  6607.24     0.86  0.0815       90.17   \n",
       "\n",
       "      CallRate    KOSPI  \n",
       "1757      0.47  3133.73  \n",
       "1758      0.49  3086.66  \n",
       "1759      0.51  3107.62  \n",
       "1760      0.50  3079.75  \n",
       "1761      0.49  3070.09  "
      ]
     },
     "execution_count": 12,
     "metadata": {},
     "output_type": "execute_result"
    }
   ],
   "source": [
    "#결측치를 값에 선형 비례하는식으로 결측값을 보간해봤다\n",
    "df_intp = df1.interpolate(method = 'values')\n",
    "\n",
    "df_intp.tail()"
   ]
  },
  {
   "cell_type": "code",
   "execution_count": 13,
   "id": "alpine-syracuse",
   "metadata": {},
   "outputs": [],
   "source": [
    "#날짜 데이터타임형식으로 미리 변경해놓자\n",
    "df_intp['Date'] = pd.to_datetime(df_intp['Date'], errors='coerce')"
   ]
  },
  {
   "cell_type": "code",
   "execution_count": 15,
   "id": "twenty-delaware",
   "metadata": {},
   "outputs": [
    {
     "data": {
      "text/html": [
       "<div>\n",
       "<style scoped>\n",
       "    .dataframe tbody tr th:only-of-type {\n",
       "        vertical-align: middle;\n",
       "    }\n",
       "\n",
       "    .dataframe tbody tr th {\n",
       "        vertical-align: top;\n",
       "    }\n",
       "\n",
       "    .dataframe thead th {\n",
       "        text-align: right;\n",
       "    }\n",
       "</style>\n",
       "<table border=\"1\" class=\"dataframe\">\n",
       "  <thead>\n",
       "    <tr style=\"text-align: right;\">\n",
       "      <th></th>\n",
       "      <th>Date</th>\n",
       "      <th>ExchangeRate</th>\n",
       "      <th>KRX100</th>\n",
       "      <th>KORIBOR</th>\n",
       "      <th>LIBOR</th>\n",
       "      <th>DollarRate</th>\n",
       "      <th>CallRate</th>\n",
       "      <th>KOSPI</th>\n",
       "    </tr>\n",
       "  </thead>\n",
       "  <tbody>\n",
       "    <tr>\n",
       "      <th>0</th>\n",
       "      <td>2014-01-02</td>\n",
       "      <td>1055.3</td>\n",
       "      <td>4263.64</td>\n",
       "      <td>2.78</td>\n",
       "      <td>0.0956</td>\n",
       "      <td>80.79</td>\n",
       "      <td>2.51</td>\n",
       "      <td>1967.19</td>\n",
       "    </tr>\n",
       "    <tr>\n",
       "      <th>1</th>\n",
       "      <td>2014-01-03</td>\n",
       "      <td>1050.4</td>\n",
       "      <td>4209.03</td>\n",
       "      <td>2.78</td>\n",
       "      <td>0.0950</td>\n",
       "      <td>80.96</td>\n",
       "      <td>2.50</td>\n",
       "      <td>1946.14</td>\n",
       "    </tr>\n",
       "    <tr>\n",
       "      <th>2</th>\n",
       "      <td>2014-01-06</td>\n",
       "      <td>1054.1</td>\n",
       "      <td>4221.13</td>\n",
       "      <td>2.77</td>\n",
       "      <td>0.0945</td>\n",
       "      <td>80.81</td>\n",
       "      <td>2.48</td>\n",
       "      <td>1953.28</td>\n",
       "    </tr>\n",
       "    <tr>\n",
       "      <th>3</th>\n",
       "      <td>2014-01-07</td>\n",
       "      <td>1062.2</td>\n",
       "      <td>4233.05</td>\n",
       "      <td>2.75</td>\n",
       "      <td>0.0926</td>\n",
       "      <td>80.98</td>\n",
       "      <td>2.50</td>\n",
       "      <td>1959.44</td>\n",
       "    </tr>\n",
       "    <tr>\n",
       "      <th>4</th>\n",
       "      <td>2014-01-08</td>\n",
       "      <td>1067.9</td>\n",
       "      <td>4232.26</td>\n",
       "      <td>2.75</td>\n",
       "      <td>0.0925</td>\n",
       "      <td>81.16</td>\n",
       "      <td>2.49</td>\n",
       "      <td>1958.96</td>\n",
       "    </tr>\n",
       "  </tbody>\n",
       "</table>\n",
       "</div>"
      ],
      "text/plain": [
       "        Date  ExchangeRate   KRX100  KORIBOR   LIBOR  DollarRate  CallRate  \\\n",
       "0 2014-01-02        1055.3  4263.64     2.78  0.0956       80.79      2.51   \n",
       "1 2014-01-03        1050.4  4209.03     2.78  0.0950       80.96      2.50   \n",
       "2 2014-01-06        1054.1  4221.13     2.77  0.0945       80.81      2.48   \n",
       "3 2014-01-07        1062.2  4233.05     2.75  0.0926       80.98      2.50   \n",
       "4 2014-01-08        1067.9  4232.26     2.75  0.0925       81.16      2.49   \n",
       "\n",
       "     KOSPI  \n",
       "0  1967.19  \n",
       "1  1946.14  \n",
       "2  1953.28  \n",
       "3  1959.44  \n",
       "4  1958.96  "
      ]
     },
     "execution_count": 15,
     "metadata": {},
     "output_type": "execute_result"
    }
   ],
   "source": [
    "df_intp.head()"
   ]
  },
  {
   "cell_type": "code",
   "execution_count": 17,
   "id": "instant-remains",
   "metadata": {},
   "outputs": [
    {
     "data": {
      "text/html": [
       "<div>\n",
       "<style scoped>\n",
       "    .dataframe tbody tr th:only-of-type {\n",
       "        vertical-align: middle;\n",
       "    }\n",
       "\n",
       "    .dataframe tbody tr th {\n",
       "        vertical-align: top;\n",
       "    }\n",
       "\n",
       "    .dataframe thead th {\n",
       "        text-align: right;\n",
       "    }\n",
       "</style>\n",
       "<table border=\"1\" class=\"dataframe\">\n",
       "  <thead>\n",
       "    <tr style=\"text-align: right;\">\n",
       "      <th></th>\n",
       "      <th>ExchangeRate</th>\n",
       "      <th>KRX100</th>\n",
       "      <th>KORIBOR</th>\n",
       "      <th>LIBOR</th>\n",
       "      <th>DollarRate</th>\n",
       "      <th>CallRate</th>\n",
       "      <th>KOSPI</th>\n",
       "    </tr>\n",
       "    <tr>\n",
       "      <th>Date</th>\n",
       "      <th></th>\n",
       "      <th></th>\n",
       "      <th></th>\n",
       "      <th></th>\n",
       "      <th></th>\n",
       "      <th></th>\n",
       "      <th></th>\n",
       "    </tr>\n",
       "  </thead>\n",
       "  <tbody>\n",
       "    <tr>\n",
       "      <th>2014-01-02</th>\n",
       "      <td>1055.3</td>\n",
       "      <td>4263.64</td>\n",
       "      <td>2.78</td>\n",
       "      <td>0.0956</td>\n",
       "      <td>80.79</td>\n",
       "      <td>2.51</td>\n",
       "      <td>1967.19</td>\n",
       "    </tr>\n",
       "    <tr>\n",
       "      <th>2014-01-03</th>\n",
       "      <td>1050.4</td>\n",
       "      <td>4209.03</td>\n",
       "      <td>2.78</td>\n",
       "      <td>0.0950</td>\n",
       "      <td>80.96</td>\n",
       "      <td>2.50</td>\n",
       "      <td>1946.14</td>\n",
       "    </tr>\n",
       "    <tr>\n",
       "      <th>2014-01-06</th>\n",
       "      <td>1054.1</td>\n",
       "      <td>4221.13</td>\n",
       "      <td>2.77</td>\n",
       "      <td>0.0945</td>\n",
       "      <td>80.81</td>\n",
       "      <td>2.48</td>\n",
       "      <td>1953.28</td>\n",
       "    </tr>\n",
       "    <tr>\n",
       "      <th>2014-01-07</th>\n",
       "      <td>1062.2</td>\n",
       "      <td>4233.05</td>\n",
       "      <td>2.75</td>\n",
       "      <td>0.0926</td>\n",
       "      <td>80.98</td>\n",
       "      <td>2.50</td>\n",
       "      <td>1959.44</td>\n",
       "    </tr>\n",
       "    <tr>\n",
       "      <th>2014-01-08</th>\n",
       "      <td>1067.9</td>\n",
       "      <td>4232.26</td>\n",
       "      <td>2.75</td>\n",
       "      <td>0.0925</td>\n",
       "      <td>81.16</td>\n",
       "      <td>2.49</td>\n",
       "      <td>1958.96</td>\n",
       "    </tr>\n",
       "  </tbody>\n",
       "</table>\n",
       "</div>"
      ],
      "text/plain": [
       "            ExchangeRate   KRX100  KORIBOR   LIBOR  DollarRate  CallRate  \\\n",
       "Date                                                                       \n",
       "2014-01-02        1055.3  4263.64     2.78  0.0956       80.79      2.51   \n",
       "2014-01-03        1050.4  4209.03     2.78  0.0950       80.96      2.50   \n",
       "2014-01-06        1054.1  4221.13     2.77  0.0945       80.81      2.48   \n",
       "2014-01-07        1062.2  4233.05     2.75  0.0926       80.98      2.50   \n",
       "2014-01-08        1067.9  4232.26     2.75  0.0925       81.16      2.49   \n",
       "\n",
       "              KOSPI  \n",
       "Date                 \n",
       "2014-01-02  1967.19  \n",
       "2014-01-03  1946.14  \n",
       "2014-01-06  1953.28  \n",
       "2014-01-07  1959.44  \n",
       "2014-01-08  1958.96  "
      ]
     },
     "execution_count": 17,
     "metadata": {},
     "output_type": "execute_result"
    }
   ],
   "source": [
    "#날짜가 인덱스인 경우도 생성 해놓자\n",
    "df_date = df_intp.set_index('Date')\n",
    "df_date.head()"
   ]
  },
  {
   "cell_type": "code",
   "execution_count": 14,
   "id": "likely-candidate",
   "metadata": {},
   "outputs": [
    {
     "data": {
      "text/plain": [
       "<AxesSubplot:xlabel='Date'>"
      ]
     },
     "execution_count": 14,
     "metadata": {},
     "output_type": "execute_result"
    },
    {
     "data": {
      "image/png": "[encoded data removed]",
      "text/plain": [
       "<Figure size 1440x720 with 1 Axes>"
      ]
     },
     "metadata": {
      "needs_background": "light"
     },
     "output_type": "display_data"
    }
   ],
   "source": [
    "#시각화 해보자\n",
    "df_intp.plot(x=\"Date\",figsize = (20,10))"
   ]
  },
  {
   "cell_type": "code",
   "execution_count": 19,
   "id": "assigned-translation",
   "metadata": {},
   "outputs": [
    {
     "data": {
      "image/png": "[encoded data removed]",
      "text/plain": [
       "<Figure size 576x432 with 1 Axes>"
      ]
     },
     "metadata": {
      "needs_background": "light"
     },
     "output_type": "display_data"
    },
    {
     "data": {
      "image/png": "[encoded data removed]",
      "text/plain": [
       "<Figure size 576x432 with 1 Axes>"
      ]
     },
     "metadata": {
      "needs_background": "light"
     },
     "output_type": "display_data"
    },
    {
     "data": {
      "image/png": "[encoded data removed]",
      "text/plain": [
       "<Figure size 576x432 with 1 Axes>"
      ]
     },
     "metadata": {
      "needs_background": "light"
     },
     "output_type": "display_data"
    },
    {
     "data": {
      "image/png": "[encoded data removed]",
      "text/plain": [
       "<Figure size 576x432 with 1 Axes>"
      ]
     },
     "metadata": {
      "needs_background": "light"
     },
     "output_type": "display_data"
    },
    {
     "data": {
      "image/png": "[encoded data removed]",
      "text/plain": [
       "<Figure size 576x432 with 1 Axes>"
      ]
     },
     "metadata": {
      "needs_background": "light"
     },
     "output_type": "display_data"
    },
    {
     "data": {
      "image/png": "[encoded data removed]",
      "text/plain": [
       "<Figure size 576x432 with 1 Axes>"
      ]
     },
     "metadata": {
      "needs_background": "light"
     },
     "output_type": "display_data"
    },
    {
     "data": {
      "image/png": "[encoded data removed]",
      "text/plain": [
       "<Figure size 576x432 with 1 Axes>"
      ]
     },
     "metadata": {
      "needs_background": "light"
     },
     "output_type": "display_data"
    }
   ],
   "source": [
    "#개별 시각화\n",
    "groups = [0,1,2,3,4,5,6]\n",
    "i = 1\n",
    "#그래프\n",
    "plt.figure()\n",
    "for group in groups:\n",
    "    plt.subplot(len(groups), 1, i)\n",
    "    plt.plot(df_date.values[:,group])\n",
    "    plt.title(df_date.columns[group], y= 0.5, loc= 'right')\n",
    "    i +=1\n",
    "    plt.show()"
   ]
  },
  {
   "cell_type": "code",
   "execution_count": null,
   "id": "emerging-option",
   "metadata": {},
   "outputs": [],
   "source": [
    "## 시계열 변환\n"
   ]
  },
  {
   "cell_type": "markdown",
   "id": "prepared-helicopter",
   "metadata": {},
   "source": [
    "## 표준화 과정\n",
    "- min_max 표준화로 해보자\n",
    "- 가우시안 분포에 해당하지 않는것같기 때문"
   ]
  },
  {
   "cell_type": "code",
   "execution_count": 65,
   "id": "saved-education",
   "metadata": {},
   "outputs": [
    {
     "data": {
      "text/html": [
       "<div>\n",
       "<style scoped>\n",
       "    .dataframe tbody tr th:only-of-type {\n",
       "        vertical-align: middle;\n",
       "    }\n",
       "\n",
       "    .dataframe tbody tr th {\n",
       "        vertical-align: top;\n",
       "    }\n",
       "\n",
       "    .dataframe thead th {\n",
       "        text-align: right;\n",
       "    }\n",
       "</style>\n",
       "<table border=\"1\" class=\"dataframe\">\n",
       "  <thead>\n",
       "    <tr style=\"text-align: right;\">\n",
       "      <th></th>\n",
       "      <th>ExchangeRate</th>\n",
       "      <th>KRX100</th>\n",
       "      <th>KORIBOR</th>\n",
       "      <th>LIBOR</th>\n",
       "      <th>DollarRate</th>\n",
       "      <th>CallRate</th>\n",
       "      <th>KOSPI</th>\n",
       "    </tr>\n",
       "    <tr>\n",
       "      <th>Date</th>\n",
       "      <th></th>\n",
       "      <th></th>\n",
       "      <th></th>\n",
       "      <th></th>\n",
       "      <th></th>\n",
       "      <th></th>\n",
       "      <th></th>\n",
       "    </tr>\n",
       "  </thead>\n",
       "  <tbody>\n",
       "    <tr>\n",
       "      <th>2014-01-02</th>\n",
       "      <td>-0.657817</td>\n",
       "      <td>-0.444864</td>\n",
       "      <td>1.000000</td>\n",
       "      <td>-0.961862</td>\n",
       "      <td>-0.871102</td>\n",
       "      <td>0.990431</td>\n",
       "      <td>-0.418106</td>\n",
       "    </tr>\n",
       "    <tr>\n",
       "      <th>2014-01-03</th>\n",
       "      <td>-0.693953</td>\n",
       "      <td>-0.474051</td>\n",
       "      <td>1.000000</td>\n",
       "      <td>-0.962372</td>\n",
       "      <td>-0.856965</td>\n",
       "      <td>0.980861</td>\n",
       "      <td>-0.442145</td>\n",
       "    </tr>\n",
       "    <tr>\n",
       "      <th>2014-01-06</th>\n",
       "      <td>-0.666667</td>\n",
       "      <td>-0.467584</td>\n",
       "      <td>0.990050</td>\n",
       "      <td>-0.962798</td>\n",
       "      <td>-0.869439</td>\n",
       "      <td>0.961722</td>\n",
       "      <td>-0.433991</td>\n",
       "    </tr>\n",
       "    <tr>\n",
       "      <th>2014-01-07</th>\n",
       "      <td>-0.606932</td>\n",
       "      <td>-0.461213</td>\n",
       "      <td>0.970149</td>\n",
       "      <td>-0.964413</td>\n",
       "      <td>-0.855301</td>\n",
       "      <td>0.980861</td>\n",
       "      <td>-0.426956</td>\n",
       "    </tr>\n",
       "    <tr>\n",
       "      <th>2014-01-08</th>\n",
       "      <td>-0.564897</td>\n",
       "      <td>-0.461635</td>\n",
       "      <td>0.970149</td>\n",
       "      <td>-0.964498</td>\n",
       "      <td>-0.840333</td>\n",
       "      <td>0.971292</td>\n",
       "      <td>-0.427504</td>\n",
       "    </tr>\n",
       "    <tr>\n",
       "      <th>...</th>\n",
       "      <td>...</td>\n",
       "      <td>...</td>\n",
       "      <td>...</td>\n",
       "      <td>...</td>\n",
       "      <td>...</td>\n",
       "      <td>...</td>\n",
       "      <td>...</td>\n",
       "    </tr>\n",
       "    <tr>\n",
       "      <th>2021-02-17</th>\n",
       "      <td>-0.330383</td>\n",
       "      <td>0.891532</td>\n",
       "      <td>-0.900498</td>\n",
       "      <td>-0.973852</td>\n",
       "      <td>-0.026195</td>\n",
       "      <td>-0.961722</td>\n",
       "      <td>0.914055</td>\n",
       "    </tr>\n",
       "    <tr>\n",
       "      <th>2021-02-18</th>\n",
       "      <td>-0.271386</td>\n",
       "      <td>0.832020</td>\n",
       "      <td>-0.900498</td>\n",
       "      <td>-0.973852</td>\n",
       "      <td>-0.056133</td>\n",
       "      <td>-0.942584</td>\n",
       "      <td>0.860302</td>\n",
       "    </tr>\n",
       "    <tr>\n",
       "      <th>2021-02-19</th>\n",
       "      <td>-0.286136</td>\n",
       "      <td>0.863852</td>\n",
       "      <td>-0.910448</td>\n",
       "      <td>-0.973852</td>\n",
       "      <td>-0.075260</td>\n",
       "      <td>-0.923445</td>\n",
       "      <td>0.884238</td>\n",
       "    </tr>\n",
       "    <tr>\n",
       "      <th>2021-02-22</th>\n",
       "      <td>-0.275811</td>\n",
       "      <td>0.823020</td>\n",
       "      <td>-0.910448</td>\n",
       "      <td>-0.973852</td>\n",
       "      <td>-0.104366</td>\n",
       "      <td>-0.933014</td>\n",
       "      <td>0.852411</td>\n",
       "    </tr>\n",
       "    <tr>\n",
       "      <th>2021-02-23</th>\n",
       "      <td>-0.280236</td>\n",
       "      <td>0.807691</td>\n",
       "      <td>-0.910448</td>\n",
       "      <td>-0.973852</td>\n",
       "      <td>-0.091060</td>\n",
       "      <td>-0.942584</td>\n",
       "      <td>0.841380</td>\n",
       "    </tr>\n",
       "  </tbody>\n",
       "</table>\n",
       "<p>1762 rows × 7 columns</p>\n",
       "</div>"
      ],
      "text/plain": [
       "            ExchangeRate    KRX100   KORIBOR     LIBOR  DollarRate  CallRate  \\\n",
       "Date                                                                           \n",
       "2014-01-02     -0.657817 -0.444864  1.000000 -0.961862   -0.871102  0.990431   \n",
       "2014-01-03     -0.693953 -0.474051  1.000000 -0.962372   -0.856965  0.980861   \n",
       "2014-01-06     -0.666667 -0.467584  0.990050 -0.962798   -0.869439  0.961722   \n",
       "2014-01-07     -0.606932 -0.461213  0.970149 -0.964413   -0.855301  0.980861   \n",
       "2014-01-08     -0.564897 -0.461635  0.970149 -0.964498   -0.840333  0.971292   \n",
       "...                  ...       ...       ...       ...         ...       ...   \n",
       "2021-02-17     -0.330383  0.891532 -0.900498 -0.973852   -0.026195 -0.961722   \n",
       "2021-02-18     -0.271386  0.832020 -0.900498 -0.973852   -0.056133 -0.942584   \n",
       "2021-02-19     -0.286136  0.863852 -0.910448 -0.973852   -0.075260 -0.923445   \n",
       "2021-02-22     -0.275811  0.823020 -0.910448 -0.973852   -0.104366 -0.933014   \n",
       "2021-02-23     -0.280236  0.807691 -0.910448 -0.973852   -0.091060 -0.942584   \n",
       "\n",
       "               KOSPI  \n",
       "Date                  \n",
       "2014-01-02 -0.418106  \n",
       "2014-01-03 -0.442145  \n",
       "2014-01-06 -0.433991  \n",
       "2014-01-07 -0.426956  \n",
       "2014-01-08 -0.427504  \n",
       "...              ...  \n",
       "2021-02-17  0.914055  \n",
       "2021-02-18  0.860302  \n",
       "2021-02-19  0.884238  \n",
       "2021-02-22  0.852411  \n",
       "2021-02-23  0.841380  \n",
       "\n",
       "[1762 rows x 7 columns]"
      ]
     },
     "execution_count": 65,
     "metadata": {},
     "output_type": "execute_result"
    }
   ],
   "source": [
    "from sklearn.preprocessing import MinMaxScaler\n",
    "\n",
    "#scaler 객체 생성\n",
    "scaler = MinMaxScaler(feature_range = (-1,1))\n",
    "\n",
    "#데이터셋 변환\n",
    "scaler.fit(df_date)\n",
    "date_scaler = scaler.transform(df_date)\n",
    "\n",
    "#transform 변환을 하면 배열 형식으로 바뀌는데 그걸 다시 데이터 프레임 형식으로 넘기자\n",
    "df_scaler = pd.DataFrame(date_scaler, columns = df_date.columns, index = df_date.index)\n",
    "df_scaler"
   ]
  },
  {
   "cell_type": "markdown",
   "id": "moving-bracelet",
   "metadata": {},
   "source": [
    "## 훈련 셋 분류\n",
    "- 먼저 훈련, 테스트셋 분류 (8:2)\n",
    "- 훈련셋을 검증과 훈련셋으로 다시 분류 (1:9)"
   ]
  },
  {
   "cell_type": "code",
   "execution_count": 58,
   "id": "controlled-aggregate",
   "metadata": {},
   "outputs": [
    {
     "data": {
      "text/html": [
       "<div>\n",
       "<style scoped>\n",
       "    .dataframe tbody tr th:only-of-type {\n",
       "        vertical-align: middle;\n",
       "    }\n",
       "\n",
       "    .dataframe tbody tr th {\n",
       "        vertical-align: top;\n",
       "    }\n",
       "\n",
       "    .dataframe thead th {\n",
       "        text-align: right;\n",
       "    }\n",
       "</style>\n",
       "<table border=\"1\" class=\"dataframe\">\n",
       "  <thead>\n",
       "    <tr style=\"text-align: right;\">\n",
       "      <th></th>\n",
       "      <th>KRX100</th>\n",
       "      <th>KORIBOR</th>\n",
       "      <th>LIBOR</th>\n",
       "      <th>DollarRate</th>\n",
       "      <th>CallRate</th>\n",
       "      <th>KOSPI</th>\n",
       "    </tr>\n",
       "    <tr>\n",
       "      <th>Date</th>\n",
       "      <th></th>\n",
       "      <th></th>\n",
       "      <th></th>\n",
       "      <th></th>\n",
       "      <th></th>\n",
       "      <th></th>\n",
       "    </tr>\n",
       "  </thead>\n",
       "  <tbody>\n",
       "    <tr>\n",
       "      <th>2019-09-23</th>\n",
       "      <td>0.333360</td>\n",
       "      <td>0.373134</td>\n",
       "      <td>0.763924</td>\n",
       "      <td>0.804990</td>\n",
       "      <td>0.516746</td>\n",
       "      <td>0.362041</td>\n",
       "    </tr>\n",
       "    <tr>\n",
       "      <th>2019-09-24</th>\n",
       "      <td>0.339562</td>\n",
       "      <td>0.373134</td>\n",
       "      <td>0.761586</td>\n",
       "      <td>0.794179</td>\n",
       "      <td>0.516746</td>\n",
       "      <td>0.367374</td>\n",
       "    </tr>\n",
       "    <tr>\n",
       "      <th>2019-09-25</th>\n",
       "      <td>0.325081</td>\n",
       "      <td>0.373134</td>\n",
       "      <td>0.761054</td>\n",
       "      <td>0.823285</td>\n",
       "      <td>0.526316</td>\n",
       "      <td>0.351586</td>\n",
       "    </tr>\n",
       "    <tr>\n",
       "      <th>2019-09-26</th>\n",
       "      <td>0.326904</td>\n",
       "      <td>0.378109</td>\n",
       "      <td>0.756433</td>\n",
       "      <td>0.827027</td>\n",
       "      <td>0.526316</td>\n",
       "      <td>0.352231</td>\n",
       "    </tr>\n",
       "    <tr>\n",
       "      <th>2019-09-27</th>\n",
       "      <td>0.311902</td>\n",
       "      <td>0.378109</td>\n",
       "      <td>0.755264</td>\n",
       "      <td>0.826195</td>\n",
       "      <td>0.531100</td>\n",
       "      <td>0.338191</td>\n",
       "    </tr>\n",
       "  </tbody>\n",
       "</table>\n",
       "</div>"
      ],
      "text/plain": [
       "              KRX100   KORIBOR     LIBOR  DollarRate  CallRate     KOSPI\n",
       "Date                                                                    \n",
       "2019-09-23  0.333360  0.373134  0.763924    0.804990  0.516746  0.362041\n",
       "2019-09-24  0.339562  0.373134  0.761586    0.794179  0.516746  0.367374\n",
       "2019-09-25  0.325081  0.373134  0.761054    0.823285  0.526316  0.351586\n",
       "2019-09-26  0.326904  0.378109  0.756433    0.827027  0.526316  0.352231\n",
       "2019-09-27  0.311902  0.378109  0.755264    0.826195  0.531100  0.338191"
      ]
     },
     "execution_count": 58,
     "metadata": {},
     "output_type": "execute_result"
    }
   ],
   "source": [
    "train_size = int(0.8 * len(df_scaler))\n",
    "train = df_scaler.iloc[:train_size, :]\n",
    "\n",
    "x_train, y_train = pd.DataFrame(df_scaler.iloc[:train_size, [1,2,3,4,5,6]]),pd.DataFrame(df_scaler.iloc[:train_size, 0])\n",
    "x_test, y_test = pd.DataFrame(df_scaler.iloc[train_size:, [1,2,3,4,5,6]]), pd.DataFrame(df_scaler.iloc[train_size:, 0])\n",
    "\n",
    "x_test.head()"
   ]
  },
  {
   "cell_type": "code",
   "execution_count": 59,
   "id": "streaming-flesh",
   "metadata": {},
   "outputs": [
    {
     "data": {
      "text/plain": [
       "array([<AxesSubplot:xlabel='Date'>, <AxesSubplot:xlabel='Date'>,\n",
       "       <AxesSubplot:xlabel='Date'>, <AxesSubplot:xlabel='Date'>,\n",
       "       <AxesSubplot:xlabel='Date'>, <AxesSubplot:xlabel='Date'>],\n",
       "      dtype=object)"
      ]
     },
     "execution_count": 59,
     "metadata": {},
     "output_type": "execute_result"
    },
    {
     "data": {
      "image/png": "[encoded data removed]",
      "text/plain": [
       "<Figure size 576x432 with 6 Axes>"
      ]
     },
     "metadata": {
      "needs_background": "light"
     },
     "output_type": "display_data"
    }
   ],
   "source": [
    "x_train.plot(subplots = True)"
   ]
  },
  {
   "cell_type": "code",
   "execution_count": 60,
   "id": "comprehensive-disposition",
   "metadata": {},
   "outputs": [
    {
     "data": {
      "text/html": [
       "<div>\n",
       "<style scoped>\n",
       "    .dataframe tbody tr th:only-of-type {\n",
       "        vertical-align: middle;\n",
       "    }\n",
       "\n",
       "    .dataframe tbody tr th {\n",
       "        vertical-align: top;\n",
       "    }\n",
       "\n",
       "    .dataframe thead th {\n",
       "        text-align: right;\n",
       "    }\n",
       "</style>\n",
       "<table border=\"1\" class=\"dataframe\">\n",
       "  <thead>\n",
       "    <tr style=\"text-align: right;\">\n",
       "      <th></th>\n",
       "      <th>ExchangeRate</th>\n",
       "    </tr>\n",
       "    <tr>\n",
       "      <th>Date</th>\n",
       "      <th></th>\n",
       "    </tr>\n",
       "  </thead>\n",
       "  <tbody>\n",
       "    <tr>\n",
       "      <th>2019-09-16</th>\n",
       "      <td>0.672935</td>\n",
       "    </tr>\n",
       "    <tr>\n",
       "      <th>2019-09-17</th>\n",
       "      <td>0.645649</td>\n",
       "    </tr>\n",
       "    <tr>\n",
       "      <th>2019-09-18</th>\n",
       "      <td>0.661504</td>\n",
       "    </tr>\n",
       "    <tr>\n",
       "      <th>2019-09-19</th>\n",
       "      <td>0.669617</td>\n",
       "    </tr>\n",
       "    <tr>\n",
       "      <th>2019-09-20</th>\n",
       "      <td>0.686578</td>\n",
       "    </tr>\n",
       "  </tbody>\n",
       "</table>\n",
       "</div>"
      ],
      "text/plain": [
       "            ExchangeRate\n",
       "Date                    \n",
       "2019-09-16      0.672935\n",
       "2019-09-17      0.645649\n",
       "2019-09-18      0.661504\n",
       "2019-09-19      0.669617\n",
       "2019-09-20      0.686578"
      ]
     },
     "execution_count": 60,
     "metadata": {},
     "output_type": "execute_result"
    }
   ],
   "source": [
    "#훈련데이터를 valid와 훈련데이터로 다시 나누자\n",
    "train_valid_size = int(0.9 * len(x_train))\n",
    "train = x_train.iloc[:train_valid_size, :]\n",
    "\n",
    "x_train_f, y_train_f = pd.DataFrame(x_train.iloc[:train_size, [0,1,2,3,4,5]]),pd.DataFrame(y_train.iloc[:train_size, 0])\n",
    "x_valid, y_valid = pd.DataFrame(x_train.iloc[train_size:, [0,1,2,3,4,5]]), pd.DataFrame(y_train.iloc[train_size:, 0])\n",
    "y_train_f.tail()"
   ]
  },
  {
   "cell_type": "code",
   "execution_count": null,
   "id": "personal-california",
   "metadata": {},
   "outputs": [],
   "source": [
    " def multivariate_data(dataset, target, start_index, end_index, \n",
    "                       history_size, target_size, step, single_step=False):\n",
    "        data  =[]\n",
    "        labels = []\n",
    "        \n",
    "        start_index"
   ]
  },
  {
   "cell_type": "code",
   "execution_count": null,
   "id": "amazing-calgary",
   "metadata": {},
   "outputs": [],
   "source": []
  },
  {
   "cell_type": "code",
   "execution_count": null,
   "id": "loose-costume",
   "metadata": {},
   "outputs": [],
   "source": []
  },
  {
   "cell_type": "code",
   "execution_count": null,
   "id": "basic-masters",
   "metadata": {},
   "outputs": [],
   "source": []
  },
  {
   "cell_type": "code",
   "execution_count": null,
   "id": "noble-posting",
   "metadata": {},
   "outputs": [],
   "source": []
  },
  {
   "cell_type": "code",
   "execution_count": null,
   "id": "civilian-booking",
   "metadata": {},
   "outputs": [],
   "source": []
  },
  {
   "cell_type": "code",
   "execution_count": null,
   "id": "painful-albert",
   "metadata": {},
   "outputs": [],
   "source": []
  },
  {
   "cell_type": "code",
   "execution_count": null,
   "id": "rational-globe",
   "metadata": {},
   "outputs": [],
   "source": []
  },
  {
   "cell_type": "code",
   "execution_count": null,
   "id": "aerial-better",
   "metadata": {},
   "outputs": [],
   "source": []
  },
  {
   "cell_type": "code",
   "execution_count": null,
   "id": "senior-reggae",
   "metadata": {},
   "outputs": [],
   "source": []
  },
  {
   "cell_type": "code",
   "execution_count": null,
   "id": "connected-champion",
   "metadata": {},
   "outputs": [],
   "source": []
  },
  {
   "cell_type": "code",
   "execution_count": null,
   "id": "adjustable-indonesia",
   "metadata": {},
   "outputs": [],
   "source": []
  },
  {
   "cell_type": "code",
   "execution_count": null,
   "id": "latin-cooking",
   "metadata": {},
   "outputs": [],
   "source": []
  },
  {
   "cell_type": "code",
   "execution_count": null,
   "id": "collectible-object",
   "metadata": {},
   "outputs": [],
   "source": []
  },
  {
   "cell_type": "code",
   "execution_count": null,
   "id": "precise-microphone",
   "metadata": {},
   "outputs": [],
   "source": []
  },
  {
   "cell_type": "code",
   "execution_count": null,
   "id": "talented-tunnel",
   "metadata": {},
   "outputs": [],
   "source": []
  },
  {
   "cell_type": "code",
   "execution_count": null,
   "id": "plain-decrease",
   "metadata": {},
   "outputs": [],
   "source": []
  },
  {
   "cell_type": "code",
   "execution_count": null,
   "id": "rocky-voice",
   "metadata": {},
   "outputs": [],
   "source": []
  }
 ],
 "metadata": {
  "kernelspec": {
   "display_name": "Python 3",
   "language": "python",
   "name": "python3"
  },
  "language_info": {
   "codemirror_mode": {
    "name": "ipython",
    "version": 3
   },
   "file_extension": ".py",
   "mimetype": "text/x-python",
   "name": "python",
   "nbconvert_exporter": "python",
   "pygments_lexer": "ipython3",
   "version": "3.7.3"
  }
 },
 "nbformat": 4,
 "nbformat_minor": 5
}
