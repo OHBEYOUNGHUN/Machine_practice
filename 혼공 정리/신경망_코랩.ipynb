{
  "nbformat": 4,
  "nbformat_minor": 0,
  "metadata": {
    "colab": {
      "name": "신경망.ipynb",
      "provenance": [],
      "collapsed_sections": []
    },
    "kernelspec": {
      "name": "python3",
      "display_name": "Python 3"
    }
  },
  "cells": [
    {
      "cell_type": "code",
      "metadata": {
        "colab": {
          "base_uri": "https://localhost:8080/"
        },
        "id": "yahZiVbOZVjP",
        "outputId": "59b4755a-c2f1-4f6f-8e52-4c0f21e87ef0"
      },
      "source": [
        "#데이터 준비\r\n",
        "from tensorflow import keras\r\n",
        "(train_input, train_target), (test_input, test_target) =\\\r\n",
        "    keras.datasets.fashion_mnist.load_data()\r\n",
        "#2차원 배열을 1차원 배열로 펼치는 과정                     1\r\n",
        "import numpy as np\r\n",
        "from sklearn.model_selection import train_test_split\r\n",
        "train_scaled = train_input /255.0\r\n",
        "train_scaled = train_scaled.reshape(-1, 28*28)\r\n",
        "\r\n",
        "train_scaled, val_scaled, train_target, val_target = train_test_split(\r\n",
        "    train_scaled, train_target, test_size = 0.2, random_state= 42)\r\n"
      ],
      "execution_count": null,
      "outputs": [
        {
          "output_type": "stream",
          "text": [
            "Downloading data from https://storage.googleapis.com/tensorflow/tf-keras-datasets/train-labels-idx1-ubyte.gz\n",
            "32768/29515 [=================================] - 0s 0us/step\n",
            "Downloading data from https://storage.googleapis.com/tensorflow/tf-keras-datasets/train-images-idx3-ubyte.gz\n",
            "26427392/26421880 [==============================] - 0s 0us/step\n",
            "Downloading data from https://storage.googleapis.com/tensorflow/tf-keras-datasets/t10k-labels-idx1-ubyte.gz\n",
            "8192/5148 [===============================================] - 0s 0us/step\n",
            "Downloading data from https://storage.googleapis.com/tensorflow/tf-keras-datasets/t10k-images-idx3-ubyte.gz\n",
            "4423680/4422102 [==============================] - 0s 0us/step\n"
          ],
          "name": "stdout"
        }
      ]
    },
    {
      "cell_type": "code",
      "metadata": {
        "id": "TE2qH4iFZYKC"
      },
      "source": [
        "# 시그모이드 층 만들어 보자\r\n",
        "# 첫번째가 은닉 층\r\n",
        "#은닉층에 입력의 크기(100)는 기준이 없다. 자유\r\n",
        "#출력층보다는 많게 만들어야함 \r\n",
        "dense1 = keras.layers.Dense(100,  activation = 'sigmoid', input_shape=(784,))\r\n",
        "dense2 = keras.layers.Dense(10,  activation = 'softmax')"
      ],
      "execution_count": null,
      "outputs": []
    },
    {
      "cell_type": "code",
      "metadata": {
        "id": "pruSFw31ZbLj"
      },
      "source": [
        "#심층 신경망 만들기\r\n",
        "model = keras.Sequential([dense1, dense2])"
      ],
      "execution_count": null,
      "outputs": []
    },
    {
      "cell_type": "code",
      "metadata": {
        "colab": {
          "base_uri": "https://localhost:8080/"
        },
        "id": "CY1C6_kLZdn8",
        "outputId": "4c5938e4-115c-4628-eb0c-45d4f2023e8f"
      },
      "source": [
        "#모델 훈련하자\r\n",
        "model.compile(loss = 'sparse_categorical_crossentropy', metrics = 'accuracy')\r\n",
        "model.fit(train_scaled, train_target, epochs = 5)"
      ],
      "execution_count": null,
      "outputs": [
        {
          "output_type": "stream",
          "text": [
            "Epoch 1/5\n",
            "1500/1500 [==============================] - 4s 2ms/step - loss: 0.7579 - accuracy: 0.7584\n",
            "Epoch 2/5\n",
            "1500/1500 [==============================] - 3s 2ms/step - loss: 0.4191 - accuracy: 0.8502\n",
            "Epoch 3/5\n",
            "1500/1500 [==============================] - 3s 2ms/step - loss: 0.3763 - accuracy: 0.8646\n",
            "Epoch 4/5\n",
            "1500/1500 [==============================] - 3s 2ms/step - loss: 0.3533 - accuracy: 0.8712\n",
            "Epoch 5/5\n",
            "1500/1500 [==============================] - 3s 2ms/step - loss: 0.3353 - accuracy: 0.8789\n"
          ],
          "name": "stdout"
        },
        {
          "output_type": "execute_result",
          "data": {
            "text/plain": [
              "<tensorflow.python.keras.callbacks.History at 0x7f97d8572128>"
            ]
          },
          "metadata": {
            "tags": []
          },
          "execution_count": 4
        }
      ]
    },
    {
      "cell_type": "code",
      "metadata": {
        "colab": {
          "base_uri": "https://localhost:8080/"
        },
        "id": "6VkH5y0cZgxS",
        "outputId": "72e5053f-1350-40f8-8ef7-fae861f0231b"
      },
      "source": [
        "#손실함수 그래프\r\n",
        "\r\n",
        "#데이터 준비\r\n",
        "from tensorflow import keras\r\n",
        "(train_input, train_target), (test_input, test_target) =\\\r\n",
        "    keras.datasets.fashion_mnist.load_data()\r\n",
        "#2차원 배열을 1차원 배열로 펼치는 과정                     1\r\n",
        "import numpy as np\r\n",
        "from sklearn.model_selection import train_test_split\r\n",
        "train_scaled = train_input /255.0\r\n",
        "train_scaled = train_scaled.reshape(-1, 28*28)\r\n",
        "\r\n",
        "train_scaled, val_scaled, train_target, val_target = train_test_split(\r\n",
        "    train_scaled, train_target, test_size = 0.2, random_state= 42)\r\n"
      ],
      "execution_count": null,
      "outputs": [
        {
          "output_type": "stream",
          "text": [
            "Downloading data from https://storage.googleapis.com/tensorflow/tf-keras-datasets/train-labels-idx1-ubyte.gz\n",
            "32768/29515 [=================================] - 0s 0us/step\n",
            "Downloading data from https://storage.googleapis.com/tensorflow/tf-keras-datasets/train-images-idx3-ubyte.gz\n",
            "26427392/26421880 [==============================] - 0s 0us/step\n",
            "Downloading data from https://storage.googleapis.com/tensorflow/tf-keras-datasets/t10k-labels-idx1-ubyte.gz\n",
            "8192/5148 [===============================================] - 0s 0us/step\n",
            "Downloading data from https://storage.googleapis.com/tensorflow/tf-keras-datasets/t10k-images-idx3-ubyte.gz\n",
            "4423680/4422102 [==============================] - 0s 0us/step\n"
          ],
          "name": "stdout"
        }
      ]
    },
    {
      "cell_type": "code",
      "metadata": {
        "id": "Pg530bvtc_wC"
      },
      "source": [
        "#모델 만들자 \r\n",
        "def model_fn(a_layer =None):\r\n",
        "    model=keras.Sequential()\r\n",
        "    model.add(keras.layers.Flatten(input_shape=(28,28)))\r\n",
        "    model.add(keras.layers.Dense(100, activation = 'relu'))\r\n",
        "    if a_layer:\r\n",
        "        model.add(a_layer) #함수에 케라스 층을 추가하면 또 하나의 층을 추가하는 것\r\n",
        "    model.add(keras.layers.Dense(10, activation = 'softmax'))\r\n",
        "    return model"
      ],
      "execution_count": null,
      "outputs": []
    },
    {
      "cell_type": "code",
      "metadata": {
        "colab": {
          "base_uri": "https://localhost:8080/"
        },
        "id": "eNzt6Wg-dGX6",
        "outputId": "c0bdd9af-9f7b-4b98-e885-d9184079f7da"
      },
      "source": [
        "model = model_fn()\r\n",
        "model.summary()"
      ],
      "execution_count": null,
      "outputs": [
        {
          "output_type": "stream",
          "text": [
            "Model: \"sequential\"\n",
            "_________________________________________________________________\n",
            "Layer (type)                 Output Shape              Param #   \n",
            "=================================================================\n",
            "flatten (Flatten)            (None, 784)               0         \n",
            "_________________________________________________________________\n",
            "dense (Dense)                (None, 100)               78500     \n",
            "_________________________________________________________________\n",
            "dense_1 (Dense)              (None, 10)                1010      \n",
            "=================================================================\n",
            "Total params: 79,510\n",
            "Trainable params: 79,510\n",
            "Non-trainable params: 0\n",
            "_________________________________________________________________\n"
          ],
          "name": "stdout"
        }
      ]
    },
    {
      "cell_type": "code",
      "metadata": {
        "colab": {
          "base_uri": "https://localhost:8080/"
        },
        "id": "Sa7xpGo8dIga",
        "outputId": "09ed9e1c-2a0f-4246-ffe4-a9a62e9bc5e8"
      },
      "source": [
        "#fit 결과를 history 변수에 담아보자\r\n",
        "model.compile(loss = 'sparse_categorical_crossentropy', metrics='accuracy')\r\n",
        "history = model.fit(train_scaled, train_target, epochs =5, verbose=0)"
      ],
      "execution_count": null,
      "outputs": [
        {
          "output_type": "stream",
          "text": [
            "WARNING:tensorflow:Model was constructed with shape (None, 28, 28) for input KerasTensor(type_spec=TensorSpec(shape=(None, 28, 28), dtype=tf.float32, name='flatten_input'), name='flatten_input', description=\"created by layer 'flatten_input'\"), but it was called on an input with incompatible shape (32, 784).\n",
            "WARNING:tensorflow:Model was constructed with shape (None, 28, 28) for input KerasTensor(type_spec=TensorSpec(shape=(None, 28, 28), dtype=tf.float32, name='flatten_input'), name='flatten_input', description=\"created by layer 'flatten_input'\"), but it was called on an input with incompatible shape (32, 784).\n"
          ],
          "name": "stdout"
        }
      ]
    },
    {
      "cell_type": "code",
      "metadata": {
        "colab": {
          "base_uri": "https://localhost:8080/"
        },
        "id": "ve_-eCXvdKjM",
        "outputId": "11f23e40-96c1-40f0-d6e4-f85eb2fc5297"
      },
      "source": [
        "print(history.history.keys())"
      ],
      "execution_count": null,
      "outputs": [
        {
          "output_type": "stream",
          "text": [
            "dict_keys(['loss', 'accuracy'])\n"
          ],
          "name": "stdout"
        }
      ]
    },
    {
      "cell_type": "code",
      "metadata": {
        "colab": {
          "base_uri": "https://localhost:8080/",
          "height": 279
        },
        "id": "WyXJYFUtdwUx",
        "outputId": "73a5e916-12b7-43ea-ea5d-736119d94c16"
      },
      "source": [
        "import matplotlib.pyplot as plt\r\n",
        "plt.plot(history.history['loss'])\r\n",
        "plt.xlabel('epoch')\r\n",
        "plt.ylabel('loss')\r\n",
        "plt.show()"
      ],
      "execution_count": null,
      "outputs": [
        {
          "output_type": "display_data",
          "data": {
            "image/png": "[encoded data removed]",
            "text/plain": [
              "<Figure size 432x288 with 1 Axes>"
            ]
          },
          "metadata": {
            "tags": [],
            "needs_background": "light"
          }
        }
      ]
    },
    {
      "cell_type": "code",
      "metadata": {
        "colab": {
          "base_uri": "https://localhost:8080/",
          "height": 279
        },
        "id": "AplVdPSOdSXu",
        "outputId": "89320cb2-a3a0-4c9c-f242-b45a54695fc4"
      },
      "source": [
        "import matplotlib.pyplot as plt\r\n",
        "plt.plot(history.history['accuracy'])\r\n",
        "plt.xlabel('epoch')\r\n",
        "plt.ylabel('accuracy')\r\n",
        "plt.show()"
      ],
      "execution_count": null,
      "outputs": [
        {
          "output_type": "display_data",
          "data": {
            "image/png": "[encoded data removed]",
            "text/plain": [
              "<Figure size 432x288 with 1 Axes>"
            ]
          },
          "metadata": {
            "tags": [],
            "needs_background": "light"
          }
        }
      ]
    },
    {
      "cell_type": "code",
      "metadata": {
        "colab": {
          "base_uri": "https://localhost:8080/",
          "height": 334
        },
        "id": "Ay9L-5Mzed4I",
        "outputId": "d227f8a7-eef1-4420-9533-d2eb380ae6ed"
      },
      "source": [
        "model = model_fn()\r\n",
        "model.compile(loss = 'sparse_categorical_crossentropy', metrics='accuracy')\r\n",
        "history = model.fit(train_scaled, train_target, epochs =20, verbose=0)\r\n",
        "plt.plot(history.history['loss'])\r\n",
        "plt.xlabel('epoch')\r\n",
        "plt.ylabel('loss')\r\n",
        "plt.show()"
      ],
      "execution_count": null,
      "outputs": [
        {
          "output_type": "stream",
          "text": [
            "WARNING:tensorflow:Model was constructed with shape (None, 28, 28) for input KerasTensor(type_spec=TensorSpec(shape=(None, 28, 28), dtype=tf.float32, name='flatten_1_input'), name='flatten_1_input', description=\"created by layer 'flatten_1_input'\"), but it was called on an input with incompatible shape (32, 784).\n",
            "WARNING:tensorflow:Model was constructed with shape (None, 28, 28) for input KerasTensor(type_spec=TensorSpec(shape=(None, 28, 28), dtype=tf.float32, name='flatten_1_input'), name='flatten_1_input', description=\"created by layer 'flatten_1_input'\"), but it was called on an input with incompatible shape (32, 784).\n"
          ],
          "name": "stdout"
        },
        {
          "output_type": "display_data",
          "data": {
            "image/png": "[encoded data removed]",
            "text/plain": [
              "<Figure size 432x288 with 1 Axes>"
            ]
          },
          "metadata": {
            "tags": [],
            "needs_background": "light"
          }
        }
      ]
    },
    {
      "cell_type": "code",
      "metadata": {
        "id": "BxswC0Tve_J_"
      },
      "source": [
        "# 검증 손실/"
      ],
      "execution_count": null,
      "outputs": []
    },
    {
      "cell_type": "code",
      "metadata": {
        "colab": {
          "base_uri": "https://localhost:8080/"
        },
        "id": "n_OReah-mqdS",
        "outputId": "e18c2974-3c6c-4be5-a89c-ecf2c05c9645"
      },
      "source": [
        "model = model_fn()\r\n",
        "model.compile(loss='sparse_categorical_crossentropy', metrics='accuracy')\r\n",
        "history = model.fit(train_scaled, train_target, epochs = 20, verbose =0,validation_data=(val_scaled, val_target))"
      ],
      "execution_count": null,
      "outputs": [
        {
          "output_type": "stream",
          "text": [
            "WARNING:tensorflow:Model was constructed with shape (None, 28, 28) for input KerasTensor(type_spec=TensorSpec(shape=(None, 28, 28), dtype=tf.float32, name='flatten_6_input'), name='flatten_6_input', description=\"created by layer 'flatten_6_input'\"), but it was called on an input with incompatible shape (32, 784).\n",
            "WARNING:tensorflow:Model was constructed with shape (None, 28, 28) for input KerasTensor(type_spec=TensorSpec(shape=(None, 28, 28), dtype=tf.float32, name='flatten_6_input'), name='flatten_6_input', description=\"created by layer 'flatten_6_input'\"), but it was called on an input with incompatible shape (32, 784).\n",
            "WARNING:tensorflow:Model was constructed with shape (None, 28, 28) for input KerasTensor(type_spec=TensorSpec(shape=(None, 28, 28), dtype=tf.float32, name='flatten_6_input'), name='flatten_6_input', description=\"created by layer 'flatten_6_input'\"), but it was called on an input with incompatible shape (32, 784).\n"
          ],
          "name": "stdout"
        }
      ]
    },
    {
      "cell_type": "code",
      "metadata": {
        "colab": {
          "base_uri": "https://localhost:8080/"
        },
        "id": "NIJCYkzvmrMy",
        "outputId": "d7762ed4-c992-432c-f55e-22ff3632aa52"
      },
      "source": [
        "print(history.history.keys())"
      ],
      "execution_count": null,
      "outputs": [
        {
          "output_type": "stream",
          "text": [
            "dict_keys(['loss', 'accuracy', 'val_loss', 'val_accuracy'])\n"
          ],
          "name": "stdout"
        }
      ]
    },
    {
      "cell_type": "code",
      "metadata": {
        "colab": {
          "base_uri": "https://localhost:8080/",
          "height": 279
        },
        "id": "_82a2Zm7mrjv",
        "outputId": "7c5dcbd8-96a4-4bd6-d7e6-5b2784f6b5c2"
      },
      "source": [
        "plt.plot(history.history['loss'])\r\n",
        "plt.plot(history.history['val_loss'])\r\n",
        "plt.xlabel('epoch')\r\n",
        "plt.ylabel('loss')\r\n",
        "plt.legend(['train', 'val'])\r\n",
        "plt.show()"
      ],
      "execution_count": null,
      "outputs": [
        {
          "output_type": "display_data",
          "data": {
            "image/png": "[encoded data removed]",
            "text/plain": [
              "<Figure size 432x288 with 1 Axes>"
            ]
          },
          "metadata": {
            "tags": [],
            "needs_background": "light"
          }
        }
      ]
    },
    {
      "cell_type": "code",
      "metadata": {
        "colab": {
          "base_uri": "https://localhost:8080/",
          "height": 352
        },
        "id": "JGDIpGaGmrmr",
        "outputId": "67d03df0-ca06-422d-9feb-5a7932441d43"
      },
      "source": [
        "#adam\r\n",
        "model = model_fn()\r\n",
        "model.compile(optimizer='adam',loss='sparse_categorical_crossentropy', metrics='accuracy')\r\n",
        "history = model.fit(train_scaled, train_target, epochs = 20,verbose =0,\r\n",
        "                    validation_data=(val_scaled, val_target))\r\n",
        "\r\n",
        "plt.plot(history.history['loss'])\r\n",
        "plt.plot(history.history['val_loss'])\r\n",
        "plt.xlabel('epoch')\r\n",
        "plt.ylabel('loss')\r\n",
        "plt.legend(['train', 'val'])\r\n",
        "plt.show()"
      ],
      "execution_count": null,
      "outputs": [
        {
          "output_type": "stream",
          "text": [
            "WARNING:tensorflow:Model was constructed with shape (None, 28, 28) for input KerasTensor(type_spec=TensorSpec(shape=(None, 28, 28), dtype=tf.float32, name='flatten_9_input'), name='flatten_9_input', description=\"created by layer 'flatten_9_input'\"), but it was called on an input with incompatible shape (32, 784).\n",
            "WARNING:tensorflow:Model was constructed with shape (None, 28, 28) for input KerasTensor(type_spec=TensorSpec(shape=(None, 28, 28), dtype=tf.float32, name='flatten_9_input'), name='flatten_9_input', description=\"created by layer 'flatten_9_input'\"), but it was called on an input with incompatible shape (32, 784).\n",
            "WARNING:tensorflow:Model was constructed with shape (None, 28, 28) for input KerasTensor(type_spec=TensorSpec(shape=(None, 28, 28), dtype=tf.float32, name='flatten_9_input'), name='flatten_9_input', description=\"created by layer 'flatten_9_input'\"), but it was called on an input with incompatible shape (32, 784).\n"
          ],
          "name": "stdout"
        },
        {
          "output_type": "display_data",
          "data": {
            "image/png": "[encoded data removed]",
            "text/plain": [
              "<Figure size 432x288 with 1 Axes>"
            ]
          },
          "metadata": {
            "tags": [],
            "needs_background": "light"
          }
        }
      ]
    },
    {
      "cell_type": "code",
      "metadata": {
        "id": "_3ArFzNDmrpT"
      },
      "source": [
        "# 드랍아웃"
      ],
      "execution_count": null,
      "outputs": []
    },
    {
      "cell_type": "code",
      "metadata": {
        "colab": {
          "base_uri": "https://localhost:8080/"
        },
        "id": "s7U_NV-omrrj",
        "outputId": "6b97630d-bc0c-4e24-b4f7-d39c8e64ac7e"
      },
      "source": [
        "model = model_fn(keras.layers.Dropout(0,3))\r\n",
        "model.summary()"
      ],
      "execution_count": null,
      "outputs": [
        {
          "output_type": "stream",
          "text": [
            "Model: \"sequential_10\"\n",
            "_________________________________________________________________\n",
            "Layer (type)                 Output Shape              Param #   \n",
            "=================================================================\n",
            "flatten_10 (Flatten)         (None, 784)               0         \n",
            "_________________________________________________________________\n",
            "dense_20 (Dense)             (None, 100)               78500     \n",
            "_________________________________________________________________\n",
            "dropout_1 (Dropout)          (None, 100)               0         \n",
            "_________________________________________________________________\n",
            "dense_21 (Dense)             (None, 10)                1010      \n",
            "=================================================================\n",
            "Total params: 79,510\n",
            "Trainable params: 79,510\n",
            "Non-trainable params: 0\n",
            "_________________________________________________________________\n"
          ],
          "name": "stdout"
        }
      ]
    },
    {
      "cell_type": "code",
      "metadata": {
        "id": "uXqebe45mrtu"
      },
      "source": [
        "# #adam, dropout\r\n",
        "# model = model_fn(keras.layers.Dropout(0,3))\r\n",
        "# model.compile(optimizer='adam',loss='sparse_categorical_crossentropy', metrics='accuracy')\r\n",
        "# history = model.fit(train_scaled, train_target, epochs = 20,verbose =0,\r\n",
        "#                     validation_data=(val_scaled, val_target))\r\n",
        "\r\n",
        "# plt.plot(history.history['loss'])\r\n",
        "# plt.plot(history.history['val_loss'])\r\n",
        "# plt.xlabel('epoch')\r\n",
        "# plt.ylabel('loss')\r\n",
        "# plt.legend(['train', 'val'])\r\n",
        "# plt.show()"
      ],
      "execution_count": null,
      "outputs": []
    },
    {
      "cell_type": "code",
      "metadata": {
        "id": "sWlu3KxdwmoB"
      },
      "source": [
        "# 모델 저장\r\n",
        "# model = model_fn(keras.layers.Dropout(0,3))\r\n",
        "# model.compile(optimizer='adam',loss='sparse_categorical_crossentropy', metrics='accuracy')\r\n",
        "# history = model.fit(train_scaled, train_target, epochs = 20,verbose =0,\r\n",
        "#                     validation_data=(val_scaled, val_target))\r\n",
        "#이 모델을 저장하려면\r\n",
        "\r\n",
        "model.save_weights('model-weights.h5')\r\n"
      ],
      "execution_count": null,
      "outputs": []
    },
    {
      "cell_type": "markdown",
      "metadata": {
        "id": "upjHYXyOw5nB"
      },
      "source": [
        ""
      ]
    },
    {
      "cell_type": "code",
      "metadata": {
        "id": "C0t9BAXKwmug"
      },
      "source": [
        "#모델 구조와 파라미터를 함께 저장하는 save메서드\r\n",
        "model.save('model-whole.h5')"
      ],
      "execution_count": null,
      "outputs": []
    },
    {
      "cell_type": "code",
      "metadata": {
        "colab": {
          "base_uri": "https://localhost:8080/"
        },
        "id": "4oojkPaxwmz8",
        "outputId": "b9eb671b-e4eb-445b-e58b-084ac2733930"
      },
      "source": [
        "!ls -al *.h5"
      ],
      "execution_count": null,
      "outputs": [
        {
          "output_type": "stream",
          "text": [
            "-rw-r--r-- 1 root root 332480 Feb  2 08:02 model-weights.h5\n",
            "-rw-r--r-- 1 root root 333880 Feb  2 08:02 model-whole.h5\n"
          ],
          "name": "stdout"
        }
      ]
    },
    {
      "cell_type": "code",
      "metadata": {
        "id": "wA1HMHMjwm4r",
        "colab": {
          "base_uri": "https://localhost:8080/"
        },
        "outputId": "6355d769-390e-4eaa-e40a-f91d6cae87d0"
      },
      "source": [
        "model = model_fn()\r\n",
        "model.compile(optimizer='adam',loss='sparse_categorical_crossentropy', metrics='accuracy')\r\n",
        "\r\n",
        "checkpoint_cb = keras.callbacks.ModelCheckpoint('best-model.h.5')\r\n",
        "#체크포인트만들자\r\n",
        "model.fit(train_scaled, train_target, epochs = 20,verbose =0,\r\n",
        "                    validation_data=(val_scaled, val_target),\r\n",
        "callbacks =[checkpoint_cb])"
      ],
      "execution_count": 33,
      "outputs": [
        {
          "output_type": "stream",
          "text": [
            "WARNING:tensorflow:Model was constructed with shape (None, 28, 28) for input KerasTensor(type_spec=TensorSpec(shape=(None, 28, 28), dtype=tf.float32, name='flatten_12_input'), name='flatten_12_input', description=\"created by layer 'flatten_12_input'\"), but it was called on an input with incompatible shape (32, 784).\n",
            "WARNING:tensorflow:Model was constructed with shape (None, 28, 28) for input KerasTensor(type_spec=TensorSpec(shape=(None, 28, 28), dtype=tf.float32, name='flatten_12_input'), name='flatten_12_input', description=\"created by layer 'flatten_12_input'\"), but it was called on an input with incompatible shape (32, 784).\n",
            "WARNING:tensorflow:Model was constructed with shape (None, 28, 28) for input KerasTensor(type_spec=TensorSpec(shape=(None, 28, 28), dtype=tf.float32, name='flatten_12_input'), name='flatten_12_input', description=\"created by layer 'flatten_12_input'\"), but it was called on an input with incompatible shape (32, 784).\n",
            "INFO:tensorflow:Assets written to: best-model.h.5/assets\n",
            "INFO:tensorflow:Assets written to: best-model.h.5/assets\n",
            "INFO:tensorflow:Assets written to: best-model.h.5/assets\n",
            "INFO:tensorflow:Assets written to: best-model.h.5/assets\n",
            "INFO:tensorflow:Assets written to: best-model.h.5/assets\n",
            "INFO:tensorflow:Assets written to: best-model.h.5/assets\n",
            "INFO:tensorflow:Assets written to: best-model.h.5/assets\n",
            "INFO:tensorflow:Assets written to: best-model.h.5/assets\n",
            "INFO:tensorflow:Assets written to: best-model.h.5/assets\n",
            "INFO:tensorflow:Assets written to: best-model.h.5/assets\n",
            "INFO:tensorflow:Assets written to: best-model.h.5/assets\n",
            "INFO:tensorflow:Assets written to: best-model.h.5/assets\n",
            "INFO:tensorflow:Assets written to: best-model.h.5/assets\n",
            "INFO:tensorflow:Assets written to: best-model.h.5/assets\n",
            "INFO:tensorflow:Assets written to: best-model.h.5/assets\n",
            "INFO:tensorflow:Assets written to: best-model.h.5/assets\n",
            "INFO:tensorflow:Assets written to: best-model.h.5/assets\n",
            "INFO:tensorflow:Assets written to: best-model.h.5/assets\n",
            "INFO:tensorflow:Assets written to: best-model.h.5/assets\n",
            "INFO:tensorflow:Assets written to: best-model.h.5/assets\n"
          ],
          "name": "stdout"
        },
        {
          "output_type": "execute_result",
          "data": {
            "text/plain": [
              "<tensorflow.python.keras.callbacks.History at 0x7efcce05c940>"
            ]
          },
          "metadata": {
            "tags": []
          },
          "execution_count": 33
        }
      ]
    },
    {
      "cell_type": "code",
      "metadata": {
        "id": "3h08agIEwm9X"
      },
      "source": [
        "#조기종료\r\n",
        "model = model_fn()\r\n",
        "model.compile(optimizer='adam',loss='sparse_categorical_crossentropy', metrics='accuracy')\r\n",
        "#체크포인트만들자\r\n",
        "checkpoint_cb = keras.callbacks.ModelCheckpoint('best-model.h.5')\r\n",
        "\r\n",
        "#조기종료 칸 -> 에포크를 알아서 멈춰줌\r\n",
        "early_stopping_cb = keras.callbacks.EarlyStopping(patience= 2, \r\n",
        "                                                  restore_best_weights =True)\r\n",
        "\r\n",
        "model.fit(train_scaled, train_target, epochs = 20,verbose =0,\r\n",
        "                    validation_data=(val_scaled, val_target),\r\n",
        "callbacks =[checkpoint_cb, early_stopping_cb])"
      ],
      "execution_count": null,
      "outputs": []
    },
    {
      "cell_type": "code",
      "metadata": {
        "id": "KrxIlDuOwnB7"
      },
      "source": [
        ""
      ],
      "execution_count": null,
      "outputs": []
    },
    {
      "cell_type": "markdown",
      "metadata": {
        "id": "HBltSoTYpT1S"
      },
      "source": [
        ""
      ]
    }
  ]
}