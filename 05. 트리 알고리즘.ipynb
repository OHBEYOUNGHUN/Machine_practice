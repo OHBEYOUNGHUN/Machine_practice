{
 "cells": [
  {
   "cell_type": "markdown",
   "metadata": {},
   "source": [
    "## 데이트 준비"
   ]
  },
  {
   "cell_type": "code",
   "execution_count": 2,
   "metadata": {},
   "outputs": [
    {
     "data": {
      "text/html": [
       "<div>\n",
       "<style scoped>\n",
       "    .dataframe tbody tr th:only-of-type {\n",
       "        vertical-align: middle;\n",
       "    }\n",
       "\n",
       "    .dataframe tbody tr th {\n",
       "        vertical-align: top;\n",
       "    }\n",
       "\n",
       "    .dataframe thead th {\n",
       "        text-align: right;\n",
       "    }\n",
       "</style>\n",
       "<table border=\"1\" class=\"dataframe\">\n",
       "  <thead>\n",
       "    <tr style=\"text-align: right;\">\n",
       "      <th></th>\n",
       "      <th>alcohol</th>\n",
       "      <th>sugar</th>\n",
       "      <th>pH</th>\n",
       "      <th>class</th>\n",
       "    </tr>\n",
       "  </thead>\n",
       "  <tbody>\n",
       "    <tr>\n",
       "      <th>0</th>\n",
       "      <td>9.4</td>\n",
       "      <td>1.9</td>\n",
       "      <td>3.51</td>\n",
       "      <td>0.0</td>\n",
       "    </tr>\n",
       "    <tr>\n",
       "      <th>1</th>\n",
       "      <td>9.8</td>\n",
       "      <td>2.6</td>\n",
       "      <td>3.20</td>\n",
       "      <td>0.0</td>\n",
       "    </tr>\n",
       "    <tr>\n",
       "      <th>2</th>\n",
       "      <td>9.8</td>\n",
       "      <td>2.3</td>\n",
       "      <td>3.26</td>\n",
       "      <td>0.0</td>\n",
       "    </tr>\n",
       "    <tr>\n",
       "      <th>3</th>\n",
       "      <td>9.8</td>\n",
       "      <td>1.9</td>\n",
       "      <td>3.16</td>\n",
       "      <td>0.0</td>\n",
       "    </tr>\n",
       "    <tr>\n",
       "      <th>4</th>\n",
       "      <td>9.4</td>\n",
       "      <td>1.9</td>\n",
       "      <td>3.51</td>\n",
       "      <td>0.0</td>\n",
       "    </tr>\n",
       "  </tbody>\n",
       "</table>\n",
       "</div>"
      ],
      "text/plain": [
       "   alcohol  sugar    pH  class\n",
       "0      9.4    1.9  3.51    0.0\n",
       "1      9.8    2.6  3.20    0.0\n",
       "2      9.8    2.3  3.26    0.0\n",
       "3      9.8    1.9  3.16    0.0\n",
       "4      9.4    1.9  3.51    0.0"
      ]
     },
     "execution_count": 2,
     "metadata": {},
     "output_type": "execute_result"
    }
   ],
   "source": [
    "#데이터셋은 캐글의 red wine quality 데이터셋일부이다\n",
    "import pandas as pd\n",
    "wine = pd.read_csv('https://bit.ly/wine-date')\n",
    "wine.head()\n",
    "\n",
    "wine.info()\n",
    "\n",
    "wine.describe()\n",
    "\n",
    "#데이터 넘파이 배열로 바꾸자 \n",
    "data = wine[['alcohol', 'sugar', 'pH']].to_numpy()\n",
    "target = wine['class'].to_numpy()\n",
    "\n",
    "#늘 그랬듯이 훈련, 테스트 셋으로 바꾸자\n",
    "from sklearn.model_selection import train_test_split\n",
    "train_input, test_input, train_target, test_target = train_test_split(\n",
    "    data, target, test_size=0.2, random_state=42)"
   ]
  },
  {
   "cell_type": "code",
   "execution_count": 6,
   "metadata": {},
   "outputs": [
    {
     "name": "stdout",
     "output_type": "stream",
     "text": [
      "(5197, 3) (1300, 3)\n"
     ]
    }
   ],
   "source": [
    "print(train_input.shape, test_input.shape)"
   ]
  },
  {
   "cell_type": "code",
   "execution_count": 7,
   "metadata": {},
   "outputs": [],
   "source": [
    "#표준화\n",
    "from sklearn.preprocessing import StandardScaler\n",
    "ss = StandardScaler()\n",
    "ss.fit(train_input)\n",
    "train_scaled = ss.transform(train_input)\n",
    "test_scaled = ss.transform(test_input)"
   ]
  },
  {
   "cell_type": "markdown",
   "metadata": {},
   "source": [
    "### 로지스틱 회귀로 골라보자"
   ]
  },
  {
   "cell_type": "code",
   "execution_count": 8,
   "metadata": {},
   "outputs": [
    {
     "name": "stdout",
     "output_type": "stream",
     "text": [
      "0.7808350971714451\n",
      "0.7776923076923077\n"
     ]
    }
   ],
   "source": [
    "from sklearn.linear_model import LogisticRegression\n",
    "lr = LogisticRegression()\n",
    "lr.fit(train_scaled, train_target)\n",
    "print(lr.score(train_scaled, train_target))\n",
    "print(lr.score(test_scaled, test_target))"
   ]
  },
  {
   "cell_type": "markdown",
   "metadata": {},
   "source": [
    "## 결정트리로 풀어보자`"
   ]
  },
  {
   "cell_type": "code",
   "execution_count": 9,
   "metadata": {},
   "outputs": [
    {
     "name": "stdout",
     "output_type": "stream",
     "text": [
      "0.996921300750433\n",
      "0.8592307692307692\n"
     ]
    }
   ],
   "source": [
    "#결정트리\n",
    "from sklearn.tree import DecisionTreeClassifier\n",
    "dt = DecisionTreeClassifier(random_state =42)\n",
    "dt.fit(train_scaled, train_target)\n",
    "print(dt.score(train_scaled, train_target))\n",
    "print(dt.score(test_scaled, test_target))"
   ]
  },
  {
   "cell_type": "code",
   "execution_count": 10,
   "metadata": {},
   "outputs": [
    {
     "data": {
      "image/png": "[encoded data removed]",
      "text/plain": [
       "<Figure size 720x504 with 1 Axes>"
      ]
     },
     "metadata": {
      "needs_background": "light"
     },
     "output_type": "display_data"
    }
   ],
   "source": [
    "#사이킷 런 버전 0.21 부터 가능\n",
    "#트리 그려보자\n",
    "import matplotlib.pyplot as plt\n",
    "from sklearn.tree import plot_tree\n",
    "plt.figure(figsize = (10,7))\n",
    "plot_tree(dt)\n",
    "plt.show()"
   ]
  },
  {
   "cell_type": "code",
   "execution_count": 11,
   "metadata": {},
   "outputs": [
    {
     "name": "stdout",
     "output_type": "stream",
     "text": [
      "Package                            Version   \n",
      "---------------------------------- ----------\n",
      "absl-py                            0.11.0    \n",
      "alabaster                          0.7.12    \n",
      "anaconda-client                    1.7.2     \n",
      "anaconda-navigator                 1.9.7     \n",
      "anaconda-project                   0.8.2     \n",
      "appdirs                            1.4.4     \n",
      "asgiref                            3.3.1     \n",
      "asn1crypto                         0.24.0    \n",
      "astor                              0.8.1     \n",
      "astroid                            2.2.5     \n",
      "astropy                            3.1.2     \n",
      "atomicwrites                       1.3.0     \n",
      "attrs                              19.1.0    \n",
      "Automat                            20.2.0    \n",
      "Babel                              2.6.0     \n",
      "backcall                           0.1.0     \n",
      "backports.os                       0.1.1     \n",
      "backports.shutil-get-terminal-size 1.0.0     \n",
      "backtrader                         1.9.76.123\n",
      "bcrypt                             3.1.6     \n",
      "beautifulsoup4                     4.7.1     \n",
      "bitarray                           0.8.3     \n",
      "bkcharts                           0.2       \n",
      "blaze                              0.11.3    \n",
      "bleach                             3.1.0     \n",
      "bokeh                              1.0.4     \n",
      "boto                               2.49.0    \n",
      "Bottleneck                         1.2.1     \n",
      "certifi                            2020.12.5 \n",
      "cffi                               1.12.2    \n",
      "chardet                            3.0.4     \n",
      "Click                              7.0       \n",
      "cloudpickle                        0.8.0     \n",
      "clyent                             1.2.2     \n",
      "colorama                           0.4.1     \n",
      "comtypes                           1.1.7     \n",
      "conda                              4.9.2     \n",
      "conda-build                        3.17.8    \n",
      "conda-package-handling             1.3.11    \n",
      "conda-verify                       3.1.1     \n",
      "constantly                         15.1.0    \n",
      "contextlib2                        0.5.5     \n",
      "cryptography                       2.6.1     \n",
      "cycler                             0.10.0    \n",
      "Cython                             0.29.6    \n",
      "cytoolz                            0.9.0.1   \n",
      "dask                               1.1.4     \n",
      "datashape                          0.5.4     \n",
      "DateTime                           4.3       \n",
      "decorator                          4.4.0     \n",
      "defusedxml                         0.5.0     \n",
      "distributed                        1.26.0    \n",
      "Django                             3.1.5     \n",
      "docutils                           0.14      \n",
      "entrypoints                        0.3       \n",
      "et-xmlfile                         1.0.1     \n",
      "fastcache                          1.0.2     \n",
      "filelock                           3.0.10    \n",
      "Flask                              1.0.2     \n",
      "Flask-Cors                         3.0.9     \n",
      "future                             0.17.1    \n",
      "gast                               0.4.0     \n",
      "gevent                             1.4.0     \n",
      "glob2                              0.6       \n",
      "greenlet                           0.4.15    \n",
      "grpcio                             1.16.1    \n",
      "h5py                               2.9.0     \n",
      "heapdict                           1.0.0     \n",
      "html5lib                           1.0.1     \n",
      "hyperlink                          20.0.1    \n",
      "idna                               2.8       \n",
      "image                              1.5.33    \n",
      "imageio                            2.5.0     \n",
      "imagesize                          1.1.0     \n",
      "importlib-metadata                 0.0.0     \n",
      "incremental                        17.5.0    \n",
      "ipykernel                          5.1.0     \n",
      "ipython                            7.4.0     \n",
      "ipython-genutils                   0.2.0     \n",
      "ipywidgets                         7.4.2     \n",
      "isort                              4.3.16    \n",
      "itsdangerous                       1.1.0     \n",
      "jdcal                              1.4       \n",
      "jedi                               0.13.3    \n",
      "Jinja2                             2.10      \n",
      "joblib                             1.0.0     \n",
      "jsonschema                         3.0.1     \n",
      "jupyter                            1.0.0     \n",
      "jupyter-client                     5.2.4     \n",
      "jupyter-console                    6.0.0     \n",
      "jupyter-core                       4.4.0     \n",
      "jupyterlab                         0.35.4    \n",
      "jupyterlab-launcher                0.13.1    \n",
      "jupyterlab-server                  0.2.0     \n",
      "Keras-Applications                 1.0.8     \n",
      "Keras-Preprocessing                1.1.0     \n",
      "keyring                            18.0.0    \n",
      "kiwisolver                         1.0.1     \n",
      "lazy-object-proxy                  1.3.1     \n",
      "libarchive-c                       2.8       \n",
      "llvmlite                           0.28.0    \n",
      "locket                             0.2.0     \n",
      "lxml                               4.6.2     \n",
      "Markdown                           3.1.1     \n",
      "MarkupSafe                         1.1.1     \n",
      "matplotlib                         3.0.3     \n",
      "mccabe                             0.6.1     \n",
      "menuinst                           1.4.16    \n",
      "mistune                            0.8.4     \n",
      "mkl-fft                            1.0.10    \n",
      "mkl-random                         1.0.2     \n",
      "mock                               4.0.3     \n",
      "more-itertools                     6.0.0     \n",
      "mpl-finance                        0.10.1    \n",
      "mplfinance                         0.12.7a4  \n",
      "mpmath                             1.1.0     \n",
      "msgpack                            0.6.1     \n",
      "multipledispatch                   0.6.0     \n",
      "multitasking                       0.0.9     \n",
      "navigator-updater                  0.2.1     \n",
      "nbconvert                          5.4.1     \n",
      "nbformat                           4.4.0     \n",
      "networkx                           2.2       \n",
      "nltk                               3.4       \n",
      "nose                               1.3.7     \n",
      "notebook                           5.7.8     \n",
      "numba                              0.43.1    \n",
      "numexpr                            2.6.9     \n",
      "numpy                              1.16.2    \n",
      "numpydoc                           0.8.0     \n",
      "odo                                0.5.1     \n",
      "olefile                            0.46      \n",
      "openpyxl                           2.6.1     \n",
      "packaging                          19.0      \n",
      "pandas                             0.24.2    \n",
      "pandas-datareader                  0.9.0     \n",
      "pandocfilters                      1.4.2     \n",
      "parso                              0.3.4     \n",
      "partd                              0.3.10    \n",
      "path.py                            11.5.0    \n",
      "pathlib2                           2.3.3     \n",
      "patsy                              0.5.1     \n",
      "pep8                               1.7.1     \n",
      "pickleshare                        0.7.5     \n",
      "Pillow                             5.4.1     \n",
      "pip                                19.0.3    \n",
      "pkginfo                            1.5.0.1   \n",
      "pluggy                             0.9.0     \n",
      "ply                                3.11      \n",
      "prometheus-client                  0.6.0     \n",
      "prompt-toolkit                     2.0.9     \n",
      "protobuf                           3.8.0     \n",
      "psutil                             5.6.1     \n",
      "py                                 1.8.0     \n",
      "pyasn1                             0.4.8     \n",
      "pyasn1-modules                     0.2.8     \n",
      "pycodestyle                        2.5.0     \n",
      "pycosat                            0.6.3     \n",
      "pycparser                          2.19      \n",
      "pycrypto                           2.6.1     \n",
      "pycurl                             7.43.0.2  \n",
      "pyflakes                           2.1.1     \n",
      "Pygments                           2.3.1     \n",
      "PyHamcrest                         2.0.2     \n",
      "pylint                             2.3.1     \n",
      "PyMySQL                            1.0.2     \n",
      "pyodbc                             4.0.26    \n",
      "pyOpenSSL                          19.0.0    \n",
      "pyparsing                          2.3.1     \n",
      "pyreadline                         2.1       \n",
      "pyrsistent                         0.14.11   \n",
      "PySocks                            1.6.8     \n",
      "pytest                             4.3.1     \n",
      "pytest-arraydiff                   0.3       \n",
      "pytest-astropy                     0.5.0     \n",
      "pytest-doctestplus                 0.3.0     \n",
      "pytest-openfiles                   0.3.2     \n",
      "pytest-remotedata                  0.3.1     \n",
      "python-dateutil                    2.8.0     \n",
      "pytz                               2018.9    \n",
      "PyWavelets                         1.0.2     \n",
      "pywin32                            223       \n",
      "pywinpty                           0.5.5     \n",
      "PyYAML                             5.1       \n",
      "pyzmq                              18.0.0    \n",
      "QtAwesome                          0.5.7     \n",
      "qtconsole                          4.4.3     \n",
      "QtPy                               1.7.0     \n",
      "requests                           2.21.0    \n",
      "rope                               0.12.0    \n",
      "ruamel-yaml                        0.15.46   \n",
      "scikit-image                       0.14.2    \n",
      "scikit-learn                       0.24.1    \n",
      "scipy                              1.2.1     \n",
      "seaborn                            0.9.0     \n",
      "Send2Trash                         1.5.0     \n",
      "service-identity                   18.1.0    \n",
      "setuptools                         40.8.0    \n",
      "simplegeneric                      0.8.1     \n",
      "singledispatch                     3.4.0.3   \n",
      "six                                1.12.0    \n",
      "slacker                            0.14.0    \n",
      "snowballstemmer                    1.2.1     \n",
      "sortedcollections                  1.1.2     \n",
      "sortedcontainers                   2.1.0     \n",
      "soupsieve                          1.8       \n",
      "Sphinx                             1.8.5     \n",
      "sphinxcontrib-websupport           1.1.0     \n",
      "spyder                             3.3.3     \n",
      "spyder-kernels                     0.4.2     \n",
      "SQLAlchemy                         1.3.1     \n",
      "sqlparse                           0.4.1     \n",
      "statsmodels                        0.9.0     \n",
      "sympy                              1.3       \n",
      "tables                             3.5.1     \n",
      "tblib                              1.3.2     \n",
      "tensorboard                        1.13.1    \n",
      "tensorflow                         1.13.1    \n",
      "tensorflow-estimator               1.13.0    \n",
      "termcolor                          1.1.0     \n",
      "terminado                          0.8.1     \n",
      "testpath                           0.4.2     \n",
      "threadpoolctl                      2.1.0     \n",
      "toolz                              0.9.0     \n",
      "tornado                            6.0.2     \n",
      "tqdm                               4.31.1    \n",
      "traitlets                          4.3.2     \n",
      "Twisted                            19.2.0    \n",
      "unicodecsv                         0.14.1    \n",
      "urllib3                            1.24.1    \n",
      "urlopen                            1.0.0     \n",
      "wcwidth                            0.1.7     \n",
      "webencodings                       0.5.1     \n",
      "Werkzeug                           0.14.1    \n",
      "wheel                              0.33.1    \n",
      "widgetsnbextension                 3.4.2     \n",
      "win-inet-pton                      1.1.0     \n",
      "win-unicode-console                0.5       \n",
      "wincertstore                       0.2       \n",
      "wrapt                              1.11.1    \n",
      "xlrd                               1.2.0     \n",
      "XlsxWriter                         1.1.5     \n",
      "xlwings                            0.15.4    \n",
      "xlwt                               1.3.0     \n",
      "yfinance                           0.1.55    \n",
      "zict                               0.1.4     \n",
      "zipp                               0.3.3     \n",
      "zope.interface                     4.6.0     \n",
      "Note: you may need to restart the kernel to use updated packages.\n"
     ]
    }
   ],
   "source": [
    "pip list"
   ]
  },
  {
   "cell_type": "code",
   "execution_count": 21,
   "metadata": {},
   "outputs": [
    {
     "name": "stdout",
     "output_type": "stream",
     "text": [
      "Collecting scikit-learn\n",
      "  Downloading https://files.pythonhosted.org/packages/16/33/e0b09b2810e355b667cd3b28850c36963735a77a431efdb2c2ca1c1c5cea/scikit_learn-0.24.1-cp37-cp37m-win_amd64.whl (6.8MB)\n",
      "Requirement already satisfied, skipping upgrade: numpy>=1.13.3 in c:\\users\\82102\\anaconda3\\lib\\site-packages (from scikit-learn) (1.16.2)\n",
      "Collecting threadpoolctl>=2.0.0 (from scikit-learn)\n",
      "  Downloading https://files.pythonhosted.org/packages/f7/12/ec3f2e203afa394a149911729357aa48affc59c20e2c1c8297a60f33f133/threadpoolctl-2.1.0-py3-none-any.whl\n",
      "Requirement already satisfied, skipping upgrade: scipy>=0.19.1 in c:\\users\\82102\\anaconda3\\lib\\site-packages (from scikit-learn) (1.2.1)\n",
      "Collecting joblib>=0.11 (from scikit-learn)\n",
      "  Downloading https://files.pythonhosted.org/packages/34/5b/bd0f0fb5564183884d8e35b81d06d7ec06a20d1a0c8b4c407f1554691dce/joblib-1.0.0-py3-none-any.whl (302kB)\n",
      "Installing collected packages: threadpoolctl, joblib, scikit-learn\n",
      "  Found existing installation: scikit-learn 0.20.3\n",
      "    Uninstalling scikit-learn-0.20.3:\n",
      "      Successfully uninstalled scikit-learn-0.20.3\n",
      "Note: you may need to restart the kernel to use updated packages.\n"
     ]
    },
    {
     "name": "stderr",
     "output_type": "stream",
     "text": [
      "Could not install packages due to an EnvironmentError: [WinError 5] 액세스가 거부되었습니다: 'c:\\\\users\\\\82102\\\\anaconda3\\\\lib\\\\site-packages\\\\~klearn\\\\linear_model\\\\cd_fast.cp37-win_amd64.pyd'\n",
      "Consider using the `--user` option or check the permissions.\n",
      "\n"
     ]
    }
   ],
   "source": [
    "#pip install --upgrade scikit-learn"
   ]
  },
  {
   "cell_type": "code",
   "execution_count": 16,
   "metadata": {},
   "outputs": [
    {
     "data": {
      "image/png": "[encoded data removed]",
      "text/plain": [
       "<Figure size 720x504 with 1 Axes>"
      ]
     },
     "metadata": {
      "needs_background": "light"
     },
     "output_type": "display_data"
    }
   ],
   "source": [
    "#노드 확인\n",
    "#max_depth 매개변수로 원하는 갯수 만큼 트리를 볼 수 있다 (노드 제외)\n",
    "#feaure_names 로 특성의 이름을 전달\n",
    "plt.figure(figsize = (10,7))\n",
    "plot_tree(dt, max_depth = 1, filled = True, feature_names = ['alcohol',\n",
    "                                                            'sugar','pH'])\n",
    "plt.show()\n"
   ]
  },
  {
   "cell_type": "markdown",
   "metadata": {},
   "source": [
    "# 교차검증"
   ]
  },
  {
   "cell_type": "markdown",
   "metadata": {},
   "source": [
    "## 데이터 준비"
   ]
  },
  {
   "cell_type": "code",
   "execution_count": 13,
   "metadata": {},
   "outputs": [],
   "source": [
    "import pandas as pd\n",
    "import numpy as np\n",
    "wine = pd.read_csv('https://bit.ly/wine-date')\n",
    "\n",
    "#class 열을 타깃, 나머지는 특성 배열에 저장 굿\n",
    "data = wine[['alcohol', 'sugar', 'pH']].to_numpy()\n",
    "target = wine['class'].to_numpy()\n",
    "\n",
    "#훈련셋 테스트 셋 나누자\n",
    "from sklearn.model_selection import train_test_split\n",
    "train_input, test_input, train_target, test_target = train_test_split(\n",
    "    data, target, test_size = 0.2, random_state =42)\n",
    "\n",
    "#그다음 훈련셋을 한번 더 나눈다 (검증 셋을 만들자)\n",
    "sub_input, val_input, sub_target, val_target = train_test_split(\n",
    "    train_input, train_target, test_size = 0.2, random_state =42)"
   ]
  },
  {
   "cell_type": "markdown",
   "metadata": {},
   "source": [
    "## 훈련데이터, 검증데이터 모델 평가"
   ]
  },
  {
   "cell_type": "code",
   "execution_count": 14,
   "metadata": {},
   "outputs": [
    {
     "name": "stdout",
     "output_type": "stream",
     "text": [
      "0.9971133028626413\n",
      "0.864423076923077\n"
     ]
    }
   ],
   "source": [
    "from sklearn.tree import DecisionTreeClassifier\n",
    "dt = DecisionTreeClassifier(random_state = 42)\n",
    "dt.fit(sub_input, sub_target)\n",
    "print(dt.score(sub_input, sub_target))\n",
    "print(dt.score(val_input, val_target))\n",
    "\n",
    "#좀 과적합 됐다"
   ]
  },
  {
   "cell_type": "code",
   "execution_count": 16,
   "metadata": {},
   "outputs": [
    {
     "name": "stdout",
     "output_type": "stream",
     "text": [
      "{'fit_time': array([0.0099709 , 0.00698018, 0.00798392, 0.00797653, 0.00698733]), 'score_time': array([0.        , 0.00099778, 0.00199151, 0.0009973 , 0.00099111]), 'test_score': array([0.86923077, 0.84615385, 0.87680462, 0.84889317, 0.83541867])}\n"
     ]
    }
   ],
   "source": [
    "from sklearn.model_selection import cross_validate\n",
    "scores = cross_validate(dt, train_input, train_target)\n",
    "print(scores)"
   ]
  },
  {
   "cell_type": "code",
   "execution_count": 17,
   "metadata": {},
   "outputs": [
    {
     "name": "stdout",
     "output_type": "stream",
     "text": [
      "0.855300214703487\n"
     ]
    }
   ],
   "source": [
    "import numpy as np \n",
    "print(np.mean(scores['test_score']))"
   ]
  },
  {
   "cell_type": "code",
   "execution_count": 20,
   "metadata": {},
   "outputs": [
    {
     "name": "stdout",
     "output_type": "stream",
     "text": [
      "0.855300214703487\n"
     ]
    }
   ],
   "source": [
    "from sklearn.model_selection import StratifiedKFold\n",
    "scores = cross_validate(dt, train_input, train_target, cv = StratifiedKFold())\n",
    "print(np.mean(scores['test_score']))"
   ]
  },
  {
   "cell_type": "markdown",
   "metadata": {},
   "source": [
    "### 그리드 서치`"
   ]
  },
  {
   "cell_type": "code",
   "execution_count": 29,
   "metadata": {},
   "outputs": [],
   "source": [
    "from sklearn.model_selection import GridSearchCV\n",
    "params = {'min_impurity_decrease':[0.0001,0.0002,0.0003,0.0004,0.0005]}\n",
    "#0.0001~0.0005까지 0.0001씩 증가하는 5개 값 시도\n",
    "#파라미터를 params 변수로 만들어 클래스의 전달\n",
    "gs = GridSearchCV(DecisionTreeClassifier(random_state =42), params,n_jobs =-1)\n",
    "#그다음 일반 모델 훈련하는 것 처럼 해주면 된다\n",
    "#그리드 서치는 파라미터를 다섯개 정했기 때문에 내부에서 5번 실행\n",
    "#cv 매개변수 기본값은 5이다 즉 파라미터 5개이기 때문에 5*5 = 25번 실행\n"
   ]
  },
  {
   "cell_type": "code",
   "execution_count": 30,
   "metadata": {},
   "outputs": [
    {
     "data": {
      "text/plain": [
       "GridSearchCV(estimator=DecisionTreeClassifier(random_state=42), n_jobs=-1,\n",
       "             param_grid={'min_impurity_decrease': [0.0001, 0.0002, 0.0003,\n",
       "                                                   0.0004, 0.0005]})"
      ]
     },
     "execution_count": 30,
     "metadata": {},
     "output_type": "execute_result"
    }
   ],
   "source": [
    "gs.fit(train_input, train_target)"
   ]
  },
  {
   "cell_type": "code",
   "execution_count": 31,
   "metadata": {},
   "outputs": [
    {
     "name": "stdout",
     "output_type": "stream",
     "text": [
      "0.9615162593804117\n"
     ]
    }
   ],
   "source": [
    "dt = gs.best_estimator_\n",
    "print(dt.score(train_input, train_target))"
   ]
  },
  {
   "cell_type": "code",
   "execution_count": null,
   "metadata": {},
   "outputs": [],
   "source": []
  },
  {
   "cell_type": "code",
   "execution_count": null,
   "metadata": {},
   "outputs": [],
   "source": []
  },
  {
   "cell_type": "code",
   "execution_count": null,
   "metadata": {},
   "outputs": [],
   "source": []
  },
  {
   "cell_type": "code",
   "execution_count": null,
   "metadata": {},
   "outputs": [],
   "source": []
  },
  {
   "cell_type": "code",
   "execution_count": null,
   "metadata": {},
   "outputs": [],
   "source": []
  },
  {
   "cell_type": "code",
   "execution_count": null,
   "metadata": {},
   "outputs": [],
   "source": []
  },
  {
   "cell_type": "code",
   "execution_count": null,
   "metadata": {},
   "outputs": [],
   "source": []
  },
  {
   "cell_type": "code",
   "execution_count": null,
   "metadata": {},
   "outputs": [],
   "source": []
  }
 ],
 "metadata": {
  "kernelspec": {
   "display_name": "Python 3",
   "language": "python",
   "name": "python3"
  },
  "language_info": {
   "codemirror_mode": {
    "name": "ipython",
    "version": 3
   },
   "file_extension": ".py",
   "mimetype": "text/x-python",
   "name": "python",
   "nbconvert_exporter": "python",
   "pygments_lexer": "ipython3",
   "version": "3.7.3"
  }
 },
 "nbformat": 4,
 "nbformat_minor": 2
}
