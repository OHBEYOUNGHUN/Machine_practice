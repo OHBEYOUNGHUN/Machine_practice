{
 "cells": [
  {
   "cell_type": "markdown",
   "metadata": {},
   "source": [
    "## 넘파이 배열"
   ]
  },
  {
   "cell_type": "code",
   "execution_count": 5,
   "metadata": {},
   "outputs": [
    {
     "data": {
      "text/plain": [
       "array([[1, 2],\n",
       "       [3, 5]])"
      ]
     },
     "execution_count": 5,
     "metadata": {},
     "output_type": "execute_result"
    }
   ],
   "source": [
    "import numpy as np\n",
    "\n",
    "A = np.array([[1,2],[3,5]])\n",
    "A"
   ]
  },
  {
   "cell_type": "code",
   "execution_count": 6,
   "metadata": {},
   "outputs": [
    {
     "data": {
      "text/plain": [
       "numpy.ndarray"
      ]
     },
     "execution_count": 6,
     "metadata": {},
     "output_type": "execute_result"
    }
   ],
   "source": [
    "type(A)\n",
    "\n",
    "A.ndim #차원\n",
    "\n",
    "A.shape #크기\n",
    "\n",
    "A.dtype #원소자료형"
   ]
  },
  {
   "cell_type": "code",
   "execution_count": 10,
   "metadata": {},
   "outputs": [
    {
     "name": "stdout",
     "output_type": "stream",
     "text": [
      "5 1 2.75 11\n"
     ]
    }
   ],
   "source": [
    "print(A.max(),A.min(), A.mean(),A.sum() )"
   ]
  },
  {
   "cell_type": "code",
   "execution_count": 15,
   "metadata": {},
   "outputs": [
    {
     "data": {
      "text/plain": [
       "(array([1, 2]), array([3, 5]))"
      ]
     },
     "execution_count": 15,
     "metadata": {},
     "output_type": "execute_result"
    }
   ],
   "source": [
    "A[0],A[1]"
   ]
  },
  {
   "cell_type": "code",
   "execution_count": 16,
   "metadata": {},
   "outputs": [
    {
     "name": "stdout",
     "output_type": "stream",
     "text": [
      "1 2 3 5\n"
     ]
    }
   ],
   "source": [
    "print(A[0][0], A[0][1], A[1][0],A[1][1])"
   ]
  },
  {
   "cell_type": "code",
   "execution_count": 21,
   "metadata": {},
   "outputs": [
    {
     "data": {
      "text/plain": [
       "array([2, 3, 5])"
      ]
     },
     "execution_count": 21,
     "metadata": {},
     "output_type": "execute_result"
    }
   ],
   "source": [
    "A[A>1]"
   ]
  },
  {
   "cell_type": "code",
   "execution_count": 23,
   "metadata": {},
   "outputs": [
    {
     "data": {
      "text/plain": [
       "array([[1, 3],\n",
       "       [2, 5]])"
      ]
     },
     "execution_count": 23,
     "metadata": {},
     "output_type": "execute_result"
    }
   ],
   "source": [
    "A.T"
   ]
  },
  {
   "cell_type": "code",
   "execution_count": 24,
   "metadata": {},
   "outputs": [
    {
     "data": {
      "text/plain": [
       "array([1, 2, 3, 5])"
      ]
     },
     "execution_count": 24,
     "metadata": {},
     "output_type": "execute_result"
    }
   ],
   "source": [
    "A.flatten() #다차원 배열을 1차원 배열로 바꾸는것"
   ]
  },
  {
   "cell_type": "markdown",
   "metadata": {},
   "source": [
    "## 브로드캐스팅"
   ]
  },
  {
   "cell_type": "code",
   "execution_count": 25,
   "metadata": {},
   "outputs": [
    {
     "data": {
      "text/plain": [
       "array([[ 10, 200],\n",
       "       [ 30, 500]])"
      ]
     },
     "execution_count": 25,
     "metadata": {},
     "output_type": "execute_result"
    }
   ],
   "source": [
    "#크기가 달라도 연산 할 수 있게 행렬 크기를 늘려주는 과정\n",
    "A = np.array([[1,2],[3,5]])\n",
    "\n",
    "B = np.array([10,100])\n",
    "\n",
    "A*B"
   ]
  },
  {
   "cell_type": "code",
   "execution_count": 27,
   "metadata": {},
   "outputs": [
    {
     "data": {
      "text/plain": [
       "10100"
      ]
     },
     "execution_count": 27,
     "metadata": {},
     "output_type": "execute_result"
    }
   ],
   "source": [
    "B = np.array([10,100])\n",
    "B.dot(B)"
   ]
  },
  {
   "cell_type": "code",
   "execution_count": 28,
   "metadata": {},
   "outputs": [
    {
     "data": {
      "text/plain": [
       "array([210, 530])"
      ]
     },
     "execution_count": 28,
     "metadata": {},
     "output_type": "execute_result"
    }
   ],
   "source": [
    "A.dot(B)"
   ]
  },
  {
   "cell_type": "code",
   "execution_count": 31,
   "metadata": {},
   "outputs": [
    {
     "data": {
      "text/plain": [
       "0    0.0\n",
       "1    1.0\n",
       "2    2.8\n",
       "3    3.9\n",
       "4    4.2\n",
       "5    5.7\n",
       "6    6.0\n",
       "7    7.0\n",
       "dtype: float64"
      ]
     },
     "execution_count": 31,
     "metadata": {},
     "output_type": "execute_result"
    }
   ],
   "source": [
    "import pandas as pd\n",
    "s = pd.Series([0,1,2.8,3.9,4.2,5.7,6,7])\n",
    "s"
   ]
  },
  {
   "cell_type": "code",
   "execution_count": 36,
   "metadata": {},
   "outputs": [
    {
     "data": {
      "text/plain": [
       "My_Index\n",
       "0.0    0.0\n",
       "1.2    1.0\n",
       "1.8    2.8\n",
       "1.9    3.9\n",
       "3.0    4.2\n",
       "3.6    5.7\n",
       "6.0    6.0\n",
       "9.0    7.0\n",
       "dtype: float64"
      ]
     },
     "execution_count": 36,
     "metadata": {},
     "output_type": "execute_result"
    }
   ],
   "source": [
    "#인덱스 변경\n",
    "s.index = pd.Index([0,1.2,1.8,1.9,3.0,3.6,6,9])\n",
    "s.index.name = 'My_Index'\n",
    "s\n"
   ]
  },
  {
   "cell_type": "code",
   "execution_count": 38,
   "metadata": {},
   "outputs": [
    {
     "data": {
      "text/plain": [
       "My_Index\n",
       "0.0    0.0\n",
       "1.2    1.0\n",
       "1.8    2.8\n",
       "1.9    3.9\n",
       "3.0    4.2\n",
       "3.6    5.7\n",
       "6.0    6.0\n",
       "9.0    7.0\n",
       "5.9    5.5\n",
       "dtype: float64"
      ]
     },
     "execution_count": 38,
     "metadata": {},
     "output_type": "execute_result"
    }
   ],
   "source": [
    "#데이터 추가\n",
    "s[5.9] = 5.5\n",
    "s"
   ]
  },
  {
   "cell_type": "code",
   "execution_count": 39,
   "metadata": {},
   "outputs": [
    {
     "data": {
      "text/plain": [
       "0.0    0.000\n",
       "1.2    1.000\n",
       "1.8    2.800\n",
       "1.9    3.900\n",
       "3.0    4.200\n",
       "3.6    5.700\n",
       "6.0    6.000\n",
       "9.0    7.000\n",
       "5.9    5.500\n",
       "3.0    1.234\n",
       "8.0    3.543\n",
       "dtype: float64"
      ]
     },
     "execution_count": 39,
     "metadata": {},
     "output_type": "execute_result"
    }
   ],
   "source": [
    "#append 로 추가\n",
    "ser = pd.Series([1.234,3.543], index = [3,8])\n",
    "s = s.append(ser)\n",
    "s"
   ]
  },
  {
   "cell_type": "code",
   "execution_count": 41,
   "metadata": {},
   "outputs": [
    {
     "data": {
      "text/plain": [
       "3.543"
      ]
     },
     "execution_count": 41,
     "metadata": {},
     "output_type": "execute_result"
    }
   ],
   "source": [
    "s.index[-1] s.values[-1]"
   ]
  },
  {
   "cell_type": "code",
   "execution_count": 47,
   "metadata": {},
   "outputs": [
    {
     "data": {
      "text/plain": [
       "0.0    0.000\n",
       "1.2    1.000\n",
       "1.8    2.800\n",
       "1.9    3.900\n",
       "3.0    4.200\n",
       "3.6    5.700\n",
       "6.0    6.000\n",
       "9.0    7.000\n",
       "5.9    5.500\n",
       "3.0    1.234\n",
       "8.0    3.543\n",
       "dtype: float64"
      ]
     },
     "execution_count": 47,
     "metadata": {},
     "output_type": "execute_result"
    }
   ],
   "source": [
    "s.loc[1.2] # 인덱스를 썽줘야 하고\n",
    "s.iloc[4] # 정수값을 써줘야한다(순서)\n",
    "s.values[:] #여러개일때 배열로반환\n",
    "s.iloc[:] #시리즈로 반환"
   ]
  },
  {
   "cell_type": "code",
   "execution_count": 48,
   "metadata": {},
   "outputs": [
    {
     "data": {
      "text/plain": [
       "count    11.000000\n",
       "mean      3.716091\n",
       "std       2.271628\n",
       "min       0.000000\n",
       "25%       2.017000\n",
       "50%       3.900000\n",
       "75%       5.600000\n",
       "max       7.000000\n",
       "dtype: float64"
      ]
     },
     "execution_count": 48,
     "metadata": {},
     "output_type": "execute_result"
    }
   ],
   "source": [
    "s.describe()"
   ]
  },
  {
   "cell_type": "markdown",
   "metadata": {},
   "source": [
    "## 시리즈 출력하기"
   ]
  },
  {
   "cell_type": "code",
   "execution_count": 53,
   "metadata": {},
   "outputs": [
    {
     "data": {
      "image/png": "[encoded data removed]",
      "text/plain": [
       "<Figure size 432x288 with 1 Axes>"
      ]
     },
     "metadata": {
      "needs_background": "light"
     },
     "output_type": "display_data"
    }
   ],
   "source": [
    "import pandas as pd\n",
    "s.index.name = 'MY_IDX'\n",
    "s.name = 'MY_SERIES'\n",
    "\n",
    "import matplotlib.pyplot as plt\n",
    "plt.title(\"ELLIOTT_WAVE\")\n",
    "plt.plot(s, 'bs--')\n",
    "plt.xticks(s.index)\n",
    "plt.yticks(s.values)\n",
    "plt.grid(True)\n",
    "plt.show()"
   ]
  },
  {
   "cell_type": "markdown",
   "metadata": {},
   "source": [
    "## 데이터프레임"
   ]
  },
  {
   "cell_type": "code",
   "execution_count": 54,
   "metadata": {},
   "outputs": [
    {
     "data": {
      "text/html": [
       "<div>\n",
       "<style scoped>\n",
       "    .dataframe tbody tr th:only-of-type {\n",
       "        vertical-align: middle;\n",
       "    }\n",
       "\n",
       "    .dataframe tbody tr th {\n",
       "        vertical-align: top;\n",
       "    }\n",
       "\n",
       "    .dataframe thead th {\n",
       "        text-align: right;\n",
       "    }\n",
       "</style>\n",
       "<table border=\"1\" class=\"dataframe\">\n",
       "  <thead>\n",
       "    <tr style=\"text-align: right;\">\n",
       "      <th></th>\n",
       "      <th>KOSPI</th>\n",
       "      <th>KOSDAQ</th>\n",
       "    </tr>\n",
       "  </thead>\n",
       "  <tbody>\n",
       "    <tr>\n",
       "      <th>0</th>\n",
       "      <td>1915</td>\n",
       "      <td>542</td>\n",
       "    </tr>\n",
       "    <tr>\n",
       "      <th>1</th>\n",
       "      <td>1961</td>\n",
       "      <td>682</td>\n",
       "    </tr>\n",
       "    <tr>\n",
       "      <th>2</th>\n",
       "      <td>2025</td>\n",
       "      <td>631</td>\n",
       "    </tr>\n",
       "    <tr>\n",
       "      <th>3</th>\n",
       "      <td>2425</td>\n",
       "      <td>798</td>\n",
       "    </tr>\n",
       "    <tr>\n",
       "      <th>4</th>\n",
       "      <td>2041</td>\n",
       "      <td>675</td>\n",
       "    </tr>\n",
       "  </tbody>\n",
       "</table>\n",
       "</div>"
      ],
      "text/plain": [
       "   KOSPI  KOSDAQ\n",
       "0   1915     542\n",
       "1   1961     682\n",
       "2   2025     631\n",
       "3   2425     798\n",
       "4   2041     675"
      ]
     },
     "execution_count": 54,
     "metadata": {},
     "output_type": "execute_result"
    }
   ],
   "source": [
    "import pandas as pd\n",
    "df = pd.DataFrame({'KOSPI':[1915,1961,2025,2425,2041],\n",
    "                  'KOSDAQ':[542,682,631,798,675]},\n",
    "                 index = [2014,2015,2016,2017,2018])\n",
    "df"
   ]
  },
  {
   "cell_type": "code",
   "execution_count": 58,
   "metadata": {},
   "outputs": [
    {
     "data": {
      "text/html": [
       "<div>\n",
       "<style scoped>\n",
       "    .dataframe tbody tr th:only-of-type {\n",
       "        vertical-align: middle;\n",
       "    }\n",
       "\n",
       "    .dataframe tbody tr th {\n",
       "        vertical-align: top;\n",
       "    }\n",
       "\n",
       "    .dataframe thead th {\n",
       "        text-align: right;\n",
       "    }\n",
       "</style>\n",
       "<table border=\"1\" class=\"dataframe\">\n",
       "  <thead>\n",
       "    <tr style=\"text-align: right;\">\n",
       "      <th></th>\n",
       "      <th>KOSPI</th>\n",
       "      <th>KOSDAQ</th>\n",
       "    </tr>\n",
       "  </thead>\n",
       "  <tbody>\n",
       "    <tr>\n",
       "      <th>count</th>\n",
       "      <td>5.000000</td>\n",
       "      <td>5.000000</td>\n",
       "    </tr>\n",
       "    <tr>\n",
       "      <th>mean</th>\n",
       "      <td>2073.400000</td>\n",
       "      <td>665.600000</td>\n",
       "    </tr>\n",
       "    <tr>\n",
       "      <th>std</th>\n",
       "      <td>202.940385</td>\n",
       "      <td>92.683871</td>\n",
       "    </tr>\n",
       "    <tr>\n",
       "      <th>min</th>\n",
       "      <td>1915.000000</td>\n",
       "      <td>542.000000</td>\n",
       "    </tr>\n",
       "    <tr>\n",
       "      <th>25%</th>\n",
       "      <td>1961.000000</td>\n",
       "      <td>631.000000</td>\n",
       "    </tr>\n",
       "    <tr>\n",
       "      <th>50%</th>\n",
       "      <td>2025.000000</td>\n",
       "      <td>675.000000</td>\n",
       "    </tr>\n",
       "    <tr>\n",
       "      <th>75%</th>\n",
       "      <td>2041.000000</td>\n",
       "      <td>682.000000</td>\n",
       "    </tr>\n",
       "    <tr>\n",
       "      <th>max</th>\n",
       "      <td>2425.000000</td>\n",
       "      <td>798.000000</td>\n",
       "    </tr>\n",
       "  </tbody>\n",
       "</table>\n",
       "</div>"
      ],
      "text/plain": [
       "             KOSPI      KOSDAQ\n",
       "count     5.000000    5.000000\n",
       "mean   2073.400000  665.600000\n",
       "std     202.940385   92.683871\n",
       "min    1915.000000  542.000000\n",
       "25%    1961.000000  631.000000\n",
       "50%    2025.000000  675.000000\n",
       "75%    2041.000000  682.000000\n",
       "max    2425.000000  798.000000"
      ]
     },
     "execution_count": 58,
     "metadata": {},
     "output_type": "execute_result"
    }
   ],
   "source": [
    "df.describe()"
   ]
  },
  {
   "cell_type": "code",
   "execution_count": 60,
   "metadata": {},
   "outputs": [
    {
     "data": {
      "text/html": [
       "<div>\n",
       "<style scoped>\n",
       "    .dataframe tbody tr th:only-of-type {\n",
       "        vertical-align: middle;\n",
       "    }\n",
       "\n",
       "    .dataframe tbody tr th {\n",
       "        vertical-align: top;\n",
       "    }\n",
       "\n",
       "    .dataframe thead th {\n",
       "        text-align: right;\n",
       "    }\n",
       "</style>\n",
       "<table border=\"1\" class=\"dataframe\">\n",
       "  <thead>\n",
       "    <tr style=\"text-align: right;\">\n",
       "      <th></th>\n",
       "      <th>KOSPI</th>\n",
       "      <th>KOSDAQ</th>\n",
       "    </tr>\n",
       "  </thead>\n",
       "  <tbody>\n",
       "    <tr>\n",
       "      <th>2014</th>\n",
       "      <td>1915</td>\n",
       "      <td>452</td>\n",
       "    </tr>\n",
       "    <tr>\n",
       "      <th>2015</th>\n",
       "      <td>1234</td>\n",
       "      <td>682</td>\n",
       "    </tr>\n",
       "    <tr>\n",
       "      <th>2016</th>\n",
       "      <td>1235</td>\n",
       "      <td>641</td>\n",
       "    </tr>\n",
       "    <tr>\n",
       "      <th>2017</th>\n",
       "      <td>1643</td>\n",
       "      <td>798</td>\n",
       "    </tr>\n",
       "    <tr>\n",
       "      <th>2018</th>\n",
       "      <td>1257</td>\n",
       "      <td>674</td>\n",
       "    </tr>\n",
       "  </tbody>\n",
       "</table>\n",
       "</div>"
      ],
      "text/plain": [
       "      KOSPI  KOSDAQ\n",
       "2014   1915     452\n",
       "2015   1234     682\n",
       "2016   1235     641\n",
       "2017   1643     798\n",
       "2018   1257     674"
      ]
     },
     "execution_count": 60,
     "metadata": {},
     "output_type": "execute_result"
    }
   ],
   "source": [
    "#시리즈를 이용한 데이터 프레임 생성\n",
    "kospi = pd.Series([1915,1234,1235,1643,1257],\n",
    "                 index = [2014,2015,2016,2017,2018], name = 'KOSPI')\n",
    "kosdaq = pd.Series([452,682,641,798,674],\n",
    "                  index = [2014,2015,2016,2017,2018], name = 'KOSDAQ')\n",
    "\n",
    "#생성된 두 시리즈 딕셔너리 형태로 합쳐주자\n",
    "df_stock = pd.DataFrame({kospi.name: kospi, kosdaq.name:kosdaq})\n",
    "df_stock"
   ]
  },
  {
   "cell_type": "code",
   "execution_count": 62,
   "metadata": {},
   "outputs": [
    {
     "data": {
      "text/html": [
       "<div>\n",
       "<style scoped>\n",
       "    .dataframe tbody tr th:only-of-type {\n",
       "        vertical-align: middle;\n",
       "    }\n",
       "\n",
       "    .dataframe tbody tr th {\n",
       "        vertical-align: top;\n",
       "    }\n",
       "\n",
       "    .dataframe thead th {\n",
       "        text-align: right;\n",
       "    }\n",
       "</style>\n",
       "<table border=\"1\" class=\"dataframe\">\n",
       "  <thead>\n",
       "    <tr style=\"text-align: right;\">\n",
       "      <th></th>\n",
       "      <th>KOSPI</th>\n",
       "      <th>KOSDAQ</th>\n",
       "    </tr>\n",
       "  </thead>\n",
       "  <tbody>\n",
       "    <tr>\n",
       "      <th>2014</th>\n",
       "      <td>1915</td>\n",
       "      <td>542</td>\n",
       "    </tr>\n",
       "    <tr>\n",
       "      <th>2015</th>\n",
       "      <td>1961</td>\n",
       "      <td>683</td>\n",
       "    </tr>\n",
       "    <tr>\n",
       "      <th>2016</th>\n",
       "      <td>2026</td>\n",
       "      <td>631</td>\n",
       "    </tr>\n",
       "    <tr>\n",
       "      <th>2017</th>\n",
       "      <td>2467</td>\n",
       "      <td>798</td>\n",
       "    </tr>\n",
       "    <tr>\n",
       "      <th>2018</th>\n",
       "      <td>2041</td>\n",
       "      <td>675</td>\n",
       "    </tr>\n",
       "  </tbody>\n",
       "</table>\n",
       "</div>"
      ],
      "text/plain": [
       "      KOSPI  KOSDAQ\n",
       "2014   1915     542\n",
       "2015   1961     683\n",
       "2016   2026     631\n",
       "2017   2467     798\n",
       "2018   2041     675"
      ]
     },
     "execution_count": 62,
     "metadata": {},
     "output_type": "execute_result"
    }
   ],
   "source": [
    "#리스트를 통해 만들자\n",
    "columns = ['KOSPI','KOSDAQ']\n",
    "index = [2014,2015,2016,2017,2018]\n",
    "rows = []\n",
    "rows.append([1915,542])\n",
    "rows.append([1961,683])\n",
    "rows.append([2026,631])\n",
    "rows.append([2467,798])\n",
    "rows.append([2041,675])\n",
    "df1 = pd.DataFrame(rows,columns = columns, index = index)\n",
    "df1"
   ]
  },
  {
   "cell_type": "code",
   "execution_count": 64,
   "metadata": {},
   "outputs": [
    {
     "name": "stdout",
     "output_type": "stream",
     "text": [
      "2014 1915 542\n",
      "2015 1961 683\n",
      "2016 2026 631\n",
      "2017 2467 798\n",
      "2018 2041 675\n"
     ]
    }
   ],
   "source": [
    "for i in df1.index:\n",
    "    print(i, df1['KOSPI'][i], df1['KOSDAQ'][i])"
   ]
  },
  {
   "cell_type": "code",
   "execution_count": 67,
   "metadata": {},
   "outputs": [
    {
     "name": "stdout",
     "output_type": "stream",
     "text": [
      "KRX(Index=2014, KOSPI=1915, KOSDAQ=542)\n",
      "KRX(Index=2015, KOSPI=1961, KOSDAQ=683)\n",
      "KRX(Index=2016, KOSPI=2026, KOSDAQ=631)\n",
      "KRX(Index=2017, KOSPI=2467, KOSDAQ=798)\n",
      "KRX(Index=2018, KOSPI=2041, KOSDAQ=675)\n"
     ]
    }
   ],
   "source": [
    "#itertuplse()는 데이터프레임 각 행을 튜플로 반환한다\n",
    "for row in df1.itertuples(name = 'KRX'):\n",
    "    print(row)"
   ]
  },
  {
   "cell_type": "markdown",
   "metadata": {},
   "source": [
    "## 야후파이낸스로 실습"
   ]
  },
  {
   "cell_type": "code",
   "execution_count": 68,
   "metadata": {},
   "outputs": [
    {
     "name": "stdout",
     "output_type": "stream",
     "text": [
      "Collecting yfinance\n",
      "  Downloading https://files.pythonhosted.org/packages/7a/e8/b9d7104d3a4bf39924799067592d9e59119fcfc900a425a12e80a3123ec8/yfinance-0.1.55.tar.gz\n",
      "Requirement already satisfied: pandas>=0.24 in c:\\users\\82102\\anaconda3\\lib\\site-packages (from yfinance) (0.24.2)\n",
      "Requirement already satisfied: numpy>=1.15 in c:\\users\\82102\\anaconda3\\lib\\site-packages (from yfinance) (1.16.2)\n",
      "Requirement already satisfied: requests>=2.20 in c:\\users\\82102\\anaconda3\\lib\\site-packages (from yfinance) (2.21.0)\n",
      "Collecting multitasking>=0.0.7 (from yfinance)\n",
      "  Downloading https://files.pythonhosted.org/packages/69/e7/e9f1661c28f7b87abfa08cb0e8f51dad2240a9f4f741f02ea839835e6d18/multitasking-0.0.9.tar.gz\n",
      "Collecting lxml>=4.5.1 (from yfinance)\n",
      "  Downloading https://files.pythonhosted.org/packages/c9/a0/67f5435f19d0817bdc313782a5aa8442984cf49acc126697c8036ac25299/lxml-4.6.2-cp37-cp37m-win_amd64.whl (3.5MB)\n",
      "Requirement already satisfied: pytz>=2011k in c:\\users\\82102\\anaconda3\\lib\\site-packages (from pandas>=0.24->yfinance) (2018.9)\n",
      "Requirement already satisfied: python-dateutil>=2.5.0 in c:\\users\\82102\\anaconda3\\lib\\site-packages (from pandas>=0.24->yfinance) (2.8.0)\n",
      "Requirement already satisfied: certifi>=2017.4.17 in c:\\users\\82102\\anaconda3\\lib\\site-packages (from requests>=2.20->yfinance) (2020.12.5)\n",
      "Requirement already satisfied: chardet<3.1.0,>=3.0.2 in c:\\users\\82102\\anaconda3\\lib\\site-packages (from requests>=2.20->yfinance) (3.0.4)\n",
      "Requirement already satisfied: idna<2.9,>=2.5 in c:\\users\\82102\\anaconda3\\lib\\site-packages (from requests>=2.20->yfinance) (2.8)\n",
      "Requirement already satisfied: urllib3<1.25,>=1.21.1 in c:\\users\\82102\\anaconda3\\lib\\site-packages (from requests>=2.20->yfinance) (1.24.1)\n",
      "Requirement already satisfied: six>=1.5 in c:\\users\\82102\\anaconda3\\lib\\site-packages (from python-dateutil>=2.5.0->pandas>=0.24->yfinance) (1.12.0)\n",
      "Building wheels for collected packages: yfinance, multitasking\n",
      "  Building wheel for yfinance (setup.py): started\n",
      "  Building wheel for yfinance (setup.py): finished with status 'done'\n",
      "  Stored in directory: C:\\Users\\82102\\AppData\\Local\\pip\\Cache\\wheels\\04\\98\\cc\\2702a4242d60bdc14f48b4557c427ded1fe92aedf257d4565c\n",
      "  Building wheel for multitasking (setup.py): started\n",
      "  Building wheel for multitasking (setup.py): finished with status 'done'\n",
      "  Stored in directory: C:\\Users\\82102\\AppData\\Local\\pip\\Cache\\wheels\\37\\fa\\73\\d492849e319038eb4d986f5152e4b19ffb1bc0639da84d2677\n",
      "Successfully built yfinance multitasking\n",
      "Installing collected packages: multitasking, lxml, yfinance\n",
      "  Found existing installation: lxml 4.3.2\n",
      "    Uninstalling lxml-4.3.2:\n",
      "      Successfully uninstalled lxml-4.3.2\n",
      "Successfully installed lxml-4.6.2 multitasking-0.0.9 yfinance-0.1.55\n"
     ]
    }
   ],
   "source": [
    "!pip install yfinance"
   ]
  },
  {
   "cell_type": "code",
   "execution_count": 1,
   "metadata": {},
   "outputs": [],
   "source": [
    "#야후파이낸스 라이브러리 사용\n"
   ]
  },
  {
   "cell_type": "code",
   "execution_count": 5,
   "metadata": {},
   "outputs": [
    {
     "name": "stdout",
     "output_type": "stream",
     "text": [
      "Collecting panda_datareader\n"
     ]
    },
    {
     "name": "stderr",
     "output_type": "stream",
     "text": [
      "  Retrying (Retry(total=4, connect=None, read=None, redirect=None, status=None)) after connection broken by 'NewConnectionError('<pip._vendor.urllib3.connection.VerifiedHTTPSConnection object at 0x00000122C8F1B5F8>: Failed to establish a new connection: [Errno 11001] getaddrinfo failed')': /simple/panda-datareader/\n",
      "  Retrying (Retry(total=3, connect=None, read=None, redirect=None, status=None)) after connection broken by 'NewConnectionError('<pip._vendor.urllib3.connection.VerifiedHTTPSConnection object at 0x00000122C8F1B550>: Failed to establish a new connection: [Errno 11001] getaddrinfo failed')': /simple/panda-datareader/\n",
      "  Retrying (Retry(total=2, connect=None, read=None, redirect=None, status=None)) after connection broken by 'NewConnectionError('<pip._vendor.urllib3.connection.VerifiedHTTPSConnection object at 0x00000122C8F1B470>: Failed to establish a new connection: [Errno 11001] getaddrinfo failed')': /simple/panda-datareader/\n",
      "  Could not find a version that satisfies the requirement panda_datareader (from versions: )\n",
      "No matching distribution found for panda_datareader\n"
     ]
    }
   ],
   "source": [
    "!pip install panda_datareader"
   ]
  },
  {
   "cell_type": "code",
   "execution_count": 8,
   "metadata": {},
   "outputs": [
    {
     "name": "stdout",
     "output_type": "stream",
     "text": [
      "[*********************100%***********************]  1 of 1 completed\n",
      "[*********************100%***********************]  1 of 1 completed\n"
     ]
    }
   ],
   "source": [
    "#get_data_yahoo [, start = 조회기간의 시작일][, end = 조회기간의 종료일] 함수로 조회\n",
    "from pandas_datareader import data as pdr\n",
    "import yfinance as yf\n",
    "\n",
    "yf.pdr_override() #pdr_override(), pands_datareader.data.get_data_yahoo() 함수를 사용해서 빠르게 데이터를 다운\n",
    "sec = pdr.get_data_yahoo('005930.KS', start = '2018-05-04') #삼성전자 액면분할 시작일로 지정했음^^, 종료일 생략해 오늘날로 지정\n",
    "msft = pdr.get_data_yahoo('MSFT', start = '2018-05-04')"
   ]
  },
  {
   "cell_type": "code",
   "execution_count": 10,
   "metadata": {},
   "outputs": [
    {
     "data": {
      "text/html": [
       "<div>\n",
       "<style scoped>\n",
       "    .dataframe tbody tr th:only-of-type {\n",
       "        vertical-align: middle;\n",
       "    }\n",
       "\n",
       "    .dataframe tbody tr th {\n",
       "        vertical-align: top;\n",
       "    }\n",
       "\n",
       "    .dataframe thead th {\n",
       "        text-align: right;\n",
       "    }\n",
       "</style>\n",
       "<table border=\"1\" class=\"dataframe\">\n",
       "  <thead>\n",
       "    <tr style=\"text-align: right;\">\n",
       "      <th></th>\n",
       "      <th>Open</th>\n",
       "      <th>High</th>\n",
       "      <th>Low</th>\n",
       "      <th>Close</th>\n",
       "      <th>Adj Close</th>\n",
       "      <th>Volume</th>\n",
       "    </tr>\n",
       "    <tr>\n",
       "      <th>Date</th>\n",
       "      <th></th>\n",
       "      <th></th>\n",
       "      <th></th>\n",
       "      <th></th>\n",
       "      <th></th>\n",
       "      <th></th>\n",
       "    </tr>\n",
       "  </thead>\n",
       "  <tbody>\n",
       "    <tr>\n",
       "      <th>2020-12-24</th>\n",
       "      <td>74100.0</td>\n",
       "      <td>78800.0</td>\n",
       "      <td>74000.0</td>\n",
       "      <td>77800.0</td>\n",
       "      <td>77800.0</td>\n",
       "      <td>32502870</td>\n",
       "    </tr>\n",
       "    <tr>\n",
       "      <th>2020-12-28</th>\n",
       "      <td>79000.0</td>\n",
       "      <td>80100.0</td>\n",
       "      <td>78200.0</td>\n",
       "      <td>78700.0</td>\n",
       "      <td>78700.0</td>\n",
       "      <td>40085044</td>\n",
       "    </tr>\n",
       "    <tr>\n",
       "      <th>2020-12-29</th>\n",
       "      <td>78800.0</td>\n",
       "      <td>78900.0</td>\n",
       "      <td>77300.0</td>\n",
       "      <td>78300.0</td>\n",
       "      <td>78300.0</td>\n",
       "      <td>30339449</td>\n",
       "    </tr>\n",
       "    <tr>\n",
       "      <th>2020-12-30</th>\n",
       "      <td>77400.0</td>\n",
       "      <td>81300.0</td>\n",
       "      <td>77300.0</td>\n",
       "      <td>81000.0</td>\n",
       "      <td>81000.0</td>\n",
       "      <td>29417421</td>\n",
       "    </tr>\n",
       "    <tr>\n",
       "      <th>2021-01-04</th>\n",
       "      <td>81000.0</td>\n",
       "      <td>84400.0</td>\n",
       "      <td>80200.0</td>\n",
       "      <td>83000.0</td>\n",
       "      <td>83000.0</td>\n",
       "      <td>38655276</td>\n",
       "    </tr>\n",
       "    <tr>\n",
       "      <th>2021-01-05</th>\n",
       "      <td>81600.0</td>\n",
       "      <td>83900.0</td>\n",
       "      <td>81600.0</td>\n",
       "      <td>83900.0</td>\n",
       "      <td>83900.0</td>\n",
       "      <td>35335669</td>\n",
       "    </tr>\n",
       "    <tr>\n",
       "      <th>2021-01-06</th>\n",
       "      <td>83300.0</td>\n",
       "      <td>84500.0</td>\n",
       "      <td>82100.0</td>\n",
       "      <td>82200.0</td>\n",
       "      <td>82200.0</td>\n",
       "      <td>42089013</td>\n",
       "    </tr>\n",
       "    <tr>\n",
       "      <th>2021-01-07</th>\n",
       "      <td>82800.0</td>\n",
       "      <td>84200.0</td>\n",
       "      <td>82700.0</td>\n",
       "      <td>82900.0</td>\n",
       "      <td>82900.0</td>\n",
       "      <td>32644642</td>\n",
       "    </tr>\n",
       "    <tr>\n",
       "      <th>2021-01-08</th>\n",
       "      <td>83300.0</td>\n",
       "      <td>90000.0</td>\n",
       "      <td>83000.0</td>\n",
       "      <td>88800.0</td>\n",
       "      <td>88800.0</td>\n",
       "      <td>59013307</td>\n",
       "    </tr>\n",
       "    <tr>\n",
       "      <th>2021-01-11</th>\n",
       "      <td>90000.0</td>\n",
       "      <td>96800.0</td>\n",
       "      <td>89500.0</td>\n",
       "      <td>91000.0</td>\n",
       "      <td>91000.0</td>\n",
       "      <td>89406371</td>\n",
       "    </tr>\n",
       "  </tbody>\n",
       "</table>\n",
       "</div>"
      ],
      "text/plain": [
       "               Open     High      Low    Close  Adj Close    Volume\n",
       "Date                                                               \n",
       "2020-12-24  74100.0  78800.0  74000.0  77800.0    77800.0  32502870\n",
       "2020-12-28  79000.0  80100.0  78200.0  78700.0    78700.0  40085044\n",
       "2020-12-29  78800.0  78900.0  77300.0  78300.0    78300.0  30339449\n",
       "2020-12-30  77400.0  81300.0  77300.0  81000.0    81000.0  29417421\n",
       "2021-01-04  81000.0  84400.0  80200.0  83000.0    83000.0  38655276\n",
       "2021-01-05  81600.0  83900.0  81600.0  83900.0    83900.0  35335669\n",
       "2021-01-06  83300.0  84500.0  82100.0  82200.0    82200.0  42089013\n",
       "2021-01-07  82800.0  84200.0  82700.0  82900.0    82900.0  32644642\n",
       "2021-01-08  83300.0  90000.0  83000.0  88800.0    88800.0  59013307\n",
       "2021-01-11  90000.0  96800.0  89500.0  91000.0    91000.0  89406371"
      ]
     },
     "execution_count": 10,
     "metadata": {},
     "output_type": "execute_result"
    }
   ],
   "source": [
    "sec.tail(10)"
   ]
  },
  {
   "cell_type": "code",
   "execution_count": 12,
   "metadata": {},
   "outputs": [
    {
     "data": {
      "text/html": [
       "<div>\n",
       "<style scoped>\n",
       "    .dataframe tbody tr th:only-of-type {\n",
       "        vertical-align: middle;\n",
       "    }\n",
       "\n",
       "    .dataframe tbody tr th {\n",
       "        vertical-align: top;\n",
       "    }\n",
       "\n",
       "    .dataframe thead th {\n",
       "        text-align: right;\n",
       "    }\n",
       "</style>\n",
       "<table border=\"1\" class=\"dataframe\">\n",
       "  <thead>\n",
       "    <tr style=\"text-align: right;\">\n",
       "      <th></th>\n",
       "      <th>Open</th>\n",
       "      <th>High</th>\n",
       "      <th>Low</th>\n",
       "      <th>Close</th>\n",
       "      <th>Adj Close</th>\n",
       "      <th>Volume</th>\n",
       "    </tr>\n",
       "    <tr>\n",
       "      <th>Date</th>\n",
       "      <th></th>\n",
       "      <th></th>\n",
       "      <th></th>\n",
       "      <th></th>\n",
       "      <th></th>\n",
       "      <th></th>\n",
       "    </tr>\n",
       "  </thead>\n",
       "  <tbody>\n",
       "    <tr>\n",
       "      <th>2018-05-03</th>\n",
       "      <td>92.959999</td>\n",
       "      <td>94.930000</td>\n",
       "      <td>92.449997</td>\n",
       "      <td>94.070000</td>\n",
       "      <td>90.590263</td>\n",
       "      <td>31142500</td>\n",
       "    </tr>\n",
       "    <tr>\n",
       "      <th>2018-05-04</th>\n",
       "      <td>93.320000</td>\n",
       "      <td>95.370003</td>\n",
       "      <td>92.919998</td>\n",
       "      <td>95.160004</td>\n",
       "      <td>91.639946</td>\n",
       "      <td>22531300</td>\n",
       "    </tr>\n",
       "    <tr>\n",
       "      <th>2018-05-07</th>\n",
       "      <td>95.169998</td>\n",
       "      <td>96.709999</td>\n",
       "      <td>95.099998</td>\n",
       "      <td>96.220001</td>\n",
       "      <td>92.660728</td>\n",
       "      <td>24242000</td>\n",
       "    </tr>\n",
       "    <tr>\n",
       "      <th>2018-05-08</th>\n",
       "      <td>95.849998</td>\n",
       "      <td>96.160004</td>\n",
       "      <td>95.059998</td>\n",
       "      <td>95.809998</td>\n",
       "      <td>92.265900</td>\n",
       "      <td>23484600</td>\n",
       "    </tr>\n",
       "    <tr>\n",
       "      <th>2018-05-09</th>\n",
       "      <td>96.010002</td>\n",
       "      <td>96.970001</td>\n",
       "      <td>95.050003</td>\n",
       "      <td>96.940002</td>\n",
       "      <td>93.354095</td>\n",
       "      <td>27327400</td>\n",
       "    </tr>\n",
       "    <tr>\n",
       "      <th>2018-05-10</th>\n",
       "      <td>97.459999</td>\n",
       "      <td>97.949997</td>\n",
       "      <td>97.050003</td>\n",
       "      <td>97.910004</td>\n",
       "      <td>94.288223</td>\n",
       "      <td>22388100</td>\n",
       "    </tr>\n",
       "    <tr>\n",
       "      <th>2018-05-11</th>\n",
       "      <td>97.800003</td>\n",
       "      <td>97.870003</td>\n",
       "      <td>97.040001</td>\n",
       "      <td>97.699997</td>\n",
       "      <td>94.085976</td>\n",
       "      <td>16778300</td>\n",
       "    </tr>\n",
       "    <tr>\n",
       "      <th>2018-05-14</th>\n",
       "      <td>97.919998</td>\n",
       "      <td>98.690002</td>\n",
       "      <td>97.309998</td>\n",
       "      <td>98.029999</td>\n",
       "      <td>94.403786</td>\n",
       "      <td>19454100</td>\n",
       "    </tr>\n",
       "    <tr>\n",
       "      <th>2018-05-15</th>\n",
       "      <td>97.239998</td>\n",
       "      <td>97.849998</td>\n",
       "      <td>96.339996</td>\n",
       "      <td>97.320000</td>\n",
       "      <td>93.720055</td>\n",
       "      <td>24594000</td>\n",
       "    </tr>\n",
       "    <tr>\n",
       "      <th>2018-05-16</th>\n",
       "      <td>97.360001</td>\n",
       "      <td>97.400002</td>\n",
       "      <td>96.620003</td>\n",
       "      <td>97.150002</td>\n",
       "      <td>93.961853</td>\n",
       "      <td>17384700</td>\n",
       "    </tr>\n",
       "  </tbody>\n",
       "</table>\n",
       "</div>"
      ],
      "text/plain": [
       "                 Open       High        Low      Close  Adj Close    Volume\n",
       "Date                                                                       \n",
       "2018-05-03  92.959999  94.930000  92.449997  94.070000  90.590263  31142500\n",
       "2018-05-04  93.320000  95.370003  92.919998  95.160004  91.639946  22531300\n",
       "2018-05-07  95.169998  96.709999  95.099998  96.220001  92.660728  24242000\n",
       "2018-05-08  95.849998  96.160004  95.059998  95.809998  92.265900  23484600\n",
       "2018-05-09  96.010002  96.970001  95.050003  96.940002  93.354095  27327400\n",
       "2018-05-10  97.459999  97.949997  97.050003  97.910004  94.288223  22388100\n",
       "2018-05-11  97.800003  97.870003  97.040001  97.699997  94.085976  16778300\n",
       "2018-05-14  97.919998  98.690002  97.309998  98.029999  94.403786  19454100\n",
       "2018-05-15  97.239998  97.849998  96.339996  97.320000  93.720055  24594000\n",
       "2018-05-16  97.360001  97.400002  96.620003  97.150002  93.961853  17384700"
      ]
     },
     "execution_count": 12,
     "metadata": {},
     "output_type": "execute_result"
    }
   ],
   "source": [
    "msft.head(10)"
   ]
  },
  {
   "cell_type": "code",
   "execution_count": 13,
   "metadata": {},
   "outputs": [
    {
     "data": {
      "text/plain": [
       "DatetimeIndex(['2018-05-04', '2018-05-08', '2018-05-09', '2018-05-10',\n",
       "               '2018-05-11', '2018-05-14', '2018-05-15', '2018-05-16',\n",
       "               '2018-05-17', '2018-05-18',\n",
       "               ...\n",
       "               '2020-12-24', '2020-12-28', '2020-12-29', '2020-12-30',\n",
       "               '2021-01-04', '2021-01-05', '2021-01-06', '2021-01-07',\n",
       "               '2021-01-08', '2021-01-11'],\n",
       "              dtype='datetime64[ns]', name='Date', length=658, freq=None)"
      ]
     },
     "execution_count": 13,
     "metadata": {},
     "output_type": "execute_result"
    }
   ],
   "source": [
    "sec.index"
   ]
  },
  {
   "cell_type": "code",
   "execution_count": 19,
   "metadata": {},
   "outputs": [
    {
     "name": "stdout",
     "output_type": "stream",
     "text": [
      "[*********************100%***********************]  1 of 1 completed\n",
      "[*********************100%***********************]  1 of 1 completed\n"
     ]
    },
    {
     "data": {
      "image/png": "[encoded data removed]",
      "text/plain": [
       "<Figure size 432x288 with 1 Axes>"
      ]
     },
     "metadata": {
      "needs_background": "light"
     },
     "output_type": "display_data"
    }
   ],
   "source": [
    "# 종가 그래프 출력\n",
    "from pandas_datareader import data as pdr\n",
    "import yfinance as yf\n",
    "\n",
    "yf.pdr_override() #pdr_override(), pands_datareader.data.get_data_yahoo() 함수를 사용해서 빠르게 데이터를 다운\n",
    "sec = pdr.get_data_yahoo('005930.KS', start = '2018-05-04') #삼성전자 액면분할 시작일로 지정했음^^, 종료일 생략해 오늘날로 지정\n",
    "msft = pdr.get_data_yahoo('MSFT', start = '2018-05-04')\n",
    "\n",
    "import matplotlib.pyplot as plt\n",
    "plt.plot(sec.index, sec.Close, 'b', label = 'Samsung Electronics') #x좌표는 날짜 인덱스, y는 종가\n",
    "plt.plot(msft.index, msft.Close, 'r--', label = 'Microsoft')\n",
    "plt.legend(loc='best') #범례 위치 'best' 는 그래프가 표시되지 않는 곳에 알아서 범례가 간다\n",
    "plt.show()"
   ]
  },
  {
   "cell_type": "code",
   "execution_count": 21,
   "metadata": {},
   "outputs": [
    {
     "data": {
      "text/plain": [
       "Date\n",
       "2018-05-04        NaN\n",
       "2018-05-08    51900.0\n",
       "2018-05-09    52600.0\n",
       "2018-05-10    50900.0\n",
       "2018-05-11    51600.0\n",
       "2018-05-14    51300.0\n",
       "2018-05-15    50100.0\n",
       "2018-05-16    49200.0\n",
       "2018-05-17    49850.0\n",
       "2018-05-18    49400.0\n",
       "2018-05-21    49500.0\n",
       "2018-05-23    50000.0\n",
       "2018-05-24    51800.0\n",
       "2018-05-25    51400.0\n",
       "2018-05-28    52700.0\n",
       "2018-05-29    52300.0\n",
       "2018-05-30    51300.0\n",
       "2018-05-31    49500.0\n",
       "2018-06-01    50700.0\n",
       "2018-06-04    51300.0\n",
       "2018-06-05    51100.0\n",
       "2018-06-07    51300.0\n",
       "2018-06-08    50600.0\n",
       "2018-06-11    49650.0\n",
       "2018-06-12    49900.0\n",
       "2018-06-14    49400.0\n",
       "2018-06-15    48200.0\n",
       "2018-06-18    47650.0\n",
       "2018-06-19    46600.0\n",
       "2018-06-20    47000.0\n",
       "               ...   \n",
       "2020-11-26    66600.0\n",
       "2020-11-27    68000.0\n",
       "2020-11-30    68200.0\n",
       "2020-12-01    66700.0\n",
       "2020-12-02    67800.0\n",
       "2020-12-03    69500.0\n",
       "2020-12-04    69700.0\n",
       "2020-12-07    71500.0\n",
       "2020-12-08    72900.0\n",
       "2020-12-09    71700.0\n",
       "2020-12-10    73900.0\n",
       "2020-12-11    72900.0\n",
       "2020-12-14    73400.0\n",
       "2020-12-15    73800.0\n",
       "2020-12-16    73800.0\n",
       "2020-12-17    73800.0\n",
       "2020-12-18    73300.0\n",
       "2020-12-21    73000.0\n",
       "2020-12-22    73000.0\n",
       "2020-12-23    72300.0\n",
       "2020-12-24    73900.0\n",
       "2020-12-28    77800.0\n",
       "2020-12-29    78700.0\n",
       "2020-12-30    78300.0\n",
       "2021-01-04    81000.0\n",
       "2021-01-05    83000.0\n",
       "2021-01-06    83900.0\n",
       "2021-01-07    82200.0\n",
       "2021-01-08    82900.0\n",
       "2021-01-11    88800.0\n",
       "Name: Close, Length: 658, dtype: float64"
      ]
     },
     "execution_count": 21,
     "metadata": {},
     "output_type": "execute_result"
    }
   ],
   "source": [
    "#변동률을 구하기 위해 종가 확인\n",
    "sec['Close']\n",
    "#shift 함수는 인수 n을 줄경우 데이터가 n행씩 뒤로 이동한다\n",
    "sec['Close'].shift(1) #첫째 날 데이터는 뒤가 없으니 nan으로 표시되고"
   ]
  },
  {
   "cell_type": "code",
   "execution_count": 27,
   "metadata": {},
   "outputs": [
    {
     "data": {
      "text/plain": [
       "Date\n",
       "2018-05-04    0.000000\n",
       "2018-05-08    1.348748\n",
       "2018-05-09   -3.231939\n",
       "2018-05-10    1.375246\n",
       "2018-05-11   -0.581395\n",
       "Name: Close, dtype: float64"
      ]
     },
     "execution_count": 27,
     "metadata": {},
     "output_type": "execute_result"
    }
   ],
   "source": [
    "#변동률 식 구현하자\n",
    "#구현했으면  nan 없애주자 -> 0으로 바꿔\n",
    "sec_doc = (sec['Close']/sec['Close'].shift(1)-1)*100\n",
    "sec_doc.head()\n",
    "#nan 제거\n",
    "sec_doc.iloc[0]=0\n",
    "sec_doc.head()"
   ]
  },
  {
   "cell_type": "code",
   "execution_count": 33,
   "metadata": {},
   "outputs": [
    {
     "data": {
      "text/plain": [
       "Date\n",
       "2018-05-03    0.000000\n",
       "2018-05-04    1.158716\n",
       "2018-05-07    1.113911\n",
       "2018-05-08   -0.426111\n",
       "2018-05-09    1.179423\n",
       "Name: Close, dtype: float64"
      ]
     },
     "execution_count": 33,
     "metadata": {},
     "output_type": "execute_result"
    }
   ],
   "source": [
    "#마이크로소프트 종가 변동률 구허저\n",
    "msft_dpc = (msft['Close']/msft['Close'].shift(1)-1)*100\n",
    "msft_dpc.head()\n",
    "#nan 제끼고\n",
    "msft_dpc.iloc[0]=0\n",
    "msft_dpc.head()"
   ]
  },
  {
   "cell_type": "code",
   "execution_count": 34,
   "metadata": {},
   "outputs": [
    {
     "data": {
      "image/png": "[encoded data removed]",
      "text/plain": [
       "<Figure size 432x288 with 1 Axes>"
      ]
     },
     "metadata": {
      "needs_background": "light"
     },
     "output_type": "display_data"
    }
   ],
   "source": [
    "#변동률 데이터 히스토그램\n",
    "import matplotlib.pyplot as plt\n",
    "sec_doc = (sec['Close']/sec['Close'].shift(1)-1)*100\n",
    "#nan 제거\n",
    "sec_doc.iloc[0]=0\n",
    "plt.hist(sec_doc, bins = 18) #구간을 18개로 나눈다\n",
    "plt.grid(True)\n",
    "plt.show()\n"
   ]
  },
  {
   "cell_type": "code",
   "execution_count": 37,
   "metadata": {},
   "outputs": [
    {
     "data": {
      "image/png": "[encoded data removed]",
      "text/plain": [
       "<Figure size 432x288 with 1 Axes>"
      ]
     },
     "metadata": {
      "needs_background": "light"
     },
     "output_type": "display_data"
    }
   ],
   "source": [
    "msft_dpc = (msft['Close']/msft['Close'].shift(1)-1)*100\n",
    "#nan 제끼고\n",
    "msft_dpc.iloc[0]=0\n",
    "plt.hist(msft_dpc, bins = 18) #구간을 18개로 나눈다\n",
    "plt.grid(True)\n",
    "plt.show()"
   ]
  },
  {
   "cell_type": "code",
   "execution_count": 38,
   "metadata": {},
   "outputs": [
    {
     "data": {
      "text/plain": [
       "count    658.000000\n",
       "mean       0.101097\n",
       "std        1.778893\n",
       "min       -6.387665\n",
       "25%       -0.991300\n",
       "50%        0.107879\n",
       "75%        1.072409\n",
       "max       10.470588\n",
       "Name: Close, dtype: float64"
      ]
     },
     "execution_count": 38,
     "metadata": {},
     "output_type": "execute_result"
    }
   ],
   "source": [
    "sec_doc.describe()"
   ]
  },
  {
   "cell_type": "code",
   "execution_count": 43,
   "metadata": {},
   "outputs": [],
   "source": [
    "#누적합 함수 cumsum()\n",
    "sec_doc_cs = sec_doc.cumsum()\n",
    "#sec_doc_cs\n"
   ]
  },
  {
   "cell_type": "code",
   "execution_count": 44,
   "metadata": {},
   "outputs": [],
   "source": [
    "#마이크로소프트 변동률누적합\n",
    "msft_dpc_cs = msft_dpc.cumsum() "
   ]
  },
  {
   "cell_type": "code",
   "execution_count": 46,
   "metadata": {},
   "outputs": [
    {
     "data": {
      "image/png": "[encoded data removed]",
      "text/plain": [
       "<Figure size 432x288 with 1 Axes>"
      ]
     },
     "metadata": {
      "needs_background": "light"
     },
     "output_type": "display_data"
    }
   ],
   "source": [
    "import matplotlib.pyplot as plt\n",
    "plt.plot(sec.index, sec_doc_cs, 'b', label = \"Samsung_Electorinic\" )\n",
    "plt.plot(msft.index, msft_dpc_cs, 'r--', label = \"Microsoft\")\n",
    "plt.ylabel('Change %')\n",
    "plt.grid(True)\n",
    "plt.legend(loc = 'best')\n",
    "plt.show()"
   ]
  },
  {
   "cell_type": "markdown",
   "metadata": {},
   "source": [
    "## 최대손실낙폭"
   ]
  },
  {
   "cell_type": "code",
   "execution_count": null,
   "metadata": {},
   "outputs": [],
   "source": [
    "#MDD(Maximum Drawdown, 최대손실낙폭) 특정기간 발생한 최고점에서 최저점까지의 가장 큰 손실을 의미\n",
    "#퀸트 투자에서는 수익률을 높이는 것 보다 낮추는게 더 낫다고 할만큼 지표로서  중요\n",
    "#mdd = (최저-최고)/최저점"
   ]
  },
  {
   "cell_type": "code",
   "execution_count": 51,
   "metadata": {},
   "outputs": [
    {
     "name": "stdout",
     "output_type": "stream",
     "text": [
      "[*********************100%***********************]  1 of 1 completed\n"
     ]
    },
    {
     "data": {
      "image/png": "[encoded data removed]",
      "text/plain": [
       "<Figure size 648x504 with 2 Axes>"
      ]
     },
     "metadata": {
      "needs_background": "light"
     },
     "output_type": "display_data"
    }
   ],
   "source": [
    "#kospi mdd\n",
    "#서브프라임 당시 모기지\n",
    "from pandas_datareader import data as pdr\n",
    "import yfinance as yf\n",
    "yf.pdr_override()\n",
    "import matplotlib.pyplot as plt\n",
    "\n",
    "kospi = pdr.get_data_yahoo('^KS11', '2004-01-04') #kospi 심볼은 '^KS11'\n",
    "\n",
    "window = 272 # 대략 휴일 빼고 1년 잡음\n",
    "peak = kospi['Adj Close'].rolling(window,min_periods = 1).max() #kospi 종가 칼럼 1년 단위 최고치를 peak\n",
    "drawdown = kospi['Adj Close']/peak -1.0 #drawdown은 최고치 대비 현재 kospi 종가가 얼마나 하락했는지 구한다\n",
    "max_dd = drawdown.rolling(window, min_periods=1).min()#drawdown에서 1년기간 단위 최저치를 구하자 <- 손실낙폭\n",
    "#그래프\n",
    "plt.figure(figsize =(9,7))\n",
    "plt.subplot(211)#2행1열 첫째\n",
    "kospi['Close'].plot(label = 'Kospi', title = 'KospiMDD', grid = True, legend = True)\n",
    "plt.subplot(212)\n",
    "drawdown.plot(c = 'blue', label = 'KOSPI DD',grid = True, legend = True)\n",
    "max_dd.plot(c = 'red', label ='KOSPI MDD', grid = True, legend = True)\n",
    "plt.show()"
   ]
  },
  {
   "cell_type": "code",
   "execution_count": 50,
   "metadata": {},
   "outputs": [
    {
     "name": "stdout",
     "output_type": "stream",
     "text": [
      "Date\n",
      "2004-01-05    0.000000\n",
      "2004-01-06   -0.000813\n",
      "2004-01-07   -0.000813\n",
      "2004-01-08   -0.003531\n",
      "2004-01-09   -0.003531\n",
      "2004-01-12   -0.003531\n",
      "2004-01-13   -0.003531\n",
      "2004-01-14   -0.003531\n",
      "2004-01-15   -0.006030\n",
      "2004-01-16   -0.006030\n",
      "2004-01-19   -0.006030\n",
      "2004-01-20   -0.006030\n",
      "2004-01-26   -0.006030\n",
      "2004-01-27   -0.006916\n",
      "2004-01-28   -0.010874\n",
      "2004-01-29   -0.017916\n",
      "2004-01-30   -0.023635\n",
      "2004-02-02   -0.023635\n",
      "2004-02-03   -0.033566\n",
      "2004-02-04   -0.038594\n",
      "2004-02-05   -0.038594\n",
      "2004-02-06   -0.038594\n",
      "2004-02-09   -0.038594\n",
      "2004-02-10   -0.038594\n",
      "2004-02-11   -0.038594\n",
      "2004-02-12   -0.038594\n",
      "2004-02-13   -0.038594\n",
      "2004-02-16   -0.038594\n",
      "2004-02-17   -0.038594\n",
      "2004-02-18   -0.038594\n",
      "                ...   \n",
      "2020-11-26   -0.357089\n",
      "2020-11-27   -0.357089\n",
      "2020-11-30   -0.357089\n",
      "2020-12-01   -0.357089\n",
      "2020-12-02   -0.357089\n",
      "2020-12-03   -0.357089\n",
      "2020-12-04   -0.357089\n",
      "2020-12-07   -0.357089\n",
      "2020-12-08   -0.357089\n",
      "2020-12-09   -0.357089\n",
      "2020-12-10   -0.357089\n",
      "2020-12-11   -0.357089\n",
      "2020-12-14   -0.357089\n",
      "2020-12-15   -0.357089\n",
      "2020-12-16   -0.357089\n",
      "2020-12-17   -0.357089\n",
      "2020-12-18   -0.357089\n",
      "2020-12-21   -0.357089\n",
      "2020-12-22   -0.357089\n",
      "2020-12-23   -0.357089\n",
      "2020-12-24   -0.357089\n",
      "2020-12-28   -0.357089\n",
      "2020-12-29   -0.357089\n",
      "2020-12-30   -0.357089\n",
      "2021-01-04   -0.357089\n",
      "2021-01-05   -0.357089\n",
      "2021-01-06   -0.357089\n",
      "2021-01-07   -0.357089\n",
      "2021-01-08   -0.357089\n",
      "2021-01-11   -0.357089\n",
      "Name: Adj Close, Length: 4195, dtype: float64\n"
     ]
    }
   ],
   "source": [
    "max_dd = drawdown.rolling(window, min_periods=1).min()\n",
    "print(max_dd)"
   ]
  },
  {
   "cell_type": "markdown",
   "metadata": {},
   "source": [
    "# 회귀분석 , 상관관계"
   ]
  },
  {
   "cell_type": "markdown",
   "metadata": {},
   "source": [
    "## KOSPI, 다우 존수 지수 비교"
   ]
  },
  {
   "cell_type": "code",
   "execution_count": 53,
   "metadata": {},
   "outputs": [
    {
     "name": "stdout",
     "output_type": "stream",
     "text": [
      "[*********************100%***********************]  1 of 1 completed\n",
      "[*********************100%***********************]  1 of 1 completed\n"
     ]
    },
    {
     "data": {
      "image/png": "[encoded data removed]",
      "text/plain": [
       "<Figure size 648x360 with 1 Axes>"
      ]
     },
     "metadata": {
      "needs_background": "light"
     },
     "output_type": "display_data"
    }
   ],
   "source": [
    "from pandas_datareader import data as pdr\n",
    "import yfinance as yf\n",
    "yf.pdr_override()\n",
    "\n",
    "dow = pdr.get_data_yahoo('^DJI', '2000-01-04') #2000년 이후 다우존스 지수 다운\n",
    "kospi = pdr.get_data_yahoo('^KS11', '2000-01-04') #마찬가지 2000년 이후 코스피 다운\n",
    "\n",
    "import matplotlib.pyplot as plt\n",
    "plt.figure(figsize=(9,5))\n",
    "plt.plot(dow.index, dow.Close, 'r--', label = 'Dow Jones Industrial') #다우존스 지수를 붉은 점선으로 출력\n",
    "plt.plot(kospi.index, kospi.Close, 'b', label = 'KOSPI') #코스피 파란색\n",
    "plt.legend(loc = 'best')\n",
    "plt.show()"
   ]
  },
  {
   "cell_type": "code",
   "execution_count": 59,
   "metadata": {},
   "outputs": [
    {
     "data": {
      "image/png": "[encoded data removed]",
      "text/plain": [
       "<Figure size 648x360 with 1 Axes>"
      ]
     },
     "metadata": {
      "needs_background": "light"
     },
     "output_type": "display_data"
    }
   ],
   "source": [
    "#지수화를 해주자\n",
    "d = (dow.Close/ dow.Close.loc['2000-01-04'])*100\n",
    "k = (kospi.Close/kospi.Close.loc['2000-01-04'])*100\n",
    "#오늘 종가를 처음 종가로 나눈뒤 100을 곱하면 처음 종가 대비 오늘의 변동률을 알 수 있다.\n",
    "\n",
    "#지수화한거 그래프로 그려보자\n",
    "import matplotlib.pyplot as plt\n",
    "plt.figure(figsize = (9,5))\n",
    "plt.plot(d.index, d,'r--',label='Dow Jones Industrial Average')\n",
    "plt.plot(k.index, k,'b', label = 'Kospi')\n",
    "plt.grid(True)\n",
    "plt.legend(loc='best')\n",
    "plt.show()"
   ]
  },
  {
   "cell_type": "code",
   "execution_count": 69,
   "metadata": {},
   "outputs": [
    {
     "data": {
      "image/png": "[encoded data removed]",
      "text/plain": [
       "<Figure size 504x504 with 1 Axes>"
      ]
     },
     "metadata": {
      "needs_background": "light"
     },
     "output_type": "display_data"
    }
   ],
   "source": [
    "#상관관계 확인을 위해 한점도를 그리자\n",
    "# x = 다우존수\n",
    "# y = 코스피로 정했다\n",
    "import pandas as pd\n",
    "len(dow), len(kospi) #데이터의 개수가 다르기 때문에 이대로 만 들면 오류만 나온다\n",
    "\n",
    "#다우존스 지수의 종가 칼럼과 코스피 종가 칼럼을 합쳐서 데이터프레임 생성하자\n",
    "#둘의 자료가 합쳐졌을 때 인덱스(수)가 안 맞으면  nan으로 자동으로 채워주기 때문에 전체 개수가 최대값으로 맞춰진다\n",
    "df = pd.DataFrame({'DOW': dow['Close'], 'KOSPI':kospi['Close']})\n",
    "#이제 중간에 껴있는 nan 들을 채워보자\n",
    "df = df.fillna(method = 'bfill') #na를 채우는 방식 중 뒤에있는 값을 가져와서 nan을 채우는 것\n",
    "df = df.fillna(method = 'ffill') #뒤에 값이 없을 때도있으니 앞에걸로 채우자\n",
    "\n",
    "#그래프그리자\n",
    "import matplotlib.pyplot as plt\n",
    "plt.figure(figsize=(7,7))\n",
    "plt.scatter(df['DOW'],df['KOSPI'], marker='.') \n",
    "plt.xlabel('DOW Jones Industrial Average')\n",
    "plt.ylabel('KOSPI')\n",
    "plt.show()"
   ]
  },
  {
   "cell_type": "markdown",
   "metadata": {},
   "source": [
    "## 회귀분석을 위한 사이파이"
   ]
  },
  {
   "cell_type": "code",
   "execution_count": 71,
   "metadata": {},
   "outputs": [
    {
     "data": {
      "text/plain": [
       "LinregressResult(slope=0.07714156278458652, intercept=454.1306515575591, rvalue=0.7590669062070657, pvalue=0.0, stderr=0.0008965178989414939)"
      ]
     },
     "execution_count": 71,
     "metadata": {},
     "output_type": "execute_result"
    }
   ],
   "source": [
    "\n",
    "#회귀식 모델 코드\n",
    "# model = stats.linregress(x,y)\n",
    "from scipy import stats\n",
    "regr = stats.linregress(df['DOW'],df['KOSPI'])\n",
    "regr"
   ]
  },
  {
   "cell_type": "code",
   "execution_count": 73,
   "metadata": {},
   "outputs": [
    {
     "data": {
      "text/html": [
       "<div>\n",
       "<style scoped>\n",
       "    .dataframe tbody tr th:only-of-type {\n",
       "        vertical-align: middle;\n",
       "    }\n",
       "\n",
       "    .dataframe tbody tr th {\n",
       "        vertical-align: top;\n",
       "    }\n",
       "\n",
       "    .dataframe thead th {\n",
       "        text-align: right;\n",
       "    }\n",
       "</style>\n",
       "<table border=\"1\" class=\"dataframe\">\n",
       "  <thead>\n",
       "    <tr style=\"text-align: right;\">\n",
       "      <th></th>\n",
       "      <th>DOW</th>\n",
       "      <th>KOSPI</th>\n",
       "    </tr>\n",
       "  </thead>\n",
       "  <tbody>\n",
       "    <tr>\n",
       "      <th>DOW</th>\n",
       "      <td>1.000000</td>\n",
       "      <td>0.759067</td>\n",
       "    </tr>\n",
       "    <tr>\n",
       "      <th>KOSPI</th>\n",
       "      <td>0.759067</td>\n",
       "      <td>1.000000</td>\n",
       "    </tr>\n",
       "  </tbody>\n",
       "</table>\n",
       "</div>"
      ],
      "text/plain": [
       "            DOW     KOSPI\n",
       "DOW    1.000000  0.759067\n",
       "KOSPI  0.759067  1.000000"
      ]
     },
     "execution_count": 73,
     "metadata": {},
     "output_type": "execute_result"
    }
   ],
   "source": [
    "df.corr()"
   ]
  },
  {
   "cell_type": "code",
   "execution_count": 75,
   "metadata": {},
   "outputs": [
    {
     "data": {
      "text/plain": [
       "0.5761825680987663"
      ]
     },
     "execution_count": 75,
     "metadata": {},
     "output_type": "execute_result"
    }
   ],
   "source": [
    "#결정계수 = 상관계수 ^2\n",
    "r_value = df['DOW'].corr(df['KOSPI'])\n",
    "r_square = r_value**2\n",
    "r_square"
   ]
  },
  {
   "cell_type": "code",
   "execution_count": 76,
   "metadata": {},
   "outputs": [
    {
     "data": {
      "image/png": "[encoded data removed]",
      "text/plain": [
       "<Figure size 504x504 with 1 Axes>"
      ]
     },
     "metadata": {
      "needs_background": "light"
     },
     "output_type": "display_data"
    }
   ],
   "source": [
    "#회귀선 그리자\n",
    "# x = 다우존수\n",
    "# y = 코스피로 정했다\n",
    "import pandas as pd\n",
    "len(dow), len(kospi) #데이터의 개수가 다르기 때문에 이대로 만 들면 오류만 나온다\n",
    "\n",
    "#다우존스 지수의 종가 칼럼과 코스피 종가 칼럼을 합쳐서 데이터프레임 생성하자\n",
    "#둘의 자료가 합쳐졌을 때 인덱스(수)가 안 맞으면  nan으로 자동으로 채워주기 때문에 전체 개수가 최대값으로 맞춰진다\n",
    "df = pd.DataFrame({'X': dow['Close'], 'Y':kospi['Close']})\n",
    "#이제 중간에 껴있는 nan 들을 채워보자\n",
    "df = df.fillna(method = 'bfill') #na를 채우는 방식 중 뒤에있는 값을 가져와서 nan을 채우는 것\n",
    "df = df.fillna(method = 'ffill') #뒤에 값이 없을 때도있으니 앞에걸로 채우자\n",
    "\n",
    "#회귀식\n",
    "regr = stats.linregress(df.X, df.Y)\n",
    "regr_line = f'Y = {regr.slope:.2f} * X + {regr.intercept:.2f}'\n",
    "\n",
    "#그래프그리자\n",
    "import matplotlib.pyplot as plt\n",
    "plt.figure(figsize=(7,7))\n",
    "plt.scatter(df.X,df.Y, marker='.') \n",
    "plt.plot(df.X,regr.slope *df.X +regr.intercept, 'r') # 회귀 그래프\n",
    "plt.legend(['DON x KOSPI', regr_line])\n",
    "plt.title(f'DOW X KOSPI(R ={regr.rvalue:.2f})')\n",
    "plt.xlabel('DOW Jones Industrial Average')\n",
    "plt.ylabel('KOSPI')\n",
    "plt.show()"
   ]
  },
  {
   "cell_type": "code",
   "execution_count": null,
   "metadata": {},
   "outputs": [],
   "source": []
  },
  {
   "cell_type": "code",
   "execution_count": null,
   "metadata": {},
   "outputs": [],
   "source": []
  },
  {
   "cell_type": "code",
   "execution_count": null,
   "metadata": {},
   "outputs": [],
   "source": []
  },
  {
   "cell_type": "code",
   "execution_count": null,
   "metadata": {},
   "outputs": [],
   "source": []
  },
  {
   "cell_type": "code",
   "execution_count": null,
   "metadata": {},
   "outputs": [],
   "source": []
  },
  {
   "cell_type": "code",
   "execution_count": null,
   "metadata": {},
   "outputs": [],
   "source": []
  },
  {
   "cell_type": "code",
   "execution_count": null,
   "metadata": {},
   "outputs": [],
   "source": []
  }
 ],
 "metadata": {
  "kernelspec": {
   "display_name": "Python 3",
   "language": "python",
   "name": "python3"
  },
  "language_info": {
   "codemirror_mode": {
    "name": "ipython",
    "version": 3
   },
   "file_extension": ".py",
   "mimetype": "text/x-python",
   "name": "python",
   "nbconvert_exporter": "python",
   "pygments_lexer": "ipython3",
   "version": "3.7.3"
  }
 },
 "nbformat": 4,
 "nbformat_minor": 2
}
