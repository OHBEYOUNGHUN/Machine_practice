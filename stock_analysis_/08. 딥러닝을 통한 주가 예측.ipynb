{
 "cells": [
  {
   "cell_type": "markdown",
   "metadata": {},
   "source": [
    "### 퍼셉트론 알고리즘 "
   ]
  },
  {
   "cell_type": "code",
   "execution_count": 4,
   "metadata": {},
   "outputs": [],
   "source": [
    "#and 논리회로 구현\n",
    "def And(x1, x2):\n",
    "    w1 = 0.5\n",
    "    w2 = 0.5\n",
    "    theta = 0.7 #임계값\n",
    "    if x1*w1+x2*w2 > theta:\n",
    "        return 1\n",
    "    else:\n",
    "        return 0\n",
    "    \n",
    "#Nand 회로\n",
    "def NAnd(x1, x2):\n",
    "    w1 = -0.5\n",
    "    w2 = -0.5\n",
    "    theta = -0.7 #임계값\n",
    "    if x1*w1+x2*w2 > theta:\n",
    "        return 1\n",
    "    else:\n",
    "        return 0\n",
    "\n",
    "#or 회로\n",
    "def OR(x1, x2):\n",
    "    w1 = 0.5\n",
    "    w2 = 0.5\n",
    "    theta = 0.2 #임계값\n",
    "    if x1*w1+x2*w2 > theta:\n",
    "        return 1\n",
    "    else:\n",
    "        return 0\n",
    "    \n",
    "#xor\n",
    "def XOR(x1,x2):\n",
    "    return And(NAnd(x1,x2), OR(x1,x2))"
   ]
  },
  {
   "cell_type": "markdown",
   "metadata": {},
   "source": [
    "### 계단함수"
   ]
  },
  {
   "cell_type": "code",
   "execution_count": 6,
   "metadata": {},
   "outputs": [
    {
     "data": {
      "image/png": "[encoded data removed]",
      "text/plain": [
       "<Figure size 432x288 with 1 Axes>"
      ]
     },
     "metadata": {
      "needs_background": "light"
     },
     "output_type": "display_data"
    }
   ],
   "source": [
    "import numpy as np\n",
    "import matplotlib.pyplot as plt\n",
    "\n",
    "def stepfunc(x):\n",
    "    return np.where(x <= 0,0,1) #x값이 부등식을 만족하면 0을반환, 만족못하면1반환\n",
    "\n",
    "x = np.arange(-10,10,0.1) #-10부터 9.9까지 소수 배열\n",
    "y = stepfunc(x)\n",
    "\n",
    "plt.plot(x,y)\n",
    "plt.title('step function')\n",
    "plt.show()"
   ]
  },
  {
   "cell_type": "code",
   "execution_count": 7,
   "metadata": {},
   "outputs": [
    {
     "data": {
      "text/plain": [
       "array([-1.00000000e+01, -9.90000000e+00, -9.80000000e+00, -9.70000000e+00,\n",
       "       -9.60000000e+00, -9.50000000e+00, -9.40000000e+00, -9.30000000e+00,\n",
       "       -9.20000000e+00, -9.10000000e+00, -9.00000000e+00, -8.90000000e+00,\n",
       "       -8.80000000e+00, -8.70000000e+00, -8.60000000e+00, -8.50000000e+00,\n",
       "       -8.40000000e+00, -8.30000000e+00, -8.20000000e+00, -8.10000000e+00,\n",
       "       -8.00000000e+00, -7.90000000e+00, -7.80000000e+00, -7.70000000e+00,\n",
       "       -7.60000000e+00, -7.50000000e+00, -7.40000000e+00, -7.30000000e+00,\n",
       "       -7.20000000e+00, -7.10000000e+00, -7.00000000e+00, -6.90000000e+00,\n",
       "       -6.80000000e+00, -6.70000000e+00, -6.60000000e+00, -6.50000000e+00,\n",
       "       -6.40000000e+00, -6.30000000e+00, -6.20000000e+00, -6.10000000e+00,\n",
       "       -6.00000000e+00, -5.90000000e+00, -5.80000000e+00, -5.70000000e+00,\n",
       "       -5.60000000e+00, -5.50000000e+00, -5.40000000e+00, -5.30000000e+00,\n",
       "       -5.20000000e+00, -5.10000000e+00, -5.00000000e+00, -4.90000000e+00,\n",
       "       -4.80000000e+00, -4.70000000e+00, -4.60000000e+00, -4.50000000e+00,\n",
       "       -4.40000000e+00, -4.30000000e+00, -4.20000000e+00, -4.10000000e+00,\n",
       "       -4.00000000e+00, -3.90000000e+00, -3.80000000e+00, -3.70000000e+00,\n",
       "       -3.60000000e+00, -3.50000000e+00, -3.40000000e+00, -3.30000000e+00,\n",
       "       -3.20000000e+00, -3.10000000e+00, -3.00000000e+00, -2.90000000e+00,\n",
       "       -2.80000000e+00, -2.70000000e+00, -2.60000000e+00, -2.50000000e+00,\n",
       "       -2.40000000e+00, -2.30000000e+00, -2.20000000e+00, -2.10000000e+00,\n",
       "       -2.00000000e+00, -1.90000000e+00, -1.80000000e+00, -1.70000000e+00,\n",
       "       -1.60000000e+00, -1.50000000e+00, -1.40000000e+00, -1.30000000e+00,\n",
       "       -1.20000000e+00, -1.10000000e+00, -1.00000000e+00, -9.00000000e-01,\n",
       "       -8.00000000e-01, -7.00000000e-01, -6.00000000e-01, -5.00000000e-01,\n",
       "       -4.00000000e-01, -3.00000000e-01, -2.00000000e-01, -1.00000000e-01,\n",
       "       -3.55271368e-14,  1.00000000e-01,  2.00000000e-01,  3.00000000e-01,\n",
       "        4.00000000e-01,  5.00000000e-01,  6.00000000e-01,  7.00000000e-01,\n",
       "        8.00000000e-01,  9.00000000e-01,  1.00000000e+00,  1.10000000e+00,\n",
       "        1.20000000e+00,  1.30000000e+00,  1.40000000e+00,  1.50000000e+00,\n",
       "        1.60000000e+00,  1.70000000e+00,  1.80000000e+00,  1.90000000e+00,\n",
       "        2.00000000e+00,  2.10000000e+00,  2.20000000e+00,  2.30000000e+00,\n",
       "        2.40000000e+00,  2.50000000e+00,  2.60000000e+00,  2.70000000e+00,\n",
       "        2.80000000e+00,  2.90000000e+00,  3.00000000e+00,  3.10000000e+00,\n",
       "        3.20000000e+00,  3.30000000e+00,  3.40000000e+00,  3.50000000e+00,\n",
       "        3.60000000e+00,  3.70000000e+00,  3.80000000e+00,  3.90000000e+00,\n",
       "        4.00000000e+00,  4.10000000e+00,  4.20000000e+00,  4.30000000e+00,\n",
       "        4.40000000e+00,  4.50000000e+00,  4.60000000e+00,  4.70000000e+00,\n",
       "        4.80000000e+00,  4.90000000e+00,  5.00000000e+00,  5.10000000e+00,\n",
       "        5.20000000e+00,  5.30000000e+00,  5.40000000e+00,  5.50000000e+00,\n",
       "        5.60000000e+00,  5.70000000e+00,  5.80000000e+00,  5.90000000e+00,\n",
       "        6.00000000e+00,  6.10000000e+00,  6.20000000e+00,  6.30000000e+00,\n",
       "        6.40000000e+00,  6.50000000e+00,  6.60000000e+00,  6.70000000e+00,\n",
       "        6.80000000e+00,  6.90000000e+00,  7.00000000e+00,  7.10000000e+00,\n",
       "        7.20000000e+00,  7.30000000e+00,  7.40000000e+00,  7.50000000e+00,\n",
       "        7.60000000e+00,  7.70000000e+00,  7.80000000e+00,  7.90000000e+00,\n",
       "        8.00000000e+00,  8.10000000e+00,  8.20000000e+00,  8.30000000e+00,\n",
       "        8.40000000e+00,  8.50000000e+00,  8.60000000e+00,  8.70000000e+00,\n",
       "        8.80000000e+00,  8.90000000e+00,  9.00000000e+00,  9.10000000e+00,\n",
       "        9.20000000e+00,  9.30000000e+00,  9.40000000e+00,  9.50000000e+00,\n",
       "        9.60000000e+00,  9.70000000e+00,  9.80000000e+00,  9.90000000e+00])"
      ]
     },
     "execution_count": 7,
     "metadata": {},
     "output_type": "execute_result"
    }
   ],
   "source": [
    "x"
   ]
  },
  {
   "cell_type": "code",
   "execution_count": 8,
   "metadata": {},
   "outputs": [
    {
     "data": {
      "text/plain": [
       "array([0, 0, 0, 0, 0, 0, 0, 0, 0, 0, 0, 0, 0, 0, 0, 0, 0, 0, 0, 0, 0, 0,\n",
       "       0, 0, 0, 0, 0, 0, 0, 0, 0, 0, 0, 0, 0, 0, 0, 0, 0, 0, 0, 0, 0, 0,\n",
       "       0, 0, 0, 0, 0, 0, 0, 0, 0, 0, 0, 0, 0, 0, 0, 0, 0, 0, 0, 0, 0, 0,\n",
       "       0, 0, 0, 0, 0, 0, 0, 0, 0, 0, 0, 0, 0, 0, 0, 0, 0, 0, 0, 0, 0, 0,\n",
       "       0, 0, 0, 0, 0, 0, 0, 0, 0, 0, 0, 0, 0, 1, 1, 1, 1, 1, 1, 1, 1, 1,\n",
       "       1, 1, 1, 1, 1, 1, 1, 1, 1, 1, 1, 1, 1, 1, 1, 1, 1, 1, 1, 1, 1, 1,\n",
       "       1, 1, 1, 1, 1, 1, 1, 1, 1, 1, 1, 1, 1, 1, 1, 1, 1, 1, 1, 1, 1, 1,\n",
       "       1, 1, 1, 1, 1, 1, 1, 1, 1, 1, 1, 1, 1, 1, 1, 1, 1, 1, 1, 1, 1, 1,\n",
       "       1, 1, 1, 1, 1, 1, 1, 1, 1, 1, 1, 1, 1, 1, 1, 1, 1, 1, 1, 1, 1, 1,\n",
       "       1, 1])"
      ]
     },
     "execution_count": 8,
     "metadata": {},
     "output_type": "execute_result"
    }
   ],
   "source": [
    "y"
   ]
  },
  {
   "cell_type": "markdown",
   "metadata": {},
   "source": [
    "### 시그모이드 함수"
   ]
  },
  {
   "cell_type": "code",
   "execution_count": 15,
   "metadata": {},
   "outputs": [
    {
     "data": {
      "image/png": "[encoded data removed]",
      "text/plain": [
       "<Figure size 432x288 with 1 Axes>"
      ]
     },
     "metadata": {
      "needs_background": "light"
     },
     "output_type": "display_data"
    }
   ],
   "source": [
    "import numpy as np \n",
    "import matplotlib.pyplot as plt\n",
    "\n",
    "def sigmoid(x):\n",
    "    return 1/(1+np.exp(-x)) #x값이 0으로부터 음수로 가면  y 값이 0에 가까워진다 양수로가면 1에 가까워진다\n",
    "\n",
    "x = np.arange(-10,10,0.1) #소수로 이루어진 배열\n",
    "y = sigmoid(x)\n",
    "\n",
    "plt.plot(x, y)\n",
    "plt.title('sigmoid function')\n",
    "plt.show()"
   ]
  },
  {
   "cell_type": "markdown",
   "metadata": {},
   "source": [
    "### tanh 함수"
   ]
  },
  {
   "cell_type": "code",
   "execution_count": 16,
   "metadata": {},
   "outputs": [
    {
     "data": {
      "image/png": "[encoded data removed]",
      "text/plain": [
       "<Figure size 432x288 with 1 Axes>"
      ]
     },
     "metadata": {
      "needs_background": "light"
     },
     "output_type": "display_data"
    }
   ],
   "source": [
    "import numpy as np\n",
    "import matplotlib.pyplot as plt\n",
    "\n",
    "def tanh(x):\n",
    "    return (np.exp(x)-np.exp(-x)) / (np.exp(x)+ np.exp(-x))\n",
    "\n",
    "x = np.arange(-10,10,0.1) \n",
    "y = tanh(x)\n",
    "\n",
    "plt.plot(x,y)\n",
    "plt.title('tanh function')\n",
    "plt.show()"
   ]
  },
  {
   "cell_type": "markdown",
   "metadata": {},
   "source": [
    "### ReLU 함수"
   ]
  },
  {
   "cell_type": "code",
   "execution_count": 17,
   "metadata": {},
   "outputs": [
    {
     "data": {
      "image/png": "[encoded data removed]",
      "text/plain": [
       "<Figure size 432x288 with 1 Axes>"
      ]
     },
     "metadata": {
      "needs_background": "light"
     },
     "output_type": "display_data"
    }
   ],
   "source": [
    "import numpy as np \n",
    "import matplotlib.pyplot as plt\n",
    "\n",
    "def relu(x):\n",
    "    return np.maximum(0,x) #x가 0보다 작음 0을 반환, 0보다 크면 x를 반환\n",
    "\n",
    "x = np.arange(-10,10,0.1)\n",
    "y = relu(x)\n",
    "\n",
    "plt.plot(x,y)\n",
    "plt.title('ReLU function')\n",
    "plt.show()"
   ]
  },
  {
   "cell_type": "code",
   "execution_count": 20,
   "metadata": {},
   "outputs": [
    {
     "data": {
      "text/plain": [
       "array([0.21194156, 0.21194156, 0.57611688])"
      ]
     },
     "execution_count": 20,
     "metadata": {},
     "output_type": "execute_result"
    }
   ],
   "source": [
    "import numpy as np\n",
    "import matplotlib.pyplot as plt\n",
    "\n",
    "def softmax(x):\n",
    "    return np.exp(x)/np.sum(np.exp(x))\n",
    "\n",
    "softmax([1,1,2])"
   ]
  },
  {
   "cell_type": "code",
   "execution_count": 22,
   "metadata": {},
   "outputs": [
    {
     "data": {
      "text/plain": [
       "array([ 6., 13., 20.])"
      ]
     },
     "execution_count": 22,
     "metadata": {},
     "output_type": "execute_result"
    }
   ],
   "source": [
    "import numpy as np \n",
    "X = np.array([10,20]) #x1,x2를 임의값으로 10,20 으로 둔다\n",
    "W1 = np.array([[0.1,0.3,0.5], [0.2,0.4,0.6]]) #1층 입력신호로 가는 가중치 6개, 2행 3열로 준비\n",
    "B1 = np.array([1,2,3]) #입력층에서 1층으로 향하는 편향 (b1,b2,b3) 다 임의 값임\n",
    "\n",
    "def sigmoid(x):\n",
    "        return 1/(1+np.exp(-x)) #시그모이드 식\n",
    "A1 = np.dot(X,W1)+B1\n",
    "Z1 = sigmoid(A1)\n",
    "\n"
   ]
  },
  {
   "cell_type": "code",
   "execution_count": 23,
   "metadata": {},
   "outputs": [
    {
     "data": {
      "text/plain": [
       "array([0.99752738, 0.99999774, 1.        ])"
      ]
     },
     "execution_count": 23,
     "metadata": {},
     "output_type": "execute_result"
    }
   ],
   "source": [
    "Z1"
   ]
  },
  {
   "cell_type": "code",
   "execution_count": 25,
   "metadata": {},
   "outputs": [
    {
     "data": {
      "text/plain": [
       "array([0.69975229, 1.69900982])"
      ]
     },
     "execution_count": 25,
     "metadata": {},
     "output_type": "execute_result"
    }
   ],
   "source": [
    "#출력층\n",
    "W2 = np.array([[0.1,0.4],[0.2,0.5],[0.3,0.6]])\n",
    "B2 = np.array([0.1,0.2])\n",
    "\n",
    "A2 = np.dot(Z1,W2)+B2 #은닉층 출력값의 가중치를 곱하고 편향을 더해주는것 np.dot -> 내적\n",
    "Y =sigmoid(A2)\n",
    "\n",
    "A2"
   ]
  },
  {
   "cell_type": "code",
   "execution_count": 26,
   "metadata": {},
   "outputs": [
    {
     "name": "stdout",
     "output_type": "stream",
     "text": [
      "Collecting tensorplow\n"
     ]
    },
    {
     "name": "stderr",
     "output_type": "stream",
     "text": [
      "  Could not find a version that satisfies the requirement tensorplow (from versions: )\n",
      "No matching distribution found for tensorplow\n"
     ]
    }
   ],
   "source": [
    "!pip install tensorplow"
   ]
  },
  {
   "cell_type": "code",
   "execution_count": 28,
   "metadata": {},
   "outputs": [
    {
     "data": {
      "text/plain": [
       "'3.7.3 (default, Mar 27 2019, 17:13:21) [MSC v.1915 64 bit (AMD64)]'"
      ]
     },
     "execution_count": 28,
     "metadata": {},
     "output_type": "execute_result"
    }
   ],
   "source": [
    "import sys\n",
    "\n",
    "sys.version"
   ]
  },
  {
   "cell_type": "code",
   "execution_count": 32,
   "metadata": {},
   "outputs": [
    {
     "name": "stdout",
     "output_type": "stream",
     "text": [
      "Tensor(\"Const:0\", shape=(), dtype=string)\n"
     ]
    }
   ],
   "source": [
    "import tensorflow as tf\n",
    "hello = tf.constant('Hellow, Ten')\n",
    "print(hello)"
   ]
  },
  {
   "cell_type": "markdown",
   "metadata": {},
   "source": [
    "## 텐서플로를 통한 선형회귀"
   ]
  },
  {
   "cell_type": "code",
   "execution_count": 57,
   "metadata": {},
   "outputs": [],
   "source": [
    "#데이터 준비\n",
    "import matplotlib.pyplot as plt\n",
    "import tensorflow as tf\n",
    "\n",
    "\n",
    "x_data = [1,2,3,4,5]\n",
    "y_data = [2,3,4,5,6] # y=1*x+1 데이터임\n",
    "\n",
    "w = tf.Variable(0.7) #가중치 초기화\n",
    "b = tf.Variable(0.7) # 편향을 임의값 0.7로 정했다 \n",
    "learn_rate = 0.01 #학습률, 보통 0.01~0.001 사이값으로 설정 너무 크면 오버슈팅, 작으면 오래걸림"
   ]
  },
  {
   "cell_type": "markdown",
   "metadata": {},
   "source": [
    "##  지금부터는 코랩에서 해보자 자꾸 오류나는 것은 텐서플로 버전이 낮아서 그렇다 "
   ]
  },
  {
   "cell_type": "code",
   "execution_count": 53,
   "metadata": {},
   "outputs": [
    {
     "name": "stdout",
     "output_type": "stream",
     "text": [
      "step|   w|   b| cost\n",
      "----|----|----|----|\n"
     ]
    },
    {
     "ename": "AttributeError",
     "evalue": "'RefVariable' object has no attribute '_id'",
     "output_type": "error",
     "traceback": [
      "\u001b[1;31m---------------------------------------------------------------------------\u001b[0m",
      "\u001b[1;31mAttributeError\u001b[0m                            Traceback (most recent call last)",
      "\u001b[1;32m<ipython-input-53-61e92c597132>\u001b[0m in \u001b[0;36m<module>\u001b[1;34m\u001b[0m\n\u001b[0;32m     10\u001b[0m         \u001b[0mcost\u001b[0m \u001b[1;33m=\u001b[0m \u001b[0mtf\u001b[0m\u001b[1;33m.\u001b[0m\u001b[0mreduce_mean\u001b[0m\u001b[1;33m(\u001b[0m\u001b[1;33m(\u001b[0m\u001b[0mhypothesis\u001b[0m \u001b[1;33m-\u001b[0m \u001b[0my_data\u001b[0m\u001b[1;33m)\u001b[0m\u001b[1;33m**\u001b[0m\u001b[1;36m2\u001b[0m\u001b[1;33m)\u001b[0m\u001b[1;33m\u001b[0m\u001b[1;33m\u001b[0m\u001b[0m\n\u001b[0;32m     11\u001b[0m         \u001b[1;31m#손실비용 오차제곱 평균 = tf.losses.mean_squared_error(hyphothesis-y_data)라 해도 똑같\u001b[0m\u001b[1;33m\u001b[0m\u001b[1;33m\u001b[0m\u001b[1;33m\u001b[0m\u001b[0m\n\u001b[1;32m---> 12\u001b[1;33m     \u001b[0mdw\u001b[0m\u001b[1;33m,\u001b[0m \u001b[0mdb\u001b[0m \u001b[1;33m=\u001b[0m \u001b[0mtape\u001b[0m\u001b[1;33m.\u001b[0m\u001b[0mgradient\u001b[0m\u001b[1;33m(\u001b[0m\u001b[0mcost\u001b[0m\u001b[1;33m,\u001b[0m \u001b[1;33m[\u001b[0m\u001b[0mw\u001b[0m\u001b[1;33m,\u001b[0m \u001b[0mb\u001b[0m\u001b[1;33m]\u001b[0m\u001b[1;33m)\u001b[0m \u001b[1;31m#미분값을 구한다\u001b[0m\u001b[1;33m\u001b[0m\u001b[1;33m\u001b[0m\u001b[0m\n\u001b[0m\u001b[0;32m     13\u001b[0m \u001b[1;33m\u001b[0m\u001b[0m\n\u001b[0;32m     14\u001b[0m     \u001b[0mw\u001b[0m\u001b[1;33m.\u001b[0m\u001b[0massign_sub\u001b[0m\u001b[1;33m(\u001b[0m\u001b[0mlearn_rate\u001b[0m \u001b[1;33m*\u001b[0m \u001b[0mdw\u001b[0m\u001b[1;33m)\u001b[0m\u001b[1;31m#  a.assign_sub(b) = 파이썬의 a-=b or a= a-b와 독같\u001b[0m\u001b[1;33m\u001b[0m\u001b[1;33m\u001b[0m\u001b[0m\n",
      "\u001b[1;32m~\\Anaconda3\\lib\\site-packages\\tensorflow\\python\\eager\\backprop.py\u001b[0m in \u001b[0;36mgradient\u001b[1;34m(self, target, sources, output_gradients, unconnected_gradients)\u001b[0m\n\u001b[0;32m    944\u001b[0m         \u001b[0mflat_sources\u001b[0m\u001b[1;33m,\u001b[0m\u001b[1;33m\u001b[0m\u001b[1;33m\u001b[0m\u001b[0m\n\u001b[0;32m    945\u001b[0m         \u001b[0moutput_gradients\u001b[0m\u001b[1;33m=\u001b[0m\u001b[0moutput_gradients\u001b[0m\u001b[1;33m,\u001b[0m\u001b[1;33m\u001b[0m\u001b[1;33m\u001b[0m\u001b[0m\n\u001b[1;32m--> 946\u001b[1;33m         unconnected_gradients=unconnected_gradients)\n\u001b[0m\u001b[0;32m    947\u001b[0m \u001b[1;33m\u001b[0m\u001b[0m\n\u001b[0;32m    948\u001b[0m     \u001b[1;32mif\u001b[0m \u001b[1;32mnot\u001b[0m \u001b[0mself\u001b[0m\u001b[1;33m.\u001b[0m\u001b[0m_persistent\u001b[0m\u001b[1;33m:\u001b[0m\u001b[1;33m\u001b[0m\u001b[1;33m\u001b[0m\u001b[0m\n",
      "\u001b[1;32m~\\Anaconda3\\lib\\site-packages\\tensorflow\\python\\eager\\imperative_grad.py\u001b[0m in \u001b[0;36mimperative_grad\u001b[1;34m(tape, target, sources, output_gradients, unconnected_gradients)\u001b[0m\n\u001b[0;32m     70\u001b[0m       \u001b[0msources\u001b[0m\u001b[1;33m,\u001b[0m\u001b[1;33m\u001b[0m\u001b[1;33m\u001b[0m\u001b[0m\n\u001b[0;32m     71\u001b[0m       \u001b[0moutput_gradients\u001b[0m\u001b[1;33m,\u001b[0m\u001b[1;33m\u001b[0m\u001b[1;33m\u001b[0m\u001b[0m\n\u001b[1;32m---> 72\u001b[1;33m       compat.as_str(unconnected_gradients.value))\n\u001b[0m",
      "\u001b[1;31mAttributeError\u001b[0m: 'RefVariable' object has no attribute '_id'"
     ]
    }
   ],
   "source": [
    "\n",
    "#경사하강 알고리즘을 따라서 1100회의 학습을 수행하고 비용함수의 (w,b)값이 최소가 되는 값을 구하는 코드\n",
    "print(f'step|   w|   b| cost')\n",
    "print(f'----|----|----|----|')\n",
    "\n",
    "\n",
    "for i in range(1,1101):\n",
    "    with tf.GradientTape() as tape: #tape에 내부계산과정 저장, 나중에 tape.gradient()함수로 미분값 구하자\n",
    "        hypothesis = w*x_data+b #가설 : w*x+b\n",
    "        cost = tf.reduce_mean((hypothesis - y_data)**2) \n",
    "        #손실비용 오차제곱 평균 = tf.losses.mean_squared_error(hyphothesis-y_data)라 해도 똑같\n",
    "    dw, db = tape.gradient(cost, [w, b]) #미분값을 구한다 \n",
    "    \n",
    "    w.assign_sub(learn_rate * dw)#  a.assign_sub(b) = 파이썬의 a-=b or a= a-b와 독같\n",
    "    b.assign_sub(learn_rate * db)\n",
    "    \n",
    "    if i in [1,3,4,10,1000,1100]:\n",
    "        print(f'{o:4d}| {w.numpy():.2f}| {b.numpy():.2f}| {cost:.2f}')\n",
    "        plt.title(f'[Step {i:d}] h(x) ={ w.numpy():.2f}x+{b.numpy():.2f}')\n",
    "        plt.plot(x_data,y_data, 'o')\n",
    "        plt.plot(x_data, w*x_data+b, 'r', label ='hypothesis')\n",
    "        plt.xlabel('x_data')\n",
    "        plt.ylabel('y_data')\n",
    "        plt.xlim(0,6)\n",
    "        plt.ylim(1,7)\n",
    "        plt.legend(loc='best')\n",
    "        plt.show()\n",
    "    \n",
    "            "
   ]
  },
  {
   "cell_type": "code",
   "execution_count": 17,
   "metadata": {},
   "outputs": [
    {
     "name": "stdout",
     "output_type": "stream",
     "text": [
      "_________________________________________________________________\n",
      "Layer (type)                 Output Shape              Param #   \n",
      "=================================================================\n",
      "lstm_2 (LSTM)                (None, 10, 10)            640       \n",
      "_________________________________________________________________\n",
      "dropout_2 (Dropout)          (None, 10, 10)            0         \n",
      "_________________________________________________________________\n",
      "lstm_3 (LSTM)                (None, 10)                840       \n",
      "_________________________________________________________________\n",
      "dropout_3 (Dropout)          (None, 10)                0         \n",
      "_________________________________________________________________\n",
      "dense_1 (Dense)              (None, 1)                 11        \n",
      "=================================================================\n",
      "Total params: 1,491\n",
      "Trainable params: 1,491\n",
      "Non-trainable params: 0\n",
      "_________________________________________________________________\n",
      "WARNING:tensorflow:From C:\\Users\\82102\\Anaconda3\\lib\\site-packages\\tensorflow\\python\\ops\\math_ops.py:3066: to_int32 (from tensorflow.python.ops.math_ops) is deprecated and will be removed in a future version.\n",
      "Instructions for updating:\n",
      "Use tf.cast instead.\n",
      "Epoch 1/60\n",
      "318/318 [==============================] - 3s 10ms/sample - loss: 0.0272\n",
      "Epoch 2/60\n",
      "318/318 [==============================] - 0s 477us/sample - loss: 0.0139\n",
      "Epoch 3/60\n",
      "318/318 [==============================] - 0s 455us/sample - loss: 0.0076\n",
      "Epoch 4/60\n",
      "318/318 [==============================] - 0s 470us/sample - loss: 0.0068\n",
      "Epoch 5/60\n",
      "318/318 [==============================] - 0s 455us/sample - loss: 0.0053\n",
      "Epoch 6/60\n",
      "318/318 [==============================] - 0s 499us/sample - loss: 0.0047\n",
      "Epoch 7/60\n",
      "318/318 [==============================] - 0s 474us/sample - loss: 0.0043\n",
      "Epoch 8/60\n",
      "318/318 [==============================] - 0s 546us/sample - loss: 0.0039\n",
      "Epoch 9/60\n",
      "318/318 [==============================] - 0s 586us/sample - loss: 0.0040\n",
      "Epoch 10/60\n",
      "318/318 [==============================] - 0s 596us/sample - loss: 0.0036\n",
      "Epoch 11/60\n",
      "318/318 [==============================] - 0s 546us/sample - loss: 0.0033\n",
      "Epoch 12/60\n",
      "318/318 [==============================] - 0s 555us/sample - loss: 0.0032\n",
      "Epoch 13/60\n",
      "318/318 [==============================] - 0s 549us/sample - loss: 0.0033\n",
      "Epoch 14/60\n",
      "318/318 [==============================] - 0s 593us/sample - loss: 0.0029\n",
      "Epoch 15/60\n",
      "318/318 [==============================] - 0s 549us/sample - loss: 0.0033\n",
      "Epoch 16/60\n",
      "318/318 [==============================] - 0s 467us/sample - loss: 0.0032\n",
      "Epoch 17/60\n",
      "318/318 [==============================] - 0s 455us/sample - loss: 0.0025\n",
      "Epoch 18/60\n",
      "318/318 [==============================] - 0s 477us/sample - loss: 0.0030\n",
      "Epoch 19/60\n",
      "318/318 [==============================] - 0s 489us/sample - loss: 0.0033\n",
      "Epoch 20/60\n",
      "318/318 [==============================] - 0s 474us/sample - loss: 0.0027\n",
      "Epoch 21/60\n",
      "318/318 [==============================] - 0s 492us/sample - loss: 0.0025\n",
      "Epoch 22/60\n",
      "318/318 [==============================] - 0s 608us/sample - loss: 0.0034\n",
      "Epoch 23/60\n",
      "318/318 [==============================] - 0s 555us/sample - loss: 0.0029\n",
      "Epoch 24/60\n",
      "318/318 [==============================] - 0s 621us/sample - loss: 0.0028\n",
      "Epoch 25/60\n",
      "318/318 [==============================] - 0s 592us/sample - loss: 0.0024\n",
      "Epoch 26/60\n",
      "318/318 [==============================] - 0s 574us/sample - loss: 0.0027\n",
      "Epoch 27/60\n",
      "318/318 [==============================] - 0s 681us/sample - loss: 0.0024\n",
      "Epoch 28/60\n",
      "318/318 [==============================] - 0s 696us/sample - loss: 0.0029\n",
      "Epoch 29/60\n",
      "318/318 [==============================] - 0s 593us/sample - loss: 0.0022\n",
      "Epoch 30/60\n",
      "318/318 [==============================] - 0s 775us/sample - loss: 0.0026\n",
      "Epoch 31/60\n",
      "318/318 [==============================] - 0s 605us/sample - loss: 0.0022\n",
      "Epoch 32/60\n",
      "318/318 [==============================] - 0s 646us/sample - loss: 0.0022\n",
      "Epoch 33/60\n",
      "318/318 [==============================] - 0s 439us/sample - loss: 0.0023\n",
      "Epoch 34/60\n",
      "318/318 [==============================] - 0s 448us/sample - loss: 0.0021\n",
      "Epoch 35/60\n",
      "318/318 [==============================] - 0s 458us/sample - loss: 0.0021\n",
      "Epoch 36/60\n",
      "318/318 [==============================] - 0s 637us/sample - loss: 0.0024\n",
      "Epoch 37/60\n",
      "318/318 [==============================] - 0s 599us/sample - loss: 0.0022\n",
      "Epoch 38/60\n",
      "318/318 [==============================] - 0s 618us/sample - loss: 0.0020\n",
      "Epoch 39/60\n",
      "318/318 [==============================] - 0s 543us/sample - loss: 0.0023\n",
      "Epoch 40/60\n",
      "318/318 [==============================] - 0s 549us/sample - loss: 0.0021\n",
      "Epoch 41/60\n",
      "318/318 [==============================] - 0s 588us/sample - loss: 0.0023\n",
      "Epoch 42/60\n",
      "318/318 [==============================] - 0s 546us/sample - loss: 0.0022\n",
      "Epoch 43/60\n",
      "318/318 [==============================] - 0s 580us/sample - loss: 0.0019\n",
      "Epoch 44/60\n",
      "318/318 [==============================] - 0s 514us/sample - loss: 0.0021\n",
      "Epoch 45/60\n",
      "318/318 [==============================] - 0s 436us/sample - loss: 0.0021\n",
      "Epoch 46/60\n",
      "318/318 [==============================] - 0s 455us/sample - loss: 0.0020\n",
      "Epoch 47/60\n",
      "318/318 [==============================] - 0s 461us/sample - loss: 0.0023\n",
      "Epoch 48/60\n",
      "318/318 [==============================] - 0s 474us/sample - loss: 0.0019\n",
      "Epoch 49/60\n",
      "318/318 [==============================] - 0s 467us/sample - loss: 0.0020\n",
      "Epoch 50/60\n",
      "318/318 [==============================] - 0s 480us/sample - loss: 0.0019\n",
      "Epoch 51/60\n",
      "318/318 [==============================] - 0s 574us/sample - loss: 0.0024\n",
      "Epoch 52/60\n",
      "318/318 [==============================] - 0s 530us/sample - loss: 0.0019\n",
      "Epoch 53/60\n",
      "318/318 [==============================] - 0s 527us/sample - loss: 0.0022\n",
      "Epoch 54/60\n",
      "318/318 [==============================] - 0s 561us/sample - loss: 0.0019\n",
      "Epoch 55/60\n",
      "318/318 [==============================] - 0s 583us/sample - loss: 0.0023\n",
      "Epoch 56/60\n",
      "318/318 [==============================] - 0s 565us/sample - loss: 0.0016\n",
      "Epoch 57/60\n",
      "318/318 [==============================] - 0s 492us/sample - loss: 0.0018\n",
      "Epoch 58/60\n",
      "318/318 [==============================] - 0s 500us/sample - loss: 0.0019\n",
      "Epoch 59/60\n",
      "318/318 [==============================] - 0s 467us/sample - loss: 0.0020\n",
      "Epoch 60/60\n",
      "318/318 [==============================] - 0s 445us/sample - loss: 0.0017\n"
     ]
    }
   ],
   "source": [
    "#삼성전자 주가 예측 모델\n",
    "import tensorflow as tf\n",
    "from tensorflow.keras import Sequential\n",
    "from tensorflow.keras.layers import Dense, LSTM, Dropout\n",
    "import numpy as np\n",
    "import matplotlib.pyplot as plt\n",
    "from Investar import Analyzer\n",
    "\n",
    "mk = Analyzer.MarketDB()\n",
    "raw_df = mk.get_daily_price('삼성전자', '2019-03-02', '2021-01-17')\n",
    "\n",
    "def MinMaxScaler(data):\n",
    "    '''최대값과 최소값을 이용한 0~1 변환'''\n",
    "    numerator = data - np.min(data,0)\n",
    "    denominator = np.max(data, 0) -np.min(data, 0)\n",
    "    return numerator/ (denominator + 1e-7) #숫자 단위가 크면 소요 시간이 늘어나므로 0~1사이로 표준화 해준다\n",
    "    #denominator 가 0이 될수도 있으니 아주 작은값을 더해서 나눈다\\\n",
    "\n",
    "dfx = raw_df[['open','high','low','volume','close']]\n",
    "dfx = MinMaxScaler(dfx) #ohlvc 가격 정보를 0~1 사이값으로 변환\n",
    "dfy = dfx[['close']] #종가\n",
    "\n",
    "x = dfx.values.tolist()\n",
    "y = dfy.values.tolist()\n",
    "\n",
    "#windowsize를 10으로 설정해서 10일 단위로 묶어서 다음날 종가를 예측하게 할것이므로 \n",
    "#이전 10일동안 ohlvc를 _x, 다음날 종가를 _y\n",
    "data_x = []\n",
    "data_y = []\n",
    "window_size = 10\n",
    "for i in range(len(y) - window_size): #10개씩 묶어야하니까 \n",
    "    _x = x[i: i + window_size] #다음날 종가(i+window_size)는 포함 되지 않음\n",
    "    _y = y[i + window_size] # 다음날 종가\n",
    "    data_x.append(_x)\n",
    "    data_y.append(_y)\n",
    "    \n",
    "#훈련용 데이터 셋\n",
    "train_size = int(len(data_y)*0.7)\n",
    "train_x = np.array(data_x[0:train_size])\n",
    "train_y = np.array(data_y[0:train_size])\n",
    "\n",
    "#테스트용 데이터 셋\n",
    "test_size = len(data_y) - train_size\n",
    "test_x = np.array(data_x[train_size:len(data_x)])\n",
    "test_y = np.array(data_y[train_size:len(data_y)])\n",
    "\n",
    "#모델 생성하기 \n",
    "model = Sequential() #시퀀셜 모델 객체 생성\n",
    "model.add(LSTM(units = 10, activation = 'relu', return_sequences = True,\n",
    "              input_shape = (window_size, 5))) #앞에서 윈더우사이즈 10으로 했잖아? 5로 입력해서 (10,5)입력 형태를 갖는 LSTM\n",
    "                                               #전체 유닛개수는 10 , 활성화함수는relu\n",
    "model.add(Dropout(0.1)) #드랍아웃 10퍼센트로 지정, 드랍아웃 층은 입력값의 일부를 선택해 0으로 치환\n",
    "                        #다음층으로 출력함으로서 훈련데이터를 늘리지 않고도 과적합을 방지\n",
    "model.add(LSTM(units = 10, activation = 'relu'))\n",
    "model.add(Dropout(0.1))\n",
    "model.add(Dense(units =1)) #유닛이 하나인 출력층을 추가\n",
    "model.summary()\n",
    "\n",
    "#학습 및 예측\n",
    "model.compile(optimizer = 'adam', loss = 'mean_squared_error')\n",
    "#최적화함수 아담, 손실함수 mae\n",
    "model.fit(train_x, train_y, epochs = 60, batch_size = 30) #배치는 한번에 제공되는 훈련 데이터 개수\n",
    "pred_y = model.predict(test_x) #예측 데이터 생성"
   ]
  },
  {
   "cell_type": "code",
   "execution_count": 18,
   "metadata": {},
   "outputs": [
    {
     "data": {
      "text/plain": [
       "<function matplotlib.pyplot.show(*args, **kw)>"
      ]
     },
     "execution_count": 18,
     "metadata": {},
     "output_type": "execute_result"
    },
    {
     "data": {
      "image/png": "[encoded data removed]",
      "text/plain": [
       "<Figure size 432x288 with 1 Axes>"
      ]
     },
     "metadata": {
      "needs_background": "light"
     },
     "output_type": "display_data"
    }
   ],
   "source": [
    "#예측치와 실제 종가 비교\n",
    "plt.figure()\n",
    "plt.plot(test_y, color='red', label = 'real SEC stock price')\n",
    "plt.plot(pred_y, color='blue', label = 'predicted SEC stock price')\n",
    "plt.title('SEC stock price prediction')\n",
    "plt.xlabel('time')\n",
    "plt.ylabel('stock price')\n",
    "plt.legend()\n",
    "plt.show"
   ]
  },
  {
   "cell_type": "code",
   "execution_count": 20,
   "metadata": {},
   "outputs": [
    {
     "name": "stdout",
     "output_type": "stream",
     "text": [
      "SEC tomorrow's price :  [102226.85443459]\n"
     ]
    }
   ],
   "source": [
    "#다음날 예측 종가 출력\n",
    "print(\"SEC tomorrow's price : \", raw_df.close[-1]*pred_y[-1]/dfy.close[-1])"
   ]
  },
  {
   "cell_type": "code",
   "execution_count": null,
   "metadata": {},
   "outputs": [],
   "source": []
  },
  {
   "cell_type": "code",
   "execution_count": null,
   "metadata": {},
   "outputs": [],
   "source": []
  },
  {
   "cell_type": "code",
   "execution_count": null,
   "metadata": {},
   "outputs": [],
   "source": []
  },
  {
   "cell_type": "code",
   "execution_count": null,
   "metadata": {},
   "outputs": [],
   "source": []
  },
  {
   "cell_type": "code",
   "execution_count": null,
   "metadata": {},
   "outputs": [],
   "source": []
  }
 ],
 "metadata": {
  "kernelspec": {
   "display_name": "Python 3",
   "language": "python",
   "name": "python3"
  },
  "language_info": {
   "codemirror_mode": {
    "name": "ipython",
    "version": 3
   },
   "file_extension": ".py",
   "mimetype": "text/x-python",
   "name": "python",
   "nbconvert_exporter": "python",
   "pygments_lexer": "ipython3",
   "version": "3.7.3"
  }
 },
 "nbformat": 4,
 "nbformat_minor": 2
}
