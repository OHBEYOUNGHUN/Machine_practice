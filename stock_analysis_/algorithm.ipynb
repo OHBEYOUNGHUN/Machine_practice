{
 "cells": [
  {
   "cell_type": "markdown",
   "metadata": {},
   "source": [
    "### 절대값 판단"
   ]
  },
  {
   "cell_type": "code",
   "execution_count": 1,
   "metadata": {},
   "outputs": [],
   "source": [
    "import math \n",
    "\n",
    "def abs(a):\n",
    "    if a>= 0:\n",
    "        return a\n",
    "    else:\n",
    "        return -a"
   ]
  },
  {
   "cell_type": "code",
   "execution_count": 2,
   "metadata": {},
   "outputs": [
    {
     "data": {
      "text/plain": [
       "18"
      ]
     },
     "execution_count": 2,
     "metadata": {},
     "output_type": "execute_result"
    }
   ],
   "source": [
    "abs(-18)"
   ]
  },
  {
   "cell_type": "code",
   "execution_count": 8,
   "metadata": {},
   "outputs": [],
   "source": [
    "def abs_square(a):\n",
    "    b = a**2\n",
    "    return math.sqrt(b)"
   ]
  },
  {
   "cell_type": "code",
   "execution_count": 10,
   "metadata": {},
   "outputs": [
    {
     "data": {
      "text/plain": [
       "3.0"
      ]
     },
     "execution_count": 10,
     "metadata": {},
     "output_type": "execute_result"
    }
   ],
   "source": [
    "abs_square(-3)"
   ]
  },
  {
   "cell_type": "markdown",
   "metadata": {},
   "source": [
    "### 1부터 n 까지 합"
   ]
  },
  {
   "cell_type": "code",
   "execution_count": 19,
   "metadata": {},
   "outputs": [],
   "source": [
    "# def sum_t(n):\n",
    "#     sum = 0\n",
    "#     for i in range(1,n+1):\n",
    "#         sum = sum+i\n",
    "#     return sum\n",
    "\n",
    "def sum_s(n):\n",
    "    sum = 0\n",
    "    for i in range(1, n+1):\n",
    "        sum = sum+i\n",
    "    return sum"
   ]
  },
  {
   "cell_type": "code",
   "execution_count": 21,
   "metadata": {},
   "outputs": [
    {
     "name": "stdout",
     "output_type": "stream",
     "text": [
      "55\n"
     ]
    }
   ],
   "source": [
    "print(sum_s(10))\n"
   ]
  },
  {
   "cell_type": "markdown",
   "metadata": {},
   "source": [
    "#### 연속한 숫자 합`"
   ]
  },
  {
   "cell_type": "code",
   "execution_count": 22,
   "metadata": {},
   "outputs": [
    {
     "name": "stdout",
     "output_type": "stream",
     "text": [
      "3240\n"
     ]
    }
   ],
   "source": [
    "def sum_b(n):\n",
    "    return n*(n+1)//2\n",
    "\n",
    "\n",
    "\n",
    "print(sum_b(80))"
   ]
  },
  {
   "cell_type": "code",
   "execution_count": 23,
   "metadata": {},
   "outputs": [],
   "source": [
    "#제곱합 알고리즘 만들기\n",
    "def square(n):\n",
    "    sum = 0\n",
    "    for i in range(1,n+1):\n",
    "        sum = sum + i**2\n",
    "    return sum"
   ]
  },
  {
   "cell_type": "code",
   "execution_count": 25,
   "metadata": {},
   "outputs": [
    {
     "name": "stdout",
     "output_type": "stream",
     "text": [
      "385\n"
     ]
    }
   ],
   "source": [
    "print(square(10))"
   ]
  },
  {
   "cell_type": "markdown",
   "metadata": {},
   "source": [
    "### 최댓값 찾기"
   ]
  },
  {
   "cell_type": "code",
   "execution_count": 26,
   "metadata": {},
   "outputs": [
    {
     "data": {
      "text/plain": [
       "[5, 7, 9]"
      ]
     },
     "execution_count": 26,
     "metadata": {},
     "output_type": "execute_result"
    }
   ],
   "source": [
    "#리스트 복습\n",
    "a = [5,7,9]\n",
    "a"
   ]
  },
  {
   "cell_type": "code",
   "execution_count": 27,
   "metadata": {},
   "outputs": [
    {
     "data": {
      "text/plain": [
       "5"
      ]
     },
     "execution_count": 27,
     "metadata": {},
     "output_type": "execute_result"
    }
   ],
   "source": [
    "a[0]"
   ]
  },
  {
   "cell_type": "code",
   "execution_count": 37,
   "metadata": {},
   "outputs": [
    {
     "ename": "IndexError",
     "evalue": "list index out of range",
     "output_type": "error",
     "traceback": [
      "\u001b[1;31m---------------------------------------------------------------------------\u001b[0m",
      "\u001b[1;31mIndexError\u001b[0m                                Traceback (most recent call last)",
      "\u001b[1;32m<ipython-input-37-4a84d856522b>\u001b[0m in \u001b[0;36m<module>\u001b[1;34m\u001b[0m\n\u001b[1;32m----> 1\u001b[1;33m \u001b[0ma\u001b[0m\u001b[1;33m[\u001b[0m\u001b[1;36m5\u001b[0m\u001b[1;33m]\u001b[0m\u001b[1;33m\u001b[0m\u001b[1;33m\u001b[0m\u001b[0m\n\u001b[0m",
      "\u001b[1;31mIndexError\u001b[0m: list index out of range"
     ]
    }
   ],
   "source": [
    "a"
   ]
  },
  {
   "cell_type": "code",
   "execution_count": 30,
   "metadata": {},
   "outputs": [
    {
     "data": {
      "text/plain": [
       "9"
      ]
     },
     "execution_count": 30,
     "metadata": {},
     "output_type": "execute_result"
    }
   ],
   "source": [
    "a[-1]"
   ]
  },
  {
   "cell_type": "code",
   "execution_count": 31,
   "metadata": {},
   "outputs": [
    {
     "data": {
      "text/plain": [
       "7"
      ]
     },
     "execution_count": 31,
     "metadata": {},
     "output_type": "execute_result"
    }
   ],
   "source": [
    "a[-2]"
   ]
  },
  {
   "cell_type": "code",
   "execution_count": 32,
   "metadata": {},
   "outputs": [
    {
     "data": {
      "text/plain": [
       "3"
      ]
     },
     "execution_count": 32,
     "metadata": {},
     "output_type": "execute_result"
    }
   ],
   "source": [
    "len(a)"
   ]
  },
  {
   "cell_type": "code",
   "execution_count": 33,
   "metadata": {},
   "outputs": [
    {
     "data": {
      "text/plain": [
       "False"
      ]
     },
     "execution_count": 33,
     "metadata": {},
     "output_type": "execute_result"
    }
   ],
   "source": [
    "2 in a"
   ]
  },
  {
   "cell_type": "code",
   "execution_count": 43,
   "metadata": {},
   "outputs": [
    {
     "name": "stdout",
     "output_type": "stream",
     "text": [
      "32513\n"
     ]
    }
   ],
   "source": [
    "#최대값을 알기위해 차근차근 비교하면서 가는것이 파이썬 알고리즘\n",
    "\n",
    "def find_max(a):\n",
    "    n = len(a)\n",
    "    max_v = a[0]\n",
    "    for i in range(1,n):\n",
    "        if a[i]>max_v:\n",
    "            max_v = a[i]\n",
    "    return max_v\n",
    "\n",
    "v = [10,90,42,424,214,32513,23]\n",
    "\n",
    "print(find_max(v))"
   ]
  },
  {
   "cell_type": "code",
   "execution_count": 50,
   "metadata": {},
   "outputs": [
    {
     "name": "stdout",
     "output_type": "stream",
     "text": [
      "5\n"
     ]
    }
   ],
   "source": [
    "#최대값의 위치를 알려주는 예제\n",
    "\n",
    "def find_max_idx(a):\n",
    "    n = len(a)\n",
    "    max_i = 0\n",
    "    for i in range(1,n):\n",
    "        if a[i]> a[max_i]:\n",
    "            max_i = i\n",
    "    return max_i\n",
    "\n",
    "v = [10,90,42,424,214,32513,23]\n",
    "\n",
    "print(find_max_idx(v))"
   ]
  },
  {
   "cell_type": "code",
   "execution_count": 51,
   "metadata": {},
   "outputs": [
    {
     "name": "stdout",
     "output_type": "stream",
     "text": [
      "5\n"
     ]
    }
   ],
   "source": [
    "v = [10,90,42,424,214,32513,23]\n",
    "\n",
    "print(find_max_idx(v))"
   ]
  },
  {
   "cell_type": "code",
   "execution_count": 54,
   "metadata": {},
   "outputs": [
    {
     "name": "stdout",
     "output_type": "stream",
     "text": [
      "5\n"
     ]
    }
   ],
   "source": [
    "def find_max_idx(a):\n",
    "    max_idx = 0\n",
    "    n = len(a)\n",
    "    \n",
    "    for i in range(1, n):\n",
    "        if a[i]>a[max_idx]:\n",
    "            max_idx = i\n",
    "    \n",
    "    return max_idx\n",
    "v = [10,90,42,424,214,32513,23]\n",
    "print(find_max_idx(v))"
   ]
  },
  {
   "cell_type": "code",
   "execution_count": 61,
   "metadata": {},
   "outputs": [
    {
     "name": "stdout",
     "output_type": "stream",
     "text": [
      "10\n"
     ]
    }
   ],
   "source": [
    "#숫자 n개를 리스트로 입력바다 최솟값을 구하는 프로그램 제작\n",
    "def min_l(a):\n",
    "    n = len(a)\n",
    "    min = a[0]\n",
    "    for i in range(1,n):\n",
    "        if min>a[i]:\n",
    "            min = a[i]\n",
    "    return min\n",
    "\n",
    "z = [10,90,42,42,214,33,23]\n",
    "print(min_l(z))"
   ]
  },
  {
   "cell_type": "markdown",
   "metadata": {},
   "source": [
    "### 동명이인 찾기"
   ]
  },
  {
   "cell_type": "code",
   "execution_count": 62,
   "metadata": {},
   "outputs": [],
   "source": [
    "s = set()"
   ]
  },
  {
   "cell_type": "code",
   "execution_count": 64,
   "metadata": {},
   "outputs": [],
   "source": [
    "s.add(1)"
   ]
  },
  {
   "cell_type": "code",
   "execution_count": 65,
   "metadata": {},
   "outputs": [
    {
     "data": {
      "text/plain": [
       "{1}"
      ]
     },
     "execution_count": 65,
     "metadata": {},
     "output_type": "execute_result"
    }
   ],
   "source": [
    "s"
   ]
  },
  {
   "cell_type": "code",
   "execution_count": 66,
   "metadata": {},
   "outputs": [],
   "source": [
    "s.add(2)"
   ]
  },
  {
   "cell_type": "code",
   "execution_count": 67,
   "metadata": {},
   "outputs": [
    {
     "data": {
      "text/plain": [
       "{1, 2}"
      ]
     },
     "execution_count": 67,
     "metadata": {},
     "output_type": "execute_result"
    }
   ],
   "source": [
    "s"
   ]
  },
  {
   "cell_type": "code",
   "execution_count": 68,
   "metadata": {},
   "outputs": [
    {
     "data": {
      "text/plain": [
       "2"
      ]
     },
     "execution_count": 68,
     "metadata": {},
     "output_type": "execute_result"
    }
   ],
   "source": [
    "len(s)"
   ]
  },
  {
   "cell_type": "code",
   "execution_count": 83,
   "metadata": {},
   "outputs": [
    {
     "name": "stdout",
     "output_type": "stream",
     "text": [
      "{'Tom', 'Mike'}\n"
     ]
    }
   ],
   "source": [
    "#같은 이름을 찾으면 결과에 집어넣자\n",
    "#두번이상 나온 이름 찾기\n",
    "name = [\"Tom\", \"james\", \"Mike\", \"Tom\", \"Mike\"]\n",
    "def find_same_name(a):\n",
    "    n = len(a)\n",
    "    result = set()\n",
    "    for i in range(0, n):\n",
    "        for j in range(i+1, n):\n",
    "            if a[i]==a[j]:\n",
    "                result.add(a[i])\n",
    "    return result\n",
    "\n",
    "\n",
    "print(find_same_name(name))"
   ]
  },
  {
   "cell_type": "code",
   "execution_count": 100,
   "metadata": {},
   "outputs": [
    {
     "name": "stdout",
     "output_type": "stream",
     "text": [
      "Tom - james\n",
      "Tom - Mike\n",
      "Tom - Tom\n",
      "Tom - Mike\n",
      "james - Mike\n",
      "james - Tom\n",
      "james - Mike\n",
      "Mike - Tom\n",
      "Mike - Mike\n",
      "Tom - Mike\n"
     ]
    }
   ],
   "source": [
    "#같은 이름을 찾으면 결과에 집어넣자\n",
    "#두번이상 나온 이름 찾기\n",
    "name = [\"Tom\", \"james\", \"Mike\", \"Tom\", \"Mike\"]\n",
    "def find_name(a):\n",
    "    n = len(a)\n",
    "    for i in range(0, n):\n",
    "        for j in range(i+1, n):\n",
    "#             if a[i]==a[j]:\n",
    "            print(a[i],\"-\",a[j])\n",
    "\n",
    "find_name(name)"
   ]
  },
  {
   "cell_type": "markdown",
   "metadata": {},
   "source": [
    "### 팩토리얼"
   ]
  },
  {
   "cell_type": "code",
   "execution_count": 102,
   "metadata": {},
   "outputs": [
    {
     "name": "stdout",
     "output_type": "stream",
     "text": [
      "3628800\n"
     ]
    }
   ],
   "source": [
    "def fac(n):\n",
    "    f = 1\n",
    "    for i in range(1, n+1):\n",
    "        f = f*i\n",
    "    return f\n",
    "\n",
    "n = 10\n",
    "print(fac(n))"
   ]
  },
  {
   "cell_type": "markdown",
   "metadata": {},
   "source": [
    "### 재귀호출"
   ]
  },
  {
   "cell_type": "code",
   "execution_count": 105,
   "metadata": {},
   "outputs": [],
   "source": [
    "def hello():\n",
    "    print(\"hello\")\n",
    "    hello()\n",
    "#\n",
    "#hello()\n",
    " "
   ]
  },
  {
   "cell_type": "code",
   "execution_count": 106,
   "metadata": {},
   "outputs": [
    {
     "name": "stdout",
     "output_type": "stream",
     "text": [
      "3628800\n"
     ]
    }
   ],
   "source": [
    "#재귀호출로 팩토리얼\n",
    "def fact(n):\n",
    "    if n<=1:\n",
    "        return 1\n",
    "    else:\n",
    "        return n*fact(n-1)\n",
    "    \n",
    "n=10\n",
    "print(fact(n))"
   ]
  },
  {
   "cell_type": "code",
   "execution_count": 107,
   "metadata": {},
   "outputs": [
    {
     "name": "stdout",
     "output_type": "stream",
     "text": [
      "55\n"
     ]
    }
   ],
   "source": [
    "#1부터 n까지 합 재귀\n",
    "def sum(n):\n",
    "    if n<= 1:\n",
    "        return 1\n",
    "    else:\n",
    "        return n+sum(n-1)\n",
    "n=10\n",
    "print(sum(n))"
   ]
  },
  {
   "cell_type": "markdown",
   "metadata": {},
   "source": [
    "### 최대공약수"
   ]
  },
  {
   "cell_type": "code",
   "execution_count": 117,
   "metadata": {},
   "outputs": [
    {
     "name": "stdout",
     "output_type": "stream",
     "text": [
      "4\n"
     ]
    }
   ],
   "source": [
    "def gcd(a,b):\n",
    "    i = min(a,b)\n",
    "    while True:\n",
    "        if a%i==0 and b%i==0:\n",
    "            return i #1만큼 감소시켜서 최대공약수를 찾는ㄱ 과정\n",
    "        i = i-1\n",
    "            \n",
    "print(gcd(12,8))"
   ]
  },
  {
   "cell_type": "code",
   "execution_count": 123,
   "metadata": {},
   "outputs": [
    {
     "name": "stdout",
     "output_type": "stream",
     "text": [
      "6\n"
     ]
    }
   ],
   "source": [
    "#유클리드 알고리즘\n",
    "#두수의 최대공약수는 큰수를 작은수로 나눈 나머지의 최대공약수와 같다 즉 gcd(a,b) = gcd(b,a%b)\n",
    "#유클리드 방식으로 최대 공약수를 구하자\n",
    "\n",
    "def gcd_u(a,b):\n",
    "    if b==0:\n",
    "        return a\n",
    "    return gcd_u(b, a % b)\n",
    "\n",
    "print(gcd_u(120,594))"
   ]
  },
  {
   "cell_type": "code",
   "execution_count": 126,
   "metadata": {},
   "outputs": [
    {
     "name": "stdout",
     "output_type": "stream",
     "text": [
      "13\n"
     ]
    }
   ],
   "source": [
    "#피보나치 수열\n",
    "def pivo(a):\n",
    "    if a <= 1:\n",
    "        return a\n",
    "    return pivo(a-2)+pivo(a-1)\n",
    "\n",
    "print(pivo(7))"
   ]
  },
  {
   "cell_type": "code",
   "execution_count": null,
   "metadata": {},
   "outputs": [],
   "source": []
  },
  {
   "cell_type": "code",
   "execution_count": 143,
   "metadata": {},
   "outputs": [
    {
     "name": "stdout",
     "output_type": "stream",
     "text": [
      "1\n",
      "2\n",
      "3\n"
     ]
    }
   ],
   "source": [
    "s = \"123213\"\n",
    "\n",
    "for i in s[:3]:\n",
    "    print(i)\n",
    "for j in s[3:]:\n",
    "    j"
   ]
  },
  {
   "cell_type": "code",
   "execution_count": 142,
   "metadata": {},
   "outputs": [
    {
     "data": {
      "text/plain": [
       "3"
      ]
     },
     "execution_count": 142,
     "metadata": {},
     "output_type": "execute_result"
    }
   ],
   "source": [
    "int(i)"
   ]
  },
  {
   "cell_type": "code",
   "execution_count": 145,
   "metadata": {},
   "outputs": [
    {
     "data": {
      "text/plain": [
       "6"
      ]
     },
     "execution_count": 145,
     "metadata": {},
     "output_type": "execute_result"
    }
   ],
   "source": [
    "sum(int(i))"
   ]
  },
  {
   "cell_type": "markdown",
   "metadata": {},
   "source": [
    "\n",
    "### 리스트 안에 특정값 찾기 (순차탐색)"
   ]
  },
  {
   "cell_type": "code",
   "execution_count": 147,
   "metadata": {},
   "outputs": [
    {
     "name": "stdout",
     "output_type": "stream",
     "text": [
      "3\n"
     ]
    }
   ],
   "source": [
    "#a: 리스트, x : 찾는값\n",
    "def search_list(a,x):\n",
    "    n =len(a)\n",
    "    for i in range(0,n):\n",
    "        if x ==a[i]:\n",
    "            return i\n",
    "    return -1\n",
    "\n",
    "v = [18,92,84,24,58,7,33]\n",
    "print(search_list(v,24))"
   ]
  },
  {
   "cell_type": "code",
   "execution_count": 151,
   "metadata": {},
   "outputs": [
    {
     "name": "stdout",
     "output_type": "stream",
     "text": [
      "[4, 7]\n"
     ]
    }
   ],
   "source": [
    "#찾는값이 모두 나오게 해보자\n",
    "def search_listall(a,x):\n",
    "    n =len(a)\n",
    "    res = []\n",
    "    for i in range(0,n):\n",
    "        if x == a[i]:\n",
    "            res.append(i)\n",
    "    return res\n",
    "v = [18,92,84,24,58,7,33,58]\n",
    "print(search_listall(v,58))"
   ]
  },
  {
   "cell_type": "code",
   "execution_count": 173,
   "metadata": {},
   "outputs": [
    {
     "name": "stdout",
     "output_type": "stream",
     "text": [
      "Justin\n",
      "?\n",
      "Summer\n"
     ]
    }
   ],
   "source": [
    "#학생번호, 학생이름을 순차 탐색으로 찾아 돌려주는 함수 만들자\n",
    "stu_no = [39, 14, 67, 105]\n",
    "stu_name = [\"Justin\", \"John\", \"Mike\", \"Summer\"]\n",
    "#예 39번이면 \"Justin\", 14번이면 \"John\"\n",
    "\n",
    "def student(a,b,x): #a,b = stu_no, stu_name\n",
    "    n = len(a)\n",
    "    for i in range(0,n):\n",
    "        if x == stu_no[i]:\n",
    "            return stu_name[i]\n",
    "        \n",
    "    return \"?\"\n",
    "        \n",
    "print(student(stu_no,stu_name ,39))\n",
    "print(student(stu_no,stu_name ,40))\n",
    "print(student(stu_no,stu_name ,105))\n"
   ]
  },
  {
   "cell_type": "code",
   "execution_count": 171,
   "metadata": {},
   "outputs": [
    {
     "data": {
      "text/plain": [
       "105"
      ]
     },
     "execution_count": 171,
     "metadata": {},
     "output_type": "execute_result"
    }
   ],
   "source": [
    "stu_no[3]"
   ]
  },
  {
   "cell_type": "markdown",
   "metadata": {},
   "source": [
    "### 선택 정렬"
   ]
  },
  {
   "cell_type": "code",
   "execution_count": 174,
   "metadata": {},
   "outputs": [],
   "source": [
    "#쉽게 설명한\n",
    "#입력: 리스트 a\n",
    "def find_min_idx(a):\n",
    "    n = len(a)\n",
    "    min_idx = 0\n",
    "    for i in range(1,n):\n",
    "        if a[i]< a[min_idx]:\n",
    "            min_idx = i\n",
    "    return min_idx"
   ]
  },
  {
   "cell_type": "code",
   "execution_count": 175,
   "metadata": {},
   "outputs": [
    {
     "name": "stdout",
     "output_type": "stream",
     "text": [
      "[1, 2, 3, 4, 5]\n"
     ]
    }
   ],
   "source": [
    "def sel_sort(a):\n",
    "    result = []\n",
    "    while a:\n",
    "        min_idx = find_min_idx(a)\n",
    "        value = a.pop(min_idx)\n",
    "        result.append(value)\n",
    "    return result\n",
    "\n",
    "d = [2,4,5,1,3]\n",
    "print(sel_sort(d))"
   ]
  },
  {
   "cell_type": "code",
   "execution_count": 194,
   "metadata": {},
   "outputs": [
    {
     "name": "stdout",
     "output_type": "stream",
     "text": [
      "[5, 4, 3, 2, 1]\n"
     ]
    }
   ],
   "source": [
    "# 일반적인 선택 정렬 알고리즘\n",
    "# 둘이 합친거라 생각하자\n",
    "def sel_sort_a(a):\n",
    "    n = len(a)\n",
    "    for i in range(0,n-1):\n",
    "        min_idx = i\n",
    "        for j in range(i,n):\n",
    "            if a[j]<a[min_idx]:\n",
    "                min_idx = j\n",
    "        a[i], a[min_idx] = a[min_idx], a[i]#두 변수의 값의 위치를 바꿔준것\n",
    "    \n",
    "d = [2,4,5,1,3]\n",
    "sel_sort_a(d)\n",
    "print(d)"
   ]
  },
  {
   "cell_type": "code",
   "execution_count": 195,
   "metadata": {},
   "outputs": [
    {
     "name": "stdout",
     "output_type": "stream",
     "text": [
      "[1, 5, 7, 8, 80, 124, 6436]\n"
     ]
    }
   ],
   "source": [
    "v = [1,124,5,6436,7,8,80]\n",
    "def sel_sort_b(a):\n",
    "    n = len(a)\n",
    "    for i in range(0, n-1):\n",
    "        min_idx = i\n",
    "        for j in range(i, n):\n",
    "            if a[j]<a[min_idx]:\n",
    "                min_idx = j\n",
    "        a[i],a[min_idx] = a[min_idx], a[i]\n",
    "\n",
    "sel_sort_b(v)\n",
    "print(v)"
   ]
  },
  {
   "cell_type": "markdown",
   "metadata": {},
   "source": [
    "### 삽입 정렬"
   ]
  },
  {
   "cell_type": "code",
   "execution_count": 197,
   "metadata": {},
   "outputs": [],
   "source": [
    "#쉽게 설명한 삽입 정렬 \n",
    "#입력 리스트 a\n",
    "#출력 정렬된 새 리스트\n",
    "\n",
    "#리스트 r에서 v 가 들어가야할 위치를 돌려주는 함수\n",
    "def find_ins_idx(r,v):\n",
    "    #이미 정렬된 리스트 r의 자료를 앞에서부터 차례로 확인\n",
    "    for i in range(0, len(r)):\n",
    "        #v값보다 i 번 위치에 있는 자료값이 크면\n",
    "        #v가 그 값 바로 앞에 놓여야 정렬 순서가 유지됨\n",
    "        if v< r[i]:\n",
    "            return i\n",
    "    return len(r)"
   ]
  },
  {
   "cell_type": "code",
   "execution_count": 198,
   "metadata": {},
   "outputs": [
    {
     "name": "stdout",
     "output_type": "stream",
     "text": [
      "[1, 3, 4, 5, 5, 6, 7, 45]\n"
     ]
    }
   ],
   "source": [
    "def ins_sort(a):\n",
    "    result = []\n",
    "    while a:\n",
    "        value = a.pop(0)\n",
    "        ins_idx = find_ins_idx(result, value)\n",
    "        result.insert(ins_idx, value)\n",
    "    return result\n",
    "\n",
    "d = [1,4,5,6,7,3,5,45]\n",
    "print(ins_sort(d))"
   ]
  },
  {
   "cell_type": "code",
   "execution_count": 234,
   "metadata": {},
   "outputs": [
    {
     "data": {
      "text/plain": [
       "45"
      ]
     },
     "execution_count": 234,
     "metadata": {},
     "output_type": "execute_result"
    }
   ],
   "source": [
    "#삽입 정렬 \n",
    "#입력 : 리스트 ,a\n",
    "#출력: 없음\n",
    "\n",
    "def ins_sort_a(a):\n",
    "    n = len(a)\n",
    "    for i in range(0,n):\n",
    "        key = a[i]\n",
    "        j=i-1\n",
    "        #리스트를 j번 위치에 있는 값과 key 비교\n",
    "        while j>=0 and a[j]>key:\n",
    "            a[j+1] = a[j]\n",
    "            j = j-1\n",
    "        a[j+1] =key\n",
    "d = [1,4,5,6,7,3,5,45]\n",
    "ins_sort_a(d)\n",
    "#print(d)\n",
    "d[-1]"
   ]
  },
  {
   "cell_type": "markdown",
   "metadata": {},
   "source": [
    "### 퀵정렬"
   ]
  },
  {
   "cell_type": "code",
   "execution_count": 236,
   "metadata": {},
   "outputs": [
    {
     "name": "stdout",
     "output_type": "stream",
     "text": [
      "[1, 2, 2, 3, 4, 4, 4, 6, 7, 8, 9, 121]\n"
     ]
    }
   ],
   "source": [
    "#쉽게 설명한 퀵정렬\n",
    "#입력: 리스트 a\n",
    "\n",
    "def quick_sort(a):\n",
    "    n = len(a)\n",
    "    #종료 조건: 정렬할 리스트의 자료 개수가 한개 이하면 정렬할 필요 없음\n",
    "    if n<=1:\n",
    "        return a\n",
    "    #기준 값을 정하고 기준에 맞춰 그룹을 나누는 과정\n",
    "    pivot = a[-1] #편의상 리스트의 마지막 값을 기준 값으로 정함\n",
    "    g1 =[]  #기준값담을 리스트\n",
    "    g2 =[]  #기준값담을 리스트2\n",
    "    for i in range(0, n-1):\n",
    "        if a[i]<pivot:\n",
    "            g1.append(a[i])\n",
    "        else:  \n",
    "            g2.append(a[i])\n",
    "    return quick_sort(g1)+[pivot]+ quick_sort(g2)\n",
    "d= [6,9,4,2,121,4,8,1,2,3,4,7]\n",
    "print(quick_sort(d))"
   ]
  },
  {
   "cell_type": "code",
   "execution_count": 243,
   "metadata": {},
   "outputs": [
    {
     "name": "stdout",
     "output_type": "stream",
     "text": [
      "[6, 9, 4, 2, 121, 4, 8, 1, 2, 3, 4, 7]\n"
     ]
    }
   ],
   "source": [
    "#일반 퀵정렬\n",
    "#입력 리스트a\n",
    "#출력 없음\n",
    "#범위 지정해서 정렬하는 재귀호출\n",
    "def quick_sort_sub(a,start,end):\n",
    "    #종료조건\n",
    "    if start - end <=0:\n",
    "        return\n",
    "    #기준값을 정하고 기주값에 맞춰 리스트 안에서 위치를 맞춘다\n",
    "    #[기준값보다 작으값들, 기준, 기준값보다 큰값]\n",
    "    pivot = a[end]\n",
    "    i =start\n",
    "    for j in range(start, end):\n",
    "        if a[j]<=pivot:\n",
    "            a[i], a[j] = a[j], a[i]\n",
    "            i = i+1\n",
    "    a[i], a[end] = a[end], a[i]\n",
    "    #재귀호출 부분\n",
    "    quick_sort_sub(a, start,i-1)\n",
    "    quick_sort_sub(a, i+1, end)\n",
    "\n",
    "def quick_sort(a):\n",
    "    quick_sort_sub(a, 0, len(a)-1)\n",
    "d= [6,9,4,2,121,4,8,1,2,3,4,7]\n",
    "quick_sort(d)\n",
    "print(d)\n"
   ]
  },
  {
   "cell_type": "code",
   "execution_count": 244,
   "metadata": {},
   "outputs": [
    {
     "data": {
      "text/plain": [
       "[1, 2, 4, 5, 7]"
      ]
     },
     "execution_count": 244,
     "metadata": {},
     "output_type": "execute_result"
    }
   ],
   "source": [
    "sorted([5,2,1,4,7])"
   ]
  },
  {
   "cell_type": "code",
   "execution_count": 245,
   "metadata": {},
   "outputs": [],
   "source": [
    "a=[5,2,1,4,7]"
   ]
  },
  {
   "cell_type": "code",
   "execution_count": 253,
   "metadata": {},
   "outputs": [
    {
     "name": "stdout",
     "output_type": "stream",
     "text": [
      "[7, 5, 4, 2, 1]\n"
     ]
    }
   ],
   "source": [
    "a.sort(reverse=True)\n",
    "print(a)"
   ]
  },
  {
   "cell_type": "markdown",
   "metadata": {},
   "source": [
    "### 큐 스택"
   ]
  },
  {
   "cell_type": "code",
   "execution_count": 2,
   "metadata": {},
   "outputs": [
    {
     "data": {
      "text/plain": [
       "1"
      ]
     },
     "execution_count": 2,
     "metadata": {},
     "output_type": "execute_result"
    }
   ],
   "source": [
    "#큐\n",
    "qu = [] #초기화\n",
    "qu.append(1) #리스트 맨뒤 자료추가\n",
    "qu.pop(0) #리스트 맨 앞 자료 빼"
   ]
  },
  {
   "cell_type": "code",
   "execution_count": 5,
   "metadata": {},
   "outputs": [
    {
     "data": {
      "text/plain": [
       "1"
      ]
     },
     "execution_count": 5,
     "metadata": {},
     "output_type": "execute_result"
    }
   ],
   "source": [
    "#스택 \n",
    "stack =[] #빈리스트 만들자\n",
    "stack.append(1)\n",
    "stack.pop(0)"
   ]
  },
  {
   "cell_type": "code",
   "execution_count": 19,
   "metadata": {},
   "outputs": [
    {
     "name": "stdout",
     "output_type": "stream",
     "text": [
      "True\n"
     ]
    }
   ],
   "source": [
    "#회문 찾기\n",
    "#펠린드롬\n",
    "\n",
    "def palindrome(s):\n",
    "    #큐, 스택 생성\n",
    "    qu = []\n",
    "    st = []\n",
    "    #1. 알파벳의 문자열을 q, stack 에 넣음\n",
    "    for i in s:\n",
    "        if i.isalpha:\n",
    "            qu.append(i.lower()) #문자가 알파벳(공백,숫자가 아니면)\n",
    "            st.append(i.lower()) #큐, 스택에 넣자\n",
    "    while qu:\n",
    "        if qu.pop(0) != st.pop(): #큐와 스택에서 꺼낸 문자가 다르면 회문아님\n",
    "            return False\n",
    "        \n",
    "    return True\n",
    "        \n",
    "print(palindrome(\"woow\"))\n",
    "            "
   ]
  },
  {
   "cell_type": "code",
   "execution_count": 22,
   "metadata": {},
   "outputs": [
    {
     "data": {
      "text/plain": [
       "1"
      ]
     },
     "execution_count": 22,
     "metadata": {},
     "output_type": "execute_result"
    }
   ],
   "source": [
    "qu = [1,2,3,4,5]\n",
    "qu.pop(0)"
   ]
  },
  {
   "cell_type": "code",
   "execution_count": null,
   "metadata": {},
   "outputs": [],
   "source": []
  },
  {
   "cell_type": "code",
   "execution_count": null,
   "metadata": {},
   "outputs": [],
   "source": []
  },
  {
   "cell_type": "code",
   "execution_count": null,
   "metadata": {},
   "outputs": [],
   "source": []
  },
  {
   "cell_type": "code",
   "execution_count": null,
   "metadata": {},
   "outputs": [],
   "source": []
  },
  {
   "cell_type": "code",
   "execution_count": null,
   "metadata": {},
   "outputs": [],
   "source": []
  },
  {
   "cell_type": "code",
   "execution_count": null,
   "metadata": {},
   "outputs": [],
   "source": []
  },
  {
   "cell_type": "code",
   "execution_count": null,
   "metadata": {},
   "outputs": [],
   "source": []
  },
  {
   "cell_type": "code",
   "execution_count": null,
   "metadata": {},
   "outputs": [],
   "source": []
  },
  {
   "cell_type": "code",
   "execution_count": null,
   "metadata": {},
   "outputs": [],
   "source": []
  },
  {
   "cell_type": "code",
   "execution_count": null,
   "metadata": {},
   "outputs": [],
   "source": []
  },
  {
   "cell_type": "code",
   "execution_count": null,
   "metadata": {},
   "outputs": [],
   "source": []
  }
 ],
 "metadata": {
  "kernelspec": {
   "display_name": "Python 3",
   "language": "python",
   "name": "python3"
  },
  "language_info": {
   "codemirror_mode": {
    "name": "ipython",
    "version": 3
   },
   "file_extension": ".py",
   "mimetype": "text/x-python",
   "name": "python",
   "nbconvert_exporter": "python",
   "pygments_lexer": "ipython3",
   "version": "3.8.3"
  }
 },
 "nbformat": 4,
 "nbformat_minor": 4
}
