{
 "cells": [
  {
   "cell_type": "markdown",
   "metadata": {},
   "source": [
    "## 기초 연습"
   ]
  },
  {
   "cell_type": "code",
   "execution_count": 7,
   "metadata": {},
   "outputs": [
    {
     "name": "stdout",
     "output_type": "stream",
     "text": [
      "1 fb\n",
      "2 amzn\n",
      "3 aapl\n",
      "4 nflx\n",
      "5 googl\n"
     ]
    }
   ],
   "source": [
    "fa = ['fb', 'amzn', 'aapl', 'nflx', 'googl']\n",
    "\n",
    "for i, s in enumerate(fa, 1):\n",
    "    print(i,s)"
   ]
  },
  {
   "cell_type": "code",
   "execution_count": 9,
   "metadata": {},
   "outputs": [
    {
     "name": "stdout",
     "output_type": "stream",
     "text": [
      "exception occured : division by zero\n"
     ]
    }
   ],
   "source": [
    "try:\n",
    "    1/0\n",
    "except Exception as e:\n",
    "    print('exception occured :', str(e))"
   ]
  },
  {
   "cell_type": "code",
   "execution_count": 14,
   "metadata": {},
   "outputs": [
    {
     "data": {
      "text/plain": [
       "2"
      ]
     },
     "execution_count": 14,
     "metadata": {},
     "output_type": "execute_result"
    }
   ],
   "source": [
    "#중첩 연산자 부르는법\n",
    "l = [[1,2], [3,4]]\n",
    "    \n",
    "l[0][1]"
   ]
  },
  {
   "cell_type": "code",
   "execution_count": 21,
   "metadata": {},
   "outputs": [
    {
     "data": {
      "text/plain": [
       "[3, 4, 6, 8, 9]"
      ]
     },
     "execution_count": 21,
     "metadata": {},
     "output_type": "execute_result"
    }
   ],
   "source": [
    "li = [6,8,3,9,4]\n",
    "\n",
    "#li.sort()\n",
    "#li\n",
    "\n",
    "li = [6,8,3,9,4]\n",
    "sorted(li)\n",
    "#print(li)"
   ]
  },
  {
   "cell_type": "code",
   "execution_count": 38,
   "metadata": {},
   "outputs": [
    {
     "data": {
      "text/plain": [
       "[2, 3, 4, 5]"
      ]
     },
     "execution_count": 38,
     "metadata": {},
     "output_type": "execute_result"
    }
   ],
   "source": [
    "list_a = [2,3]\n",
    "list_a.extend([4,5])\n",
    "list_a"
   ]
  },
  {
   "cell_type": "code",
   "execution_count": 41,
   "metadata": {},
   "outputs": [
    {
     "data": {
      "text/plain": [
       "['abc', 'abas', 'sdfasdg']"
      ]
     },
     "execution_count": 41,
     "metadata": {},
     "output_type": "execute_result"
    }
   ],
   "source": [
    "mylist = ['abc', 'abas','sdfasdg']\n",
    "\n",
    "newlist =  mylist[:]\n",
    "\n",
    "newlist"
   ]
  },
  {
   "cell_type": "code",
   "execution_count": 1,
   "metadata": {},
   "outputs": [
    {
     "name": "stdout",
     "output_type": "stream",
     "text": [
      "[1, 4, 9, 16, 25]\n"
     ]
    }
   ],
   "source": [
    "#리스트 내포\n",
    "nums = [1,2,3,4,5]\n",
    "squares = []\n",
    "for x in nums:\n",
    "    squares.append(x**2)\n",
    "print(squares)"
   ]
  },
  {
   "cell_type": "code",
   "execution_count": 2,
   "metadata": {},
   "outputs": [],
   "source": [
    "nums = [1,2,3,4,5]\n",
    "even_squares = [x**2 for x in nums if x %2 == 0]"
   ]
  },
  {
   "cell_type": "code",
   "execution_count": 3,
   "metadata": {},
   "outputs": [
    {
     "data": {
      "text/plain": [
       "[4, 16]"
      ]
     },
     "execution_count": 3,
     "metadata": {},
     "output_type": "execute_result"
    }
   ],
   "source": [
    "even_squares"
   ]
  },
  {
   "cell_type": "code",
   "execution_count": null,
   "metadata": {},
   "outputs": [],
   "source": []
  },
  {
   "cell_type": "markdown",
   "metadata": {},
   "source": [
    "### 튜플"
   ]
  },
  {
   "cell_type": "code",
   "execution_count": 5,
   "metadata": {},
   "outputs": [
    {
     "data": {
      "text/plain": [
       "[10, 20, 30]"
      ]
     },
     "execution_count": 5,
     "metadata": {},
     "output_type": "execute_result"
    }
   ],
   "source": [
    "mytuple= ('a', 'b', 'c', [10,20,30], abs, max)\n",
    "\n",
    "mytuple[3]"
   ]
  },
  {
   "cell_type": "code",
   "execution_count": 6,
   "metadata": {},
   "outputs": [],
   "source": [
    "s = 'string'"
   ]
  },
  {
   "cell_type": "code",
   "execution_count": 7,
   "metadata": {},
   "outputs": [
    {
     "data": {
      "text/plain": [
       "str"
      ]
     },
     "execution_count": 7,
     "metadata": {},
     "output_type": "execute_result"
    }
   ],
   "source": [
    "type(s)"
   ]
  },
  {
   "cell_type": "code",
   "execution_count": 8,
   "metadata": {},
   "outputs": [
    {
     "data": {
      "text/plain": [
       "['__add__',\n",
       " '__class__',\n",
       " '__contains__',\n",
       " '__delattr__',\n",
       " '__dir__',\n",
       " '__doc__',\n",
       " '__eq__',\n",
       " '__format__',\n",
       " '__ge__',\n",
       " '__getattribute__',\n",
       " '__getitem__',\n",
       " '__getnewargs__',\n",
       " '__gt__',\n",
       " '__hash__',\n",
       " '__init__',\n",
       " '__init_subclass__',\n",
       " '__iter__',\n",
       " '__le__',\n",
       " '__len__',\n",
       " '__lt__',\n",
       " '__mod__',\n",
       " '__mul__',\n",
       " '__ne__',\n",
       " '__new__',\n",
       " '__reduce__',\n",
       " '__reduce_ex__',\n",
       " '__repr__',\n",
       " '__rmod__',\n",
       " '__rmul__',\n",
       " '__setattr__',\n",
       " '__sizeof__',\n",
       " '__str__',\n",
       " '__subclasshook__',\n",
       " 'capitalize',\n",
       " 'casefold',\n",
       " 'center',\n",
       " 'count',\n",
       " 'encode',\n",
       " 'endswith',\n",
       " 'expandtabs',\n",
       " 'find',\n",
       " 'format',\n",
       " 'format_map',\n",
       " 'index',\n",
       " 'isalnum',\n",
       " 'isalpha',\n",
       " 'isascii',\n",
       " 'isdecimal',\n",
       " 'isdigit',\n",
       " 'isidentifier',\n",
       " 'islower',\n",
       " 'isnumeric',\n",
       " 'isprintable',\n",
       " 'isspace',\n",
       " 'istitle',\n",
       " 'isupper',\n",
       " 'join',\n",
       " 'ljust',\n",
       " 'lower',\n",
       " 'lstrip',\n",
       " 'maketrans',\n",
       " 'partition',\n",
       " 'replace',\n",
       " 'rfind',\n",
       " 'rindex',\n",
       " 'rjust',\n",
       " 'rpartition',\n",
       " 'rsplit',\n",
       " 'rstrip',\n",
       " 'split',\n",
       " 'splitlines',\n",
       " 'startswith',\n",
       " 'strip',\n",
       " 'swapcase',\n",
       " 'title',\n",
       " 'translate',\n",
       " 'upper',\n",
       " 'zfill']"
      ]
     },
     "execution_count": 8,
     "metadata": {},
     "output_type": "execute_result"
    }
   ],
   "source": [
    "dir(s)"
   ]
  },
  {
   "cell_type": "code",
   "execution_count": 10,
   "metadata": {},
   "outputs": [
    {
     "name": "stdout",
     "output_type": "stream",
     "text": [
      "\n",
      "Here is a list of the Python keywords.  Enter any keyword to get more help.\n",
      "\n",
      "False               class               from                or\n",
      "None                continue            global              pass\n",
      "True                def                 if                  raise\n",
      "and                 del                 import              return\n",
      "as                  elif                in                  try\n",
      "assert              else                is                  while\n",
      "async               except              lambda              with\n",
      "await               finally             nonlocal            yield\n",
      "break               for                 not                 \n",
      "\n"
     ]
    }
   ],
   "source": [
    "# 예약어\n",
    "help('keywords')"
   ]
  },
  {
   "cell_type": "code",
   "execution_count": 11,
   "metadata": {},
   "outputs": [],
   "source": [
    "#연 평균 성장률 (cagr) 구하기\n",
    "#cagr = compound annual growth rates\n",
    "def cagr(first, last, years):\n",
    "    return (last/first)**(1/years) -1"
   ]
  },
  {
   "cell_type": "code",
   "execution_count": 30,
   "metadata": {},
   "outputs": [
    {
     "name": "stdout",
     "output_type": "stream",
     "text": [
      "sec cagr : 20.38%\n"
     ]
    }
   ],
   "source": [
    "#삼성전자 cagr \n",
    "samsung = cagr(65300, 2669000, 20)\n",
    "print(\"sec cagr : {:.2%}\".format(samsung))"
   ]
  },
  {
   "cell_type": "code",
   "execution_count": 32,
   "metadata": {},
   "outputs": [
    {
     "data": {
      "text/plain": [
       "9"
      ]
     },
     "execution_count": 32,
     "metadata": {},
     "output_type": "execute_result"
    }
   ],
   "source": [
    "#람다\n",
    "insetcomma = lambda x : x**2\n",
    "insetcomma(3)"
   ]
  },
  {
   "cell_type": "markdown",
   "metadata": {},
   "source": [
    "## 모듈"
   ]
  },
  {
   "cell_type": "code",
   "execution_count": 34,
   "metadata": {},
   "outputs": [
    {
     "name": "stdout",
     "output_type": "stream",
     "text": [
      "\n",
      "Please wait a moment while I gather a list of all available modules...\n",
      "\n"
     ]
    },
    {
     "name": "stderr",
     "output_type": "stream",
     "text": [
      "C:\\Users\\82102\\Anaconda3\\lib\\site-packages\\IPython\\kernel\\__init__.py:13: ShimWarning: The `IPython.kernel` package has been deprecated since IPython 4.0.You should import from ipykernel or jupyter_client instead.\n",
      "  \"You should import from ipykernel or jupyter_client instead.\", ShimWarning)\n",
      "WARNING: AstropyDeprecationWarning: astropy.utils.compat.futures is now deprecated - use concurrent.futures instead [astropy.utils.compat.futures]\n",
      "C:\\Users\\82102\\Anaconda3\\lib\\site-packages\\distributed\\config.py:20: YAMLLoadWarning: calling yaml.load() without Loader=... is deprecated, as the default Loader is unsafe. Please read https://msg.pyyaml.org/load for full details.\n",
      "  defaults = yaml.load(f)\n",
      "C:\\Users\\82102\\Anaconda3\\lib\\site-packages\\nltk\\twitter\\__init__.py:22: UserWarning: The twython library has not been installed. Some functionality from the twitter package will not be available.\n",
      "  \"The twython library has not been installed. \"\n",
      "C:\\Users\\82102\\Anaconda3\\lib\\site-packages\\skimage\\novice\\__init__.py:103: UserWarning: The `skimage.novice` module was deprecated in version 0.14. It will be removed in 0.16.\n",
      "  warnings.warn(\"The `skimage.novice` module was deprecated in version 0.14. \"\n",
      "C:\\Users\\82102\\Anaconda3\\lib\\site-packages\\skimage\\viewer\\utils\\core.py:10: UserWarning: Recommended matplotlib backend is `Agg` for full skimage.viewer functionality.\n",
      "  warn(\"Recommended matplotlib backend is `Agg` for full \"\n",
      "C:\\Users\\82102\\Anaconda3\\lib\\site-packages\\sphinx\\websupport\\__init__.py:25: RemovedInSphinx20Warning: sphinx.websupport module is now provided as sphinxcontrib-websupport. sphinx.websupport will be removed at Sphinx-2.0. Please use the package instead.\n",
      "  RemovedInSphinx20Warning)\n",
      "C:\\Users\\82102\\Anaconda3\\lib\\site-packages\\qtawesome\\iconic_font.py:276: UserWarning: You need to have a running QApplication to use QtAwesome!\n",
      "  warnings.warn(\"You need to have a running \"\n",
      "C:\\Users\\82102\\Anaconda3\\lib\\pkgutil.py:107: VisibleDeprecationWarning: zmq.eventloop.minitornado is deprecated in pyzmq 14.0 and will be removed.\n",
      "    Install tornado itself to use zmq with the tornado IOLoop.\n",
      "    \n",
      "  yield from walk_packages(path, info.name+'.', onerror)\n"
     ]
    },
    {
     "name": "stdout",
     "output_type": "stream",
     "text": [
      "Crypto              bz2                 matplotlib          sortedcollections\n",
      "Cython              cProfile            mccabe              sortedcontainers\n",
      "IPython             calendar            menuinst            soupsieve\n",
      "OpenSSL             certifi             mimetypes           sphinx\n",
      "PIL                 cffi                mistune             sphinxcontrib\n",
      "PyQt5               cgi                 mkl                 spyder\n",
      "__future__          cgitb               mkl_fft             spyder_breakpoints\n",
      "_abc                chardet             mkl_random          spyder_io_dcm\n",
      "_ast                chunk               mmap                spyder_io_hdf5\n",
      "_asyncio            click               mmapfile            spyder_kernels\n",
      "_bisect             cloudpickle         mmsystem            spyder_profiler\n",
      "_blake2             clyent              mock                spyder_pylint\n",
      "_bootlocale         cmath               modulefinder        sqlalchemy\n",
      "_bz2                cmd                 more_itertools      sqlite3\n",
      "_cffi_backend       code                mpmath              sre_compile\n",
      "_codecs             codecs              msgpack             sre_constants\n",
      "_codecs_cn          codeop              msilib              sre_parse\n",
      "_codecs_hk          collections         msvcrt              ssl\n",
      "_codecs_iso2022     colorama            multipledispatch    sspi\n",
      "_codecs_jp          colorsys            multiprocessing     sspicon\n",
      "_codecs_kr          commctrl            navigator_updater   stat\n",
      "_codecs_tw          compileall          nbconvert           statistics\n",
      "_collections        comtypes            nbformat            statsmodels\n",
      "_collections_abc    concurrent          netbios             storemagic\n",
      "_compat_pickle      conda               netrc               string\n",
      "_compression        conda_build         networkx            stringprep\n",
      "_contextvars        conda_env           nltk                struct\n",
      "_csv                conda_package_handling nntplib             subprocess\n",
      "_ctypes             conda_verify        nose                sunau\n",
      "_ctypes_test        configparser        notebook            symbol\n",
      "_datetime           constantly          nt                  sympy\n",
      "_decimal            contextlib          ntpath              sympyprinting\n",
      "_dummy_thread       contextlib2         ntsecuritycon       symtable\n",
      "_elementtree        contextvars         nturl2path          sys\n",
      "_functools          copy                numba               sysconfig\n",
      "_hashlib            copyreg             numbers             tables\n",
      "_heapq              crypt               numexpr             tabnanny\n",
      "_imp                cryptography        numpy               tarfile\n",
      "_io                 csv                 numpydoc            tblib\n",
      "_json               ctypes              odbc                telnetlib\n",
      "_locale             curl                odo                 tempfile\n",
      "_lsprof             curses              olefile             tensorboard\n",
      "_lzma               cwp                 opcode              tensorflow\n",
      "_markupbase         cycler              openpyxl            tensorflow_estimator\n",
      "_md5                cython              operator            termcolor\n",
      "_msi                cythonmagic         optparse            terminado\n",
      "_multibytecodec     cytoolz             os                  test\n",
      "_multiprocessing    dask                packaging           test_data\n",
      "_nsis               dataclasses         pandas              test_path\n",
      "_opcode             datashape           pandocfilters       test_pycosat\n",
      "_operator           datetime            parser              testpath\n",
      "_osx_support        dateutil            parso               tests\n",
      "_overlapped         dbi                 partd               textwrap\n",
      "_pickle             dbm                 past                this\n",
      "_py_abc             dde                 path                threading\n",
      "_pydecimal          decimal             pathlib             time\n",
      "_pyio               decorator           pathlib2            timeit\n",
      "_pylief             defusedxml          patsy               timer\n",
      "_pyrsistent_version difflib             pdb                 tkinter\n",
      "_pytest             dis                 pep8                tlz\n",
      "_queue              distributed         perfmon             token\n",
      "_random             distutils           pickle              tokenize\n",
      "_sha1               doctest             pickleshare         toolz\n",
      "_sha256             docutils            pickletools         tornado\n",
      "_sha3               dummy_threading     pip                 tqdm\n",
      "_sha512             easy_install        pipes               trace\n",
      "_signal             email               pkg_resources       traceback\n",
      "_sitebuiltins       encodings           pkginfo             tracemalloc\n",
      "_socket             ensurepip           pkgutil             traitlets\n",
      "_sqlite3            entrypoints         platform            tty\n",
      "_sre                enum                plistlib            turtle\n",
      "_ssl                errno               pluggy              turtledemo\n",
      "_stat               et_xmlfile          ply                 twisted\n",
      "_string             fastcache           poplib              types\n",
      "_strptime           faulthandler        posixpath           typing\n",
      "_struct             filecmp             pprint              unicodecsv\n",
      "_symtable           fileinput           profile             unicodedata\n",
      "_system_path        filelock            prometheus_client   unittest\n",
      "_testbuffer         flask               prompt_toolkit      urllib\n",
      "_testcapi           flask_cors          pstats              urllib3\n",
      "_testconsole        fnmatch             psutil              uu\n",
      "_testimportmultiple formatter           pty                 uuid\n",
      "_testmultiphase     fractions           pvectorc            venv\n",
      "_thread             ftplib              py                  warnings\n",
      "_threading_local    functools           py_compile          wave\n",
      "_tkinter            future              pyasn1              wcwidth\n",
      "_tracemalloc        gast                pyasn1_modules      weakref\n",
      "_warnings           gc                  pyclbr              webbrowser\n",
      "_weakref            genericpath         pycodestyle         webencodings\n",
      "_weakrefset         getopt              pycosat             werkzeug\n",
      "_win32sysloader     getpass             pycparser           wheel\n",
      "_winapi             gettext             pycurl              widgetsnbextension\n",
      "_winxptheme         gevent              pydoc               win2kras\n",
      "_yaml               glob                pydoc_data          win32api\n",
      "abc                 glob2               pyexpat             win32clipboard\n",
      "absl                greenlet            pyflakes            win32com\n",
      "adodbapi            grpc                pygments            win32con\n",
      "afxres              gzip                pylab               win32console\n",
      "aifc                h5py                pylint              win32cred\n",
      "alabaster           hamcrest            pyodbc              win32crypt\n",
      "anaconda_navigator  hashlib             pyparsing           win32cryptcon\n",
      "anaconda_project    heapdict            pyreadline          win32event\n",
      "antigravity         heapq               pyrsistent          win32evtlog\n",
      "appdirs             hmac                pytest              win32evtlogutil\n",
      "argparse            html                pytest_arraydiff    win32file\n",
      "array               html5lib            pytest_doctestplus  win32gui\n",
      "asn1crypto          http                pytest_openfiles    win32gui_struct\n",
      "ast                 hyperlink           pytest_remotedata   win32help\n",
      "astor               idlelib             pythoncom           win32inet\n",
      "astroid             idna                pytz                win32inetcon\n",
      "astropy             imageio             pywin               win32job\n",
      "asynchat            imagesize           pywin32_testutil    win32lz\n",
      "asyncio             imaplib             pywintypes          win32net\n",
      "asyncore            imghdr              pywt                win32netcon\n",
      "atexit              imp                 pyximport           win32pdh\n",
      "atomicwrites        importlib           qtawesome           win32pdhquery\n",
      "attr                importlib_metadata  qtconsole           win32pdhutil\n",
      "audioop             incremental         qtpy                win32pipe\n",
      "automat             inspect             queue               win32print\n",
      "autoreload          io                  quopri              win32process\n",
      "babel               ipaddress           random              win32profile\n",
      "backcall            ipykernel           rasutil             win32ras\n",
      "backports           ipykernel_launcher  re                  win32rcparser\n",
      "base64              ipython_genutils    readline            win32security\n",
      "bcrypt              ipywidgets          regcheck            win32service\n",
      "bdb                 isapi               regutil             win32serviceutil\n",
      "binascii            isort               reprlib             win32timezone\n",
      "binhex              isympy              requests            win32trace\n",
      "binstar_client      itertools           rlcompleter         win32traceutil\n",
      "bisect              itsdangerous        rmagic              win32transaction\n",
      "bitarray            jdcal               rope                win32ts\n",
      "bkcharts            jedi                ruamel_yaml         win32ui\n",
      "blaze               jinja2              run                 win32uiole\n",
      "bleach              json                runpy               win32verstamp\n",
      "bokeh               jsonschema          sched               win32wnet\n",
      "boto                jupyter             scipy               win_inet_pton\n",
      "bottleneck          jupyter_client      scripts             win_unicode_console\n",
      "brain_argparse      jupyter_console     seaborn             wincertstore\n",
      "brain_attrs         jupyter_core        secrets             winerror\n",
      "brain_builtin_inference jupyterlab          select              winioctlcon\n",
      "brain_collections   jupyterlab_launcher selectors           winnt\n",
      "brain_curses        jupyterlab_server   send2trash          winperf\n",
      "brain_dateutil      keras_applications  service_identity    winpty\n",
      "brain_fstrings      keras_preprocessing servicemanager      winreg\n",
      "brain_functools     keyring             setuptools          winsound\n",
      "brain_gi            keyword             shelve              winxpgui\n",
      "brain_hashlib       kiwisolver          shlex               winxptheme\n",
      "brain_http          lazy_object_proxy   shutil              wrapt\n",
      "brain_io            lib2to3             signal              wsgiref\n",
      "brain_mechanize     libarchive          simplegeneric       xdrlib\n",
      "brain_multiprocessing libfuturize         singledispatch      xlrd\n",
      "brain_namedtuple_enum libpasteurize       singledispatch_helpers xlsxwriter\n",
      "brain_nose          lief                sip                 xlwings\n",
      "brain_numpy         linecache           sipconfig           xlwt\n",
      "brain_pkg_resources llvmlite            sipdistutils        xml\n",
      "brain_pytest        locale              site                xmlrpc\n",
      "brain_qt            locket              six                 xxsubtype\n",
      "brain_random        logging             skimage             yaml\n",
      "brain_re            lxml                sklearn             zict\n",
      "brain_six           lzma                smtpd               zipapp\n",
      "brain_ssl           macpath             smtplib             zipfile\n",
      "brain_subprocess    mailbox             sndhdr              zipimport\n",
      "brain_threading     mailcap             snowballstemmer     zipp\n",
      "brain_typing        markdown            socket              zlib\n",
      "brain_uuid          markupsafe          socketserver        zmq\n",
      "bs4                 marshal             socks               zope\n",
      "builtins            math                sockshandler        \n",
      "\n",
      "Enter any module name to get more help.  Or, type \"modules spam\" to search\n",
      "for modules whose name or summary contain the string \"spam\".\n",
      "\n",
      "DEBUG:matplotlib.pyplot:Loaded backend module://ipykernel.pylab.backend_inline version unknown.\n"
     ]
    }
   ],
   "source": [
    "help('modules')"
   ]
  },
  {
   "cell_type": "markdown",
   "metadata": {},
   "source": [
    "## 패키지 생성"
   ]
  },
  {
   "cell_type": "code",
   "execution_count": 36,
   "metadata": {},
   "outputs": [
    {
     "name": "stdout",
     "output_type": "stream",
     "text": [
      "module_A __main__\n"
     ]
    }
   ],
   "source": [
    "def functionA():\n",
    "    print('이거되냐?')\n",
    "print('module_A',__name__)"
   ]
  },
  {
   "cell_type": "code",
   "execution_count": 37,
   "metadata": {},
   "outputs": [
    {
     "name": "stdout",
     "output_type": "stream",
     "text": [
      "module_b __main__\n"
     ]
    }
   ],
   "source": [
    "def functionB():\\\n",
    "    print('이거되냐고')\n",
    "print('module_b',__name__)"
   ]
  },
  {
   "cell_type": "markdown",
   "metadata": {},
   "source": [
    "## 클래스"
   ]
  },
  {
   "cell_type": "code",
   "execution_count": 53,
   "metadata": {},
   "outputs": [],
   "source": [
    "class myfirstclass:\n",
    "    clsvar = 'The best way to predict the future is to invent it'\n",
    "    def clsMethod(self):\n",
    "        print(myfirstclass.clsvar + '\\t- Alan Curtis Kay -')"
   ]
  },
  {
   "cell_type": "code",
   "execution_count": 54,
   "metadata": {},
   "outputs": [],
   "source": [
    "mfc = myfirstclass() #인스턴트화"
   ]
  },
  {
   "cell_type": "code",
   "execution_count": 55,
   "metadata": {},
   "outputs": [
    {
     "data": {
      "text/plain": [
       "'The best way to predict the future is to invent it'"
      ]
     },
     "execution_count": 55,
     "metadata": {},
     "output_type": "execute_result"
    }
   ],
   "source": [
    "mfc.clsvar #클래스 변수에 접근"
   ]
  },
  {
   "cell_type": "code",
   "execution_count": 56,
   "metadata": {},
   "outputs": [
    {
     "name": "stdout",
     "output_type": "stream",
     "text": [
      "The best way to predict the future is to invent it\t- Alan Curtis Kay -\n"
     ]
    }
   ],
   "source": [
    "mfc.clsMethod() #클래스 메서드 호출"
   ]
  },
  {
   "cell_type": "code",
   "execution_count": 68,
   "metadata": {},
   "outputs": [
    {
     "name": "stdout",
     "output_type": "stream",
     "text": [
      "calling A's methodA\n",
      "calling B's methodB\n",
      "calling C's methodC\n",
      "calling C's overridden method\n",
      "calling A's method\n"
     ]
    }
   ],
   "source": [
    "# 상속 예시\n",
    "class A:\n",
    "    def methodA(self):\n",
    "        print(\"calling A's methodA\")\n",
    "    def method(self):\n",
    "        print(\"calling A's method\")\n",
    "\n",
    "class B:\n",
    "    def methodB(self):\n",
    "        print(\"calling B's methodB\")\n",
    "        \n",
    "class C(A,B):\n",
    "    def methodC(self):\n",
    "        print(\"calling C's methodC\")\n",
    "    def method(self):\n",
    "        print(\"calling C's overridden method\")\n",
    "        super().method()\n",
    "\n",
    "    \n",
    "c = C()\n",
    "c.methodA()\n",
    "c.methodB()\n",
    "c.methodC()\n",
    "c.method()"
   ]
  },
  {
   "cell_type": "code",
   "execution_count": 1,
   "metadata": {},
   "outputs": [
    {
     "name": "stdout",
     "output_type": "stream",
     "text": [
      "Calling __init__(GOOG,1154.05> count : 1)\n",
      "Calling __del__(<__main__.NasdaqStock object at 0x000001D20CD35710>)\n"
     ]
    }
   ],
   "source": [
    "#클래스 메서드 예\n",
    "class NasdaqStock:\n",
    "    '''Class for NASDAQ stocks''' #독스트링\n",
    "    count = 0 # 클래스 변수\n",
    "    def __init__ (self, symbol, price):\n",
    "        '''Constructor for NasdaqStock''' #독스트링\n",
    "        self.symbol = symbol #인스턴스 변수\n",
    "        self.price = price #인스턴스 변수\n",
    "        NasdaqStock.count += 1\n",
    "        print('Calling __init__({},{:.2f}> count : {})'.format\n",
    "             (self.symbol, self.price, NasdaqStock.count))\n",
    "    \n",
    "    def __del__(self):\n",
    "        '''Destructor for NasdaqStock''' #독스트링\n",
    "        print('Calling __del__({})'.format(self))\n",
    "        \n",
    "gg = NasdaqStock('GOOG', 1154.05)\n",
    "del(gg)\n",
    "#del 함수를 사용해서 명시적으로 인스턴스를 제거해 __del__ 소멸자가 호출되는것\n",
    "    "
   ]
  },
  {
   "cell_type": "code",
   "execution_count": 2,
   "metadata": {},
   "outputs": [
    {
     "name": "stdout",
     "output_type": "stream",
     "text": [
      "Help on class NasdaqStock in module __main__:\n",
      "\n",
      "class NasdaqStock(builtins.object)\n",
      " |  NasdaqStock(symbol, price)\n",
      " |  \n",
      " |  Class for NASDAQ stocks\n",
      " |  \n",
      " |  Methods defined here:\n",
      " |  \n",
      " |  __del__(self)\n",
      " |      Destructor for NasdaqStock\n",
      " |  \n",
      " |  __init__(self, symbol, price)\n",
      " |      Constructor for NasdaqStock\n",
      " |  \n",
      " |  ----------------------------------------------------------------------\n",
      " |  Data descriptors defined here:\n",
      " |  \n",
      " |  __dict__\n",
      " |      dictionary for instance variables (if defined)\n",
      " |  \n",
      " |  __weakref__\n",
      " |      list of weak references to the object (if defined)\n",
      " |  \n",
      " |  ----------------------------------------------------------------------\n",
      " |  Data and other attributes defined here:\n",
      " |  \n",
      " |  count = 1\n",
      "\n"
     ]
    }
   ],
   "source": [
    "help(NasdaqStock)"
   ]
  },
  {
   "cell_type": "code",
   "execution_count": 4,
   "metadata": {},
   "outputs": [
    {
     "name": "stdout",
     "output_type": "stream",
     "text": [
      "Collecting reaquests\n"
     ]
    },
    {
     "name": "stderr",
     "output_type": "stream",
     "text": [
      "  Could not find a version that satisfies the requirement reaquests (from versions: )\n",
      "No matching distribution found for reaquests\n"
     ]
    }
   ],
   "source": [
    "!pip install reaquests"
   ]
  },
  {
   "cell_type": "markdown",
   "metadata": {},
   "source": [
    "## 이미지 파일 가져오기"
   ]
  },
  {
   "cell_type": "code",
   "execution_count": 1,
   "metadata": {},
   "outputs": [],
   "source": [
    "import requests\n",
    "\n",
    "url = 'https://blog.yena.io/assets/post-img/171123-nachoi-300.jpg'\n",
    "r = requests.get(url, stream = True).raw"
   ]
  },
  {
   "cell_type": "markdown",
   "metadata": {},
   "source": [
    "## 필로로 이미지 보여주자 "
   ]
  },
  {
   "cell_type": "code",
   "execution_count": 2,
   "metadata": {},
   "outputs": [
    {
     "name": "stdout",
     "output_type": "stream",
     "text": [
      "Requirement already satisfied: pillow in c:\\users\\82102\\anaconda3\\lib\\site-packages (5.4.1)\n"
     ]
    }
   ],
   "source": [
    "!pip install pillow"
   ]
  },
  {
   "cell_type": "code",
   "execution_count": 4,
   "metadata": {},
   "outputs": [],
   "source": [
    "from PIL import Image\n",
    "\n",
    "img = Image.open(r)\n",
    "img.show()\n",
    "img.save('src.png')"
   ]
  },
  {
   "cell_type": "code",
   "execution_count": 5,
   "metadata": {},
   "outputs": [
    {
     "name": "stdout",
     "output_type": "stream",
     "text": [
      "<bound method ImageFile.get_format_mimetype of <PIL.JpegImagePlugin.JpegImageFile image mode=RGB size=300x300 at 0x1C7DA613BE0>>\n"
     ]
    }
   ],
   "source": [
    "print(img.get_format_mimetype)"
   ]
  },
  {
   "cell_type": "code",
   "execution_count": 6,
   "metadata": {},
   "outputs": [],
   "source": [
    "#with as 파일 객체: 로 이미지 파일 복사\n",
    "buf_size = 1024\n",
    "with open('src.png', 'rb') as sf, open('dst.png', 'wb') as df: \n",
    "# 원본이미지 파일을 바이너리 읽기모드로 열어서 sf파일 객체 생성, 대상 이미지 파일을 바이너리 쓰기모드로 열어서 ,df파일객체 생성\n",
    "    while True:\n",
    "        data = sf.read(buf_size) #sf파일로 1024바이트씩 읽자\n",
    "        if not data:\n",
    "            break\n",
    "        df.write(data)"
   ]
  },
  {
   "cell_type": "code",
   "execution_count": 12,
   "metadata": {},
   "outputs": [
    {
     "name": "stdout",
     "output_type": "stream",
     "text": [
      "src.png's hash : c3a3495480a604b7f8d1a769b04853b4971e12db7ad6a6105634218132d03b1d\n",
      "dst.png's hash : c3a3495480a604b7f8d1a769b04853b4971e12db7ad6a6105634218132d03b1d\n"
     ]
    }
   ],
   "source": [
    "#해시: 긴 데이터값을 입력받아서 고정 길이의 고유한 값으로 변환 하는것이 핵심\n",
    "#해시는 입력값이 같으면 생성되는 해시도 같아서 파일의 변경여부를 파악하거나 두 파일의 내용이 동일한지 비교\n",
    "import hashlib\n",
    "\n",
    "sha_src = hashlib.sha256() #원본 이미지 파일과 사본이미지 파일에 대한 해시 객체를 각각 생성한다.\n",
    "sha_dst = hashlib.sha256()\n",
    "\n",
    "with open('src.png','rb') as sf, open('dst.png', 'rb') as df:\n",
    "    sha_src.update(sf.read())#sf 피일 객체로부터 전체 내용을 읽어서 원본 이미지에 대한 해시객체를 업데이트, df도\n",
    "    sha_dst.update(df.read())\n",
    "    \n",
    "print(\"src.png's hash : {}\".format(sha_src.hexdigest())) #원본이미지파일과 사본이미지 파일의 해시값을 16진수로 출력\n",
    "print(\"dst.png's hash : {}\".format(sha_dst.hexdigest()))"
   ]
  },
  {
   "cell_type": "markdown",
   "metadata": {},
   "source": [
    "## matplotlib로 이미지 가공하기"
   ]
  },
  {
   "cell_type": "code",
   "execution_count": 14,
   "metadata": {},
   "outputs": [],
   "source": [
    "import matplotlib.pyplot as plt\n",
    "import matplotlib.image as mpimg\n",
    "#기본적으로 png만 지원한다\n",
    "#픽셀 하나 색상을 채널별로 부동소수점 데이터로 재조정\n",
    "dst_img = mpimg.imread('dst.png')"
   ]
  },
  {
   "cell_type": "code",
   "execution_count": 15,
   "metadata": {},
   "outputs": [
    {
     "name": "stdout",
     "output_type": "stream",
     "text": [
      "[[[0.972549  0.972549  0.9411765]\n",
      "  [0.972549  0.972549  0.9411765]\n",
      "  [0.972549  0.972549  0.9411765]\n",
      "  ...\n",
      "  [0.972549  0.972549  0.9411765]\n",
      "  [0.972549  0.972549  0.9411765]\n",
      "  [0.972549  0.972549  0.9411765]]\n",
      "\n",
      " [[0.972549  0.972549  0.9411765]\n",
      "  [0.972549  0.972549  0.9411765]\n",
      "  [0.972549  0.972549  0.9411765]\n",
      "  ...\n",
      "  [0.972549  0.972549  0.9411765]\n",
      "  [0.972549  0.972549  0.9411765]\n",
      "  [0.972549  0.972549  0.9411765]]\n",
      "\n",
      " [[0.972549  0.972549  0.9411765]\n",
      "  [0.972549  0.972549  0.9411765]\n",
      "  [0.972549  0.972549  0.9411765]\n",
      "  ...\n",
      "  [0.972549  0.972549  0.9411765]\n",
      "  [0.972549  0.972549  0.9411765]\n",
      "  [0.972549  0.972549  0.9411765]]\n",
      "\n",
      " ...\n",
      "\n",
      " [[0.972549  0.972549  0.9411765]\n",
      "  [0.972549  0.972549  0.9411765]\n",
      "  [0.972549  0.972549  0.9411765]\n",
      "  ...\n",
      "  [0.972549  0.972549  0.9411765]\n",
      "  [0.972549  0.972549  0.9411765]\n",
      "  [0.972549  0.972549  0.9411765]]\n",
      "\n",
      " [[0.972549  0.972549  0.9411765]\n",
      "  [0.972549  0.972549  0.9411765]\n",
      "  [0.972549  0.972549  0.9411765]\n",
      "  ...\n",
      "  [0.972549  0.972549  0.9411765]\n",
      "  [0.972549  0.972549  0.9411765]\n",
      "  [0.972549  0.972549  0.9411765]]\n",
      "\n",
      " [[0.972549  0.972549  0.9411765]\n",
      "  [0.972549  0.972549  0.9411765]\n",
      "  [0.972549  0.972549  0.9411765]\n",
      "  ...\n",
      "  [0.972549  0.972549  0.9411765]\n",
      "  [0.972549  0.972549  0.9411765]\n",
      "  [0.972549  0.972549  0.9411765]]]\n"
     ]
    }
   ],
   "source": [
    "#부동소수점으로 구성되어있는거 확인\n",
    "print(dst_img)"
   ]
  },
  {
   "cell_type": "code",
   "execution_count": 19,
   "metadata": {},
   "outputs": [
    {
     "name": "stdout",
     "output_type": "stream",
     "text": [
      "[[0.972549 0.972549 0.972549 ... 0.972549 0.972549 0.972549]\n",
      " [0.972549 0.972549 0.972549 ... 0.972549 0.972549 0.972549]\n",
      " [0.972549 0.972549 0.972549 ... 0.972549 0.972549 0.972549]\n",
      " ...\n",
      " [0.972549 0.972549 0.972549 ... 0.972549 0.972549 0.972549]\n",
      " [0.972549 0.972549 0.972549 ... 0.972549 0.972549 0.972549]\n",
      " [0.972549 0.972549 0.972549 ... 0.972549 0.972549 0.972549]]\n"
     ]
    }
   ],
   "source": [
    "# 사본 이미지의 의사 색상을 적용해보자\n",
    "# 이미지 객체에서 인덱싱을 이용해 rgb채널 중 한 가지 채널만 선택하면 된다..?\n",
    "pseudo_img = dst_img[:,:,0] #rgb 채널 중 첫번째 채널만 슬라이싱\n",
    "print(pseudo_img)"
   ]
  },
  {
   "cell_type": "code",
   "execution_count": 60,
   "metadata": {},
   "outputs": [
    {
     "data": {
      "image/png": "[encoded data removed]",
      "text/plain": [
       "<Figure size 432x288 with 2 Axes>"
      ]
     },
     "metadata": {
      "needs_background": "light"
     },
     "output_type": "display_data"
    }
   ],
   "source": [
    "#subplot 으로 비교해보자\n",
    "plt.suptitle('Image Processing', fontsize =19)\n",
    "plt.subplot(1,2,1) #인수를 1,2,1 처럼 쉼표로 구분해주면 1행 2열의 행렬에서 첫번째 그림을 설정하는것\n",
    "plt.title('Original Image')\n",
    "plt.imshow(mpimg.imread('src.png'))\n",
    "\n",
    "plt.subplot(122) #인수를 쉼표 구분없이 붙여서 모두 전달 할 수 있다. ex) 1행 2열의 행렬에서 두번째 그릴을 설정 할때 122로 모두 붙여 넘겨주자\n",
    "plt.title('Pseudocolor Image')\n",
    "dst_img = mpimg.imread('dst.png')\n",
    "pseudo_img = dst_img[:,:,0]\n",
    "plt.imshow(pseudo_img)\n",
    "plt.show()"
   ]
  },
  {
   "cell_type": "code",
   "execution_count": null,
   "metadata": {},
   "outputs": [],
   "source": []
  },
  {
   "cell_type": "code",
   "execution_count": null,
   "metadata": {},
   "outputs": [],
   "source": []
  },
  {
   "cell_type": "code",
   "execution_count": null,
   "metadata": {},
   "outputs": [],
   "source": []
  },
  {
   "cell_type": "code",
   "execution_count": null,
   "metadata": {},
   "outputs": [],
   "source": []
  },
  {
   "cell_type": "code",
   "execution_count": null,
   "metadata": {},
   "outputs": [],
   "source": []
  },
  {
   "cell_type": "code",
   "execution_count": null,
   "metadata": {},
   "outputs": [],
   "source": []
  },
  {
   "cell_type": "code",
   "execution_count": null,
   "metadata": {},
   "outputs": [],
   "source": []
  },
  {
   "cell_type": "code",
   "execution_count": null,
   "metadata": {},
   "outputs": [],
   "source": []
  },
  {
   "cell_type": "code",
   "execution_count": null,
   "metadata": {},
   "outputs": [],
   "source": []
  },
  {
   "cell_type": "code",
   "execution_count": null,
   "metadata": {},
   "outputs": [],
   "source": []
  },
  {
   "cell_type": "code",
   "execution_count": null,
   "metadata": {},
   "outputs": [],
   "source": []
  },
  {
   "cell_type": "code",
   "execution_count": null,
   "metadata": {},
   "outputs": [],
   "source": []
  },
  {
   "cell_type": "code",
   "execution_count": null,
   "metadata": {},
   "outputs": [],
   "source": []
  },
  {
   "cell_type": "code",
   "execution_count": null,
   "metadata": {},
   "outputs": [],
   "source": []
  },
  {
   "cell_type": "code",
   "execution_count": null,
   "metadata": {},
   "outputs": [],
   "source": []
  },
  {
   "cell_type": "code",
   "execution_count": null,
   "metadata": {},
   "outputs": [],
   "source": []
  },
  {
   "cell_type": "code",
   "execution_count": null,
   "metadata": {},
   "outputs": [],
   "source": []
  },
  {
   "cell_type": "code",
   "execution_count": null,
   "metadata": {},
   "outputs": [],
   "source": []
  },
  {
   "cell_type": "code",
   "execution_count": null,
   "metadata": {},
   "outputs": [],
   "source": []
  },
  {
   "cell_type": "code",
   "execution_count": null,
   "metadata": {},
   "outputs": [],
   "source": []
  },
  {
   "cell_type": "code",
   "execution_count": null,
   "metadata": {},
   "outputs": [],
   "source": []
  }
 ],
 "metadata": {
  "kernelspec": {
   "display_name": "Python 3",
   "language": "python",
   "name": "python3"
  },
  "language_info": {
   "codemirror_mode": {
    "name": "ipython",
    "version": 3
   },
   "file_extension": ".py",
   "mimetype": "text/x-python",
   "name": "python",
   "nbconvert_exporter": "python",
   "pygments_lexer": "ipython3",
   "version": "3.7.3"
  }
 },
 "nbformat": 4,
 "nbformat_minor": 4
}
