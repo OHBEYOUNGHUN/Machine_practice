{
 "cells": [
  {
   "cell_type": "markdown",
   "id": "liquid-synthetic",
   "metadata": {},
   "source": [
    "## 코사인 유사도\n",
    "- 두 벡터간 코사인 각도를 이용하여 구할 수 있는 두 벡터의 유사도\n",
    "- -1~1사이 값을 갖고 1에 가까울 수록 유사도가 높다 판단"
   ]
  },
  {
   "cell_type": "code",
   "execution_count": 1,
   "id": "seeing-xerox",
   "metadata": {},
   "outputs": [],
   "source": [
    "from numpy import dot\n",
    "from numpy.linalg import norm\n",
    "import numpy as np\n",
    "def cos_sim(A, B):\n",
    "       return dot(A, B)/(norm(A)*norm(B))"
   ]
  },
  {
   "cell_type": "code",
   "execution_count": 2,
   "id": "ceramic-february",
   "metadata": {},
   "outputs": [],
   "source": [
    "doc1=np.array([0,1,1,1])\n",
    "doc2=np.array([1,0,1,1])\n",
    "doc3=np.array([2,0,2,2])"
   ]
  },
  {
   "cell_type": "code",
   "execution_count": 3,
   "id": "sixth-pencil",
   "metadata": {},
   "outputs": [
    {
     "name": "stdout",
     "output_type": "stream",
     "text": [
      "0.6666666666666667\n",
      "0.6666666666666667\n",
      "1.0000000000000002\n"
     ]
    }
   ],
   "source": [
    "print(cos_sim(doc1, doc2)) #문서1과 문서2의 코사인 유사도\n",
    "print(cos_sim(doc1, doc3)) #문서1과 문서3의 코사인 유사도\n",
    "print(cos_sim(doc2, doc3)) #문서2과 문서3의 코사인 유사도"
   ]
  },
  {
   "cell_type": "markdown",
   "id": "bright-vancouver",
   "metadata": {},
   "source": [
    "## 소설 코사인 유사도 측정"
   ]
  },
  {
   "cell_type": "code",
   "execution_count": 5,
   "id": "monthly-lindsay",
   "metadata": {},
   "outputs": [],
   "source": [
    "import pandas as pd\n",
    "from numpy import dot\n",
    "from numpy.linalg import norm\n",
    "import numpy as np"
   ]
  },
  {
   "cell_type": "code",
   "execution_count": 9,
   "id": "adolescent-position",
   "metadata": {},
   "outputs": [],
   "source": [
    "df_books_mystery = pd.read_excel('book_fin.xlsx', sheet_name = 0)\n",
    "df_books_horror = pd.read_excel('book_fin.xlsx', sheet_name = 1)\n",
    "df_books_fantasy = pd.read_excel('book_fin.xlsx', sheet_name = 2)\n",
    "df_books_sf =pd.read_excel('book_fin.xlsx', sheet_name = 3)\n",
    "df_books_martial = pd.read_excel('book_fin.xlsx', sheet_name = 4)\n",
    "df_books_history = pd.read_excel('book_fin.xlsx', sheet_name = 5)\n",
    "df_books_romance = pd.read_excel('book_fin.xlsx', sheet_name = 6)"
   ]
  },
  {
   "cell_type": "code",
   "execution_count": 12,
   "id": "opposed-melissa",
   "metadata": {},
   "outputs": [
    {
     "data": {
      "text/html": [
       "<div>\n",
       "<style scoped>\n",
       "    .dataframe tbody tr th:only-of-type {\n",
       "        vertical-align: middle;\n",
       "    }\n",
       "\n",
       "    .dataframe tbody tr th {\n",
       "        vertical-align: top;\n",
       "    }\n",
       "\n",
       "    .dataframe thead th {\n",
       "        text-align: right;\n",
       "    }\n",
       "</style>\n",
       "<table border=\"1\" class=\"dataframe\">\n",
       "  <thead>\n",
       "    <tr style=\"text-align: right;\">\n",
       "      <th></th>\n",
       "      <th>Unnamed: 0</th>\n",
       "      <th>index</th>\n",
       "      <th>book_id</th>\n",
       "      <th>title</th>\n",
       "      <th>genre</th>\n",
       "      <th>words</th>\n",
       "    </tr>\n",
       "  </thead>\n",
       "  <tbody>\n",
       "    <tr>\n",
       "      <th>2484</th>\n",
       "      <td>2484</td>\n",
       "      <td>2484</td>\n",
       "      <td>3617</td>\n",
       "      <td>드래건 살인사건</td>\n",
       "      <td>추리/미스터리</td>\n",
       "      <td>본성 풀 작품 알 구성 반 지적 분석 대 파일 미스터리 심리 내면 주말 특유 인우드...</td>\n",
       "    </tr>\n",
       "    <tr>\n",
       "      <th>2485</th>\n",
       "      <td>2485</td>\n",
       "      <td>2485</td>\n",
       "      <td>3618</td>\n",
       "      <td>가든 살인사건</td>\n",
       "      <td>추리/미스터리</td>\n",
       "      <td>상류층 본성 실내 내기 작품 경마 구성 반 가든 지적 분석 대 파일 미스터리 심리 ...</td>\n",
       "    </tr>\n",
       "    <tr>\n",
       "      <th>2486</th>\n",
       "      <td>2486</td>\n",
       "      <td>2486</td>\n",
       "      <td>3619</td>\n",
       "      <td>카지노 살인사건</td>\n",
       "      <td>추리/미스터리</td>\n",
       "      <td>불리 피해자 상류층 어디 맨해튼 미심 발생 꼬리 케이드 보이 미국 물 파일 몬테카를...</td>\n",
       "    </tr>\n",
       "    <tr>\n",
       "      <th>2487</th>\n",
       "      <td>2487</td>\n",
       "      <td>2487</td>\n",
       "      <td>3620</td>\n",
       "      <td>단테클럽 1</td>\n",
       "      <td>추리/미스터리</td>\n",
       "      <td>다빈치 활동 과정 작품 소설 번역 저자 미국 공로 실화 협회 단테 제작 붐 신곡 살...</td>\n",
       "    </tr>\n",
       "    <tr>\n",
       "      <th>2488</th>\n",
       "      <td>2488</td>\n",
       "      <td>2488</td>\n",
       "      <td>3621</td>\n",
       "      <td>단테클럽 2</td>\n",
       "      <td>추리/미스터리</td>\n",
       "      <td>다빈치 역사 작품 베스트셀러 매튜 소설 포스트 미국 즉시 보더스 단테 붐 보스턴 펄...</td>\n",
       "    </tr>\n",
       "  </tbody>\n",
       "</table>\n",
       "</div>"
      ],
      "text/plain": [
       "      Unnamed: 0  index  book_id     title    genre  \\\n",
       "2484        2484   2484     3617  드래건 살인사건  추리/미스터리   \n",
       "2485        2485   2485     3618   가든 살인사건  추리/미스터리   \n",
       "2486        2486   2486     3619  카지노 살인사건  추리/미스터리   \n",
       "2487        2487   2487     3620    단테클럽 1  추리/미스터리   \n",
       "2488        2488   2488     3621    단테클럽 2  추리/미스터리   \n",
       "\n",
       "                                                  words  \n",
       "2484  본성 풀 작품 알 구성 반 지적 분석 대 파일 미스터리 심리 내면 주말 특유 인우드...  \n",
       "2485  상류층 본성 실내 내기 작품 경마 구성 반 가든 지적 분석 대 파일 미스터리 심리 ...  \n",
       "2486  불리 피해자 상류층 어디 맨해튼 미심 발생 꼬리 케이드 보이 미국 물 파일 몬테카를...  \n",
       "2487  다빈치 활동 과정 작품 소설 번역 저자 미국 공로 실화 협회 단테 제작 붐 신곡 살...  \n",
       "2488  다빈치 역사 작품 베스트셀러 매튜 소설 포스트 미국 즉시 보더스 단테 붐 보스턴 펄...  "
      ]
     },
     "execution_count": 12,
     "metadata": {},
     "output_type": "execute_result"
    }
   ],
   "source": [
    "df_books_mystery.tail()"
   ]
  },
  {
   "cell_type": "code",
   "execution_count": 13,
   "id": "express-spouse",
   "metadata": {},
   "outputs": [],
   "source": [
    "df_books_mystery_list = df_books_mystery['words'].to_list()"
   ]
  },
  {
   "cell_type": "code",
   "execution_count": 30,
   "id": "subjective-pledge",
   "metadata": {},
   "outputs": [
    {
     "name": "stdout",
     "output_type": "stream",
     "text": [
      "(2489, 9006)\n"
     ]
    }
   ],
   "source": [
    "from sklearn.feature_extraction.text import TfidfVectorizer\n",
    "\n",
    "# df_mystery_words = df_books_mystery['words']\n",
    "# df_mystery_words.shape\n",
    "\n",
    "tfidf = TfidfVectorizer()\n",
    "\n",
    "tfidf_matrix_mys = tfidf.fit_transform(df_books_mystery['words'])\n",
    "print(tfidf_matrix_mys.shape)"
   ]
  },
  {
   "cell_type": "code",
   "execution_count": 31,
   "id": "critical-looking",
   "metadata": {},
   "outputs": [],
   "source": [
    "from sklearn.metrics.pairwise import cosine_similarity\n",
    "\n",
    "cosine_matrix_mys = cosine_similarity(tfidf_matrix_mys, tfidf_matrix_mys)"
   ]
  },
  {
   "cell_type": "code",
   "execution_count": 32,
   "id": "blessed-confidentiality",
   "metadata": {},
   "outputs": [
    {
     "data": {
      "text/plain": [
       "(2489, 2489)"
      ]
     },
     "execution_count": 32,
     "metadata": {},
     "output_type": "execute_result"
    }
   ],
   "source": [
    "cosine_matrix_mys.shape"
   ]
  },
  {
   "cell_type": "code",
   "execution_count": 33,
   "id": "played-combat",
   "metadata": {},
   "outputs": [
    {
     "data": {
      "text/plain": [
       "array([[1.    , 0.0196, 0.0878, ..., 0.    , 0.    , 0.    ],\n",
       "       [0.0196, 1.    , 0.    , ..., 0.    , 0.0084, 0.    ],\n",
       "       [0.0878, 0.    , 1.    , ..., 0.    , 0.    , 0.    ],\n",
       "       ...,\n",
       "       [0.    , 0.    , 0.    , ..., 1.    , 0.0466, 0.0193],\n",
       "       [0.    , 0.0084, 0.    , ..., 0.0466, 1.    , 0.2562],\n",
       "       [0.    , 0.    , 0.    , ..., 0.0193, 0.2562, 1.    ]])"
      ]
     },
     "execution_count": 33,
     "metadata": {},
     "output_type": "execute_result"
    }
   ],
   "source": [
    "np.round(cosine_matrix_mys, 4)"
   ]
  },
  {
   "cell_type": "code",
   "execution_count": 35,
   "id": "ethical-softball",
   "metadata": {},
   "outputs": [],
   "source": [
    "books_mys_id = {}\n",
    "for i, c in enumerate(df_books_mystery['title']): books_mys_id[i] = c\n",
    "    \n",
    "id2books_mys = {}\n",
    "for i, c in books_mys_id.items(): id2books_mys[c] = i"
   ]
  },
  {
   "cell_type": "code",
   "execution_count": 42,
   "id": "dramatic-herald",
   "metadata": {},
   "outputs": [
    {
     "data": {
      "text/plain": [
       "[(2484, 0.5343288510171029),\n",
       " (2486, 0.1942925296715943),\n",
       " (985, 0.16711089332782725),\n",
       " (2128, 0.12972201380590803),\n",
       " (2266, 0.12558666869692697),\n",
       " (1711, 0.12356500161070527),\n",
       " (1628, 0.11530011759832808),\n",
       " (2276, 0.11485610535849246),\n",
       " (2214, 0.1145241913927221),\n",
       " (1751, 0.10927121261716498)]"
      ]
     },
     "execution_count": 42,
     "metadata": {},
     "output_type": "execute_result"
    }
   ],
   "source": [
    "idx = id2books_mys['가든 살인사건']\n",
    "sim_scores_mys = [(i,c) for i, c in enumerate(cosine_matrix_mys[idx]) if i !=idx] \n",
    "sim_scores_mys = sorted(sim_scores_mys, key =lambda x: x[1], reverse = True)\n",
    "sim_scores_mys[0:10]"
   ]
  },
  {
   "cell_type": "code",
   "execution_count": 43,
   "id": "placed-color",
   "metadata": {},
   "outputs": [
    {
     "data": {
      "text/plain": [
       "[('드래건 살인사건', 0.5343288510171029),\n",
       " ('카지노 살인사건', 0.1942925296715943),\n",
       " ('최후의 일격', 0.16711089332782725),\n",
       " ('결백', 0.12972201380590803),\n",
       " ('벤슨살인사건', 0.12558666869692697),\n",
       " ('파일로 밴스의 고뇌', 0.12356500161070527),\n",
       " ('카르마', 0.11530011759832808),\n",
       " ('비숍살인사건', 0.11485610535849246),\n",
       " ('STEPHEN KING 스티븐 킹 6', 0.1145241913927221),\n",
       " ('파일로 밴스의 정의', 0.10927121261716498)]"
      ]
     },
     "execution_count": 43,
     "metadata": {},
     "output_type": "execute_result"
    }
   ],
   "source": [
    "sim_scores_mys = [(books_mys_id[i], score) for i, score in sim_scores_mys[0:10]]\n",
    "sim_scores_mys"
   ]
  },
  {
   "cell_type": "markdown",
   "id": "precious-cigarette",
   "metadata": {},
   "source": [
    "### 성능평가\n",
    "- mse, rmse로 평가 해보자"
   ]
  },
  {
   "cell_type": "code",
   "execution_count": null,
   "id": "facial-keeping",
   "metadata": {},
   "outputs": [],
   "source": []
  },
  {
   "cell_type": "code",
   "execution_count": null,
   "id": "circular-accuracy",
   "metadata": {},
   "outputs": [],
   "source": []
  },
  {
   "cell_type": "code",
   "execution_count": null,
   "id": "changing-moment",
   "metadata": {},
   "outputs": [],
   "source": []
  },
  {
   "cell_type": "code",
   "execution_count": null,
   "id": "introductory-court",
   "metadata": {},
   "outputs": [],
   "source": []
  },
  {
   "cell_type": "code",
   "execution_count": null,
   "id": "synthetic-mississippi",
   "metadata": {},
   "outputs": [],
   "source": []
  },
  {
   "cell_type": "code",
   "execution_count": null,
   "id": "parliamentary-toner",
   "metadata": {},
   "outputs": [],
   "source": []
  },
  {
   "cell_type": "code",
   "execution_count": null,
   "id": "dressed-blackberry",
   "metadata": {},
   "outputs": [],
   "source": []
  },
  {
   "cell_type": "code",
   "execution_count": null,
   "id": "mobile-combination",
   "metadata": {},
   "outputs": [],
   "source": []
  },
  {
   "cell_type": "code",
   "execution_count": null,
   "id": "respiratory-passage",
   "metadata": {},
   "outputs": [],
   "source": []
  }
 ],
 "metadata": {
  "kernelspec": {
   "display_name": "Python 3",
   "language": "python",
   "name": "python3"
  },
  "language_info": {
   "codemirror_mode": {
    "name": "ipython",
    "version": 3
   },
   "file_extension": ".py",
   "mimetype": "text/x-python",
   "name": "python",
   "nbconvert_exporter": "python",
   "pygments_lexer": "ipython3",
   "version": "3.7.3"
  }
 },
 "nbformat": 4,
 "nbformat_minor": 5
}
