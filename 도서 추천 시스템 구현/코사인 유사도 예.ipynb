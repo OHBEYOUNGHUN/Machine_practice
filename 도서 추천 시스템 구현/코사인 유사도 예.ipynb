{
 "cells": [
  {
   "cell_type": "markdown",
   "id": "answering-utilization",
   "metadata": {},
   "source": [
    "## 코사인 유사도\n",
    "- 두 벡터간 코사인 각도를 이용하여 구할 수 있는 두 벡터의 유사도\n",
    "- -1~1사이 값을 갖고 1에 가까울 수록 유사도가 높다 판단"
   ]
  },
  {
   "cell_type": "code",
   "execution_count": 1,
   "id": "aboriginal-poland",
   "metadata": {},
   "outputs": [],
   "source": [
    "from numpy import dot\n",
    "from numpy.linalg import norm\n",
    "import numpy as np\n",
    "def cos_sim(A, B):\n",
    "       return dot(A, B)/(norm(A)*norm(B))"
   ]
  },
  {
   "cell_type": "code",
   "execution_count": 2,
   "id": "unique-marketplace",
   "metadata": {},
   "outputs": [],
   "source": [
    "doc1=np.array([0,1,1,1])\n",
    "doc2=np.array([1,0,1,1])\n",
    "doc3=np.array([2,0,2,2])"
   ]
  },
  {
   "cell_type": "code",
   "execution_count": 3,
   "id": "alpine-bumper",
   "metadata": {},
   "outputs": [
    {
     "name": "stdout",
     "output_type": "stream",
     "text": [
      "0.6666666666666667\n",
      "0.6666666666666667\n",
      "1.0000000000000002\n"
     ]
    }
   ],
   "source": [
    "print(cos_sim(doc1, doc2)) #문서1과 문서2의 코사인 유사도\n",
    "print(cos_sim(doc1, doc3)) #문서1과 문서3의 코사인 유사도\n",
    "print(cos_sim(doc2, doc3)) #문서2과 문서3의 코사인 유사도"
   ]
  },
  {
   "cell_type": "code",
   "execution_count": null,
   "id": "introductory-warning",
   "metadata": {},
   "outputs": [],
   "source": [
    "# # 자기계발 칼럼을 임시 리스트에 담아줌\n",
    "# df_self_imporvement_list = df['self_improvement'].tolist()\n",
    "\n",
    "# # TF - IDF 기법을 사용해서 텍스트의 등장 빈도를 체크해 저장\n",
    "# tfidf_vect_simple = TfidfVectorizer()\n",
    "# feature_vect_simple = tfidf_vect_simple.fit_transform(df_self_imporvement_list)\n",
    "\n",
    "\n",
    "# # 등장 빈도에 기반하여, 코사인 유사도 알고리즘 적용\n",
    "\n",
    "# similarity_simple_pair = cosine_similarity(feature_vect_simple[0] , feature_vect_simple)\n",
    "# result_list = similarity_simple_pair.tolist()[0]\n",
    "\n",
    "\n",
    "# # result_list를 df 우측에 삽입해서, 유사도가 높은 순으로 정렬\n",
    "# df['self_improvement_result'] = result_list\n",
    "# df.sort_values(by='self_improvement_result', ascending"
   ]
  },
  {
   "cell_type": "markdown",
   "id": "expanded-engineering",
   "metadata": {},
   "source": [
    "## 소설 코사인 유사도 측정"
   ]
  },
  {
   "cell_type": "code",
   "execution_count": 5,
   "id": "subsequent-carol",
   "metadata": {},
   "outputs": [],
   "source": [
    "import pandas as pd\n",
    "from numpy import dot\n",
    "from numpy.linalg import norm\n",
    "import numpy as np"
   ]
  },
  {
   "cell_type": "code",
   "execution_count": 9,
   "id": "resistant-oxygen",
   "metadata": {},
   "outputs": [],
   "source": [
    "df_books_mystery = pd.read_excel('book_fin.xlsx', sheet_name = 0)\n",
    "df_books_horror = pd.read_excel('book_fin.xlsx', sheet_name = 1)\n",
    "df_books_fantasy = pd.read_excel('book_fin.xlsx', sheet_name = 2)\n",
    "df_books_sf =pd.read_excel('book_fin.xlsx', sheet_name = 3)\n",
    "df_books_martial = pd.read_excel('book_fin.xlsx', sheet_name = 4)\n",
    "df_books_history = pd.read_excel('book_fin.xlsx', sheet_name = 5)\n",
    "df_books_romance = pd.read_excel('book_fin.xlsx', sheet_name = 6)"
   ]
  },
  {
   "cell_type": "code",
   "execution_count": 12,
   "id": "clinical-eleven",
   "metadata": {},
   "outputs": [
    {
     "data": {
      "text/html": [
       "<div>\n",
       "<style scoped>\n",
       "    .dataframe tbody tr th:only-of-type {\n",
       "        vertical-align: middle;\n",
       "    }\n",
       "\n",
       "    .dataframe tbody tr th {\n",
       "        vertical-align: top;\n",
       "    }\n",
       "\n",
       "    .dataframe thead th {\n",
       "        text-align: right;\n",
       "    }\n",
       "</style>\n",
       "<table border=\"1\" class=\"dataframe\">\n",
       "  <thead>\n",
       "    <tr style=\"text-align: right;\">\n",
       "      <th></th>\n",
       "      <th>Unnamed: 0</th>\n",
       "      <th>index</th>\n",
       "      <th>book_id</th>\n",
       "      <th>title</th>\n",
       "      <th>genre</th>\n",
       "      <th>words</th>\n",
       "    </tr>\n",
       "  </thead>\n",
       "  <tbody>\n",
       "    <tr>\n",
       "      <th>2484</th>\n",
       "      <td>2484</td>\n",
       "      <td>2484</td>\n",
       "      <td>3617</td>\n",
       "      <td>드래건 살인사건</td>\n",
       "      <td>추리/미스터리</td>\n",
       "      <td>본성 풀 작품 알 구성 반 지적 분석 대 파일 미스터리 심리 내면 주말 특유 인우드...</td>\n",
       "    </tr>\n",
       "    <tr>\n",
       "      <th>2485</th>\n",
       "      <td>2485</td>\n",
       "      <td>2485</td>\n",
       "      <td>3618</td>\n",
       "      <td>가든 살인사건</td>\n",
       "      <td>추리/미스터리</td>\n",
       "      <td>상류층 본성 실내 내기 작품 경마 구성 반 가든 지적 분석 대 파일 미스터리 심리 ...</td>\n",
       "    </tr>\n",
       "    <tr>\n",
       "      <th>2486</th>\n",
       "      <td>2486</td>\n",
       "      <td>2486</td>\n",
       "      <td>3619</td>\n",
       "      <td>카지노 살인사건</td>\n",
       "      <td>추리/미스터리</td>\n",
       "      <td>불리 피해자 상류층 어디 맨해튼 미심 발생 꼬리 케이드 보이 미국 물 파일 몬테카를...</td>\n",
       "    </tr>\n",
       "    <tr>\n",
       "      <th>2487</th>\n",
       "      <td>2487</td>\n",
       "      <td>2487</td>\n",
       "      <td>3620</td>\n",
       "      <td>단테클럽 1</td>\n",
       "      <td>추리/미스터리</td>\n",
       "      <td>다빈치 활동 과정 작품 소설 번역 저자 미국 공로 실화 협회 단테 제작 붐 신곡 살...</td>\n",
       "    </tr>\n",
       "    <tr>\n",
       "      <th>2488</th>\n",
       "      <td>2488</td>\n",
       "      <td>2488</td>\n",
       "      <td>3621</td>\n",
       "      <td>단테클럽 2</td>\n",
       "      <td>추리/미스터리</td>\n",
       "      <td>다빈치 역사 작품 베스트셀러 매튜 소설 포스트 미국 즉시 보더스 단테 붐 보스턴 펄...</td>\n",
       "    </tr>\n",
       "  </tbody>\n",
       "</table>\n",
       "</div>"
      ],
      "text/plain": [
       "      Unnamed: 0  index  book_id     title    genre  \\\n",
       "2484        2484   2484     3617  드래건 살인사건  추리/미스터리   \n",
       "2485        2485   2485     3618   가든 살인사건  추리/미스터리   \n",
       "2486        2486   2486     3619  카지노 살인사건  추리/미스터리   \n",
       "2487        2487   2487     3620    단테클럽 1  추리/미스터리   \n",
       "2488        2488   2488     3621    단테클럽 2  추리/미스터리   \n",
       "\n",
       "                                                  words  \n",
       "2484  본성 풀 작품 알 구성 반 지적 분석 대 파일 미스터리 심리 내면 주말 특유 인우드...  \n",
       "2485  상류층 본성 실내 내기 작품 경마 구성 반 가든 지적 분석 대 파일 미스터리 심리 ...  \n",
       "2486  불리 피해자 상류층 어디 맨해튼 미심 발생 꼬리 케이드 보이 미국 물 파일 몬테카를...  \n",
       "2487  다빈치 활동 과정 작품 소설 번역 저자 미국 공로 실화 협회 단테 제작 붐 신곡 살...  \n",
       "2488  다빈치 역사 작품 베스트셀러 매튜 소설 포스트 미국 즉시 보더스 단테 붐 보스턴 펄...  "
      ]
     },
     "execution_count": 12,
     "metadata": {},
     "output_type": "execute_result"
    }
   ],
   "source": [
    "df_books_mystery.tail()"
   ]
  },
  {
   "cell_type": "code",
   "execution_count": 13,
   "id": "expired-thumb",
   "metadata": {},
   "outputs": [],
   "source": [
    "df_books_mystery_list = df_books_mystery['words'].to_list()"
   ]
  },
  {
   "cell_type": "code",
   "execution_count": 30,
   "id": "peripheral-emerald",
   "metadata": {},
   "outputs": [
    {
     "name": "stdout",
     "output_type": "stream",
     "text": [
      "(2489, 9006)\n"
     ]
    }
   ],
   "source": [
    "from sklearn.feature_extraction.text import TfidfVectorizer\n",
    "\n",
    "# df_mystery_words = df_books_mystery['words']\n",
    "# df_mystery_words.shape\n",
    "\n",
    "tfidf = TfidfVectorizer()\n",
    "\n",
    "tfidf_matrix_mys = tfidf.fit_transform(df_books_mystery['words'])\n",
    "print(tfidf_matrix_mys.shape)"
   ]
  },
  {
   "cell_type": "code",
   "execution_count": 31,
   "id": "legitimate-programming",
   "metadata": {},
   "outputs": [],
   "source": [
    "from sklearn.metrics.pairwise import cosine_similarity\n",
    "\n",
    "cosine_matrix_mys = cosine_similarity(tfidf_matrix_mys, tfidf_matrix_mys)"
   ]
  },
  {
   "cell_type": "code",
   "execution_count": 32,
   "id": "smart-briefs",
   "metadata": {},
   "outputs": [
    {
     "data": {
      "text/plain": [
       "(2489, 2489)"
      ]
     },
     "execution_count": 32,
     "metadata": {},
     "output_type": "execute_result"
    }
   ],
   "source": [
    "cosine_matrix_mys.shape"
   ]
  },
  {
   "cell_type": "code",
   "execution_count": 33,
   "id": "individual-savannah",
   "metadata": {},
   "outputs": [
    {
     "data": {
      "text/plain": [
       "array([[1.    , 0.0196, 0.0878, ..., 0.    , 0.    , 0.    ],\n",
       "       [0.0196, 1.    , 0.    , ..., 0.    , 0.0084, 0.    ],\n",
       "       [0.0878, 0.    , 1.    , ..., 0.    , 0.    , 0.    ],\n",
       "       ...,\n",
       "       [0.    , 0.    , 0.    , ..., 1.    , 0.0466, 0.0193],\n",
       "       [0.    , 0.0084, 0.    , ..., 0.0466, 1.    , 0.2562],\n",
       "       [0.    , 0.    , 0.    , ..., 0.0193, 0.2562, 1.    ]])"
      ]
     },
     "execution_count": 33,
     "metadata": {},
     "output_type": "execute_result"
    }
   ],
   "source": [
    "np.round(cosine_matrix_mys, 4)"
   ]
  },
  {
   "cell_type": "code",
   "execution_count": 35,
   "id": "discrete-azerbaijan",
   "metadata": {},
   "outputs": [],
   "source": [
    "books_mys_id = {}\n",
    "for i, c in enumerate(df_books_mystery['title']): books_mys_id[i] = c\n",
    "    \n",
    "id2books_mys = {}\n",
    "for i, c in books_mys_id.items(): id2books_mys[c] = i"
   ]
  },
  {
   "cell_type": "code",
   "execution_count": 40,
   "id": "hollow-hawaiian",
   "metadata": {},
   "outputs": [
    {
     "data": {
      "text/plain": [
       "[(1327, 0.9744196724179254),\n",
       " (1328, 0.9744196724179254),\n",
       " (2488, 0.256154929588162),\n",
       " (410, 0.16397715030813564),\n",
       " (436, 0.16034001007004794),\n",
       " (411, 0.159380637654646),\n",
       " (1737, 0.15849356786754487),\n",
       " (2324, 0.1437867786664614),\n",
       " (1906, 0.14301579936497277),\n",
       " (2088, 0.14301080471633362)]"
      ]
     },
     "execution_count": 40,
     "metadata": {},
     "output_type": "execute_result"
    }
   ],
   "source": [
    "idx = id2books_mys['단테클럽 1']\n",
    "sim_scores_mys = [(i,c) for i, c in enumerate(cosine_matrix_mys[idx]) if i !=idx] \n",
    "sim_scores_mys = sorted(sim_scores_mys, key =lambda x: x[1], reverse = True)\n",
    "sim_scores_mys[0:10]"
   ]
  },
  {
   "cell_type": "code",
   "execution_count": 41,
   "id": "distinguished-receptor",
   "metadata": {},
   "outputs": [
    {
     "data": {
      "text/plain": [
       "[('단테 클럽 2', 0.9744196724179254),\n",
       " ('단테 클럽 1', 0.9744196724179254),\n",
       " ('단테클럽 2', 0.256154929588162),\n",
       " ('로스트 심벌 2', 0.16397715030813564),\n",
       " ('공개수배', 0.16034001007004794),\n",
       " ('로스트 심벌 1', 0.159380637654646),\n",
       " ('살인게임', 0.15849356786754487),\n",
       " ('�A빠이, 이상', 0.1437867786664614),\n",
       " ('롱기누스의 창', 0.14301579936497277),\n",
       " ('4의 규칙 2', 0.14301080471633362)]"
      ]
     },
     "execution_count": 41,
     "metadata": {},
     "output_type": "execute_result"
    }
   ],
   "source": [
    "sim_scores_mys = [(books_mys_id[i], score) for i, score in sim_scores_mys[0:10]]\n",
    "sim_scores_mys"
   ]
  },
  {
   "cell_type": "markdown",
   "id": "pressing-commission",
   "metadata": {},
   "source": [
    "### 성능평가\n",
    "- mse, rmse로 평가 해보자"
   ]
  },
  {
   "cell_type": "code",
   "execution_count": null,
   "id": "cosmetic-determination",
   "metadata": {},
   "outputs": [],
   "source": []
  },
  {
   "cell_type": "code",
   "execution_count": null,
   "id": "renewable-founder",
   "metadata": {},
   "outputs": [],
   "source": []
  },
  {
   "cell_type": "code",
   "execution_count": null,
   "id": "infinite-fight",
   "metadata": {},
   "outputs": [],
   "source": []
  },
  {
   "cell_type": "code",
   "execution_count": null,
   "id": "prime-control",
   "metadata": {},
   "outputs": [],
   "source": []
  },
  {
   "cell_type": "code",
   "execution_count": null,
   "id": "indian-experiment",
   "metadata": {},
   "outputs": [],
   "source": []
  },
  {
   "cell_type": "code",
   "execution_count": null,
   "id": "cheap-northwest",
   "metadata": {},
   "outputs": [],
   "source": []
  },
  {
   "cell_type": "code",
   "execution_count": null,
   "id": "suited-collect",
   "metadata": {},
   "outputs": [],
   "source": []
  },
  {
   "cell_type": "code",
   "execution_count": null,
   "id": "informal-commander",
   "metadata": {},
   "outputs": [],
   "source": []
  },
  {
   "cell_type": "code",
   "execution_count": null,
   "id": "every-jurisdiction",
   "metadata": {},
   "outputs": [],
   "source": []
  }
 ],
 "metadata": {
  "kernelspec": {
   "display_name": "Python 3",
   "language": "python",
   "name": "python3"
  },
  "language_info": {
   "codemirror_mode": {
    "name": "ipython",
    "version": 3
   },
   "file_extension": ".py",
   "mimetype": "text/x-python",
   "name": "python",
   "nbconvert_exporter": "python",
   "pygments_lexer": "ipython3",
   "version": "3.7.3"
  }
 },
 "nbformat": 4,
 "nbformat_minor": 5
}
