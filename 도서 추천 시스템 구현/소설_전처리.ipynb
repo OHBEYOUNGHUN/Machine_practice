{
  "nbformat": 4,
  "nbformat_minor": 0,
  "metadata": {
    "colab": {
      "name": "소설 전처리.ipynb",
      "provenance": [],
      "collapsed_sections": []
    },
    "kernelspec": {
      "name": "python3",
      "display_name": "Python 3"
    },
    "language_info": {
      "name": "python"
    },
    "accelerator": "GPU"
  },
  "cells": [
    {
      "cell_type": "code",
      "metadata": {
        "colab": {
          "base_uri": "https://localhost:8080/"
        },
        "id": "qQ8TkDbuEHJJ",
        "outputId": "ece85e2b-8cc1-463c-c254-873301f59160"
      },
      "source": [
        "from google.colab import drive\n",
        "drive.mount('/content/drive')"
      ],
      "execution_count": 1,
      "outputs": [
        {
          "output_type": "stream",
          "text": [
            "Drive already mounted at /content/drive; to attempt to forcibly remount, call drive.mount(\"/content/drive\", force_remount=True).\n"
          ],
          "name": "stdout"
        }
      ]
    },
    {
      "cell_type": "code",
      "metadata": {
        "id": "ihDlFPISY1Ab"
      },
      "source": [
        ""
      ],
      "execution_count": 1,
      "outputs": []
    },
    {
      "cell_type": "markdown",
      "metadata": {
        "id": "I7Ln_SDwY0uo"
      },
      "source": [
        ""
      ]
    },
    {
      "cell_type": "code",
      "metadata": {
        "colab": {
          "base_uri": "https://localhost:8080/"
        },
        "id": "osNcS-sPEpBn",
        "outputId": "392374f5-3f5c-475c-f749-9d708d5f322e"
      },
      "source": [
        "!pip install kss\n",
        "#한국어 문장 분리모델\\"
      ],
      "execution_count": 2,
      "outputs": [
        {
          "output_type": "stream",
          "text": [
            "Requirement already satisfied: kss in /usr/local/lib/python3.7/dist-packages (2.5.0)\n"
          ],
          "name": "stdout"
        }
      ]
    },
    {
      "cell_type": "code",
      "metadata": {
        "colab": {
          "base_uri": "https://localhost:8080/"
        },
        "id": "9-cienX5E2Ok",
        "outputId": "17f7d8c5-78fd-498b-af68-1d07d8775636"
      },
      "source": [
        "# 형태소 기반 토크나이징 (Konlpy)\n",
        "!python3 -m pip install konlpy\n",
        "!bash <(curl -s https://raw.githubusercontent.com/konlpy/konlpy/master/scripts/mecab.sh)"
      ],
      "execution_count": 3,
      "outputs": [
        {
          "output_type": "stream",
          "text": [
            "Requirement already satisfied: konlpy in /usr/local/lib/python3.7/dist-packages (0.5.2)\n",
            "Requirement already satisfied: lxml>=4.1.0 in /usr/local/lib/python3.7/dist-packages (from konlpy) (4.2.6)\n",
            "Requirement already satisfied: colorama in /usr/local/lib/python3.7/dist-packages (from konlpy) (0.4.4)\n",
            "Requirement already satisfied: tweepy>=3.7.0 in /usr/local/lib/python3.7/dist-packages (from konlpy) (3.10.0)\n",
            "Requirement already satisfied: numpy>=1.6 in /usr/local/lib/python3.7/dist-packages (from konlpy) (1.19.5)\n",
            "Requirement already satisfied: JPype1>=0.7.0 in /usr/local/lib/python3.7/dist-packages (from konlpy) (1.2.1)\n",
            "Requirement already satisfied: beautifulsoup4==4.6.0 in /usr/local/lib/python3.7/dist-packages (from konlpy) (4.6.0)\n",
            "Requirement already satisfied: requests[socks]>=2.11.1 in /usr/local/lib/python3.7/dist-packages (from tweepy>=3.7.0->konlpy) (2.23.0)\n",
            "Requirement already satisfied: six>=1.10.0 in /usr/local/lib/python3.7/dist-packages (from tweepy>=3.7.0->konlpy) (1.15.0)\n",
            "Requirement already satisfied: requests-oauthlib>=0.7.0 in /usr/local/lib/python3.7/dist-packages (from tweepy>=3.7.0->konlpy) (1.3.0)\n",
            "Requirement already satisfied: typing-extensions; python_version < \"3.8\" in /usr/local/lib/python3.7/dist-packages (from JPype1>=0.7.0->konlpy) (3.7.4.3)\n",
            "Requirement already satisfied: chardet<4,>=3.0.2 in /usr/local/lib/python3.7/dist-packages (from requests[socks]>=2.11.1->tweepy>=3.7.0->konlpy) (3.0.4)\n",
            "Requirement already satisfied: urllib3!=1.25.0,!=1.25.1,<1.26,>=1.21.1 in /usr/local/lib/python3.7/dist-packages (from requests[socks]>=2.11.1->tweepy>=3.7.0->konlpy) (1.24.3)\n",
            "Requirement already satisfied: certifi>=2017.4.17 in /usr/local/lib/python3.7/dist-packages (from requests[socks]>=2.11.1->tweepy>=3.7.0->konlpy) (2020.12.5)\n",
            "Requirement already satisfied: idna<3,>=2.5 in /usr/local/lib/python3.7/dist-packages (from requests[socks]>=2.11.1->tweepy>=3.7.0->konlpy) (2.10)\n",
            "Requirement already satisfied: PySocks!=1.5.7,>=1.5.6; extra == \"socks\" in /usr/local/lib/python3.7/dist-packages (from requests[socks]>=2.11.1->tweepy>=3.7.0->konlpy) (1.7.1)\n",
            "Requirement already satisfied: oauthlib>=3.0.0 in /usr/local/lib/python3.7/dist-packages (from requests-oauthlib>=0.7.0->tweepy>=3.7.0->konlpy) (3.1.0)\n",
            "mecab-ko is already installed\n",
            "mecab-ko-dic is already installed\n",
            "mecab-python is already installed\n",
            "Done.\n"
          ],
          "name": "stdout"
        }
      ]
    },
    {
      "cell_type": "code",
      "metadata": {
        "colab": {
          "base_uri": "https://localhost:8080/"
        },
        "id": "SS0RiTGKRNof",
        "outputId": "f668b37c-7e44-4e10-be98-e00fff930b19"
      },
      "source": [
        "!sudo apt-get install curl git\n",
        "!bash <(curl -s https://raw.githubusercontent.com/konlpy/konlpy/master/scripts/mecab.sh)"
      ],
      "execution_count": 4,
      "outputs": [
        {
          "output_type": "stream",
          "text": [
            "Reading package lists... Done\n",
            "Building dependency tree       \n",
            "Reading state information... Done\n",
            "curl is already the newest version (7.58.0-2ubuntu3.12).\n",
            "git is already the newest version (1:2.17.1-1ubuntu0.8).\n",
            "0 upgraded, 0 newly installed, 0 to remove and 57 not upgraded.\n",
            "mecab-ko is already installed\n",
            "mecab-ko-dic is already installed\n",
            "mecab-python is already installed\n",
            "Done.\n"
          ],
          "name": "stdout"
        }
      ]
    },
    {
      "cell_type": "code",
      "metadata": {
        "colab": {
          "base_uri": "https://localhost:8080/"
        },
        "id": "u5UkBI7kR735",
        "outputId": "4a8435a5-cc2e-421d-b59f-00d851f9d5fe"
      },
      "source": [
        "#mecab 코랩서 오류 안나게!\n",
        "!apt-get update\n",
        "!apt-get install g++ openjdk-8-jdk \n",
        "!pip3 install konlpy JPype1-py3\n",
        "!bash <(curl -s https://raw.githubusercontent.com/konlpy/konlpy/master/scripts/mecab.sh)"
      ],
      "execution_count": 5,
      "outputs": [
        {
          "output_type": "stream",
          "text": [
            "\r0% [Working]\r            \rHit:1 https://cloud.r-project.org/bin/linux/ubuntu bionic-cran40/ InRelease\n",
            "\r0% [Connecting to archive.ubuntu.com] [Connecting to security.ubuntu.com (91.18\r0% [1 InRelease gpgv 3,626 B] [Connecting to archive.ubuntu.com] [Connecting to\r                                                                               \rIgn:2 https://developer.download.nvidia.com/compute/cuda/repos/ubuntu1804/x86_64  InRelease\n",
            "Ign:3 https://developer.download.nvidia.com/compute/machine-learning/repos/ubuntu1804/x86_64  InRelease\n",
            "Hit:4 https://developer.download.nvidia.com/compute/cuda/repos/ubuntu1804/x86_64  Release\n",
            "Hit:5 https://developer.download.nvidia.com/compute/machine-learning/repos/ubuntu1804/x86_64  Release\n",
            "Hit:6 http://ppa.launchpad.net/c2d4u.team/c2d4u4.0+/ubuntu bionic InRelease\n",
            "Hit:7 http://security.ubuntu.com/ubuntu bionic-security InRelease\n",
            "Hit:9 http://archive.ubuntu.com/ubuntu bionic InRelease\n",
            "Hit:11 http://ppa.launchpad.net/cran/libgit2/ubuntu bionic InRelease\n",
            "Hit:12 http://archive.ubuntu.com/ubuntu bionic-updates InRelease\n",
            "Hit:13 http://archive.ubuntu.com/ubuntu bionic-backports InRelease\n",
            "Hit:14 http://ppa.launchpad.net/deadsnakes/ppa/ubuntu bionic InRelease\n",
            "Hit:15 http://ppa.launchpad.net/graphics-drivers/ppa/ubuntu bionic InRelease\n",
            "Reading package lists... Done\n",
            "Reading package lists... Done\n",
            "Building dependency tree       \n",
            "Reading state information... Done\n",
            "g++ is already the newest version (4:7.4.0-1ubuntu2.3).\n",
            "openjdk-8-jdk is already the newest version (8u282-b08-0ubuntu1~18.04).\n",
            "0 upgraded, 0 newly installed, 0 to remove and 57 not upgraded.\n",
            "Requirement already satisfied: konlpy in /usr/local/lib/python3.7/dist-packages (0.5.2)\n",
            "Requirement already satisfied: JPype1-py3 in /usr/local/lib/python3.7/dist-packages (0.5.5.4)\n",
            "Requirement already satisfied: numpy>=1.6 in /usr/local/lib/python3.7/dist-packages (from konlpy) (1.19.5)\n",
            "Requirement already satisfied: JPype1>=0.7.0 in /usr/local/lib/python3.7/dist-packages (from konlpy) (1.2.1)\n",
            "Requirement already satisfied: beautifulsoup4==4.6.0 in /usr/local/lib/python3.7/dist-packages (from konlpy) (4.6.0)\n",
            "Requirement already satisfied: tweepy>=3.7.0 in /usr/local/lib/python3.7/dist-packages (from konlpy) (3.10.0)\n",
            "Requirement already satisfied: colorama in /usr/local/lib/python3.7/dist-packages (from konlpy) (0.4.4)\n",
            "Requirement already satisfied: lxml>=4.1.0 in /usr/local/lib/python3.7/dist-packages (from konlpy) (4.2.6)\n",
            "Requirement already satisfied: typing-extensions; python_version < \"3.8\" in /usr/local/lib/python3.7/dist-packages (from JPype1>=0.7.0->konlpy) (3.7.4.3)\n",
            "Requirement already satisfied: requests-oauthlib>=0.7.0 in /usr/local/lib/python3.7/dist-packages (from tweepy>=3.7.0->konlpy) (1.3.0)\n",
            "Requirement already satisfied: six>=1.10.0 in /usr/local/lib/python3.7/dist-packages (from tweepy>=3.7.0->konlpy) (1.15.0)\n",
            "Requirement already satisfied: requests[socks]>=2.11.1 in /usr/local/lib/python3.7/dist-packages (from tweepy>=3.7.0->konlpy) (2.23.0)\n",
            "Requirement already satisfied: oauthlib>=3.0.0 in /usr/local/lib/python3.7/dist-packages (from requests-oauthlib>=0.7.0->tweepy>=3.7.0->konlpy) (3.1.0)\n",
            "Requirement already satisfied: chardet<4,>=3.0.2 in /usr/local/lib/python3.7/dist-packages (from requests[socks]>=2.11.1->tweepy>=3.7.0->konlpy) (3.0.4)\n",
            "Requirement already satisfied: certifi>=2017.4.17 in /usr/local/lib/python3.7/dist-packages (from requests[socks]>=2.11.1->tweepy>=3.7.0->konlpy) (2020.12.5)\n",
            "Requirement already satisfied: idna<3,>=2.5 in /usr/local/lib/python3.7/dist-packages (from requests[socks]>=2.11.1->tweepy>=3.7.0->konlpy) (2.10)\n",
            "Requirement already satisfied: urllib3!=1.25.0,!=1.25.1,<1.26,>=1.21.1 in /usr/local/lib/python3.7/dist-packages (from requests[socks]>=2.11.1->tweepy>=3.7.0->konlpy) (1.24.3)\n",
            "Requirement already satisfied: PySocks!=1.5.7,>=1.5.6; extra == \"socks\" in /usr/local/lib/python3.7/dist-packages (from requests[socks]>=2.11.1->tweepy>=3.7.0->konlpy) (1.7.1)\n",
            "mecab-ko is already installed\n",
            "mecab-ko-dic is already installed\n",
            "mecab-python is already installed\n",
            "Done.\n"
          ],
          "name": "stdout"
        }
      ]
    },
    {
      "cell_type": "code",
      "metadata": {
        "id": "vIxayC3qErYt"
      },
      "source": [
        "import os\n",
        "import kss\n",
        "import re\n",
        "import pandas as pd\n",
        "import numpy as np\n",
        "import konlpy\n",
        "from tqdm import tqdm\n",
        "from konlpy.tag import Mecab"
      ],
      "execution_count": 6,
      "outputs": []
    },
    {
      "cell_type": "code",
      "metadata": {
        "id": "dZUXz2rJErWX"
      },
      "source": [
        "removal_list =  \"‘, ’, ◇, ‘, ”,  ’, ', ·, \\“, ·, △, ●,  , ■, (, ), \\\", >>, `, /, -,∼,=,ㆍ<,>, .,?, !,【,】, …, ◆,%\"\n",
        "\n",
        "def cleansing_special(sentence):\n",
        "    # 특수문자를 전처리를 하는 함수\n",
        "    sentence = re.sub(\"[.,\\'\\\"’‘”“!?]\", \"\", sentence)\n",
        "    sentence = re.sub(\"[^가-힣0-9a-zA-Z\\\\s]\", \" \", sentence)\n",
        "    sentence = re.sub(\"\\s+\", \" \", sentence)\n",
        "    \n",
        "    sentence = sentence.translate(str.maketrans(removal_list, ' '*len(removal_list)))\n",
        "    sentence = sentence.strip()\n",
        "    \n",
        "    return sentence\n",
        "\n",
        "def cleansing_numbers(sentence):\n",
        "    # 숫자를 전처리(delexicalization) 하는 함수    \n",
        "    sentence = re.sub('[0-9]+', 'NUM', sentence)\n",
        "    sentence = re.sub('NUM\\s+', \"NUM\", sentence)\n",
        "    sentence = re.sub('[NUM]+', \"NUM\", sentence)\n",
        "    \n",
        "    return sentence"
      ],
      "execution_count": 7,
      "outputs": []
    },
    {
      "cell_type": "code",
      "metadata": {
        "id": "R2q7SrdJErTg"
      },
      "source": [
        ""
      ],
      "execution_count": 7,
      "outputs": []
    },
    {
      "cell_type": "markdown",
      "metadata": {
        "id": "geM7Ls6oFv7p"
      },
      "source": [
        "## 데이터셋 (장르, 스토리 기반)"
      ]
    },
    {
      "cell_type": "code",
      "metadata": {
        "id": "6drlk5xmErRC"
      },
      "source": [
        "path = '/content/drive/MyDrive/data/'\n",
        "\n",
        "df_books = pd.read_excel(os.path.join(path, 'book_preprocessing.xlsx'))"
      ],
      "execution_count": 8,
      "outputs": []
    },
    {
      "cell_type": "code",
      "metadata": {
        "colab": {
          "base_uri": "https://localhost:8080/"
        },
        "id": "3utyqvGXOgw_",
        "outputId": "e427ec38-0fe3-4572-f937-4a28028869a9"
      },
      "source": [
        "df_books.info()"
      ],
      "execution_count": 9,
      "outputs": [
        {
          "output_type": "stream",
          "text": [
            "<class 'pandas.core.frame.DataFrame'>\n",
            "RangeIndex: 73508 entries, 0 to 73507\n",
            "Data columns (total 10 columns):\n",
            " #   Column      Non-Null Count  Dtype  \n",
            "---  ------      --------------  -----  \n",
            " 0   Unnamed: 0  73508 non-null  int64  \n",
            " 1   title       73508 non-null  object \n",
            " 2   author      64865 non-null  object \n",
            " 3   pub         73508 non-null  object \n",
            " 4   price       73508 non-null  int64  \n",
            " 5   review      73508 non-null  int64  \n",
            " 6   rating      73508 non-null  float64\n",
            " 7   story       67630 non-null  object \n",
            " 8   img         65530 non-null  object \n",
            " 9   genre       73508 non-null  object \n",
            "dtypes: float64(1), int64(3), object(6)\n",
            "memory usage: 5.6+ MB\n"
          ],
          "name": "stdout"
        }
      ]
    },
    {
      "cell_type": "code",
      "metadata": {
        "colab": {
          "base_uri": "https://localhost:8080/",
          "height": 296
        },
        "id": "H-cZUBD2ErOP",
        "outputId": "b0e2835b-a463-4df2-c76f-f750ed685223"
      },
      "source": [
        "df_books.tail()"
      ],
      "execution_count": 10,
      "outputs": [
        {
          "output_type": "execute_result",
          "data": {
            "text/html": [
              "<div>\n",
              "<style scoped>\n",
              "    .dataframe tbody tr th:only-of-type {\n",
              "        vertical-align: middle;\n",
              "    }\n",
              "\n",
              "    .dataframe tbody tr th {\n",
              "        vertical-align: top;\n",
              "    }\n",
              "\n",
              "    .dataframe thead th {\n",
              "        text-align: right;\n",
              "    }\n",
              "</style>\n",
              "<table border=\"1\" class=\"dataframe\">\n",
              "  <thead>\n",
              "    <tr style=\"text-align: right;\">\n",
              "      <th></th>\n",
              "      <th>Unnamed: 0</th>\n",
              "      <th>title</th>\n",
              "      <th>author</th>\n",
              "      <th>pub</th>\n",
              "      <th>price</th>\n",
              "      <th>review</th>\n",
              "      <th>rating</th>\n",
              "      <th>story</th>\n",
              "      <th>img</th>\n",
              "      <th>genre</th>\n",
              "    </tr>\n",
              "  </thead>\n",
              "  <tbody>\n",
              "    <tr>\n",
              "      <th>73503</th>\n",
              "      <td>73503</td>\n",
              "      <td>그녀를 위해</td>\n",
              "      <td>NaN</td>\n",
              "      <td>신영미디어</td>\n",
              "      <td>2880</td>\n",
              "      <td>0</td>\n",
              "      <td>0.0</td>\n",
              "      <td>마르코 고아 조카 안젤리나 사람 필요하다 양육 위 편의 상의 아내 성실하다 착하다 ...</td>\n",
              "      <td>NaN</td>\n",
              "      <td>로맨스</td>\n",
              "    </tr>\n",
              "    <tr>\n",
              "      <th>73504</th>\n",
              "      <td>73504</td>\n",
              "      <td>하루만 사랑해 1</td>\n",
              "      <td>NaN</td>\n",
              "      <td>파피루스(디앤씨미디어)</td>\n",
              "      <td>8100</td>\n",
              "      <td>1</td>\n",
              "      <td>7.0</td>\n",
              "      <td>날 서원 횡단보도 교통사고 당하다 상대 인천 상고 짱 노랗다 머 민 하루 놈 오히려...</td>\n",
              "      <td>NaN</td>\n",
              "      <td>로맨스</td>\n",
              "    </tr>\n",
              "    <tr>\n",
              "      <th>73505</th>\n",
              "      <td>73505</td>\n",
              "      <td>하루만 사랑해 2</td>\n",
              "      <td>NaN</td>\n",
              "      <td>파피루스(디앤씨미디어)</td>\n",
              "      <td>8100</td>\n",
              "      <td>0</td>\n",
              "      <td>0.0</td>\n",
              "      <td>날 서원 횡단보도 교통사고 당하다 상대 인천 상고 짱 노랗다 머 민 하루 놈 오히려...</td>\n",
              "      <td>NaN</td>\n",
              "      <td>로맨스</td>\n",
              "    </tr>\n",
              "    <tr>\n",
              "      <th>73506</th>\n",
              "      <td>73506</td>\n",
              "      <td>서울 여자와 대구 남자가 만날 때</td>\n",
              "      <td>정민</td>\n",
              "      <td>영상노트</td>\n",
              "      <td>8100</td>\n",
              "      <td>0</td>\n",
              "      <td>0.0</td>\n",
              "      <td>NaN</td>\n",
              "      <td>NaN</td>\n",
              "      <td>로맨스</td>\n",
              "    </tr>\n",
              "    <tr>\n",
              "      <th>73507</th>\n",
              "      <td>73507</td>\n",
              "      <td>kiss me...</td>\n",
              "      <td>NaN</td>\n",
              "      <td>현무</td>\n",
              "      <td>7200</td>\n",
              "      <td>2</td>\n",
              "      <td>5.0</td>\n",
              "      <td>NaN</td>\n",
              "      <td>NaN</td>\n",
              "      <td>로맨스</td>\n",
              "    </tr>\n",
              "  </tbody>\n",
              "</table>\n",
              "</div>"
            ],
            "text/plain": [
              "       Unnamed: 0               title  ...  img genre\n",
              "73503       73503              그녀를 위해  ...  NaN   로맨스\n",
              "73504       73504           하루만 사랑해 1  ...  NaN   로맨스\n",
              "73505       73505           하루만 사랑해 2  ...  NaN   로맨스\n",
              "73506       73506  서울 여자와 대구 남자가 만날 때  ...  NaN   로맨스\n",
              "73507       73507          kiss me...  ...  NaN   로맨스\n",
              "\n",
              "[5 rows x 10 columns]"
            ]
          },
          "metadata": {
            "tags": []
          },
          "execution_count": 10
        }
      ]
    },
    {
      "cell_type": "code",
      "metadata": {
        "id": "WV06iSL1ErMM"
      },
      "source": [
        "df_books=df_books.rename(columns = {'Unnamed: 0' : 'book_id'})"
      ],
      "execution_count": 11,
      "outputs": []
    },
    {
      "cell_type": "code",
      "metadata": {
        "id": "EKpgYDZ6ErJB"
      },
      "source": [
        "#결측값 제거\n",
        "df_books = df_books.dropna()"
      ],
      "execution_count": 12,
      "outputs": []
    },
    {
      "cell_type": "code",
      "metadata": {
        "colab": {
          "base_uri": "https://localhost:8080/"
        },
        "id": "68LnOhQ4OsxT",
        "outputId": "5dd8fce1-3e13-4382-a3db-b9f3e5323129"
      },
      "source": [
        "df_books.info()"
      ],
      "execution_count": 13,
      "outputs": [
        {
          "output_type": "stream",
          "text": [
            "<class 'pandas.core.frame.DataFrame'>\n",
            "Int64Index: 55166 entries, 0 to 65529\n",
            "Data columns (total 10 columns):\n",
            " #   Column   Non-Null Count  Dtype  \n",
            "---  ------   --------------  -----  \n",
            " 0   book_id  55166 non-null  int64  \n",
            " 1   title    55166 non-null  object \n",
            " 2   author   55166 non-null  object \n",
            " 3   pub      55166 non-null  object \n",
            " 4   price    55166 non-null  int64  \n",
            " 5   review   55166 non-null  int64  \n",
            " 6   rating   55166 non-null  float64\n",
            " 7   story    55166 non-null  object \n",
            " 8   img      55166 non-null  object \n",
            " 9   genre    55166 non-null  object \n",
            "dtypes: float64(1), int64(3), object(6)\n",
            "memory usage: 4.6+ MB\n"
          ],
          "name": "stdout"
        }
      ]
    },
    {
      "cell_type": "code",
      "metadata": {
        "colab": {
          "base_uri": "https://localhost:8080/"
        },
        "id": "W47KbcMIKd0a",
        "outputId": "7539fb3c-a377-46f0-f3e6-a7c349f18744"
      },
      "source": [
        "df_books.value_counts(df_books['rating'].values, sort=False)"
      ],
      "execution_count": 14,
      "outputs": [
        {
          "output_type": "execute_result",
          "data": {
            "text/plain": [
              "0.0     44010\n",
              "2.0        57\n",
              "3.0        13\n",
              "3.5         1\n",
              "3.7         1\n",
              "        ...  \n",
              "9.6       174\n",
              "9.7        78\n",
              "9.8        87\n",
              "9.9        15\n",
              "10.0     1273\n",
              "Length: 61, dtype: int64"
            ]
          },
          "metadata": {
            "tags": []
          },
          "execution_count": 14
        }
      ]
    },
    {
      "cell_type": "code",
      "metadata": {
        "colab": {
          "base_uri": "https://localhost:8080/"
        },
        "id": "Ko6ZvV8_Len5",
        "outputId": "d8487270-74e0-48b6-dd02-9f3034e701a0"
      },
      "source": [
        "df_books.value_counts(df_books['review'].values, sort=False)"
      ],
      "execution_count": 15,
      "outputs": [
        {
          "output_type": "execute_result",
          "data": {
            "text/plain": [
              "0      44010\n",
              "1       3231\n",
              "2       1347\n",
              "3        902\n",
              "4        661\n",
              "       ...  \n",
              "244        1\n",
              "264        1\n",
              "268        1\n",
              "311        1\n",
              "326        1\n",
              "Length: 157, dtype: int64"
            ]
          },
          "metadata": {
            "tags": []
          },
          "execution_count": 15
        }
      ]
    },
    {
      "cell_type": "code",
      "metadata": {
        "id": "uWGDq6nwMx9U"
      },
      "source": [
        "#레이팅, 리뷰값 모두 0점인것 제거 (다행히 리뷰와 레이팅이 모두 0점인게 공통적이다)\n",
        "df_books =df_books[df_books.review != 0]"
      ],
      "execution_count": 16,
      "outputs": []
    },
    {
      "cell_type": "code",
      "metadata": {
        "id": "I10q0jWIOH_a"
      },
      "source": [
        "df_books=df_books.reset_index(drop = False, inplace = False)"
      ],
      "execution_count": 17,
      "outputs": []
    },
    {
      "cell_type": "code",
      "metadata": {
        "colab": {
          "base_uri": "https://localhost:8080/",
          "height": 279
        },
        "id": "8nJfWrBPNMEI",
        "outputId": "d3744fd7-c4ce-4056-99ba-40d91fd78d31"
      },
      "source": [
        "df_books.tail()"
      ],
      "execution_count": 18,
      "outputs": [
        {
          "output_type": "execute_result",
          "data": {
            "text/html": [
              "<div>\n",
              "<style scoped>\n",
              "    .dataframe tbody tr th:only-of-type {\n",
              "        vertical-align: middle;\n",
              "    }\n",
              "\n",
              "    .dataframe tbody tr th {\n",
              "        vertical-align: top;\n",
              "    }\n",
              "\n",
              "    .dataframe thead th {\n",
              "        text-align: right;\n",
              "    }\n",
              "</style>\n",
              "<table border=\"1\" class=\"dataframe\">\n",
              "  <thead>\n",
              "    <tr style=\"text-align: right;\">\n",
              "      <th></th>\n",
              "      <th>index</th>\n",
              "      <th>book_id</th>\n",
              "      <th>title</th>\n",
              "      <th>author</th>\n",
              "      <th>pub</th>\n",
              "      <th>price</th>\n",
              "      <th>review</th>\n",
              "      <th>rating</th>\n",
              "      <th>story</th>\n",
              "      <th>img</th>\n",
              "      <th>genre</th>\n",
              "    </tr>\n",
              "  </thead>\n",
              "  <tbody>\n",
              "    <tr>\n",
              "      <th>11151</th>\n",
              "      <td>65517</td>\n",
              "      <td>65517</td>\n",
              "      <td>범상치 않은 관계 1</td>\n",
              "      <td>정해길</td>\n",
              "      <td>다향</td>\n",
              "      <td>8100</td>\n",
              "      <td>1</td>\n",
              "      <td>8.0</td>\n",
              "      <td>여자 키 중성 외모 만년 휴학생 송혜민 아버지 빚 때문 만난 사채 업자 로부터 가지...</td>\n",
              "      <td>http://image.yes24.com/goods/11367513/L</td>\n",
              "      <td>로맨스</td>\n",
              "    </tr>\n",
              "    <tr>\n",
              "      <th>11152</th>\n",
              "      <td>65524</td>\n",
              "      <td>65524</td>\n",
              "      <td>보통의 세계</td>\n",
              "      <td>권도란</td>\n",
              "      <td>스칼렛</td>\n",
              "      <td>8820</td>\n",
              "      <td>1</td>\n",
              "      <td>6.0</td>\n",
              "      <td>사고 동시 살의 기억 남자 승 왜 그 일 년 기억 왜 열렬하다 사랑 애인 유라 것 ...</td>\n",
              "      <td>http://image.yes24.com/goods/11318506/L</td>\n",
              "      <td>로맨스</td>\n",
              "    </tr>\n",
              "    <tr>\n",
              "      <th>11153</th>\n",
              "      <td>65525</td>\n",
              "      <td>65525</td>\n",
              "      <td>미주부동산 2</td>\n",
              "      <td>이휴정</td>\n",
              "      <td>신영미디어</td>\n",
              "      <td>8100</td>\n",
              "      <td>1</td>\n",
              "      <td>4.0</td>\n",
              "      <td>그 아프다 몸 끌 때 생각 언제 이 사람 내 눈물 때 다른 것 제 이렇다 식 저 자...</td>\n",
              "      <td>http://image.yes24.com/goods/11245157/L</td>\n",
              "      <td>로맨스</td>\n",
              "    </tr>\n",
              "    <tr>\n",
              "      <th>11154</th>\n",
              "      <td>65526</td>\n",
              "      <td>65526</td>\n",
              "      <td>미주부동산 1</td>\n",
              "      <td>이휴정</td>\n",
              "      <td>신영미디어</td>\n",
              "      <td>8100</td>\n",
              "      <td>1</td>\n",
              "      <td>4.0</td>\n",
              "      <td>김 콜라 얼음 아이스커피 소리 작다 노래방 마이크 저녁 간판 자동차 달리 도시 셰익...</td>\n",
              "      <td>http://image.yes24.com/goods/11245152/L</td>\n",
              "      <td>로맨스</td>\n",
              "    </tr>\n",
              "    <tr>\n",
              "      <th>11155</th>\n",
              "      <td>65528</td>\n",
              "      <td>65528</td>\n",
              "      <td>나쁜 결혼</td>\n",
              "      <td>김진영</td>\n",
              "      <td>스칼렛</td>\n",
              "      <td>8100</td>\n",
              "      <td>1</td>\n",
              "      <td>4.0</td>\n",
              "      <td>저 결혼 아내 로서 의무 사랑 마음 여자 지우 그렇다 남자 아내 당신 말 의무 속 ...</td>\n",
              "      <td>http://image.yes24.com/sysimage/pd_19_L.gif</td>\n",
              "      <td>로맨스</td>\n",
              "    </tr>\n",
              "  </tbody>\n",
              "</table>\n",
              "</div>"
            ],
            "text/plain": [
              "       index  book_id  ...                                          img genre\n",
              "11151  65517    65517  ...      http://image.yes24.com/goods/11367513/L   로맨스\n",
              "11152  65524    65524  ...      http://image.yes24.com/goods/11318506/L   로맨스\n",
              "11153  65525    65525  ...      http://image.yes24.com/goods/11245157/L   로맨스\n",
              "11154  65526    65526  ...      http://image.yes24.com/goods/11245152/L   로맨스\n",
              "11155  65528    65528  ...  http://image.yes24.com/sysimage/pd_19_L.gif   로맨스\n",
              "\n",
              "[5 rows x 11 columns]"
            ]
          },
          "metadata": {
            "tags": []
          },
          "execution_count": 18
        }
      ]
    },
    {
      "cell_type": "markdown",
      "metadata": {
        "id": "eNqXE03rHGKw"
      },
      "source": [
        "## 장르별 분리"
      ]
    },
    {
      "cell_type": "code",
      "metadata": {
        "id": "b6lr_jzAErGd"
      },
      "source": [
        "df_mystery=df_books[df_books['genre']=='추리/미스터리']\n",
        "df_horror =df_books[df_books['genre']== '공포/스릴러']\n",
        "df_fantasy = df_books[df_books['genre']=='판타지']\n",
        "df_martial = df_books[df_books['genre']=='무협']\n",
        "df_sf = df_books[df_books['genre']=='SF']\n",
        "df_history = df_books[df_books['genre']=='역사']\n",
        "df_romance = df_books[df_books['genre']=='로맨스']"
      ],
      "execution_count": 19,
      "outputs": []
    },
    {
      "cell_type": "code",
      "metadata": {
        "colab": {
          "base_uri": "https://localhost:8080/"
        },
        "id": "f1fnZWeREqlj",
        "outputId": "8fc9602a-e233-4bef-d8ce-8b77f4f844dc"
      },
      "source": [
        "print(df_mystery.shape)\n",
        "print(df_horror.shape)\n",
        "print(df_fantasy.shape)\n",
        "print(df_martial.shape)\n",
        "print(df_sf.shape)\n",
        "print(df_history.shape)\n",
        "print(df_romance.shape)"
      ],
      "execution_count": 20,
      "outputs": [
        {
          "output_type": "stream",
          "text": [
            "(2489, 11)\n",
            "(1230, 11)\n",
            "(2399, 11)\n",
            "(470, 11)\n",
            "(656, 11)\n",
            "(1324, 11)\n",
            "(2588, 11)\n"
          ],
          "name": "stdout"
        }
      ]
    },
    {
      "cell_type": "markdown",
      "metadata": {
        "id": "x-9KxoG-PMWr"
      },
      "source": [
        "## 형태소 분리작업"
      ]
    },
    {
      "cell_type": "code",
      "metadata": {
        "id": "094hBlCKEqij"
      },
      "source": [
        "from konlpy.tag import Mecab"
      ],
      "execution_count": 21,
      "outputs": []
    },
    {
      "cell_type": "code",
      "metadata": {
        "id": "IBAY9NazEqf5"
      },
      "source": [
        "\n",
        "df_mystery_list = list(np.array(df_mystery['story'].tolist()))\n",
        "df_horror_list = list(np.array(df_horror['story'].tolist()))\n",
        "df_fantasy_list = list(np.array(df_fantasy['story'].tolist()))\n",
        "df_martial_list = list(np.array(df_martial['story'].tolist()))\n",
        "df_sf_list = list(np.array(df_sf['story'].tolist()))\n",
        "df_history_list = list(np.array(df_history['story'].tolist()))\n",
        "df_romance_list = list(np.array(df_romance['story'].tolist()))"
      ],
      "execution_count": 22,
      "outputs": []
    },
    {
      "cell_type": "code",
      "metadata": {
        "id": "4Q6dd9ovEqdA"
      },
      "source": [
        "mecab = Mecab()"
      ],
      "execution_count": 23,
      "outputs": []
    },
    {
      "cell_type": "code",
      "metadata": {
        "id": "1B9UzydBEqan"
      },
      "source": [
        "#미스터리\n",
        "all_sentences_mystery = []\n",
        "for idx, line in enumerate(df_mystery_list):\n",
        "  #print(f\"--미스테리소설{idx}번--\")\n",
        "  preprocessed = cleansing_numbers(line)\n",
        "  preprocessed = cleansing_special(preprocessed)\n",
        "  #명사\n",
        "  preprocessed_list = ' '.join(list(set(mecab.nouns(preprocessed))))\n",
        "  #print(preprocessed_list)\n",
        "  all_sentences_mystery.append(preprocessed_list)"
      ],
      "execution_count": 24,
      "outputs": []
    },
    {
      "cell_type": "code",
      "metadata": {
        "id": "Pp74tf6FEqXW"
      },
      "source": [
        "#호러\n",
        "all_sentences_horror = []\n",
        "for idx, line in enumerate(df_horror_list):\n",
        "  #print(f\"--호러소설{idx}번--\")\n",
        "  preprocessed = cleansing_numbers(line)\n",
        "  preprocessed = cleansing_special(preprocessed)\n",
        "  #명사\n",
        "  preprocessed_list = ' '.join(list(set(mecab.nouns(preprocessed))))\n",
        "  #print(preprocessed_list)\n",
        "  all_sentences_horror.append(preprocessed_list)"
      ],
      "execution_count": 25,
      "outputs": []
    },
    {
      "cell_type": "code",
      "metadata": {
        "id": "WowSVlAAEqUu"
      },
      "source": [
        "#판타지\n",
        "all_sentences_fantasy = []\n",
        "for idx, line in enumerate(df_fantasy_list):\n",
        "  #print(f\"--판타지소설{idx}번--\")\n",
        "  preprocessed = cleansing_numbers(line)\n",
        "  preprocessed = cleansing_special(preprocessed)\n",
        "  #명사\n",
        "  preprocessed_list = ' '.join(list(set(mecab.nouns(preprocessed))))\n",
        "  #print(preprocessed_list)\n",
        "  all_sentences_fantasy.append(preprocessed_list)"
      ],
      "execution_count": 26,
      "outputs": []
    },
    {
      "cell_type": "code",
      "metadata": {
        "id": "hAFgW6J8EqRx"
      },
      "source": [
        "#무협\n",
        "all_sentences_martial = []\n",
        "for idx, line in enumerate(df_martial_list):\n",
        "  #print(f\"--무협소설{idx}번--\")\n",
        "  preprocessed = cleansing_numbers(line)\n",
        "  preprocessed = cleansing_special(preprocessed)\n",
        "  #명사\n",
        "  preprocessed_list = ' '.join(list(set(mecab.nouns(preprocessed))))\n",
        "  #print(preprocessed_list)\n",
        "  all_sentences_martial.append(preprocessed_list)"
      ],
      "execution_count": 27,
      "outputs": []
    },
    {
      "cell_type": "code",
      "metadata": {
        "id": "MX-F7DECEqPS"
      },
      "source": [
        "#sf\n",
        "all_sentences_sf = []\n",
        "for idx, line in enumerate(df_sf_list):\n",
        "  #print(f\"--sf소설{idx}번--\")\n",
        "  preprocessed = cleansing_numbers(line)\n",
        "  preprocessed = cleansing_special(preprocessed)\n",
        "  #명사\n",
        "  preprocessed_list = ' '.join(list(set(mecab.nouns(preprocessed))))\n",
        "  #print(preprocessed_list)\n",
        "  all_sentences_sf.append(preprocessed_list)"
      ],
      "execution_count": 28,
      "outputs": []
    },
    {
      "cell_type": "code",
      "metadata": {
        "id": "bykz57MMEqMf"
      },
      "source": [
        "#역사\n",
        "all_sentences_history = []\n",
        "for idx, line in enumerate(df_history_list):\n",
        "  #print(f\"--역사소설{idx}번--\")\n",
        "  preprocessed = cleansing_numbers(line)\n",
        "  preprocessed = cleansing_special(preprocessed)\n",
        "  #명사\n",
        "  preprocessed_list = ' '.join(list(set(mecab.nouns(preprocessed))))\n",
        "  #print(preprocessed_list)\n",
        "  all_sentences_history.append(preprocessed_list)"
      ],
      "execution_count": 29,
      "outputs": []
    },
    {
      "cell_type": "code",
      "metadata": {
        "id": "MT7A4cGxEqJv"
      },
      "source": [
        "#로맨스\n",
        "all_sentences_romance = []\n",
        "for idx, line in enumerate(df_romance_list):\n",
        "  #print(f\"--연애소설{idx}번--\")\n",
        "  preprocessed = cleansing_numbers(line)\n",
        "  preprocessed = cleansing_special(preprocessed)\n",
        "  #명사\n",
        "  preprocessed_list = ' '.join(list(set(mecab.nouns(preprocessed))))\n",
        "  #print(preprocessed_list)\n",
        "  all_sentences_romance.append(preprocessed_list)"
      ],
      "execution_count": 30,
      "outputs": []
    },
    {
      "cell_type": "markdown",
      "metadata": {
        "id": "V5aQCGD-bnSq"
      },
      "source": [
        "## TF-IDF 알고리즘"
      ]
    },
    {
      "cell_type": "code",
      "metadata": {
        "id": "IOTojdtCEqHP"
      },
      "source": [
        "from sklearn.feature_extraction.text import TfidfVectorizer\n",
        "from collections import defaultdict  #단어 개수를 세고, 빈도와 리스트 셋 항목 정리리"
      ],
      "execution_count": 31,
      "outputs": []
    },
    {
      "cell_type": "code",
      "metadata": {
        "colab": {
          "base_uri": "https://localhost:8080/"
        },
        "id": "6dLGYd5TEqEU",
        "outputId": "39285c5e-cfb9-4a40-de87-23b127b03ac3"
      },
      "source": [
        "print(len(all_sentences_mystery))\n",
        "print(len(all_sentences_horror))\n",
        "print(len(all_sentences_fantasy))\n",
        "print(len(all_sentences_martial))\n",
        "print(len(all_sentences_sf))\n",
        "print(len(all_sentences_history))\n",
        "print(len(all_sentences_romance))"
      ],
      "execution_count": 32,
      "outputs": [
        {
          "output_type": "stream",
          "text": [
            "2489\n",
            "1230\n",
            "2399\n",
            "470\n",
            "656\n",
            "1324\n",
            "2588\n"
          ],
          "name": "stdout"
        }
      ]
    },
    {
      "cell_type": "code",
      "metadata": {
        "id": "fviGvYJfEqCA"
      },
      "source": [
        "#미스터리\n",
        "tfidf_vectorizer = TfidfVectorizer()\n",
        "tfidf_matrix = tfidf_vectorizer.fit_transform(all_sentences_mystery)\n",
        "\n",
        "word2id = defaultdict(lambda : 0)\n",
        "for idx, feature in enumerate(tfidf_vectorizer.get_feature_names()):\n",
        "  word2id[feature] = idx"
      ],
      "execution_count": 33,
      "outputs": []
    },
    {
      "cell_type": "code",
      "metadata": {
        "id": "epPHRGjjEp_O"
      },
      "source": [
        "#tfidf_vectorizer.vocabulary_  #어떤 단어가 어떤 번호를 할당받았는지!"
      ],
      "execution_count": 34,
      "outputs": []
    },
    {
      "cell_type": "code",
      "metadata": {
        "colab": {
          "base_uri": "https://localhost:8080/"
        },
        "id": "kvg9pqXkEp8t",
        "outputId": "7bf47026-45d8-4e54-92ea-9790a4c57c57"
      },
      "source": [
        "tfidf_matrix.shape"
      ],
      "execution_count": 35,
      "outputs": [
        {
          "output_type": "execute_result",
          "data": {
            "text/plain": [
              "(2489, 9006)"
            ]
          },
          "metadata": {
            "tags": []
          },
          "execution_count": 35
        }
      ]
    },
    {
      "cell_type": "code",
      "metadata": {
        "id": "3vgtATVKEp6N"
      },
      "source": [
        "for idx, sent in enumerate(all_sentences_mystery):\n",
        "  #print(f'---미스테리 소설 {idx} 번---')\n",
        "  results_mystery = [(token, tfidf_matrix[idx, word2id[token]]) for token in sent.split()]\n",
        "  results_mystery.sort(key = lambda element : element[1], reverse = True)\n",
        "  #print(results_mystery)\n",
        "  #print(\"\\n\")"
      ],
      "execution_count": 38,
      "outputs": []
    },
    {
      "cell_type": "code",
      "metadata": {
        "id": "axArUw8-ci1W"
      },
      "source": [
        "#호러\n",
        "tfidf_vectorizer = TfidfVectorizer()\n",
        "tfidf_matrix = tfidf_vectorizer.fit_transform(all_sentences_horror)\n",
        "\n",
        "word2id = defaultdict(lambda : 0)\n",
        "for idx, feature in enumerate(tfidf_vectorizer.get_feature_names()):\n",
        "  word2id[feature] = idx"
      ],
      "execution_count": 39,
      "outputs": []
    },
    {
      "cell_type": "code",
      "metadata": {
        "id": "LUrQaX_Xcizg"
      },
      "source": [
        "for idx, sent in enumerate(all_sentences_horror):\n",
        "  #print(f'---공포 소설 {idx} 번---')\n",
        "  results_horror = [(token, tfidf_matrix[idx, word2id[token]]) for token in sent.split()]\n",
        "  results_horror.sort(key = lambda element : element[1], reverse = True)\n",
        "  #print(results_horror)\n",
        "  #print(\"\\n\")"
      ],
      "execution_count": 40,
      "outputs": []
    },
    {
      "cell_type": "code",
      "metadata": {
        "id": "5na41ronciwc"
      },
      "source": [
        "#판타지\n",
        "tfidf_vectorizer = TfidfVectorizer()\n",
        "tfidf_matrix = tfidf_vectorizer.fit_transform(all_sentences_fantasy)\n",
        "\n",
        "word2id = defaultdict(lambda : 0)\n",
        "for idx, feature in enumerate(tfidf_vectorizer.get_feature_names()):\n",
        "  word2id[feature] = idx"
      ],
      "execution_count": 41,
      "outputs": []
    },
    {
      "cell_type": "code",
      "metadata": {
        "id": "5N397Smjcit9"
      },
      "source": [
        "for idx, sent in enumerate(all_sentences_fantasy):\n",
        "  #print(f'--- 판타지 소설 {idx} 번---')\n",
        "  results_fantasy = [(token, tfidf_matrix[idx, word2id[token]]) for token in sent.split()]\n",
        "  results_fantasy.sort(key = lambda element : element[1], reverse = True)\n",
        "  #print(results_fantasy)\n",
        "  #print(\"\\n\")"
      ],
      "execution_count": 42,
      "outputs": []
    },
    {
      "cell_type": "code",
      "metadata": {
        "id": "pNambPQYcirp"
      },
      "source": [
        "#무협\n",
        "tfidf_vectorizer = TfidfVectorizer()\n",
        "tfidf_matrix = tfidf_vectorizer.fit_transform(all_sentences_martial)\n",
        "\n",
        "word2id = defaultdict(lambda : 0)\n",
        "for idx, feature in enumerate(tfidf_vectorizer.get_feature_names()):\n",
        "  word2id[feature] = idx"
      ],
      "execution_count": 50,
      "outputs": []
    },
    {
      "cell_type": "code",
      "metadata": {
        "id": "lPX76WHLciom"
      },
      "source": [
        "for idx, sent in enumerate(all_sentences_martial):\n",
        "  #print(f'--- 무협 소설 {idx} 번---')\n",
        "  results_martial = [(token, tfidf_matrix[idx, word2id[token]]) for token in sent.split()]\n",
        "  results_martial.sort(key = lambda element : element[1], reverse = True)\n",
        "  #print(results_martial)\n",
        "  #print(\"\\n\")"
      ],
      "execution_count": 51,
      "outputs": []
    },
    {
      "cell_type": "code",
      "metadata": {
        "id": "a3mk3g82cimP"
      },
      "source": [
        "#sf\n",
        "tfidf_vectorizer = TfidfVectorizer()\n",
        "tfidf_matrix = tfidf_vectorizer.fit_transform(all_sentences_sf)\n",
        "\n",
        "word2id = defaultdict(lambda : 0)\n",
        "for idx, feature in enumerate(tfidf_vectorizer.get_feature_names()):\n",
        "  word2id[feature] = idx"
      ],
      "execution_count": 53,
      "outputs": []
    },
    {
      "cell_type": "code",
      "metadata": {
        "id": "0jCd5xSHcij1"
      },
      "source": [
        "for idx, sent in enumerate(all_sentences_sf):\n",
        "  #print(f'--- sf 소설 {idx} 번---')\n",
        "  results_sf = [(token, tfidf_matrix[idx, word2id[token]]) for token in sent.split()]\n",
        "  results_sf.sort(key = lambda element : element[1], reverse = True)\n",
        "  #print(results_sf)\n",
        "  #print(\"\\n\")"
      ],
      "execution_count": 54,
      "outputs": []
    },
    {
      "cell_type": "code",
      "metadata": {
        "id": "dnMscGHdcig9"
      },
      "source": [
        "#역사\n",
        "tfidf_vectorizer = TfidfVectorizer()\n",
        "tfidf_matrix = tfidf_vectorizer.fit_transform(all_sentences_history)\n",
        "\n",
        "word2id = defaultdict(lambda : 0)\n",
        "for idx, feature in enumerate(tfidf_vectorizer.get_feature_names()):\n",
        "  word2id[feature] = idx"
      ],
      "execution_count": 55,
      "outputs": []
    },
    {
      "cell_type": "code",
      "metadata": {
        "id": "MgwLTZLGcieW"
      },
      "source": [
        "for idx, sent in enumerate(all_sentences_history):\n",
        "  #print(f'--- sf 소설 {idx} 번---')\n",
        "  results_history = [(token, tfidf_matrix[idx, word2id[token]]) for token in sent.split()]\n",
        "  results_history.sort(key = lambda element : element[1], reverse = True)\n",
        "  #print(results_history)\n",
        "  #print(\"\\n\")"
      ],
      "execution_count": 56,
      "outputs": []
    },
    {
      "cell_type": "code",
      "metadata": {
        "id": "Sg1QPZA4cib_"
      },
      "source": [
        "#연애\n",
        "tfidf_vectorizer = TfidfVectorizer()\n",
        "tfidf_matrix = tfidf_vectorizer.fit_transform(all_sentences_romance)\n",
        "\n",
        "word2id = defaultdict(lambda : 0)\n",
        "for idx, feature in enumerate(tfidf_vectorizer.get_feature_names()):\n",
        "  word2id[feature] = idx"
      ],
      "execution_count": 57,
      "outputs": []
    },
    {
      "cell_type": "code",
      "metadata": {
        "id": "kCpHi9qNciZd"
      },
      "source": [
        "for idx, sent in enumerate(all_sentences_romance):\n",
        "  #print(f'--- 연애 소설 {idx} 번---')\n",
        "  results_romance = [(token, tfidf_matrix[idx, word2id[token]]) for token in sent.split()]\n",
        "  results_romance.sort(key = lambda element : element[1], reverse = True)\n",
        "  #print(results_romance)\n",
        "  #print(\"\\n\")"
      ],
      "execution_count": 60,
      "outputs": []
    },
    {
      "cell_type": "code",
      "metadata": {
        "id": "JAhV2PLOciWz"
      },
      "source": [
        ""
      ],
      "execution_count": null,
      "outputs": []
    },
    {
      "cell_type": "code",
      "metadata": {
        "id": "evbLIH5ociUT"
      },
      "source": [
        ""
      ],
      "execution_count": null,
      "outputs": []
    },
    {
      "cell_type": "code",
      "metadata": {
        "id": "_gzh96tdch-M"
      },
      "source": [
        ""
      ],
      "execution_count": null,
      "outputs": []
    }
  ]
}