{
 "cells": [
  {
   "cell_type": "markdown",
   "id": "failing-office",
   "metadata": {},
   "source": [
    "## 코사인 유사도 \n",
    "- 두 벡터간 코사인 각도를 이용하여 구하는 두 벡터의 유사도\n",
    "- -1~1사이의 값을 갖는다"
   ]
  },
  {
   "cell_type": "markdown",
   "id": "central-guest",
   "metadata": {},
   "source": [
    "### 소설 데이터 스토리 컬럼 코사인 유사도 측정"
   ]
  },
  {
   "cell_type": "code",
   "execution_count": 8,
   "id": "subjective-difficulty",
   "metadata": {},
   "outputs": [],
   "source": [
    "import pandas as pd\n",
    "from numpy import dot\n",
    "from numpy.linalg import norm\n",
    "import numpy as np\n",
    "from sklearn.feature_extraction.text import TfidfVectorizer\n",
    "from sklearn.metrics.pairwise import cosine_similarity"
   ]
  },
  {
   "cell_type": "code",
   "execution_count": 3,
   "id": "enhanced-reading",
   "metadata": {},
   "outputs": [],
   "source": [
    "#소설 데이터 장르별 분리 : 시간 절약 및 장르 별 데이터 확보\n",
    "df_books_mystery = pd.read_excel('books_fin.xlsx', sheet_name = 0)\n",
    "df_books_horror = pd.read_excel('books_fin.xlsx', sheet_name = 1)\n",
    "df_books_fantasy = pd.read_excel('books_fin.xlsx', sheet_name = 2)\n",
    "df_books_sf =pd.read_excel('books_fin.xlsx', sheet_name = 3)\n",
    "df_books_martial = pd.read_excel('books_fin.xlsx', sheet_name = 4)\n",
    "df_books_history = pd.read_excel('books_fin.xlsx', sheet_name = 5)\n",
    "df_books_romance = pd.read_excel('books_fin.xlsx', sheet_name = 6)"
   ]
  },
  {
   "cell_type": "code",
   "execution_count": 4,
   "id": "graphic-newport",
   "metadata": {},
   "outputs": [
    {
     "data": {
      "text/html": [
       "<div>\n",
       "<style scoped>\n",
       "    .dataframe tbody tr th:only-of-type {\n",
       "        vertical-align: middle;\n",
       "    }\n",
       "\n",
       "    .dataframe tbody tr th {\n",
       "        vertical-align: top;\n",
       "    }\n",
       "\n",
       "    .dataframe thead th {\n",
       "        text-align: right;\n",
       "    }\n",
       "</style>\n",
       "<table border=\"1\" class=\"dataframe\">\n",
       "  <thead>\n",
       "    <tr style=\"text-align: right;\">\n",
       "      <th></th>\n",
       "      <th>Unnamed: 0</th>\n",
       "      <th>index</th>\n",
       "      <th>book_id</th>\n",
       "      <th>title</th>\n",
       "      <th>genre</th>\n",
       "      <th>words</th>\n",
       "    </tr>\n",
       "  </thead>\n",
       "  <tbody>\n",
       "    <tr>\n",
       "      <th>651</th>\n",
       "      <td>651</td>\n",
       "      <td>7239</td>\n",
       "      <td>56489</td>\n",
       "      <td>파운데이션 9</td>\n",
       "      <td>SF</td>\n",
       "      <td>전설 행성 론 야심 사태 위기 콤 트레비스 중력 단서 무사 곳 일행 확신 탐색 때문...</td>\n",
       "    </tr>\n",
       "    <tr>\n",
       "      <th>652</th>\n",
       "      <td>652</td>\n",
       "      <td>7240</td>\n",
       "      <td>56490</td>\n",
       "      <td>파운데이션 10</td>\n",
       "      <td>SF</td>\n",
       "      <td>동행 행성 우주 비밀 열정 세계 위기 줄 이 트레비스 솔 중요 리아 단서 끝 무사 ...</td>\n",
       "    </tr>\n",
       "    <tr>\n",
       "      <th>653</th>\n",
       "      <td>653</td>\n",
       "      <td>7241</td>\n",
       "      <td>56491</td>\n",
       "      <td>스키즈매트릭스</td>\n",
       "      <td>SF</td>\n",
       "      <td>조작 원시 년 영재 혼란 노 아이 유전자 소식 친구 피해 상태 신체 연장 초 성지 ...</td>\n",
       "    </tr>\n",
       "    <tr>\n",
       "      <th>654</th>\n",
       "      <td>654</td>\n",
       "      <td>7242</td>\n",
       "      <td>56492</td>\n",
       "      <td>안티 아이스</td>\n",
       "      <td>SF</td>\n",
       "      <td>외계 발견 탐험 안전 물질 영국 뒤 열 우주 스티븐 아이스 베른 저온 발 상 삶 백...</td>\n",
       "    </tr>\n",
       "    <tr>\n",
       "      <th>655</th>\n",
       "      <td>655</td>\n",
       "      <td>7243</td>\n",
       "      <td>56495</td>\n",
       "      <td>다이아몬드 시대</td>\n",
       "      <td>SF</td>\n",
       "      <td>시대 본격 현실 나노 용어 세계 책 발표 다이아몬드 스티븐슨 이 상 휴고 닐 해커 ...</td>\n",
       "    </tr>\n",
       "  </tbody>\n",
       "</table>\n",
       "</div>"
      ],
      "text/plain": [
       "     Unnamed: 0  index  book_id     title genre  \\\n",
       "651         651   7239    56489   파운데이션 9    SF   \n",
       "652         652   7240    56490  파운데이션 10    SF   \n",
       "653         653   7241    56491   스키즈매트릭스    SF   \n",
       "654         654   7242    56492    안티 아이스    SF   \n",
       "655         655   7243    56495  다이아몬드 시대    SF   \n",
       "\n",
       "                                                 words  \n",
       "651  전설 행성 론 야심 사태 위기 콤 트레비스 중력 단서 무사 곳 일행 확신 탐색 때문...  \n",
       "652  동행 행성 우주 비밀 열정 세계 위기 줄 이 트레비스 솔 중요 리아 단서 끝 무사 ...  \n",
       "653  조작 원시 년 영재 혼란 노 아이 유전자 소식 친구 피해 상태 신체 연장 초 성지 ...  \n",
       "654  외계 발견 탐험 안전 물질 영국 뒤 열 우주 스티븐 아이스 베른 저온 발 상 삶 백...  \n",
       "655  시대 본격 현실 나노 용어 세계 책 발표 다이아몬드 스티븐슨 이 상 휴고 닐 해커 ...  "
      ]
     },
     "execution_count": 4,
     "metadata": {},
     "output_type": "execute_result"
    }
   ],
   "source": [
    "df_books_sf.tail()"
   ]
  },
  {
   "cell_type": "code",
   "execution_count": 5,
   "id": "developmental-liverpool",
   "metadata": {},
   "outputs": [],
   "source": [
    "df_books_sf_list = df_books_sf['words'].to_list()"
   ]
  },
  {
   "cell_type": "code",
   "execution_count": 14,
   "id": "central-bacteria",
   "metadata": {},
   "outputs": [
    {
     "name": "stdout",
     "output_type": "stream",
     "text": [
      "(656, 3823)\n"
     ]
    }
   ],
   "source": [
    "#장르별 스토리 컬럼 벡터화 : sf\n",
    "tfidf = TfidfVectorizer()\n",
    "\n",
    "tfidf_matrix_sf = tfidf.fit_transform(df_books_sf['words'])\n",
    "print(tfidf_matrix_sf.shape)"
   ]
  },
  {
   "cell_type": "code",
   "execution_count": 15,
   "id": "conscious-crisis",
   "metadata": {},
   "outputs": [],
   "source": [
    "#코사인 유사도 측정\n",
    "cosine_matrix_sf = cosine_similarity(tfidf_matrix_sf, tfidf_matrix_sf)"
   ]
  },
  {
   "cell_type": "code",
   "execution_count": 16,
   "id": "suburban-avatar",
   "metadata": {},
   "outputs": [
    {
     "data": {
      "text/plain": [
       "(656, 656)"
      ]
     },
     "execution_count": 16,
     "metadata": {},
     "output_type": "execute_result"
    }
   ],
   "source": [
    "cosine_matrix_sf.shape"
   ]
  },
  {
   "cell_type": "code",
   "execution_count": 17,
   "id": "radical-suggestion",
   "metadata": {},
   "outputs": [
    {
     "data": {
      "text/plain": [
       "array([[1.    , 0.0196, 0.0878, ..., 0.    , 0.    , 0.    ],\n",
       "       [0.0196, 1.    , 0.    , ..., 0.    , 0.0084, 0.    ],\n",
       "       [0.0878, 0.    , 1.    , ..., 0.    , 0.    , 0.    ],\n",
       "       ...,\n",
       "       [0.    , 0.    , 0.    , ..., 1.    , 0.0466, 0.0193],\n",
       "       [0.    , 0.0084, 0.    , ..., 0.0466, 1.    , 0.2561],\n",
       "       [0.    , 0.    , 0.    , ..., 0.0193, 0.2561, 1.    ]])"
      ]
     },
     "execution_count": 17,
     "metadata": {},
     "output_type": "execute_result"
    }
   ],
   "source": [
    "np.round(cosine_matrix_mys, 4)"
   ]
  },
  {
   "cell_type": "code",
   "execution_count": 20,
   "id": "wicked-asbestos",
   "metadata": {},
   "outputs": [],
   "source": [
    "#책의 제목 별 아이디를 저장해줄 딕셔너리 생성\n",
    "books_sf_id = {}\n",
    "for i, c in enumerate(df_books_sf['title']): books_sf_id[i] = c\n",
    "#아이디 별 제목을 나타내는 딕셔너리    \n",
    "id2books_sf = {}\n",
    "for i, c in books_sf_id.items(): id2books_sf[c] = i"
   ]
  },
  {
   "cell_type": "code",
   "execution_count": 22,
   "id": "norman-delight",
   "metadata": {},
   "outputs": [
    {
     "data": {
      "text/plain": [
       "[(258, 0.13416931520467365),\n",
       " (448, 0.10111774683158692),\n",
       " (413, 0.09745781782778801),\n",
       " (260, 0.09582478639566992),\n",
       " (68, 0.08398623577348026),\n",
       " (353, 0.0760460200380065),\n",
       " (576, 0.0733683103762293),\n",
       " (64, 0.07214450429211264),\n",
       " (467, 0.07095106997041106),\n",
       " (88, 0.06868779149972727)]"
      ]
     },
     "execution_count": 22,
     "metadata": {},
     "output_type": "execute_result"
    }
   ],
   "source": [
    "idx = id2books_sf['스키즈매트릭스']\n",
    "sim_scores_sf = [(i,c) for i, c in enumerate(cosine_matrix_sf[idx]) if i !=idx] \n",
    "sim_scores_sf = sorted(sim_scores_sf, key =lambda x: x[1], reverse = True)\n",
    "sim_scores_sf[0:10]"
   ]
  },
  {
   "cell_type": "code",
   "execution_count": 25,
   "id": "signal-butler",
   "metadata": {},
   "outputs": [
    {
     "data": {
      "text/plain": [
       "[('네피림', 0.13416931520467365),\n",
       " ('와인드업 걸', 0.10111774683158692),\n",
       " ('유빅', 0.09745781782778801),\n",
       " ('뮤테이션', 0.09582478639566992),\n",
       " ('카운트 제로', 0.08398623577348026),\n",
       " ('데드 스페이스 : 기폭제', 0.0760460200380065),\n",
       " ('블루 타워', 0.0733683103762293),\n",
       " ('오리지널 맨', 0.07214450429211264),\n",
       " ('심연 위의 불길 1', 0.07095106997041106),\n",
       " ('널 만나러 지구로 갈게', 0.06868779149972727)]"
      ]
     },
     "execution_count": 25,
     "metadata": {},
     "output_type": "execute_result"
    }
   ],
   "source": [
    "sim_scores_sf = [(books_sf_id[i], score) for i, score in sim_scores_sf[0:10]]\n",
    "sim_scores_sf"
   ]
  },
  {
   "cell_type": "code",
   "execution_count": null,
   "id": "passing-tumor",
   "metadata": {},
   "outputs": [],
   "source": []
  }
 ],
 "metadata": {
  "kernelspec": {
   "display_name": "Python 3",
   "language": "python",
   "name": "python3"
  },
  "language_info": {
   "codemirror_mode": {
    "name": "ipython",
    "version": 3
   },
   "file_extension": ".py",
   "mimetype": "text/x-python",
   "name": "python",
   "nbconvert_exporter": "python",
   "pygments_lexer": "ipython3",
   "version": "3.7.3"
  }
 },
 "nbformat": 4,
 "nbformat_minor": 5
}
