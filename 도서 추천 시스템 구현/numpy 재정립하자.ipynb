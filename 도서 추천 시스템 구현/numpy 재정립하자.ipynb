{
 "cells": [
  {
   "cell_type": "code",
   "execution_count": 1,
   "id": "noted-scheduling",
   "metadata": {},
   "outputs": [],
   "source": [
    "import warnings\n",
    "warnings.filterwarnings(\"ignore\")"
   ]
  },
  {
   "cell_type": "code",
   "execution_count": 3,
   "id": "psychological-stick",
   "metadata": {},
   "outputs": [],
   "source": [
    "import numpy as np"
   ]
  },
  {
   "cell_type": "markdown",
   "id": "explicit-turning",
   "metadata": {},
   "source": [
    "### 리스트 ,행렬 선언"
   ]
  },
  {
   "cell_type": "code",
   "execution_count": 6,
   "id": "spoken-northwest",
   "metadata": {},
   "outputs": [],
   "source": [
    "#list_name (변수명 설정)= [\"ㅇㄹ\",\"ㅁㄴㅇㄹㅇ\"....\"ㄴㅇㄹ\"]\n",
    "\n",
    "a = [1,2,3]\n",
    "b = [\"a\", \"b\", \"c\"]\n",
    "c = [[\"a\"]]\n"
   ]
  },
  {
   "cell_type": "code",
   "execution_count": 7,
   "id": "civic-disclosure",
   "metadata": {},
   "outputs": [],
   "source": [
    "c.append('new_litem')"
   ]
  },
  {
   "cell_type": "code",
   "execution_count": 10,
   "id": "smart-period",
   "metadata": {},
   "outputs": [
    {
     "name": "stdout",
     "output_type": "stream",
     "text": [
      "[['a'], 'new_litem']\n"
     ]
    }
   ],
   "source": [
    "print(c)"
   ]
  },
  {
   "cell_type": "code",
   "execution_count": 12,
   "id": "decent-proceeding",
   "metadata": {},
   "outputs": [],
   "source": [
    "#배열\n",
    "a = np.array([1,2,3])\n",
    "b = np.array([\"a\",\"b\",\"c\"])\n",
    "c = np.array([['a'],['a','n'],['a','b'],['a','b','c']])"
   ]
  },
  {
   "cell_type": "code",
   "execution_count": 14,
   "id": "optimum-governor",
   "metadata": {},
   "outputs": [
    {
     "name": "stdout",
     "output_type": "stream",
     "text": [
      "[1 2 3]\n",
      "['a' 'b' 'c']\n",
      "[list(['a']) list(['a', 'n']) list(['a', 'b']) list(['a', 'b', 'c'])]\n"
     ]
    }
   ],
   "source": [
    "print(a)\n",
    "print(b)\n",
    "print(c)"
   ]
  },
  {
   "cell_type": "code",
   "execution_count": 19,
   "id": "covered-converter",
   "metadata": {},
   "outputs": [
    {
     "name": "stdout",
     "output_type": "stream",
     "text": [
      "[[1. 1. 1. 1. 1.]]\n",
      "[[1. 1.]\n",
      " [1. 1.]\n",
      " [1. 1.]]\n"
     ]
    }
   ],
   "source": [
    "#배열을 1로 채우기\n",
    "print(np.ones((1,5)))\n",
    "print(np.ones((3,2)))"
   ]
  },
  {
   "cell_type": "code",
   "execution_count": 20,
   "id": "roman-thunder",
   "metadata": {},
   "outputs": [
    {
     "name": "stdout",
     "output_type": "stream",
     "text": [
      "[[0. 0. 0. 0. 0.]]\n"
     ]
    }
   ],
   "source": [
    "#배열을 -0으로 채우기\n",
    "print(np.zeros((1,5)))"
   ]
  },
  {
   "cell_type": "code",
   "execution_count": 23,
   "id": "legendary-curve",
   "metadata": {},
   "outputs": [
    {
     "name": "stdout",
     "output_type": "stream",
     "text": [
      "[0 1 2 3 4 5 6 7 8 9]\n",
      "[3. 4. 5. 6.]\n",
      "[3 5 7 9]\n"
     ]
    }
   ],
   "source": [
    "#주어진 범위 안에서 순차적으로 증가하는리스트 만들자\n",
    "\n",
    "print(np.arange(10))\n",
    "print(np.arange(3,7, dtype = np.float))\n",
    "print(np.arange(3,10,2))"
   ]
  },
  {
   "cell_type": "code",
   "execution_count": 24,
   "id": "balanced-buffer",
   "metadata": {},
   "outputs": [
    {
     "name": "stdout",
     "output_type": "stream",
     "text": [
      "[[1 2 3]\n",
      " [4 5 6]]\n",
      "[[4 1]\n",
      " [3 2]\n",
      " [2 1]]\n",
      "[[0.01042731 0.12074174]\n",
      " [0.50478949 0.41558031]\n",
      " [0.9288636  0.84605775]]\n"
     ]
    }
   ],
   "source": [
    "#행렬 선언\n",
    "mat1 = np.array([[1,2,3],[4,5,6]])\n",
    "\n",
    "#random으로 matrix 만들기\n",
    "mat2 = np.random.randint(low = 1 , high=10, size = (3,2))\n",
    "mat3 = np.random.rand(3,2) #정규분포사아에서 숫자를 뽑음\n",
    "\n",
    "print(mat1)\n",
    "print(mat2)\n",
    "print(mat3)"
   ]
  },
  {
   "cell_type": "markdown",
   "id": "opening-swimming",
   "metadata": {},
   "source": [
    "### 리스트 인덱싱,슬라이싱"
   ]
  },
  {
   "cell_type": "code",
   "execution_count": 27,
   "id": "moderate-medicaid",
   "metadata": {},
   "outputs": [
    {
     "name": "stdout",
     "output_type": "stream",
     "text": [
      "4 8 9\n"
     ]
    }
   ],
   "source": [
    "#인덱싱\n",
    "a = [1,3,4,6,8,9]\n",
    "print(a[2], a[4],a[-1])"
   ]
  },
  {
   "cell_type": "code",
   "execution_count": 29,
   "id": "southwest-kenya",
   "metadata": {},
   "outputs": [
    {
     "name": "stdout",
     "output_type": "stream",
     "text": [
      "[76, 8, 9, 0, 12]\n",
      "[1, 5]\n",
      "[1, 5, 76, 8, 9, 0, 12]\n"
     ]
    }
   ],
   "source": [
    "#slicing\n",
    "b = [1,5,76,8,9,0,12]\n",
    "print(b[2:])\n",
    "print(b[:2])\n",
    "print(b[:])"
   ]
  },
  {
   "cell_type": "markdown",
   "id": "polished-spending",
   "metadata": {},
   "source": [
    "### reshape"
   ]
  },
  {
   "cell_type": "code",
   "execution_count": 30,
   "id": "reverse-multimedia",
   "metadata": {},
   "outputs": [
    {
     "name": "stdout",
     "output_type": "stream",
     "text": [
      "[[0.0353467  0.4362287  0.14265972]\n",
      " [0.25640966 0.15029729 0.09124335]\n",
      " [0.16528943 0.71826494 0.2918398 ]\n",
      " [0.7253344  0.770945   0.05932596]\n",
      " [0.67418006 0.81437633 0.33413092]\n",
      " [0.48549875 0.90142427 0.80984725]]\n"
     ]
    }
   ],
   "source": [
    "mat1 = np.random.rand(6,3)\n",
    "print(mat1)"
   ]
  },
  {
   "cell_type": "code",
   "execution_count": 32,
   "id": "informational-atmosphere",
   "metadata": {},
   "outputs": [
    {
     "name": "stdout",
     "output_type": "stream",
     "text": [
      "(1, 18)\n",
      "[[0.0353467  0.4362287  0.14265972 0.25640966 0.15029729 0.09124335\n",
      "  0.16528943 0.71826494 0.2918398  0.7253344  0.770945   0.05932596\n",
      "  0.67418006 0.81437633 0.33413092 0.48549875 0.90142427 0.80984725]]\n",
      "=========\n",
      "(18, 1)\n",
      "[[0.0353467 ]\n",
      " [0.4362287 ]\n",
      " [0.14265972]\n",
      " [0.25640966]\n",
      " [0.15029729]\n",
      " [0.09124335]\n",
      " [0.16528943]\n",
      " [0.71826494]\n",
      " [0.2918398 ]\n",
      " [0.7253344 ]\n",
      " [0.770945  ]\n",
      " [0.05932596]\n",
      " [0.67418006]\n",
      " [0.81437633]\n",
      " [0.33413092]\n",
      " [0.48549875]\n",
      " [0.90142427]\n",
      " [0.80984725]]\n"
     ]
    }
   ],
   "source": [
    "#-1:all\n",
    "print(mat1.reshape(1,-1).shape)\n",
    "print(mat1.reshape(1,-1))\n",
    "print(\"=========\")\n",
    "print(mat1.reshape(-1,1).shape)\n",
    "print(mat1.reshape(-1,1))"
   ]
  },
  {
   "cell_type": "code",
   "execution_count": 33,
   "id": "acknowledged-filename",
   "metadata": {},
   "outputs": [
    {
     "name": "stdout",
     "output_type": "stream",
     "text": [
      "(2, 9)\n",
      "[[0.0353467  0.4362287 ]\n",
      " [0.14265972 0.25640966]\n",
      " [0.15029729 0.09124335]\n",
      " [0.16528943 0.71826494]\n",
      " [0.2918398  0.7253344 ]\n",
      " [0.770945   0.05932596]\n",
      " [0.67418006 0.81437633]\n",
      " [0.33413092 0.48549875]\n",
      " [0.90142427 0.80984725]]\n"
     ]
    }
   ],
   "source": [
    "print(mat1.reshape(2, 9).shape)\n",
    "print(mat1.reshape(9, 2))\n"
   ]
  },
  {
   "cell_type": "code",
   "execution_count": 35,
   "id": "continental-translator",
   "metadata": {},
   "outputs": [],
   "source": [
    "# mat1.reshape(2,5) # 당연히 에러난다"
   ]
  },
  {
   "cell_type": "code",
   "execution_count": 36,
   "id": "level-classic",
   "metadata": {},
   "outputs": [
    {
     "name": "stdout",
     "output_type": "stream",
     "text": [
      "(3, 2, 3)\n",
      "[[[0.0353467  0.4362287  0.14265972]\n",
      "  [0.25640966 0.15029729 0.09124335]]\n",
      "\n",
      " [[0.16528943 0.71826494 0.2918398 ]\n",
      "  [0.7253344  0.770945   0.05932596]]\n",
      "\n",
      " [[0.67418006 0.81437633 0.33413092]\n",
      "  [0.48549875 0.90142427 0.80984725]]]\n"
     ]
    }
   ],
   "source": [
    "# tensor 형태로 나타내기\n",
    "print(mat1.reshape(3,2,3).shape)\n",
    "print(mat1.reshape(3,2,3))"
   ]
  },
  {
   "cell_type": "markdown",
   "id": "thousand-tablet",
   "metadata": {},
   "source": [
    "###  matrix 또는  tensor 형태에서도 slicing 가능"
   ]
  },
  {
   "cell_type": "code",
   "execution_count": 37,
   "id": "precious-dragon",
   "metadata": {},
   "outputs": [
    {
     "name": "stdout",
     "output_type": "stream",
     "text": [
      "[[ 0  1  2  3]\n",
      " [ 4  5  6  7]\n",
      " [ 8  9 10 11]\n",
      " [12 13 14 15]\n",
      " [16 17 18 19]\n",
      " [20 21 22 23]]\n"
     ]
    }
   ],
   "source": [
    "\n",
    "mat2 = np.arange(24).reshape(-1, 4)\n",
    "print(mat2)"
   ]
  },
  {
   "cell_type": "code",
   "execution_count": 38,
   "id": "parliamentary-attendance",
   "metadata": {},
   "outputs": [
    {
     "data": {
      "text/plain": [
       "array([[0, 1, 2]])"
      ]
     },
     "execution_count": 38,
     "metadata": {},
     "output_type": "execute_result"
    }
   ],
   "source": [
    "mat2[:1,:3]"
   ]
  },
  {
   "cell_type": "code",
   "execution_count": 39,
   "id": "temporal-strip",
   "metadata": {},
   "outputs": [
    {
     "data": {
      "text/plain": [
       "array([12, 13])"
      ]
     },
     "execution_count": 39,
     "metadata": {},
     "output_type": "execute_result"
    }
   ],
   "source": [
    "mat2[3, 0:2]"
   ]
  },
  {
   "cell_type": "markdown",
   "id": "enhanced-musical",
   "metadata": {},
   "source": [
    "### 사칙연산 "
   ]
  },
  {
   "cell_type": "code",
   "execution_count": 40,
   "id": "controlling-yugoslavia",
   "metadata": {},
   "outputs": [
    {
     "name": "stdout",
     "output_type": "stream",
     "text": [
      "[[ 1  3  5]\n",
      " [ 7  9 11]\n",
      " [13 15 17]]\n",
      "[[ 2  4  6]\n",
      " [ 8 10 12]\n",
      " [14 16 18]]\n"
     ]
    }
   ],
   "source": [
    "x = np.array([[1,3,5],[7,9,11],[13,15,17]])\n",
    "y = np.array([[2,4,6],[8,10,12],[14,16,18]])\n",
    "\n",
    "print(x)\n",
    "print(y)"
   ]
  },
  {
   "cell_type": "code",
   "execution_count": 41,
   "id": "legitimate-fiction",
   "metadata": {},
   "outputs": [
    {
     "data": {
      "text/plain": [
       "array([[ 3,  7, 11],\n",
       "       [15, 19, 23],\n",
       "       [27, 31, 35]])"
      ]
     },
     "execution_count": 41,
     "metadata": {},
     "output_type": "execute_result"
    }
   ],
   "source": [
    "# add\n",
    "x + y"
   ]
  },
  {
   "cell_type": "code",
   "execution_count": 42,
   "id": "minus-trace",
   "metadata": {},
   "outputs": [
    {
     "data": {
      "text/plain": [
       "array([[-1, -1, -1],\n",
       "       [-1, -1, -1],\n",
       "       [-1, -1, -1]])"
      ]
     },
     "execution_count": 42,
     "metadata": {},
     "output_type": "execute_result"
    }
   ],
   "source": [
    "x - y"
   ]
  },
  {
   "cell_type": "code",
   "execution_count": 43,
   "id": "respiratory-tobago",
   "metadata": {},
   "outputs": [
    {
     "data": {
      "text/plain": [
       "array([[  2,  12,  30],\n",
       "       [ 56,  90, 132],\n",
       "       [182, 240, 306]])"
      ]
     },
     "execution_count": 43,
     "metadata": {},
     "output_type": "execute_result"
    }
   ],
   "source": [
    "x * y"
   ]
  },
  {
   "cell_type": "code",
   "execution_count": 44,
   "id": "obvious-detector",
   "metadata": {},
   "outputs": [
    {
     "data": {
      "text/plain": [
       "array([[0.5       , 0.75      , 0.83333333],\n",
       "       [0.875     , 0.9       , 0.91666667],\n",
       "       [0.92857143, 0.9375    , 0.94444444]])"
      ]
     },
     "execution_count": 44,
     "metadata": {},
     "output_type": "execute_result"
    }
   ],
   "source": [
    "x / y"
   ]
  },
  {
   "cell_type": "code",
   "execution_count": 46,
   "id": "according-maryland",
   "metadata": {},
   "outputs": [
    {
     "data": {
      "text/plain": [
       "array([[ 2,  6, 10],\n",
       "       [14, 18, 22],\n",
       "       [26, 30, 34]])"
      ]
     },
     "execution_count": 46,
     "metadata": {},
     "output_type": "execute_result"
    }
   ],
   "source": [
    "# More on matrix operation\n",
    "z1 = np.array([[2,2,2]])\n",
    "z2 = np.array([[2,2]])\n",
    "\n",
    "x * z1"
   ]
  },
  {
   "cell_type": "code",
   "execution_count": null,
   "id": "bottom-adult",
   "metadata": {},
   "outputs": [],
   "source": []
  },
  {
   "cell_type": "code",
   "execution_count": null,
   "id": "plastic-surgeon",
   "metadata": {},
   "outputs": [],
   "source": []
  },
  {
   "cell_type": "code",
   "execution_count": null,
   "id": "damaged-threat",
   "metadata": {},
   "outputs": [],
   "source": []
  },
  {
   "cell_type": "code",
   "execution_count": null,
   "id": "valuable-melbourne",
   "metadata": {},
   "outputs": [],
   "source": []
  },
  {
   "cell_type": "code",
   "execution_count": null,
   "id": "worth-prior",
   "metadata": {},
   "outputs": [],
   "source": []
  },
  {
   "cell_type": "code",
   "execution_count": null,
   "id": "statistical-citation",
   "metadata": {},
   "outputs": [],
   "source": []
  },
  {
   "cell_type": "code",
   "execution_count": null,
   "id": "planned-constraint",
   "metadata": {},
   "outputs": [],
   "source": []
  },
  {
   "cell_type": "code",
   "execution_count": null,
   "id": "failing-brighton",
   "metadata": {},
   "outputs": [],
   "source": []
  },
  {
   "cell_type": "code",
   "execution_count": null,
   "id": "powerful-plasma",
   "metadata": {},
   "outputs": [],
   "source": []
  },
  {
   "cell_type": "code",
   "execution_count": null,
   "id": "infinite-battery",
   "metadata": {},
   "outputs": [],
   "source": []
  }
 ],
 "metadata": {
  "kernelspec": {
   "display_name": "Python 3",
   "language": "python",
   "name": "python3"
  },
  "language_info": {
   "codemirror_mode": {
    "name": "ipython",
    "version": 3
   },
   "file_extension": ".py",
   "mimetype": "text/x-python",
   "name": "python",
   "nbconvert_exporter": "python",
   "pygments_lexer": "ipython3",
   "version": "3.7.3"
  }
 },
 "nbformat": 4,
 "nbformat_minor": 5
}
