{
 "cells": [
  {
   "cell_type": "markdown",
   "id": "eastern-manual",
   "metadata": {},
   "source": [
    "## 코사인 유사도\n",
    "- 두 벡터간 코사인 각도를 이용하여 구할 수 있는 두 벡터의 유사도\n",
    "- -1~1사이 값을 갖고 1에 가까울 수록 유사도가 높다 판단"
   ]
  },
  {
   "cell_type": "code",
   "execution_count": 1,
   "id": "serious-ridge",
   "metadata": {},
   "outputs": [],
   "source": [
    "from numpy import dot\n",
    "from numpy.linalg import norm\n",
    "import numpy as np\n",
    "def cos_sim(A, B):\n",
    "       return dot(A, B)/(norm(A)*norm(B))"
   ]
  },
  {
   "cell_type": "code",
   "execution_count": 2,
   "id": "parallel-pharmacology",
   "metadata": {},
   "outputs": [],
   "source": [
    "doc1=np.array([0,1,1,1])\n",
    "doc2=np.array([1,0,1,1])\n",
    "doc3=np.array([2,0,2,2])"
   ]
  },
  {
   "cell_type": "code",
   "execution_count": 3,
   "id": "legitimate-greek",
   "metadata": {},
   "outputs": [
    {
     "name": "stdout",
     "output_type": "stream",
     "text": [
      "0.6666666666666667\n",
      "0.6666666666666667\n",
      "1.0000000000000002\n"
     ]
    }
   ],
   "source": [
    "print(cos_sim(doc1, doc2)) #문서1과 문서2의 코사인 유사도\n",
    "print(cos_sim(doc1, doc3)) #문서1과 문서3의 코사인 유사도\n",
    "print(cos_sim(doc2, doc3)) #문서2과 문서3의 코사인 유사도"
   ]
  },
  {
   "cell_type": "code",
   "execution_count": null,
   "id": "double-square",
   "metadata": {},
   "outputs": [],
   "source": [
    "# 자기계발 칼럼을 임시 리스트에 담아줌\n",
    "df_self_imporvement_list = df['self_improvement'].tolist()\n",
    "\n",
    "# TF - IDF 기법을 사용해서 텍스트의 등장 빈도를 체크해 저장\n",
    "tfidf_vect_simple = TfidfVectorizer()\n",
    "feature_vect_simple = tfidf_vect_simple.fit_transform(df_self_imporvement_list)\n",
    "\n",
    "\n",
    "# 등장 빈도에 기반하여, 코사인 유사도 알고리즘 적용\n",
    "\n",
    "similarity_simple_pair = cosine_similarity(feature_vect_simple[0] , feature_vect_simple)\n",
    "result_list = similarity_simple_pair.tolist()[0]\n",
    "\n",
    "\n",
    "# result_list를 df 우측에 삽입해서, 유사도가 높은 순으로 정렬\n",
    "df['self_improvement_result'] = result_list\n",
    "df.sort_values(by='self_improvement_result', ascending"
   ]
  },
  {
   "cell_type": "code",
   "execution_count": null,
   "id": "spoken-watts",
   "metadata": {},
   "outputs": [],
   "source": []
  },
  {
   "cell_type": "code",
   "execution_count": null,
   "id": "traditional-bandwidth",
   "metadata": {},
   "outputs": [],
   "source": []
  },
  {
   "cell_type": "code",
   "execution_count": null,
   "id": "fabulous-imperial",
   "metadata": {},
   "outputs": [],
   "source": []
  },
  {
   "cell_type": "code",
   "execution_count": null,
   "id": "immune-joint",
   "metadata": {},
   "outputs": [],
   "source": []
  },
  {
   "cell_type": "code",
   "execution_count": null,
   "id": "spatial-chair",
   "metadata": {},
   "outputs": [],
   "source": []
  }
 ],
 "metadata": {
  "kernelspec": {
   "display_name": "Python 3",
   "language": "python",
   "name": "python3"
  },
  "language_info": {
   "codemirror_mode": {
    "name": "ipython",
    "version": 3
   },
   "file_extension": ".py",
   "mimetype": "text/x-python",
   "name": "python",
   "nbconvert_exporter": "python",
   "pygments_lexer": "ipython3",
   "version": "3.7.3"
  }
 },
 "nbformat": 4,
 "nbformat_minor": 5
}
