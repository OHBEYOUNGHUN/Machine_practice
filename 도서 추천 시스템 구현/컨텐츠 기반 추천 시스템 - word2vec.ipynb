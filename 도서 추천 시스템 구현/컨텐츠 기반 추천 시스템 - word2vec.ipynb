{
 "cells": [
  {
   "cell_type": "markdown",
   "id": "discrete-massachusetts",
   "metadata": {},
   "source": [
    "## WORD2VEC\n",
    "- 앞서 TF-IDF의 경우 데이터가 크면 램이 터져버리는 한계가 존재\n",
    "- 그 단점을 매꾸기 위해 딥러닝 방법을 통한 WORD2VEC(CBOW, SKIP-GRAM)"
   ]
  },
  {
   "cell_type": "code",
   "execution_count": 3,
   "id": "pleasant-conjunction",
   "metadata": {},
   "outputs": [
    {
     "name": "stderr",
     "output_type": "stream",
     "text": [
      "C:\\Users\\82102\\Anaconda3\\lib\\importlib\\_bootstrap.py:219: RuntimeWarning: numpy.ufunc size changed, may indicate binary incompatibility. Expected 192 from C header, got 216 from PyObject\n",
      "  return f(*args, **kwds)\n"
     ]
    }
   ],
   "source": [
    "import pandas as pd \n",
    "import numpy as np \n",
    "from sklearn.feature_extraction.text import TfidfVectorizer\n",
    "import gensim #word2vec 알고리즘 추출하는 라이브러리"
   ]
  },
  {
   "cell_type": "code",
   "execution_count": 6,
   "id": "incoming-swift",
   "metadata": {},
   "outputs": [],
   "source": [
    "df_books = pd.read_excel(\"book_preprocessing.xlsx\")"
   ]
  },
  {
   "cell_type": "code",
   "execution_count": 7,
   "id": "elder-duration",
   "metadata": {},
   "outputs": [
    {
     "data": {
      "text/html": [
       "<div>\n",
       "<style scoped>\n",
       "    .dataframe tbody tr th:only-of-type {\n",
       "        vertical-align: middle;\n",
       "    }\n",
       "\n",
       "    .dataframe tbody tr th {\n",
       "        vertical-align: top;\n",
       "    }\n",
       "\n",
       "    .dataframe thead th {\n",
       "        text-align: right;\n",
       "    }\n",
       "</style>\n",
       "<table border=\"1\" class=\"dataframe\">\n",
       "  <thead>\n",
       "    <tr style=\"text-align: right;\">\n",
       "      <th></th>\n",
       "      <th>Unnamed: 0</th>\n",
       "      <th>title</th>\n",
       "      <th>author</th>\n",
       "      <th>pub</th>\n",
       "      <th>price</th>\n",
       "      <th>review</th>\n",
       "      <th>rating</th>\n",
       "      <th>story</th>\n",
       "      <th>img</th>\n",
       "      <th>genre</th>\n",
       "    </tr>\n",
       "  </thead>\n",
       "  <tbody>\n",
       "    <tr>\n",
       "      <th>0</th>\n",
       "      <td>0</td>\n",
       "      <td>요리코를 위해</td>\n",
       "      <td>노리즈키 린타로</td>\n",
       "      <td>모모</td>\n",
       "      <td>13500</td>\n",
       "      <td>43</td>\n",
       "      <td>9.2</td>\n",
       "      <td>스스로 악마 이자 신 딸 살해 남자 심판 아버지 비극 출발 이자 마지막 끝내 실체 ...</td>\n",
       "      <td>http://image.yes24.com/goods/89392792/L</td>\n",
       "      <td>추리/미스터리</td>\n",
       "    </tr>\n",
       "    <tr>\n",
       "      <th>1</th>\n",
       "      <td>1</td>\n",
       "      <td>그녀는 다 계획이 있다</td>\n",
       "      <td>히가시노 게이고</td>\n",
       "      <td>하빌리스</td>\n",
       "      <td>14220</td>\n",
       "      <td>13</td>\n",
       "      <td>9.4</td>\n",
       "      <td>하나 보석 점 살인 사건 과거 미래 사건 경쾌하다 리듬 감 있다 터치 게이고 복고 ...</td>\n",
       "      <td>http://image.yes24.com/goods/97561319/L</td>\n",
       "      <td>추리/미스터리</td>\n",
       "    </tr>\n",
       "    <tr>\n",
       "      <th>2</th>\n",
       "      <td>2</td>\n",
       "      <td>블랙 쇼맨과 이름 없는 마을의 살인</td>\n",
       "      <td>히가시노 게이고</td>\n",
       "      <td>알에이치코리아(RHK)</td>\n",
       "      <td>16200</td>\n",
       "      <td>54</td>\n",
       "      <td>9.1</td>\n",
       "      <td>아버지 살해 당하다 그것 결혼 소식 직후 행복하다 순간 비극 시작 대기업 취직 후 ...</td>\n",
       "      <td>http://image.yes24.com/goods/95712763/L</td>\n",
       "      <td>추리/미스터리</td>\n",
       "    </tr>\n",
       "    <tr>\n",
       "      <th>3</th>\n",
       "      <td>3</td>\n",
       "      <td>돌이킬 수 없는 약속</td>\n",
       "      <td>야쿠마루 가쿠</td>\n",
       "      <td>북플라자</td>\n",
       "      <td>13500</td>\n",
       "      <td>217</td>\n",
       "      <td>8.2</td>\n",
       "      <td>제 에드가 란 포상 수상 작가 야쿠 마루 가쿠 미스터리 추리 소설 내 딸 살해 놈 ...</td>\n",
       "      <td>http://image.yes24.com/goods/35552641/L</td>\n",
       "      <td>추리/미스터리</td>\n",
       "    </tr>\n",
       "    <tr>\n",
       "      <th>4</th>\n",
       "      <td>4</td>\n",
       "      <td>루팡의 딸</td>\n",
       "      <td>요코제키 다이</td>\n",
       "      <td>북플라자</td>\n",
       "      <td>13500</td>\n",
       "      <td>31</td>\n",
       "      <td>8.5</td>\n",
       "      <td>도둑 집안 대부 변 사체 발견 도둑 집안 대부 이 오 하나 코 손녀 딸 있다 하나 ...</td>\n",
       "      <td>http://image.yes24.com/goods/78860364/L</td>\n",
       "      <td>추리/미스터리</td>\n",
       "    </tr>\n",
       "  </tbody>\n",
       "</table>\n",
       "</div>"
      ],
      "text/plain": [
       "   Unnamed: 0                title    author           pub  price  review  \\\n",
       "0           0              요리코를 위해  노리즈키 린타로            모모  13500      43   \n",
       "1           1         그녀는 다 계획이 있다  히가시노 게이고          하빌리스  14220      13   \n",
       "2           2  블랙 쇼맨과 이름 없는 마을의 살인  히가시노 게이고  알에이치코리아(RHK)  16200      54   \n",
       "3           3          돌이킬 수 없는 약속   야쿠마루 가쿠          북플라자  13500     217   \n",
       "4           4                루팡의 딸   요코제키 다이          북플라자  13500      31   \n",
       "\n",
       "   rating                                              story  \\\n",
       "0     9.2  스스로 악마 이자 신 딸 살해 남자 심판 아버지 비극 출발 이자 마지막 끝내 실체 ...   \n",
       "1     9.4  하나 보석 점 살인 사건 과거 미래 사건 경쾌하다 리듬 감 있다 터치 게이고 복고 ...   \n",
       "2     9.1  아버지 살해 당하다 그것 결혼 소식 직후 행복하다 순간 비극 시작 대기업 취직 후 ...   \n",
       "3     8.2  제 에드가 란 포상 수상 작가 야쿠 마루 가쿠 미스터리 추리 소설 내 딸 살해 놈 ...   \n",
       "4     8.5  도둑 집안 대부 변 사체 발견 도둑 집안 대부 이 오 하나 코 손녀 딸 있다 하나 ...   \n",
       "\n",
       "                                       img    genre  \n",
       "0  http://image.yes24.com/goods/89392792/L  추리/미스터리  \n",
       "1  http://image.yes24.com/goods/97561319/L  추리/미스터리  \n",
       "2  http://image.yes24.com/goods/95712763/L  추리/미스터리  \n",
       "3  http://image.yes24.com/goods/35552641/L  추리/미스터리  \n",
       "4  http://image.yes24.com/goods/78860364/L  추리/미스터리  "
      ]
     },
     "execution_count": 7,
     "metadata": {},
     "output_type": "execute_result"
    }
   ],
   "source": [
    "df_books.head()"
   ]
  },
  {
   "cell_type": "code",
   "execution_count": null,
   "id": "committed-complex",
   "metadata": {},
   "outputs": [],
   "source": []
  },
  {
   "cell_type": "code",
   "execution_count": null,
   "id": "breathing-reception",
   "metadata": {},
   "outputs": [],
   "source": []
  },
  {
   "cell_type": "code",
   "execution_count": null,
   "id": "valid-desktop",
   "metadata": {},
   "outputs": [],
   "source": []
  },
  {
   "cell_type": "code",
   "execution_count": null,
   "id": "willing-uganda",
   "metadata": {},
   "outputs": [],
   "source": []
  },
  {
   "cell_type": "code",
   "execution_count": null,
   "id": "realistic-providence",
   "metadata": {},
   "outputs": [],
   "source": []
  },
  {
   "cell_type": "code",
   "execution_count": null,
   "id": "collective-venice",
   "metadata": {},
   "outputs": [],
   "source": []
  },
  {
   "cell_type": "code",
   "execution_count": null,
   "id": "circular-karaoke",
   "metadata": {},
   "outputs": [],
   "source": []
  },
  {
   "cell_type": "code",
   "execution_count": null,
   "id": "warming-operator",
   "metadata": {},
   "outputs": [],
   "source": []
  },
  {
   "cell_type": "code",
   "execution_count": null,
   "id": "violent-office",
   "metadata": {},
   "outputs": [],
   "source": []
  },
  {
   "cell_type": "code",
   "execution_count": null,
   "id": "legendary-hormone",
   "metadata": {},
   "outputs": [],
   "source": []
  },
  {
   "cell_type": "code",
   "execution_count": null,
   "id": "drawn-thickness",
   "metadata": {},
   "outputs": [],
   "source": []
  },
  {
   "cell_type": "code",
   "execution_count": null,
   "id": "seasonal-exhaust",
   "metadata": {},
   "outputs": [],
   "source": []
  },
  {
   "cell_type": "code",
   "execution_count": null,
   "id": "postal-jerusalem",
   "metadata": {},
   "outputs": [],
   "source": []
  },
  {
   "cell_type": "code",
   "execution_count": null,
   "id": "familiar-copying",
   "metadata": {},
   "outputs": [],
   "source": []
  },
  {
   "cell_type": "code",
   "execution_count": null,
   "id": "veterinary-psychiatry",
   "metadata": {},
   "outputs": [],
   "source": []
  },
  {
   "cell_type": "code",
   "execution_count": null,
   "id": "prepared-wells",
   "metadata": {},
   "outputs": [],
   "source": []
  }
 ],
 "metadata": {
  "kernelspec": {
   "display_name": "Python 3",
   "language": "python",
   "name": "python3"
  },
  "language_info": {
   "codemirror_mode": {
    "name": "ipython",
    "version": 3
   },
   "file_extension": ".py",
   "mimetype": "text/x-python",
   "name": "python",
   "nbconvert_exporter": "python",
   "pygments_lexer": "ipython3",
   "version": "3.7.3"
  }
 },
 "nbformat": 4,
 "nbformat_minor": 5
}
